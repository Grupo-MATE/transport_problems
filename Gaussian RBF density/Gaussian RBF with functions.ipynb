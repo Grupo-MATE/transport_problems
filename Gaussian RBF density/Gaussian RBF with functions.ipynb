{
 "cells": [
  {
   "cell_type": "code",
   "execution_count": 1,
   "id": "ee0c13a6-f981-4804-bdba-bad3d6ca15e1",
   "metadata": {},
   "outputs": [],
   "source": [
    "#import Pkg; \n",
    "#using Pkg;\n",
    "\n",
    "#Pkg.add(\"ColorSchemes\")\n",
    "using Distributions, ColorSchemes, Statistics\n",
    "  \n",
    "# to create dataframes and load\n",
    "#Pkg.add(\"DataFrames\")\n",
    "using DataFrames\n",
    "  \n",
    "# to use the above function kmeans()\n",
    "#Pkg.add(\"Clustering\")\n",
    "using Clustering\n",
    "  \n",
    "# RDatasets to load the already made datasets\n",
    "#Pkg.add(\"RDatasets\")\n",
    "using RDatasets\n",
    "\n",
    "#Pkg.add(\"GR\")\n",
    "#Pkg.build(\"GR\")\n",
    "#import Pkg; Pkg.add(\"Plots\")\n",
    "\n",
    "using Plots, GeometryBasics, VoronoiCells\n",
    "default(size=(800,600))"
   ]
  },
  {
   "cell_type": "code",
   "execution_count": 2,
   "id": "684e77ea-6dd4-41b4-a39f-b20a32854960",
   "metadata": {},
   "outputs": [
    {
     "data": {
      "text/plain": [
       "rbf (generic function with 1 method)"
      ]
     },
     "execution_count": 2,
     "metadata": {},
     "output_type": "execute_result"
    }
   ],
   "source": [
    "function rbf(x; weights=[1], centers=[0,0], sigma2=[1])\n",
    "    \n",
    "    @assert length(weights)==size(centers)[1]==length(sigma2)>0 #chequeo consistencia de n>0\n",
    "    n=length(weights)\n",
    "\n",
    "    @assert length(x)==length(centers[1]) #chequeo que los centros tengan la dim de x.\n",
    "    d=length(x[1])\n",
    "    \n",
    "    kernels = [exp(-(x-centers[j])'*(x-centers[j])/sigma2[j]) for j=1:n]\n",
    "    return sum(w.*kernels)\n",
    "    \n",
    "end"
   ]
  },
  {
   "cell_type": "code",
   "execution_count": 3,
   "id": "6001a406-2c95-439d-a4dc-46bacc79bf82",
   "metadata": {},
   "outputs": [
    {
     "data": {
      "text/plain": [
       "h2_j (generic function with 1 method)"
      ]
     },
     "execution_count": 3,
     "metadata": {},
     "output_type": "execute_result"
    }
   ],
   "source": [
    "function integrate_voronoi(g, h, A_X, P)\n",
    "    return A_X/P*sum(g.*h)\n",
    "end\n",
    "\n",
    "function g(x;w,mu,sigma2)\n",
    "   return rbf(x, weights=w, centers=mu, sigma2=sigma2)\n",
    "end\n",
    "\n",
    "function h(x;w,mu,sigma2)\n",
    "    return 1\n",
    "end\n",
    "\n",
    "function g_j(x;j,w,mu,sigma2)\n",
    "   return rbf(x, weights=[w[j]], centers=[mu[j]], sigma2=[sigma2[j]])\n",
    "end\n",
    "\n",
    "function h0_j(x;j,w,mu,sigma2)\n",
    "    return 1/w[j]\n",
    "end\n",
    "\n",
    "function h1_j(x;j,w,mu,sigma2)\n",
    "    return (x-mu[j])'*(x-mu[j])/(sigma2[j]^4)\n",
    "end\n",
    "\n",
    "function h2_j(x;j,w,mu,sigma2)\n",
    "    return  -2/sigma2[j]^2*(x-mu[j])\n",
    "end"
   ]
  },
  {
   "cell_type": "code",
   "execution_count": 4,
   "id": "1a973280-9733-4c07-a53e-7bf5a5bf7f42",
   "metadata": {},
   "outputs": [
    {
     "data": {
      "text/plain": [
       "integrate (generic function with 1 method)"
      ]
     },
     "execution_count": 4,
     "metadata": {},
     "output_type": "execute_result"
    }
   ],
   "source": [
    "function integrate(x, v_i, theta)\n",
    "    \n",
    "    w = theta[1]\n",
    "    mu = theta[2]\n",
    "    sigma2 = theta[3]\n",
    "\n",
    "    # ========== Calculate differentials ========== \n",
    "    integrates = zeros(s)\n",
    "    for i=1:s\n",
    "        v = [[v_i[i][l,1], v_i[i][l,2]] for l=1:size(v_i[i])[1]];\n",
    "        # For each station -> Integrates the RBF \n",
    "        g_out = g.(v, w=w, mu=mu, sigma2=sigma2)\n",
    "        h_out = h.(v, w=w, mu=mu, sigma2=sigma2)\n",
    "        integrates[i] = integrate_voronoi(g_out, h_out, A_X, P)\n",
    "    end\n",
    "    error_i = integrates - y\n",
    "    \n",
    "    # ========== Compute Loss differentials aproximationss ========== \n",
    "    n0_ij = zeros(s,n)\n",
    "    n1_ij = zeros(s,n)\n",
    "    n2x1_ij = zeros(s,n)\n",
    "    n2x2_ij = zeros(s,n)\n",
    "\n",
    "    for i=1:s\n",
    "        v = [[v_i[i][l,1], v_i[i][l,2]] for l=1:size(v_i[i])[1]];\n",
    "        for j=1:n\n",
    "            # Evaluaciones\n",
    "            g_j_out  = g_j.(v, j=j, w=w, mu=mu, sigma2=sigma2)\n",
    "            h0_j_out = h0_j.(v, j=j, w=w, mu=mu, sigma2=sigma2)\n",
    "            h1_j_out = h1_j.(v, j=j, w=w, mu=mu, sigma2=sigma2)\n",
    "            h2_j_out = h2_j.(v, j=j, w=w, mu=mu, sigma2=sigma2)\n",
    "\n",
    "            # Integrales\n",
    "            n0_ij[i,j] = (integrate_voronoi(g_j_out, h0_j_out, A_X, P))\n",
    "            n1_ij[i,j] = (integrate_voronoi(g_j_out, h1_j_out, A_X, P))\n",
    "            n2x1_ij[i,j] = (integrate_voronoi(g_j_out, [h2_j_out[l][1] for l = 1:length(h2_j_out)], A_X, P))\n",
    "            n2x2_ij[i,j] = (integrate_voronoi(g_j_out, [h2_j_out[l][2] for l = 1:length(h2_j_out)], A_X, P))\n",
    "        end\n",
    "    end\n",
    "    \n",
    "    # ========== Make the sums ========== \n",
    "    dL_w_j = zeros(n)\n",
    "    dL_sigma2_j = zeros(n)\n",
    "    dL_mux1_j = zeros(n)\n",
    "    dL_mux2_j = zeros(n)\n",
    "\n",
    "    for j = 1:n\n",
    "        dL_w_j[j] = sum(error_i.*n0_ij[:,j])\n",
    "        dL_sigma2_j[j] = sum(error_i.*n1_ij[:,j])\n",
    "        dL_mux1_j[j] = sum(error_i.*n2x1_ij[:,j])\n",
    "        dL_mux2_j[j] = sum(error_i.*n2x2_ij[:,j])\n",
    "    end\n",
    "\n",
    "    dL_mu_j = [[dL_mux1_j[i], dL_mux2_j[i]] for i = 1:3]\n",
    "    \n",
    "    dTheta = dL_w_j, dL_mu_j, dL_sigma2_j\n",
    "    return dTheta\n",
    "end"
   ]
  },
  {
   "cell_type": "code",
   "execution_count": 5,
   "id": "7b54408d-ec57-4be3-987a-dbd1a65f53df",
   "metadata": {},
   "outputs": [],
   "source": [
    "import Random\n",
    "Random.seed!(100)\n",
    "\n",
    "# METAPARAMETERS\n",
    "\n",
    "s = 10 # Count of sites \n",
    "d = 2 # Space Dimension\n",
    "n = 3; # Count of kernels\n",
    "P = 3000; # Count of auxiliar points\n",
    "norm = 2; # Norm to use\n",
    "nu_min = 0.05; # Min gradient step\n",
    "nu_max = 0.99; # Max gradient setp\n",
    "nu_decay = 0.99; \n",
    "integration_max_steps = 25000;\n",
    "integration_max_error = (0.001, [0.005, 0.005], 0.001); # (w, [mux1, mux2], sigma2)\n",
    "\n",
    "# R^d limits\n",
    "\n",
    "Xmin = [-1 -1];\n",
    "Xmax = [1 1];\n",
    "Deltas = Xmax - Xmin\n",
    "\n",
    "# Sites\n",
    "\n",
    "x = sortslices(rand(Uniform(0,1),s,d), dims = 1) # Sites coordinates in R^d\n",
    "x1 = x[:,1] = x[:,1].*Deltas[1].+Xmin[1] #TODO: Generalize to d\n",
    "x2 = x[:,2] = x[:,2].*Deltas[2].+Xmin[2] #TODO: Generalize to d\n",
    "y = rand(s); # Sites demands\n",
    "\n",
    "# Auxiliar points to integrate\n",
    "\n",
    "X = sortslices(rand(Uniform(0,1),P,d), dims = 1); # Auxiliar points to integrate\n",
    "X1 = X[:,1] = X[:,1].*Deltas[1].+Xmin[1]\n",
    "X2 = X[:,2] = X[:,2].*Deltas[2].+Xmin[2]\n",
    "\n",
    "A_X = Deltas[1]*Deltas[2]; # Limits area\n",
    "\n",
    "# Voronoi assigments\n",
    "\n",
    "W = [(sum((x[i,:]-X[k,:]).^norm))^(1/norm) for i=1:s,k=1:P];\n",
    "attachs = zeros(P)\n",
    "for k=1:P    \n",
    "    _,idx = findmin(W[:,k])\n",
    "    attachs[k] = idx\n",
    "end\n",
    "attachs = Int64.(attachs);\n",
    "v_i = [ X[findall(x->x==i,attachs),:] for i in 1:s ]; "
   ]
  },
  {
   "cell_type": "code",
   "execution_count": 6,
   "id": "ace1055a-11ed-4f25-96c7-c15ee44fd440",
   "metadata": {},
   "outputs": [
    {
     "data": {
      "text/plain": [
       "([0.15915494309189535, 0.15915494309189535, 0.15915494309189535], [[-0.03688696876779144, 0.7453183720655502], [-0.7258338519917173, -0.7194806446467097], [-0.06096357482135974, -0.16977691886924512]], [0.27902401737024773, 0.04403032144685578, 0.18602921686475637])"
      ]
     },
     "execution_count": 6,
     "metadata": {},
     "output_type": "execute_result"
    }
   ],
   "source": [
    "# THETA INITIALIZATION \n",
    "\n",
    "w = [1/(2*pi) for j=1:n]; #Pesos iniciales (TODO: paso C inicialización)\n",
    "\n",
    "R = kmeans(x', n, weights = y, maxiter = 200);#, display=:iter);\n",
    "mu = [[R.centers'[i,1],R.centers'[i,2]] for i=1:n];\n",
    "mu1 = R.centers'[:,1];\n",
    "mu2 = R.centers'[:,2];\n",
    "\n",
    "sigma2 = [var(x[findall(x->x==i,assignments(R)),:]) for i in 1:n];\n",
    "\n",
    "theta0 = w, mu, sigma2\n",
    "theta = theta0"
   ]
  },
  {
   "cell_type": "code",
   "execution_count": 7,
   "id": "d20e12b8-1559-4f97-bb81-2b8d318d4c91",
   "metadata": {},
   "outputs": [
    {
     "name": "stdout",
     "output_type": "stream",
     "text": [
      "cortar por umbral en 13598 iteraciones\n"
     ]
    }
   ],
   "source": [
    "# INTEGRATION AND GRADIENT STEP\n",
    "\n",
    "nu = nu_max\n",
    "\n",
    "for k = 1:integration_max_steps\n",
    "    nu = max(nu*nu_decay, nu_min)\n",
    "    dTheta = integrate(x, v_i, theta)\n",
    "    oldTheta = theta;\n",
    "    theta = theta .- nu.*dTheta;\n",
    "    \n",
    "    # Comprobar umbrales\n",
    "    condition = (maximum.(theta .- oldTheta) .< integration_max_error) # | (maximum.(oldTheta .- theta) .< integration_max_error)\n",
    "    if condition == (true, true, true)\n",
    "        println(\"cortar por umbral en \", k, \" iteraciones\")\n",
    "        k = integration_max_steps\n",
    "        break\n",
    "    end\n",
    "end"
   ]
  },
  {
   "cell_type": "code",
   "execution_count": 36,
   "id": "24761732-b830-45ae-b652-a7b27c6c4e79",
   "metadata": {},
   "outputs": [
    {
     "data": {
      "text/plain": [
       "([6.251393518825113, 25.625617927939196, 18.844951588378777], [[1.98676476436113, 4.230639435909844], [-0.16681623294972758, 0.49790082208505826], [4.054994958100723, -2.0909032970700747]], [4.457726099616781, 380.3792787711335, 12.62920190338326])"
      ]
     },
     "execution_count": 36,
     "metadata": {},
     "output_type": "execute_result"
    }
   ],
   "source": [
    "(theta .- theta0)"
   ]
  },
  {
   "cell_type": "code",
   "execution_count": 31,
   "id": "fb979db1-c8ec-40b4-b6e0-59fdd0cae55b",
   "metadata": {},
   "outputs": [
    {
     "data": {
      "text/plain": [
       "([0.15915494309189535, 0.15915494309189535, 0.15915494309189535], [[-0.03688696876779144, 0.7453183720655502], [-0.7258338519917173, -0.7194806446467097], [-0.06096357482135974, -0.16977691886924512]], [0.27902401737024773, 0.04403032144685578, 0.18602921686475637])"
      ]
     },
     "execution_count": 31,
     "metadata": {},
     "output_type": "execute_result"
    }
   ],
   "source": [
    "theta0"
   ]
  },
  {
   "cell_type": "code",
   "execution_count": 9,
   "id": "aef17062-19d7-4fc9-b0c2-de4ea6228fbf",
   "metadata": {},
   "outputs": [
    {
     "data": {
      "text/plain": [
       "([6.410548461917008, 25.78477287103109, 19.004106531470672], [[1.9498777955933384, 4.975957807975394], [-0.8926500849414449, -0.22157982256165146], [3.9940313832793635, -2.26068021593932]], [4.736750116987029, 380.4233090925804, 12.815231120248017])"
      ]
     },
     "execution_count": 9,
     "metadata": {},
     "output_type": "execute_result"
    }
   ],
   "source": [
    "theta"
   ]
  },
  {
   "cell_type": "code",
   "execution_count": null,
   "id": "16944f67-33d1-4bbc-9ddb-94f1f1bd4f00",
   "metadata": {},
   "outputs": [],
   "source": []
  }
 ],
 "metadata": {
  "kernelspec": {
   "display_name": "Julia 1.7.2",
   "language": "julia",
   "name": "julia-1.7"
  },
  "language_info": {
   "file_extension": ".jl",
   "mimetype": "application/julia",
   "name": "julia",
   "version": "1.7.2"
  }
 },
 "nbformat": 4,
 "nbformat_minor": 5
}
