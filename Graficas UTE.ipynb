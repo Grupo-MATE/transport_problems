{
 "cells": [
  {
   "cell_type": "code",
   "execution_count": 214,
   "id": "13128233",
   "metadata": {},
   "outputs": [],
   "source": [
    "using Plots, Distributions, ColorSchemes, Statistics, Clustering, LinearAlgebra,  GeometryBasics, VoronoiCells\n",
    "default(size=(800,800))"
   ]
  },
  {
   "cell_type": "markdown",
   "id": "8b93ee06",
   "metadata": {},
   "source": [
    "## Demandas de combustible"
   ]
  },
  {
   "cell_type": "code",
   "execution_count": 189,
   "id": "296c5e58",
   "metadata": {},
   "outputs": [],
   "source": [
    "nloc=100\n",
    "loc = rand(Uniform(-1,1), nloc, 2)\n",
    "demandas = rand(Exponential(1),nloc);"
   ]
  },
  {
   "cell_type": "code",
   "execution_count": 190,
   "id": "f6c2192b",
   "metadata": {},
   "outputs": [],
   "source": [
    "scatter(loc[:,1],loc[:,2], \n",
    "    markersize=30*sqrt.(demandas), \n",
    "    marker=:circle, \n",
    "    colorbar=:none,\n",
    "    color=:teal,\n",
    "    legend=:none, \n",
    "    markeralpha=0.4, \n",
    "    aspectratio=:equal, \n",
    "    ticks=false, \n",
    "    axis=false,\n",
    "    title=\"Demandas de kilómetros en sitios de medida (estaciones)\",\n",
    "    background=RGB(0.9,0.9,0.95)\n",
    ")\n",
    "savefig(\"demandas.png\")"
   ]
  },
  {
   "cell_type": "code",
   "execution_count": 198,
   "id": "5f9d3d8f",
   "metadata": {},
   "outputs": [],
   "source": [
    "m=5\n",
    "km = kmeans(loc', m, weights=demandas)\n",
    "centers = km.centers'\n",
    "sigma = [sqrt.(tr(cov(loc[km.assignments.==i,:]))) for i=1:m];"
   ]
  },
  {
   "cell_type": "code",
   "execution_count": 199,
   "id": "bb83bff1",
   "metadata": {},
   "outputs": [
    {
     "data": {
      "text/plain": [
       "rbf (generic function with 1 method)"
      ]
     },
     "execution_count": 199,
     "metadata": {},
     "output_type": "execute_result"
    }
   ],
   "source": [
    "function rbf(x;weigths=[1],centers=[0,0],sigma2=[1])\n",
    "    \n",
    "    @assert length(w)==length(mu)==length(sigma2)>0 #chequeo consistencia de n>0\n",
    "    n=length(w)\n",
    "\n",
    "    @assert length(x)==length(mu[1]) #chequeo que los centros tengan la dim de x.\n",
    "    d=length(x)\n",
    "\n",
    "    \n",
    "    kernels = [exp(-(x-mu[j])'*(x-mu[j])/sigma2[j]) for j=1:n]\n",
    "    return sum(w.*kernels)\n",
    "    \n",
    "end"
   ]
  },
  {
   "cell_type": "code",
   "execution_count": 200,
   "id": "30c95ae2",
   "metadata": {},
   "outputs": [],
   "source": [
    "mu = [[centers[i,1],centers[i,2]] for i=1:m]\n",
    "sigma2 = sigma.^2\n",
    "w = ones(length(sigma2))\n",
    "\n",
    "x1=(-1:.01:1)\n",
    "x2=(-1:.01:1)\n",
    "\n",
    "x=[[a,b] for b in x2, a in x1] ##el orden de b y a importa no entendí por qué.\n",
    "\n",
    "z = rbf.(x, weigths=w,centers=mu,sigma2=sigma2)\n",
    "\n",
    "heatmap(x1,x2,z,\n",
    "    c=cgrad([:white, :teal]),\n",
    "    axis=false, \n",
    "    ticks=false, \n",
    "    lims=(-1,1),\n",
    "    colorbar=:none, \n",
    "    aspectratio=:equal, \n",
    "    legend=:none,    \n",
    "    background=RGB(0.9,0.9,0.95),\n",
    "    title=\"Ajuste por núcleos RBF\")\n",
    "\n",
    "scatter!(loc[:,1],loc[:,2], \n",
    "    markersize=30*sqrt.(demandas), \n",
    "    marker=:circle, \n",
    "    color=:gray,\n",
    "    markeralpha=0.1, \n",
    ")\n",
    "savefig(\"ajuste.png\")"
   ]
  },
  {
   "cell_type": "code",
   "execution_count": 201,
   "id": "e61693d1",
   "metadata": {},
   "outputs": [
    {
     "data": {
      "text/plain": [
       "sample_rbf (generic function with 2 methods)"
      ]
     },
     "execution_count": 201,
     "metadata": {},
     "output_type": "execute_result"
    }
   ],
   "source": [
    "function sample_rbf(N,rbf_func,xlims,ylims,cota=2.0)\n",
    "    \n",
    "    v=Array{Float64}(undef,N,2)\n",
    "    n=0\n",
    "    \n",
    "    while(n<N)\n",
    "        \n",
    "        u1 = rand(Uniform(xlims[1],xlims[2]))\n",
    "        u2 = rand(Uniform(ylims[1],ylims[2]))\n",
    "\n",
    "        u = rand(Uniform())\n",
    "        \n",
    "        val  = rbf_func([u1,u2])\n",
    "        \n",
    "        if val/cota > u\n",
    "            #accept\n",
    "            n=n+1\n",
    "            v[n,:] = [u1,u2]\n",
    "        end\n",
    "    end\n",
    "    return v\n",
    "end"
   ]
  },
  {
   "cell_type": "code",
   "execution_count": 202,
   "id": "65be015b",
   "metadata": {},
   "outputs": [],
   "source": [
    "points = sample_rbf(10000,x->rbf(x,weigths=w,centers=mu,sigma2=sigma2),(-1,1), (-1,1))\n",
    "scatter(points[:,1], points[:,2], \n",
    "    aspect_ratio=:equal, \n",
    "    ticks=false, \n",
    "    axis=false, \n",
    "    lims=(-1,1), \n",
    "    label=:none, \n",
    "    ms=1,\n",
    "    markerstrokewidth=0,\n",
    "    background=RGB(0.9,0.9,0.95),\n",
    "    title=\"Simulación de demanda\")\n",
    "savefig(\"sim.png\")"
   ]
  },
  {
   "cell_type": "code",
   "execution_count": 203,
   "id": "45c1d6da",
   "metadata": {},
   "outputs": [],
   "source": [
    "n=10\n",
    "res = kmeans(points',n)\n",
    "cargadores = (res.centers)';"
   ]
  },
  {
   "cell_type": "code",
   "execution_count": 204,
   "id": "6d1c95e6",
   "metadata": {},
   "outputs": [],
   "source": [
    "heatmap(x1,x2,z, \n",
    "    aspect_ratio=:equal, \n",
    "    c=c=cgrad([:white, :teal]),\n",
    "    axis=false, ticks=false, lims=(-1,1),\n",
    "    colorbar=:none, \n",
    "    alpha=0.5,\n",
    "    background=RGB(0.9,0.9,0.95)\n",
    ")\n",
    "\n",
    "scatter!(cargadores[:,1], cargadores[:,2], legend=:none, color=:teal, title=\"Ubicación de cargadores\")\n",
    "savefig(\"cargadores.png\")"
   ]
  },
  {
   "cell_type": "code",
   "execution_count": 287,
   "id": "5ab62529",
   "metadata": {},
   "outputs": [],
   "source": [
    "Na=200\n",
    "Nc=n\n",
    "rect = Rectangle(Point2(-1.0, -1.0), Point2(1.0, 1.0))\n",
    "\n",
    "#autos = sample_rbf(Na,x->rbf(x,weigths=w,centers=mu,sigma2=sigma2),(-1,1), (-1,1))\n",
    "autos = rand(Uniform(-1,1),Na,2)\n",
    "\n",
    "d(x,y) = sqrt(sum((x-y).^2))\n",
    "W = [d(autos[i,:],cargadores[j,:]) for i=1:Na,j=1:Nc]\n",
    "\n",
    "attachs = zeros(Na)\n",
    "\n",
    "for i=1:Na\n",
    "    _,idx = findmin(W[i,:])\n",
    "    attachs[i] = idx\n",
    "end\n",
    "attachs=Int64.(attachs);\n",
    "\n",
    "X = Point2{Float64}[]\n",
    "for i=1:n\n",
    "    aux = Point2(cargadores[i,1],cargadores[i,2])\n",
    "    push!(X,aux)\n",
    "end\n",
    "tess = voronoicells(X, rect);\n",
    "\n",
    "\n",
    "scatter(autos[:,1],autos[:,2], xlims=(-1,1), ylims=(-1,1), aspectratio=:equal, marker=:plus)\n",
    "scatter!(cargadores[:,1], cargadores[:,2], \n",
    "    legend=:none, \n",
    "    colorbar=:none, \n",
    "    background=RGB(0.9,0.9,0.95), axis=false,ticks=false,\n",
    "    color=:teal,\n",
    ")\n",
    "\n",
    "for i=1:Na\n",
    "    plot!([autos[i,1],cargadores[attachs[i],1]], [autos[i,2],cargadores[attachs[i],2]], color=:black, alpha=0.2)\n",
    "end\n",
    "\n",
    "plot!(tess, alpha=0.2, color=:teal, linewidth=2, title=\"Celdas de Voronoi (menor distancia euclidiana)\")\n",
    "\n",
    "savefig(\"voronoi.png\")"
   ]
  },
  {
   "cell_type": "code",
   "execution_count": 312,
   "id": "8222b9d0",
   "metadata": {},
   "outputs": [
    {
     "name": "stdout",
     "output_type": "stream",
     "text": [
      "Gurobi Optimizer version 9.5.2 build v9.5.2rc0 (linux64)\n",
      "Thread count: 4 physical cores, 8 logical processors, using up to 8 threads\n",
      "Optimize a model with 210 rows, 2000 columns and 4000 nonzeros\n",
      "Model fingerprint: 0x6e0be7b0\n",
      "Coefficient statistics:\n",
      "  Matrix range     [1e+00, 1e+00]\n",
      "  Objective range  [3e-02, 2e+00]\n",
      "  Bounds range     [0e+00, 0e+00]\n",
      "  RHS range        [1e+00, 2e+01]\n",
      "Presolve time: 0.00s\n",
      "Presolved: 210 rows, 2000 columns, 4000 nonzeros\n",
      "\n",
      "Iteration    Objective       Primal Inf.    Dual Inf.      Time\n",
      "       0    5.1929497e+01   3.300000e+01   0.000000e+00      0s\n",
      "      52    5.5951278e+01   0.000000e+00   0.000000e+00      0s\n",
      "\n",
      "Solved in 52 iterations and 0.00 seconds (0.00 work units)\n",
      "Optimal objective  5.595127787e+01\n",
      "\n",
      "User-callback calls 90, time in user-callback 0.00 sec\n"
     ]
    }
   ],
   "source": [
    "using JuMP, Gurobi\n",
    "\n",
    "model = Model(Gurobi.Optimizer)\n",
    "\n",
    "@variable(model,pi[1:Nc,1:Na]>=0)\n",
    "\n",
    "con1 = @constraint(model, sum(pi,dims=2).<= 20*ones(Nc))\n",
    "con2 = @constraint(model, sum(pi,dims=1).== ones(1,Na))\n",
    "\n",
    "@objective(model,Min,sum(pi.*W'))\n",
    "\n",
    "optimize!(model)\n",
    "\n",
    "sol = value.(pi)\n",
    "\n",
    "attachs=zeros(Na)\n",
    "for i=1:Na \n",
    "    _,idx = findmax(sol[:,i])\n",
    "    attachs[i] = idx\n",
    "end\n",
    "\n",
    "attachs = Int64.(attachs);"
   ]
  },
  {
   "cell_type": "code",
   "execution_count": 314,
   "id": "94f4df75",
   "metadata": {},
   "outputs": [],
   "source": [
    "scatter(autos[:,1],autos[:,2], xlims=(-1,1), ylims=(-1,1), aspectratio=:equal, marker=:plus)\n",
    "scatter!(cargadores[:,1], cargadores[:,2], \n",
    "    legend=:none, \n",
    "    colorbar=:none, \n",
    "    background=RGB(0.9,0.9,0.95), axis=false,ticks=false,\n",
    "    color=:teal,\n",
    ")\n",
    "\n",
    "for i=1:Na\n",
    "    plot!([autos[i,1],cargadores[attachs[i],1]], [autos[i,2],cargadores[attachs[i],2]], color=:black, alpha=0.2)\n",
    "end\n",
    "plot!(tess, alpha=0.2, color=:teal, linewidth=2, title=\"Celdas de Voronoi (menor distancia euclidiana)\")\n",
    "\n",
    "plot!(title=\"Asignación con congestión\")\n",
    "savefig(\"congestion.png\")"
   ]
  },
  {
   "cell_type": "code",
   "execution_count": 316,
   "id": "a357563a",
   "metadata": {},
   "outputs": [
    {
     "name": "stdout",
     "output_type": "stream",
     "text": [
      "Gurobi Optimizer version 9.5.2 build v9.5.2rc0 (linux64)\n",
      "Thread count: 4 physical cores, 8 logical processors, using up to 8 threads\n",
      "Optimize a model with 220 rows, 2010 columns and 4020 nonzeros\n",
      "Model fingerprint: 0xe7c9d078\n",
      "Coefficient statistics:\n",
      "  Matrix range     [1e+00, 1e+00]\n",
      "  Objective range  [3e-02, 2e+00]\n",
      "  Bounds range     [0e+00, 0e+00]\n",
      "  RHS range        [1e+00, 2e+01]\n",
      "Presolve removed 10 rows and 0 columns\n",
      "Presolve time: 0.00s\n",
      "Presolved: 210 rows, 2010 columns, 4010 nonzeros\n",
      "\n",
      "Iteration    Objective       Primal Inf.    Dual Inf.      Time\n",
      "       0    5.1929497e+01   1.000000e+02   0.000000e+00      0s\n",
      "      69    2.5313606e+02   0.000000e+00   0.000000e+00      0s\n",
      "\n",
      "Solved in 69 iterations and 0.00 seconds (0.00 work units)\n",
      "Optimal objective  2.531360619e+02\n",
      "\n",
      "User-callback calls 124, time in user-callback 0.00 sec\n"
     ]
    },
    {
     "data": {
      "text/plain": [
       "10×1 Matrix{Float64}:\n",
       " -1.0\n",
       " -1.1669871236011773\n",
       " -1.0\n",
       " -1.0\n",
       " -1.0\n",
       " -1.0\n",
       " -1.0\n",
       " -1.0152307838085077\n",
       " -1.1741432338364257\n",
       " -1.0"
      ]
     },
     "execution_count": 316,
     "metadata": {},
     "output_type": "execute_result"
    }
   ],
   "source": [
    "using JuMP, Gurobi\n",
    "\n",
    "model = Model(Gurobi.Optimizer)\n",
    "\n",
    "@variable(model,pi[1:Nc,1:Na]>=0)\n",
    "@variable(model,s[1:Nc]>=0)\n",
    "\n",
    "\n",
    "con1 = @constraint(model, sum(pi,dims=2).<= s)\n",
    "con2 = @constraint(model, sum(pi,dims=1).== ones(1,Na))\n",
    "con3 = @constraint(model, s.<= 25*ones(Nc,1))\n",
    "\n",
    "@objective(model,Min,sum(pi.*W') + sum(s))\n",
    "\n",
    "optimize!(model)\n",
    "\n",
    "sol = value.(pi)\n",
    "\n",
    "attachs=zeros(Na)\n",
    "for i=1:Na \n",
    "    _,idx = findmax(sol[:,i])\n",
    "    attachs[i] = idx\n",
    "end\n",
    "\n",
    "attachs = Int64.(attachs);\n",
    "dual.(con1)"
   ]
  },
  {
   "cell_type": "code",
   "execution_count": 322,
   "id": "50c96358",
   "metadata": {},
   "outputs": [],
   "source": [
    "scatter(autos[:,1],autos[:,2], xlims=(-1,1), ylims=(-1,1), aspectratio=:equal, marker=:plus)\n",
    "scatter!(cargadores[:,1], cargadores[:,2], \n",
    "    legend=:none, \n",
    "    colorbar=:none, \n",
    "    background=RGB(0.9,0.9,0.95), axis=false,ticks=false,\n",
    "    color=:teal,\n",
    ")\n",
    "\n",
    "for i=1:Na\n",
    "    plot!([autos[i,1],cargadores[attachs[i],1]], [autos[i,2],cargadores[attachs[i],2]], color=:black, alpha=0.2)\n",
    "end\n",
    "plot!(tess, alpha=0.2, color=:teal, linewidth=2, title=\"Celdas de Voronoi (menor distancia euclidiana)\")\n",
    "\n",
    "scatter!(cargadores[[2,8,9],1], cargadores[[2,8,9],2], \n",
    "    ms = 10,\n",
    "    background=RGB(0.9,0.9,0.95), axis=false,ticks=false,\n",
    "    color=:teal)\n",
    "\n",
    "plot!(title=\"Asignación con congestión\")\n",
    "savefig(\"congestion2.png\")"
   ]
  },
  {
   "cell_type": "code",
   "execution_count": null,
   "id": "420eec46",
   "metadata": {},
   "outputs": [],
   "source": []
  }
 ],
 "metadata": {
  "kernelspec": {
   "display_name": "Julia 1.8.0",
   "language": "julia",
   "name": "julia-1.8"
  },
  "language_info": {
   "file_extension": ".jl",
   "mimetype": "application/julia",
   "name": "julia",
   "version": "1.8.0"
  }
 },
 "nbformat": 4,
 "nbformat_minor": 5
}
