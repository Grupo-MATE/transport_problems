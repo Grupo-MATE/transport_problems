{
 "cells": [
  {
   "cell_type": "markdown",
   "metadata": {},
   "source": [
    "# Poisson Travels\n",
    "\n",
    "**Idea:** Simular en una ruta unidimensional \"viajes\" de parte de vehículos que comienzan en puntos al azar y tienen duración al azar.\n",
    "\n",
    "\n",
    "## Modelo:\n",
    "\n",
    "Podemos modelar los viajes como:\n",
    "\n",
    "* Un punto de inicio en un proceso de Poisson de intensidad $\\lambda$\n",
    "* Un largo de viaje de media $E[L]=1/\\mu$, por ejemplo $\\exp(\\mu)$.\n",
    "\n",
    "Esto produce un proceso de Poisson con marcas independientes, que es equivalente a sortear el siguiente proceso de Poisson en $\\mathbb{R}^2$:\n",
    "\n",
    "$$\\Phi = \\sum_k \\delta_{(x_k,l_k)}$$\n",
    "\n",
    "siendo $x_k$ el punto de comienzo y $l_k$ el largo, con intensidad media:\n",
    "\n",
    "$$\\Lambda(dx,dl) = \\lambda \\mu e^{-\\mu l} dxdl$$\n",
    "\n",
    "en $x\\in\\mathbb{R}$ Y $l\\in\\mathbb{R}^+$."
   ]
  },
  {
   "cell_type": "markdown",
   "metadata": {},
   "source": [
    "## Formulación equivalente\n",
    "\n",
    "Podemos pensar que en lugar de sortear los puntos de inicio y largo, sorteamos los intervalos. Sortear el intervalo corresponde a sortear puntos como un P. Poisson en la región $\\{(x.y):x<y\\}\\subset \\mathbb{R}^2$.\n",
    "\n",
    "En ese caso, vale el cambio de variable para la medida $\\Lambda$:\n",
    "\n",
    "$$g: \\begin{cases} u=x, \\\\ v=x+l, \\end{cases} \\quad  J= \\begin{pmatrix} 1 & 0 \\\\ 1 & 1 \\end{pmatrix}, \\quad |J| = |J^{-1}| = 1$$\n",
    "\n",
    "y por lo tanto:\n",
    "\n",
    "$$\\tilde{\\phi} = \\sum_k \\delta_{x_k,"
   ]
  },
  {
   "cell_type": "code",
   "execution_count": null,
   "metadata": {},
   "outputs": [],
   "source": []
  }
 ],
 "metadata": {
  "hide_input": false,
  "kernelspec": {
   "display_name": "Julia 1.7.0",
   "language": "julia",
   "name": "julia-1.7"
  },
  "language_info": {
   "file_extension": ".jl",
   "mimetype": "application/julia",
   "name": "julia",
   "version": "1.7.0"
  }
 },
 "nbformat": 4,
 "nbformat_minor": 4
}
