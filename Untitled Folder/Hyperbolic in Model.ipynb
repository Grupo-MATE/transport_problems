{
 "cells": [
  {
   "cell_type": "code",
   "execution_count": 1,
   "id": "e4bd843a",
   "metadata": {},
   "outputs": [],
   "source": [
    "using JuMP, GLPK\n",
    "using VoronoiCells, GeometryBasics, Plots\n",
    "using Random\n",
    "using Statistics\n",
    "using Distributions\n",
    "using StatsBase"
   ]
  },
  {
   "cell_type": "code",
   "execution_count": 302,
   "id": "a9f948c5",
   "metadata": {},
   "outputs": [
    {
     "data": {
      "text/plain": [
       "plot_locations_with_condition (generic function with 3 methods)"
      ]
     },
     "execution_count": 302,
     "metadata": {},
     "output_type": "execute_result"
    }
   ],
   "source": [
    "function get_cost_matrix(x, y, norm=2)    \n",
    "    m = size(x)[1]\n",
    "    n = size(y)[1]\n",
    "    #Calculo los costos Cij = |xi-yj| (distancia euclidea en R^2)\n",
    "    c1 = (x[:,1]*ones(1,n) - ones(m,1)*y[:,1]').^norm\n",
    "    c2 = (x[:,2]*ones(1,n) - ones(m,1)*y[:,2]').^norm\n",
    "    return (c1+c2).^(1/norm)\n",
    "end\n",
    "\n",
    "function plot_locations(x, title)\n",
    "    \n",
    "    gr()\n",
    "    Plots.GRBackend()\n",
    "    \n",
    "    m = size(x)[1]\n",
    "    \n",
    "    X = x[:,1]\n",
    "    Y = x[:,2]\n",
    "    \n",
    "    scatter(X, Y, aspect_ratio=:equal, markersize = 3, xlim = (-0.1, 1.1), ylim = (-0.1, 1.1), title = title, legend = false)\n",
    "    \n",
    "end\n",
    "\n",
    "function plot_stations(y, title)\n",
    "   \n",
    "    plot_locations(y, title)\n",
    "    \n",
    "    n = size(y)[1];\n",
    "    \n",
    "    points = [Point2(y[i,1], y[i,2]) for i in 1:n];\n",
    "    \n",
    "    scatter!(y[:,1], y[:,2], markersize = 6, label = \"Stations\", markershape = :star) # Plot Stations\n",
    "    annotate!([(points[i][1] + 0.02, points[i][2] + 0.03, text(i, :black)) for i in 1:n]) # Add Station Number\n",
    "    \n",
    "end\n",
    "\n",
    "function plot_assignments(x, y, Pi, voronoi = true)\n",
    "    gr()\n",
    "    Plots.GRBackend()\n",
    "\n",
    "    # Define m and n\n",
    "    m = size(x)[1]\n",
    "    n = size(y)[1]\n",
    "\n",
    "    # Create Stations List\n",
    "    points = [Point2(y[i,1], y[i,2]) for i in 1:n] \n",
    "\n",
    "    # Voronoi Cells\n",
    "    rect = Rectangle(Point2(0, 0), Point2(1, 1))\n",
    "    tess = voronoicells(points, rect);\n",
    "        \n",
    "    if voronoi == true\n",
    "        plot(tess, color = :green, alpha = 0.4)\n",
    "    end\n",
    "\n",
    "    #Assigments\n",
    "    assigned_index = [argmax(Pi[i,:]) for i in 1:m];\n",
    "    \n",
    "    #Array of arrays. Each array is the amount of cars that go on a particular station\n",
    "    X = [ x[findall(x->x==i, assigned_index),1] for i in 1:n];\n",
    "    Y = [ x[findall(x->x==i, assigned_index),2] for i in 1:n];\n",
    "\n",
    "    for i = 1:n\n",
    "        scatter!(X[i], Y[i], aspect_ratio=:equal, markersize = 3, legend =false) # Plot EVs (differente color by each Station)\n",
    "    end\n",
    "        \n",
    "    scatter!(y[:,1], y[:,2], markersize = 8, label = \"Stations\", markershape = :star, color=:white) # Plot Stations\n",
    "    annotate!([(points[i][1] + 0.04, points[i][2] + 0.00, text(i, :black)) for i in 1:n]) # Add Station Number\n",
    "end\n",
    "\n",
    "\n",
    "\n",
    "\n",
    "function Print_Model(C, s_max)\n",
    "    \n",
    "    m = size(C)[1];\n",
    "    n = size(C)[2];\n",
    "   \n",
    "    model = JuMP.Model(GLPK.Optimizer)\n",
    "        \n",
    "    @variable(model,Pi[1:m,1:n]>=0)\n",
    "    \n",
    "    p = sum(Pi, dims=2);\n",
    "    s = sum(Pi, dims=1);\n",
    "\n",
    "    @constraint(model, p .== q)\n",
    "    @constraint(model, con, s .<= s_max) \n",
    "\n",
    "    @objective(model, Min, sum( C.*Pi ))\n",
    "\n",
    "    optimize!(model)   \n",
    "\n",
    "    Pi = value.(Pi)\n",
    "    \n",
    "    mu = dual.(con)\n",
    "    print(mu)\n",
    "    \n",
    "#     plot_assignments(x, y, Pi)\n",
    "    \n",
    "    return mu, Pi;\n",
    "    \n",
    "#     y_1 = y[1:2,:]\n",
    "#     mu_1 = mu[1:2,:]\n",
    "#      plot_locations_with_condition(y_1, mu_1)\n",
    "#     plot_locations_with_condition(y[2:3,:], mu[2:3,:])\n",
    "\n",
    "    \n",
    "end\n",
    "\n",
    "function myfindall(condition, x)\n",
    "    results = Int[]\n",
    "\n",
    "    for i in 1:length(x)\n",
    "       if condition(x[i])\n",
    "           push!(results, i)\n",
    "       end\n",
    "    end\n",
    "    \n",
    "    return results\n",
    "    \n",
    "end\n",
    "\n",
    "function plot_locations_with_condition(y, mu)\n",
    "    \n",
    "    x = rand(50000, 2);\n",
    "        \n",
    "    # Equation:\n",
    "    # ||y1 - x|| - ||y2 - x|| == mu1 - mu2\n",
    "    \n",
    "    # ||y1 - x||\n",
    "    d1 = broadcast(-, x, y[1,:]').^2;\n",
    "    d1 = sum(d1, dims=2);\n",
    "    d1 = sqrt.(d1)\n",
    "    \n",
    "    # ||y2 - x||\n",
    "    d2 = broadcast(-, x, y[2,:]').^2;\n",
    "    d2 = sum(d2, dims=2);\n",
    "    d2 = sqrt.(d2)\n",
    "    \n",
    "    # ||y1 - x|| - ||y2 - x||\n",
    "    difference_of_distances = d1 - d2;\n",
    "    \n",
    "    #  mu1 - mu2\n",
    "    mu_condition = mu[1] - mu[2];\n",
    "    \n",
    "    # As true equality doesnt exist in numerical problems. A tolerance must be set.\n",
    "    tolerance = 10^(-2);\n",
    "    \n",
    "    # ||y1 - x|| - ||y2 - x|| == mu1 - mu2\n",
    "    condition_index = myfindall(d -> abs(d - mu_condition) <= tolerance, difference_of_distances)\n",
    "    \n",
    "    print(size(condition_index))\n",
    "    \n",
    "    valid_x = x[condition_index, :]\n",
    "    \n",
    "    m = size(valid_x)[1]\n",
    "    \n",
    "    X = valid_x[:,1]\n",
    "    Y = valid_x[:,2]\n",
    "    \n",
    "    scatter!(X, Y, aspect_ratio=:equal, markersize = 2, legend = false,color=:yellow, markerstrokewidth=0)\n",
    "\n",
    "end"
   ]
  },
  {
   "cell_type": "markdown",
   "id": "ead1073b",
   "metadata": {},
   "source": [
    "## Stations"
   ]
  },
  {
   "cell_type": "code",
   "execution_count": 303,
   "id": "7cab21e0",
   "metadata": {},
   "outputs": [
    {
     "data": {
      "text/plain": [
       "3×2 Matrix{Float64}:\n",
       " 0.366796  0.819338\n",
       " 0.523879  0.501371\n",
       " 0.210256  0.559355"
      ]
     },
     "execution_count": 303,
     "metadata": {},
     "output_type": "execute_result"
    }
   ],
   "source": [
    "Random.seed!(2)\n",
    "y = rand(3,2)\n",
    "y\n",
    "# plot_stations(y, \"Stations\")"
   ]
  },
  {
   "cell_type": "markdown",
   "id": "d8306a51",
   "metadata": {},
   "source": [
    "## Cars"
   ]
  },
  {
   "cell_type": "code",
   "execution_count": 313,
   "id": "be92a97b",
   "metadata": {},
   "outputs": [],
   "source": [
    "number_points = 500\n",
    "x = rand(number_points, 2);\n",
    "norm = 2;\n",
    "C = get_cost_matrix(x, y, norm);\n",
    "q = ones(number_points,1);\n",
    "s_max = [100 400 50];"
   ]
  },
  {
   "cell_type": "code",
   "execution_count": 322,
   "id": "8e673e9f",
   "metadata": {},
   "outputs": [
    {
     "name": "stdout",
     "output_type": "stream",
     "text": [
      "[-0.07571608190362034 0.0 -0.17419652423059281](935,)(1081,)(1722,)"
     ]
    }
   ],
   "source": [
    "mu, Pi = Print_Model(C, s_max);\n",
    "plot_assignments(x, y, Pi);\n",
    "y_1 = y[1:2,:]\n",
    "mu_1 = mu[1:2]\n",
    "plot_locations_with_condition(y_1, mu_1)\n",
    "y_2 = y[2:3,:]\n",
    "mu_2 = mu[2:3]\n",
    "plot_locations_with_condition(y_2, mu_2)\n",
    "y_3 = [y[1,:] y[3,:]]'\n",
    "mu_3 = [mu[1] mu[3]]\n",
    "plot_locations_with_condition(y_3, mu_3)\n",
    "savefig(\"3.pdf\")"
   ]
  },
  {
   "cell_type": "code",
   "execution_count": 315,
   "id": "c769f4da",
   "metadata": {},
   "outputs": [
    {
     "data": {
      "text/plain": [
       "3×2 Matrix{Float64}:\n",
       " 0.366796  0.819338\n",
       " 0.523879  0.501371\n",
       " 0.210256  0.559355"
      ]
     },
     "execution_count": 315,
     "metadata": {},
     "output_type": "execute_result"
    }
   ],
   "source": [
    "y"
   ]
  },
  {
   "cell_type": "code",
   "execution_count": 320,
   "id": "c9c9aaeb",
   "metadata": {},
   "outputs": [
    {
     "data": {
      "text/plain": [
       "2×2 adjoint(::Matrix{Float64}) with eltype Float64:\n",
       " 0.366796  0.819338\n",
       " 0.210256  0.559355"
      ]
     },
     "execution_count": 320,
     "metadata": {},
     "output_type": "execute_result"
    }
   ],
   "source": [
    "[y[1,:] y[3,:]]'"
   ]
  },
  {
   "cell_type": "code",
   "execution_count": null,
   "id": "9d23c5a9",
   "metadata": {},
   "outputs": [],
   "source": []
  }
 ],
 "metadata": {
  "kernelspec": {
   "display_name": "Julia 1.6.6",
   "language": "julia",
   "name": "julia-1.6"
  },
  "language_info": {
   "file_extension": ".jl",
   "mimetype": "application/julia",
   "name": "julia",
   "version": "1.6.6"
  }
 },
 "nbformat": 4,
 "nbformat_minor": 5
}
