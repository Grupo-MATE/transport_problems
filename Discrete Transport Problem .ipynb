{
 "cells": [
  {
   "cell_type": "markdown",
   "metadata": {
    "tags": []
   },
   "source": [
    "# Problema de transporte discreto\n",
    "\n",
    "Dadas dos distribuciones de probabilidad discretas:\n",
    "\n",
    "* $X$: con soporte $x_1<x_2<\\ldots<x_m$ con probabilidades $P(X=x_i) = p_i$.\n",
    "* $Y$: con soporte $y_1<y_2<\\ldots<y_n$ con probabilidades $P(Y=y_j) = q_j$.\n",
    "\n",
    "Queremos hallar una distribución conjunta $A=(a_{ij}) \\geqslant 0$ tal que:\n",
    "\n",
    "$$\\min_{a_{ij}} \\sum_{i,j} a_{ij} |x_i-y_j|$$\n",
    "\n",
    "sujeto a:\n",
    "\n",
    "$$\\sum_j a_{ij} = p_i \\quad \\forall i=1,\\ldots,m,$$\n",
    "\n",
    "$$\\sum_i a_{ij} = q_j \\quad \\forall j=1,\\ldots,n.$$"
   ]
  },
  {
   "cell_type": "code",
   "execution_count": 31,
   "metadata": {},
   "outputs": [
    {
     "name": "stderr",
     "output_type": "stream",
     "text": [
      "\u001b[32m\u001b[1m   Resolving\u001b[22m\u001b[39m package versions...\n",
      "\u001b[32m\u001b[1m    Updating\u001b[22m\u001b[39m `~/Documents/transport_problems/Project.toml`\n",
      " \u001b[90m [5c1252a2] \u001b[39m\u001b[92m+ GeometryBasics v0.3.13\u001b[39m\n",
      "\u001b[32m\u001b[1m  No Changes\u001b[22m\u001b[39m to `~/Documents/transport_problems/Manifest.toml`\n"
     ]
    }
   ],
   "source": [
    "## Para instalar los paquetes del Project.toml la primera vez\n",
    "#using Pkg; Pkg.instantiate()\n",
    "#Pkg.add(\"VoronoiCells\")\n",
    "#import Pkg; Pkg.add(\"GeometryBasics\")"
   ]
  },
  {
   "cell_type": "code",
   "execution_count": 3,
   "metadata": {},
   "outputs": [
    {
     "name": "stderr",
     "output_type": "stream",
     "text": [
      "\u001b[32m\u001b[1m    Updating\u001b[22m\u001b[39m `~/Documents/transport_problems/Project.toml`\n",
      " \u001b[90m [e3e34ffb] \u001b[39m\u001b[91m- VoronoiCells v0.3.0\u001b[39m\n",
      "\u001b[32m\u001b[1m    Updating\u001b[22m\u001b[39m `~/Documents/transport_problems/Manifest.toml`\n",
      " \u001b[90m [fd0ad045] \u001b[39m\u001b[91m- GeometricalPredicates v0.4.1\u001b[39m\n",
      " \u001b[90m [e3e34ffb] \u001b[39m\u001b[91m- VoronoiCells v0.3.0\u001b[39m\n",
      " \u001b[90m [72f80fcb] \u001b[39m\u001b[91m- VoronoiDelaunay v0.4.1\u001b[39m\n",
      "\u001b[32m\u001b[1m   Resolving\u001b[22m\u001b[39m package versions...\n",
      "\u001b[32m\u001b[1m    Updating\u001b[22m\u001b[39m `~/Documents/transport_problems/Project.toml`\n",
      " \u001b[90m [e3e34ffb] \u001b[39m\u001b[92m+ VoronoiCells v0.2.2\u001b[39m\n",
      "\u001b[32m\u001b[1m    Updating\u001b[22m\u001b[39m `~/Documents/transport_problems/Manifest.toml`\n",
      " \u001b[90m [fd0ad045] \u001b[39m\u001b[92m+ GeometricalPredicates v0.4.1\u001b[39m\n",
      " \u001b[90m [5c1252a2] \u001b[39m\u001b[95m↓ GeometryBasics v0.4.2 ⇒ v0.3.13\u001b[39m\n",
      " \u001b[90m [e3e34ffb] \u001b[39m\u001b[92m+ VoronoiCells v0.2.2\u001b[39m\n",
      " \u001b[90m [72f80fcb] \u001b[39m\u001b[92m+ VoronoiDelaunay v0.4.1\u001b[39m\n"
     ]
    }
   ],
   "source": [
    "using Pkg\n",
    "Pkg.rm(\"VoronoiCells\")\n",
    "Pkg.add(Pkg.PackageSpec(;name=\"VoronoiCells\", version=\"0.2.2\"))"
   ]
  },
  {
   "cell_type": "code",
   "execution_count": 4,
   "metadata": {
    "jupyter": {
     "source_hidden": true
    },
    "tags": []
   },
   "outputs": [
    {
     "data": {
      "text/plain": [
       "A JuMP Model\n",
       "Minimization problem with:\n",
       "Variables: 6\n",
       "Objective function type: AffExpr\n",
       "`AffExpr`-in-`MathOptInterface.EqualTo{Float64}`: 5 constraints\n",
       "`VariableRef`-in-`MathOptInterface.GreaterThan{Float64}`: 6 constraints\n",
       "Model mode: AUTOMATIC\n",
       "CachingOptimizer state: EMPTY_OPTIMIZER\n",
       "Solver name: Ipopt\n",
       "Names registered in the model: A"
      ]
     },
     "execution_count": 4,
     "metadata": {},
     "output_type": "execute_result"
    }
   ],
   "source": [
    "using JuMP, GLPK, Ipopt\n",
    "\n",
    "#m=3\n",
    "x=[1.0;2.0;3.0]\n",
    "p=[0.2;0.4;0.4]\n",
    "\n",
    "#n=2\n",
    "y=[0;4.0]\n",
    "q=[0.5;0.5]\n",
    "\n",
    "#model = JuMP.Model(GLPK.Optimizer)\n",
    "model = JuMP.Model(Ipopt.Optimizer)\n",
    "\n",
    "\n",
    "m=length(x)\n",
    "n=length(y)\n",
    "\n",
    "#Calculo los pesos |xi-yj|\n",
    "W=abs.(x*ones(1,n) - ones(m,1)*y')\n",
    "\n",
    "@variable(model,A[1:m,1:n]>=0)\n",
    "\n",
    "conp = @constraint(model, sum(A, dims=2).==p)\n",
    "conq = @constraint(model, sum(A, dims=1).==q')\n",
    "\n",
    "@objective(model,Min, sum( A.*W ))\n",
    "\n",
    "model"
   ]
  },
  {
   "cell_type": "code",
   "execution_count": 5,
   "metadata": {},
   "outputs": [
    {
     "name": "stdout",
     "output_type": "stream",
     "text": [
      "\n",
      "******************************************************************************\n",
      "This program contains Ipopt, a library for large-scale nonlinear optimization.\n",
      " Ipopt is released as open source code under the Eclipse Public License (EPL).\n",
      "         For more information visit https://github.com/coin-or/Ipopt\n",
      "******************************************************************************\n",
      "\n",
      "This is Ipopt version 3.14.4, running with linear solver MUMPS 5.4.1.\n",
      "\n",
      "Number of nonzeros in equality constraint Jacobian...:       12\n",
      "Number of nonzeros in inequality constraint Jacobian.:        0\n",
      "Number of nonzeros in Lagrangian Hessian.............:        0\n",
      "\n",
      "Total number of variables............................:        6\n",
      "                     variables with only lower bounds:        6\n",
      "                variables with lower and upper bounds:        0\n",
      "                     variables with only upper bounds:        0\n",
      "Total number of equality constraints.................:        5\n",
      "Total number of inequality constraints...............:        0\n",
      "        inequality constraints with only lower bounds:        0\n",
      "   inequality constraints with lower and upper bounds:        0\n",
      "        inequality constraints with only upper bounds:        0\n",
      "\n",
      "iter    objective    inf_pr   inf_du lg(mu)  ||d||  lg(rg) alpha_du alpha_pr  ls\n",
      "   0  1.1999988e-01 4.70e-01 2.00e+00  -1.0 0.00e+00    -  0.00e+00 0.00e+00   0\n",
      "   1  2.6750973e-01 4.54e-01 2.99e+00  -1.0 1.85e-01    -  1.04e-01 1.98e-01h  1\n",
      "   2  2.0269993e+00 3.77e-08 2.95e+00  -1.7 3.60e-01    -  9.78e-02 1.00e+00h  1\n",
      "   3  1.9901062e+00 2.61e-08 2.97e+00  -2.5 3.16e-02    -  6.00e-01 3.09e-01f  1\n",
      "   4  1.4001563e+00 1.67e-08 2.97e+00  -3.8 8.03e-01    -  6.33e-03 3.68e-01f  1\n",
      "   5  1.4003013e+00 1.62e-08 2.00e+00  -3.8 2.29e-03    -  1.00e+00 3.12e-02f  6\n",
      "   6  1.4000037e+00 4.42e-10 2.00e+00  -5.7 1.15e-04    -  1.00e+00 1.00e+00f  1\n",
      "   7  1.4000000e+00 8.49e-11 2.00e+00  -8.6 9.48e-07    -  1.00e+00 1.00e+00h  1\n",
      "   8  1.4000000e+00 6.59e-11 2.00e+00  -9.0 8.12e-10    -  1.00e+00 1.00e+00h  1\n",
      "   9  1.4000000e+00 6.59e-11 2.00e+00  -9.0 3.40e-17    -  1.00e+00 1.00e+00   0\n",
      "iter    objective    inf_pr   inf_du lg(mu)  ||d||  lg(rg) alpha_du alpha_pr  ls\n",
      "  10  1.4000000e+00 6.59e-11 2.00e+00  -9.0 4.47e-17    -  1.00e+00 1.00e+00   0\n",
      "  11  1.4000000e+00 6.59e-11 2.00e+00  -9.0 4.42e-17    -  1.00e+00 1.00e+00   0\n",
      "  12  1.4000000e+00 6.59e-11 2.00e+00  -9.0 3.86e-17    -  1.00e+00 1.00e+00   0\n",
      "  13  1.4000000e+00 6.59e-11 2.00e+00  -9.0 2.83e-17    -  1.00e+00 1.00e+00   0\n",
      "  14  1.4000000e+00 6.59e-11 2.00e+00  -9.0 4.42e-17    -  1.00e+00 1.00e+00   0\n",
      "  15  1.4000000e+00 6.59e-11 2.00e+00  -9.0 6.08e-17    -  1.00e+00 1.00e+00   0\n",
      "  16  1.4000000e+00 6.59e-11 2.00e+00  -9.0 7.27e-17    -  1.00e+00 1.00e+00   0\n",
      "  17  1.4000000e+00 6.59e-11 2.00e+00  -9.0 4.41e-17    -  1.00e+00 1.00e+00   0\n",
      "  18  1.4000000e+00 6.59e-11 2.00e+00  -9.0 4.47e-17    -  1.00e+00 1.00e+00   0\n",
      "  19  1.4000000e+00 6.59e-11 2.00e+00  -9.0 4.41e-17    -  1.00e+00 1.00e+00   0\n",
      "iter    objective    inf_pr   inf_du lg(mu)  ||d||  lg(rg) alpha_du alpha_pr  ls\n",
      "  20  1.4000000e+00 6.59e-11 2.00e+00  -9.0 4.47e-17    -  1.00e+00 1.00e+00   0\n",
      "  21  1.4000000e+00 6.59e-11 2.00e+00  -9.0 4.41e-17    -  1.00e+00 1.00e+00   0\n",
      "\n",
      "Number of Iterations....: 21\n",
      "\n",
      "                                   (scaled)                 (unscaled)\n",
      "Objective...............:   1.3999999616644336e+00    1.3999999616644336e+00\n",
      "Dual infeasibility......:   1.9999999969696971e+00    1.9999999969696971e+00\n",
      "Constraint violation....:   6.5892069578410428e-11    6.5892069578410428e-11\n",
      "Variable bound violation:   9.5454545478650143e-09    9.5454545478650143e-09\n",
      "Complementarity.........:   9.0909090909090982e-10    9.0909090909090982e-10\n",
      "Overall NLP error.......:   9.0909090909090982e-10    1.9999999969696971e+00\n",
      "\n",
      "\n",
      "Number of objective function evaluations             = 27\n",
      "Number of objective gradient evaluations             = 22\n",
      "Number of equality constraint evaluations            = 27\n",
      "Number of inequality constraint evaluations          = 0\n",
      "Number of equality constraint Jacobian evaluations   = 1\n",
      "Number of inequality constraint Jacobian evaluations = 0\n",
      "Number of Lagrangian Hessian evaluations             = 1\n",
      "Total seconds in IPOPT                               = 0.134\n",
      "\n",
      "EXIT: Solved To Acceptable Level.\n"
     ]
    }
   ],
   "source": [
    "optimize!(model)"
   ]
  },
  {
   "cell_type": "code",
   "execution_count": 6,
   "metadata": {},
   "outputs": [
    {
     "data": {
      "text/plain": [
       "1.3999999616644336"
      ]
     },
     "execution_count": 6,
     "metadata": {},
     "output_type": "execute_result"
    }
   ],
   "source": [
    "objective_value(model)"
   ]
  },
  {
   "cell_type": "code",
   "execution_count": 7,
   "metadata": {},
   "outputs": [
    {
     "data": {
      "text/plain": [
       "3×2 Matrix{Float64}:\n",
       "  0.2         -9.54545e-9\n",
       "  0.3          0.1\n",
       " -9.54545e-9   0.4"
      ]
     },
     "execution_count": 7,
     "metadata": {},
     "output_type": "execute_result"
    }
   ],
   "source": [
    "#Extraigo el valor optimo\n",
    "value.(A)"
   ]
  },
  {
   "cell_type": "code",
   "execution_count": 8,
   "metadata": {},
   "outputs": [
    {
     "data": {
      "text/plain": [
       "3×1 Matrix{Float64}:\n",
       " 1.7120871502758715e18\n",
       " 1.7120871502758715e18\n",
       " 1.7120871502758715e18"
      ]
     },
     "execution_count": 8,
     "metadata": {},
     "output_type": "execute_result"
    }
   ],
   "source": [
    "#Extraigo los multiplicadores de p\n",
    "lambda = dual.(conp)"
   ]
  },
  {
   "cell_type": "code",
   "execution_count": 9,
   "metadata": {},
   "outputs": [
    {
     "data": {
      "text/plain": [
       "1×2 Matrix{Float64}:\n",
       " -1.71209e18  -1.71209e18"
      ]
     },
     "execution_count": 9,
     "metadata": {},
     "output_type": "execute_result"
    }
   ],
   "source": [
    "#Extraigo los multiplicadores de q\n",
    "mu = dual.(conq)"
   ]
  },
  {
   "cell_type": "code",
   "execution_count": 10,
   "metadata": {},
   "outputs": [
    {
     "data": {
      "text/plain": [
       "3×2 Matrix{Float64}:\n",
       " 1.0  3.0\n",
       " 2.0  2.0\n",
       " 3.0  1.0"
      ]
     },
     "execution_count": 10,
     "metadata": {},
     "output_type": "execute_result"
    }
   ],
   "source": [
    "W"
   ]
  },
  {
   "cell_type": "code",
   "execution_count": 11,
   "metadata": {},
   "outputs": [
    {
     "data": {
      "text/plain": [
       "3×2 Matrix{Float64}:\n",
       " 0.0  0.0\n",
       " 0.0  0.0\n",
       " 0.0  0.0"
      ]
     },
     "execution_count": 11,
     "metadata": {},
     "output_type": "execute_result"
    }
   ],
   "source": [
    "lambda * ones(1,n) + ones(m,1)*mu"
   ]
  },
  {
   "cell_type": "markdown",
   "metadata": {},
   "source": [
    "# Problema de transporte discreto - Cantidad de destinos variable\n",
    "\n",
    "Dadas dos distribuciones de probabilidad discretas:\n",
    "\n",
    "* $X$: con soporte $x_1<x_2<\\ldots<x_m$ con probabilidades $P(X=x_i) = p_i$.\n",
    "* $Y$: con soporte $y_1<y_2<\\ldots<y_n$ con probabilidades $P(Y=y_j) = q_j$.\n",
    "\n",
    "Queremos hallar una distribución conjunta $A=(a_{ij}) \\geqslant 0$ tal que:\n",
    "\n",
    "$$\\min_{a_{ij}} \\sum_{i,j} a_{ij} |x_i-y_j| + \\epsilon \\sum_{j} \\phi(q_{j})$$\n",
    "\n",
    "sujeto a:\n",
    "\n",
    "$$\\sum_j a_{ij} = p_i \\quad \\forall i=1,\\ldots,m,$$\n",
    "\n",
    "$$\\sum_i a_{ij} = q_j \\quad (VAR).$$"
   ]
  },
  {
   "cell_type": "markdown",
   "metadata": {},
   "source": [
    "## Caso 1: \n",
    "\n",
    "Consideramos $\\phi(x) = \\frac{x^{2}}{2}$"
   ]
  },
  {
   "cell_type": "code",
   "execution_count": 12,
   "metadata": {},
   "outputs": [
    {
     "data": {
      "text/plain": [
       "A JuMP Model\n",
       "Minimization problem with:\n",
       "Variables: 33\n",
       "Objective function type: AffExpr\n",
       "`AffExpr`-in-`MathOptInterface.EqualTo{Float64}`: 13 constraints\n",
       "`VariableRef`-in-`MathOptInterface.GreaterThan{Float64}`: 30 constraints\n",
       "Model mode: AUTOMATIC\n",
       "CachingOptimizer state: EMPTY_OPTIMIZER\n",
       "Solver name: GLPK\n",
       "Names registered in the model: A, q"
      ]
     },
     "execution_count": 12,
     "metadata": {},
     "output_type": "execute_result"
    }
   ],
   "source": [
    "using JuMP, GLPK, Ipopt\n",
    "#revisar paquete distances.JL\n",
    "\n",
    "#m=3\n",
    "x=10*rand(10) #[1.0;2.0;3.0;4;5;6;7;8;9;10] #--> Trabajar con elementos de R^2\n",
    "p=ones(10)\n",
    "\n",
    "#n=2\n",
    "y=[0;7;15]\n",
    "\n",
    "#epsilon\n",
    "eps = 0 #¿Qué pongo?\n",
    "\n",
    "model = JuMP.Model(GLPK.Optimizer)\n",
    "#model = JuMP.Model(Ipopt.Optimizer)\n",
    "\n",
    "\n",
    "m=length(x)\n",
    "n=length(y)\n",
    "\n",
    "#Calculo los pesos |xi-yj|\n",
    "W=abs.(x*ones(1,n) - ones(m,1)*y')\n",
    "\n",
    "@variable(model,A[1:m,1:n]>=0)\n",
    "@variable(model,q[1:n])\n",
    "\n",
    "conp = @constraint(model, sum(A, dims=2).==p)\n",
    "conq = @constraint(model, sum(A, dims=1).==q')\n",
    "\n",
    "@objective(model,Min, sum( A.*W ))# + eps/2 * (q'*q) )\n",
    "\n",
    "model"
   ]
  },
  {
   "cell_type": "code",
   "execution_count": 13,
   "metadata": {},
   "outputs": [],
   "source": [
    "optimize!(model)"
   ]
  },
  {
   "cell_type": "code",
   "execution_count": 14,
   "metadata": {},
   "outputs": [
    {
     "data": {
      "text/plain": [
       "14.759064870391066"
      ]
     },
     "execution_count": 14,
     "metadata": {},
     "output_type": "execute_result"
    }
   ],
   "source": [
    "objective_value(model)"
   ]
  },
  {
   "cell_type": "code",
   "execution_count": 15,
   "metadata": {},
   "outputs": [
    {
     "data": {
      "text/plain": [
       "10×3 Matrix{Float64}:\n",
       " 0.0  1.0  0.0\n",
       " 0.0  1.0  0.0\n",
       " 0.0  1.0  0.0\n",
       " 0.0  1.0  0.0\n",
       " 0.0  1.0  0.0\n",
       " 0.0  1.0  0.0\n",
       " 1.0  0.0  0.0\n",
       " 1.0  0.0  0.0\n",
       " 0.0  1.0  0.0\n",
       " 1.0  0.0  0.0"
      ]
     },
     "execution_count": 15,
     "metadata": {},
     "output_type": "execute_result"
    }
   ],
   "source": [
    "#Extraigo el valor optimo\n",
    "value.(A)"
   ]
  },
  {
   "cell_type": "code",
   "execution_count": 16,
   "metadata": {},
   "outputs": [
    {
     "data": {
      "text/plain": [
       "3-element Vector{Float64}:\n",
       " 3.0\n",
       " 7.0\n",
       " 0.0"
      ]
     },
     "execution_count": 16,
     "metadata": {},
     "output_type": "execute_result"
    }
   ],
   "source": [
    "value.(q)"
   ]
  },
  {
   "cell_type": "code",
   "execution_count": 17,
   "metadata": {},
   "outputs": [
    {
     "data": {
      "text/plain": [
       "10×1 Matrix{Float64}:\n",
       " 1.1962021236634577\n",
       " 0.1455424803138099\n",
       " 1.5496907727236362\n",
       " 1.144115671884121\n",
       " 1.8353264241893976\n",
       " 1.5261952846449045\n",
       " 1.6360296084148862\n",
       " 3.170855435966028\n",
       " 0.42630442279006076\n",
       " 2.1288026458007625"
      ]
     },
     "execution_count": 17,
     "metadata": {},
     "output_type": "execute_result"
    }
   ],
   "source": [
    "#Extraigo los multiplicadores de p\n",
    "lambda = dual.(conp)"
   ]
  },
  {
   "cell_type": "code",
   "execution_count": 18,
   "metadata": {},
   "outputs": [],
   "source": [
    "#hacerlo en R^2,dentro de un cuadrado de 0,0 a 1,1\n",
    "#plotear con el comando scatter los x, con diferentes colores los que tienen el 1 en la primer columna, los que tienen el 1 en la segunda col, etc.\n",
    "#manera más sencilla con marker.z\n",
    "#spliteo el X y corro la optimización, voy cambiando los cargadores\n",
    "#"
   ]
  },
  {
   "cell_type": "markdown",
   "metadata": {},
   "source": [
    "## Caso 2: Trabajando en $R^{2}$\n",
    "\n",
    "Consideramos $\\phi(x) = \\frac{x^{2}}{2}$"
   ]
  },
  {
   "cell_type": "code",
   "execution_count": 19,
   "metadata": {},
   "outputs": [],
   "source": [
    "#m=los que quiera\n",
    "m = 100\n",
    "x = sortslices(rand(m,2), dims = 1);\n",
    "p = 2*rand(m)#ones(m);\n",
    "\n",
    "#n=4\n",
    "#y=[[1/3 1/3]; [1/3 2/3]; [2/3 1/3]; [2/3 2/3]];\n",
    "#y=[[1/3 1/3]; [2/3 2/3]];\n",
    "y = sortslices(rand(6,2), dims = 1);\n",
    "y = vcat(y, [2 0.5])\n",
    "n=size(y)[1];"
   ]
  },
  {
   "cell_type": "code",
   "execution_count": 22,
   "metadata": {},
   "outputs": [
    {
     "ename": "LoadError",
     "evalue": "An object of name q is already attached to this model. If this\n    is intended, consider using the anonymous construction syntax, e.g.,\n    `x = @variable(model, [1:N], ...)` where the name of the object does\n    not appear inside the macro.\n\n    Alternatively, use `unregister(model, :q)` to first unregister\n    the existing name from the model. Note that this will not delete the\n    object; it will just remove the reference at `model[:q]`.\n",
     "output_type": "error",
     "traceback": [
      "An object of name q is already attached to this model. If this\n    is intended, consider using the anonymous construction syntax, e.g.,\n    `x = @variable(model, [1:N], ...)` where the name of the object does\n    not appear inside the macro.\n\n    Alternatively, use `unregister(model, :q)` to first unregister\n    the existing name from the model. Note that this will not delete the\n    object; it will just remove the reference at `model[:q]`.\n",
      "",
      "Stacktrace:",
      " [1] error(s::String)",
      "   @ Base ./error.jl:33",
      " [2] _error_if_cannot_register(model::Model, name::Symbol)",
      "   @ JuMP ~/.julia/packages/JuMP/0STkJ/src/macros.jl:100",
      " [3] macro expansion",
      "   @ ~/.julia/packages/JuMP/0STkJ/src/macros.jl:134 [inlined]",
      " [4] top-level scope",
      "   @ In[22]:18",
      " [5] eval",
      "   @ ./boot.jl:373 [inlined]",
      " [6] include_string(mapexpr::typeof(REPL.softscope), mod::Module, code::String, filename::String)",
      "   @ Base ./loading.jl:1196"
     ]
    }
   ],
   "source": [
    "using JuMP, GLPK, Ipopt\n",
    "#revisar paquete distances.JL\n",
    "\n",
    "#epsilon\n",
    "eps = 0.01 #200\n",
    "\n",
    "#model = JuMP.Model(GLPK.Optimizer)\n",
    "model = JuMP.Model(Ipopt.Optimizer)\n",
    "\n",
    "#Calculo los pesos |xi-yj|\n",
    "w1 = (x[:,1]*ones(1,n) - ones(m,1)*y[:,1]').^2\n",
    "w2 = (x[:,2]*ones(1,n) - ones(m,1)*y[:,2]').^2\n",
    "W=(w1+w2).^(1/2)\n",
    "\n",
    "@variable(model,A[1:m,1:n]>=0)\n",
    "#@variable(model,q[1:n])\n",
    "@variable(model,q[1:n-1]<=(m/(n-1)*1.4)) # carga máxima por auto con tolerancia, ojo con n\n",
    "@variable(model,q[n]) #ultimo cargador sin límite\n",
    "\n",
    "conp = @constraint(model, sum(A, dims=2).==p)\n",
    "conq = @constraint(model, sum(A, dims=1).==q')\n",
    "\n",
    "@objective(model,Min, sum( A.*W ) + eps/2 * (q'*q) )\n",
    "#@objective(model,Min, sum( A.*W ))\n",
    "\n",
    "model"
   ]
  },
  {
   "cell_type": "code",
   "execution_count": 23,
   "metadata": {},
   "outputs": [
    {
     "name": "stdout",
     "output_type": "stream",
     "text": [
      "This is Ipopt version 3.14.4, running with linear solver MUMPS 5.4.1.\n",
      "\n",
      "Number of nonzeros in equality constraint Jacobian...:        0\n",
      "Number of nonzeros in inequality constraint Jacobian.:        0\n",
      "Number of nonzeros in Lagrangian Hessian.............:        0\n",
      "\n",
      "Total number of variables............................:      706\n",
      "                     variables with only lower bounds:      700\n",
      "                variables with lower and upper bounds:        0\n",
      "                     variables with only upper bounds:        6\n",
      "Total number of equality constraints.................:        0\n",
      "Total number of inequality constraints...............:        0\n",
      "        inequality constraints with only lower bounds:        0\n",
      "   inequality constraints with lower and upper bounds:        0\n",
      "        inequality constraints with only upper bounds:        0\n",
      "\n",
      "iter    objective    inf_pr   inf_du lg(mu)  ||d||  lg(rg) alpha_du alpha_pr  ls\n",
      "   0  0.0000000e+00 0.00e+00 1.00e+00  -1.0 0.00e+00    -  0.00e+00 0.00e+00   0\n",
      "   1  0.0000000e+00 0.00e+00 1.00e-02  -1.0 1.00e-01    -  9.90e-01 1.00e+00f  1\n",
      "   2  0.0000000e+00 0.00e+00 1.00e-04  -1.7 2.00e+00    -  9.90e-01 1.00e+00f  1\n",
      "   3  0.0000000e+00 0.00e+00 1.50e-08  -3.8 1.50e+00    -  1.00e+00 1.00e+00f  1\n",
      "   4  0.0000000e+00 0.00e+00 2.51e-14  -8.6 1.67e-01    -  1.00e+00 1.00e+00f  1\n",
      "\n",
      "Number of Iterations....: 4\n",
      "\n",
      "                                   (scaled)                 (unscaled)\n",
      "Objective...............:   0.0000000000000000e+00    0.0000000000000000e+00\n",
      "Dual infeasibility......:   2.5059035597119616e-14    2.5059035597119616e-14\n",
      "Constraint violation....:   0.0000000000000000e+00    0.0000000000000000e+00\n",
      "Variable bound violation:   0.0000000000000000e+00    0.0000000000000000e+00\n",
      "Complementarity.........:   6.7918117040644585e-13    6.7918117040644585e-13\n",
      "Overall NLP error.......:   6.7918117040644585e-13    6.7918117040644585e-13\n",
      "\n",
      "\n",
      "Number of objective function evaluations             = 5\n",
      "Number of objective gradient evaluations             = 5\n",
      "Number of equality constraint evaluations            = 0\n",
      "Number of inequality constraint evaluations          = 0\n",
      "Number of equality constraint Jacobian evaluations   = 0\n",
      "Number of inequality constraint Jacobian evaluations = 0\n",
      "Number of Lagrangian Hessian evaluations             = 1\n",
      "Total seconds in IPOPT                               = 0.005\n",
      "\n",
      "EXIT: Optimal Solution Found.\n"
     ]
    }
   ],
   "source": [
    "optimize!(model);"
   ]
  },
  {
   "cell_type": "code",
   "execution_count": 24,
   "metadata": {},
   "outputs": [
    {
     "data": {
      "text/plain": [
       "0.0"
      ]
     },
     "execution_count": 24,
     "metadata": {},
     "output_type": "execute_result"
    }
   ],
   "source": [
    "objective_value(model)"
   ]
  },
  {
   "cell_type": "code",
   "execution_count": 25,
   "metadata": {},
   "outputs": [
    {
     "data": {
      "text/plain": [
       "100×7 Matrix{Float64}:\n",
       " 3.78079  3.78079  3.78079  3.78079  3.78079  3.78079  3.78079\n",
       " 3.78079  3.78079  3.78079  3.78079  3.78079  3.78079  3.78079\n",
       " 3.78079  3.78079  3.78079  3.78079  3.78079  3.78079  3.78079\n",
       " 3.78079  3.78079  3.78079  3.78079  3.78079  3.78079  3.78079\n",
       " 3.78079  3.78079  3.78079  3.78079  3.78079  3.78079  3.78079\n",
       " 3.78079  3.78079  3.78079  3.78079  3.78079  3.78079  3.78079\n",
       " 3.78079  3.78079  3.78079  3.78079  3.78079  3.78079  3.78079\n",
       " 3.78079  3.78079  3.78079  3.78079  3.78079  3.78079  3.78079\n",
       " 3.78079  3.78079  3.78079  3.78079  3.78079  3.78079  3.78079\n",
       " 3.78079  3.78079  3.78079  3.78079  3.78079  3.78079  3.78079\n",
       " 3.78079  3.78079  3.78079  3.78079  3.78079  3.78079  3.78079\n",
       " 3.78079  3.78079  3.78079  3.78079  3.78079  3.78079  3.78079\n",
       " 3.78079  3.78079  3.78079  3.78079  3.78079  3.78079  3.78079\n",
       " ⋮                                            ⋮        \n",
       " 3.78079  3.78079  3.78079  3.78079  3.78079  3.78079  3.78079\n",
       " 3.78079  3.78079  3.78079  3.78079  3.78079  3.78079  3.78079\n",
       " 3.78079  3.78079  3.78079  3.78079  3.78079  3.78079  3.78079\n",
       " 3.78079  3.78079  3.78079  3.78079  3.78079  3.78079  3.78079\n",
       " 3.78079  3.78079  3.78079  3.78079  3.78079  3.78079  3.78079\n",
       " 3.78079  3.78079  3.78079  3.78079  3.78079  3.78079  3.78079\n",
       " 3.78079  3.78079  3.78079  3.78079  3.78079  3.78079  3.78079\n",
       " 3.78079  3.78079  3.78079  3.78079  3.78079  3.78079  3.78079\n",
       " 3.78079  3.78079  3.78079  3.78079  3.78079  3.78079  3.78079\n",
       " 3.78079  3.78079  3.78079  3.78079  3.78079  3.78079  3.78079\n",
       " 3.78079  3.78079  3.78079  3.78079  3.78079  3.78079  3.78079\n",
       " 3.78079  3.78079  3.78079  3.78079  3.78079  3.78079  3.78079"
      ]
     },
     "execution_count": 25,
     "metadata": {},
     "output_type": "execute_result"
    }
   ],
   "source": [
    "#Extraigo el valor optimo\n",
    "value.(A)"
   ]
  },
  {
   "cell_type": "code",
   "execution_count": 26,
   "metadata": {},
   "outputs": [
    {
     "data": {
      "text/plain": [
       "100×7 Matrix{Float64}:\n",
       " 3.781  3.781  3.781  3.781  3.781  3.781  3.781\n",
       " 3.781  3.781  3.781  3.781  3.781  3.781  3.781\n",
       " 3.781  3.781  3.781  3.781  3.781  3.781  3.781\n",
       " 3.781  3.781  3.781  3.781  3.781  3.781  3.781\n",
       " 3.781  3.781  3.781  3.781  3.781  3.781  3.781\n",
       " 3.781  3.781  3.781  3.781  3.781  3.781  3.781\n",
       " 3.781  3.781  3.781  3.781  3.781  3.781  3.781\n",
       " 3.781  3.781  3.781  3.781  3.781  3.781  3.781\n",
       " 3.781  3.781  3.781  3.781  3.781  3.781  3.781\n",
       " 3.781  3.781  3.781  3.781  3.781  3.781  3.781\n",
       " 3.781  3.781  3.781  3.781  3.781  3.781  3.781\n",
       " 3.781  3.781  3.781  3.781  3.781  3.781  3.781\n",
       " 3.781  3.781  3.781  3.781  3.781  3.781  3.781\n",
       " ⋮                                  ⋮      \n",
       " 3.781  3.781  3.781  3.781  3.781  3.781  3.781\n",
       " 3.781  3.781  3.781  3.781  3.781  3.781  3.781\n",
       " 3.781  3.781  3.781  3.781  3.781  3.781  3.781\n",
       " 3.781  3.781  3.781  3.781  3.781  3.781  3.781\n",
       " 3.781  3.781  3.781  3.781  3.781  3.781  3.781\n",
       " 3.781  3.781  3.781  3.781  3.781  3.781  3.781\n",
       " 3.781  3.781  3.781  3.781  3.781  3.781  3.781\n",
       " 3.781  3.781  3.781  3.781  3.781  3.781  3.781\n",
       " 3.781  3.781  3.781  3.781  3.781  3.781  3.781\n",
       " 3.781  3.781  3.781  3.781  3.781  3.781  3.781\n",
       " 3.781  3.781  3.781  3.781  3.781  3.781  3.781\n",
       " 3.781  3.781  3.781  3.781  3.781  3.781  3.781"
      ]
     },
     "execution_count": 26,
     "metadata": {},
     "output_type": "execute_result"
    }
   ],
   "source": [
    "round.(value.(A), digits=3)"
   ]
  },
  {
   "cell_type": "code",
   "execution_count": 27,
   "metadata": {},
   "outputs": [
    {
     "data": {
      "text/plain": [
       "6-element Vector{Float64}:\n",
       " -3.769911000515064\n",
       " -3.769911000515064\n",
       " -3.769911000515064\n",
       " -3.769911000515064\n",
       " -3.769911000515064\n",
       " -3.769911000515064"
      ]
     },
     "execution_count": 27,
     "metadata": {},
     "output_type": "execute_result"
    }
   ],
   "source": [
    "value.(q)"
   ]
  },
  {
   "cell_type": "code",
   "execution_count": 28,
   "metadata": {},
   "outputs": [],
   "source": [
    "#Extraigo los multiplicadores de p\n",
    "lambda = dual.(conp);"
   ]
  },
  {
   "cell_type": "code",
   "execution_count": 29,
   "metadata": {},
   "outputs": [],
   "source": [
    "#Redondea los valores de A para que sean 0 o 1 (Probar)\n",
    "Ar = round.(value.(A));\n",
    "Ao = value.(A);\n",
    "\n",
    "#Separa los puntos por destino (buscando 1s)\n",
    "#X = [x[findall(x->x==1, Ar[:,i]),1] for i in 1:n];\n",
    "#Y = [x[findall(x->x==1, Ar[:,i]),2] for i in 1:n];\n",
    "\n",
    "#Separa los puntos por destino (buscando maximos)\n",
    "maximos = [argmax(Ao[i,:]) for i in 1:m];\n",
    "X = [x[findall(x->x==i, maximos),1] for i in 1:n];\n",
    "Y = [x[findall(x->x==i, maximos),2] for i in 1:n];"
   ]
  },
  {
   "cell_type": "code",
   "execution_count": 32,
   "metadata": {},
   "outputs": [
    {
     "name": "stderr",
     "output_type": "stream",
     "text": [
      "┌ Info: Precompiling Plots [91a5bcdd-55d7-5caf-9e0b-520d859cae80]\n",
      "└ @ Base loading.jl:1423\n"
     ]
    },
    {
     "data": {
      "image/svg+xml": [
       "<?xml version=\"1.0\" encoding=\"utf-8\"?>\n",
       "<svg xmlns=\"http://www.w3.org/2000/svg\" xmlns:xlink=\"http://www.w3.org/1999/xlink\" width=\"600\" height=\"400\" viewBox=\"0 0 2400 1600\">\n",
       "<defs>\n",
       "  <clipPath id=\"clip740\">\n",
       "    <rect x=\"0\" y=\"0\" width=\"2400\" height=\"1600\"/>\n",
       "  </clipPath>\n",
       "</defs>\n",
       "<path clip-path=\"url(#clip740)\" d=\"\n",
       "M0 1600 L2400 1600 L2400 0 L0 0  Z\n",
       "  \" fill=\"#ffffff\" fill-rule=\"evenodd\" fill-opacity=\"1\"/>\n",
       "<defs>\n",
       "  <clipPath id=\"clip741\">\n",
       "    <rect x=\"480\" y=\"0\" width=\"1681\" height=\"1600\"/>\n",
       "  </clipPath>\n",
       "</defs>\n",
       "<path clip-path=\"url(#clip740)\" d=\"\n",
       "M156.598 1132.87 L2352.76 1132.87 L2352.76 400.82 L156.598 400.82  Z\n",
       "  \" fill=\"#ffffff\" fill-rule=\"evenodd\" fill-opacity=\"1\"/>\n",
       "<defs>\n",
       "  <clipPath id=\"clip742\">\n",
       "    <rect x=\"156\" y=\"400\" width=\"2197\" height=\"733\"/>\n",
       "  </clipPath>\n",
       "</defs>\n",
       "<polyline clip-path=\"url(#clip742)\" style=\"stroke:#000000; stroke-linecap:butt; stroke-linejoin:round; stroke-width:2; stroke-opacity:0.1; fill:none\" points=\"\n",
       "  156.598,1132.87 156.598,400.82 \n",
       "  \"/>\n",
       "<polyline clip-path=\"url(#clip742)\" style=\"stroke:#000000; stroke-linecap:butt; stroke-linejoin:round; stroke-width:2; stroke-opacity:0.1; fill:none\" points=\"\n",
       "  888.651,1132.87 888.651,400.82 \n",
       "  \"/>\n",
       "<polyline clip-path=\"url(#clip742)\" style=\"stroke:#000000; stroke-linecap:butt; stroke-linejoin:round; stroke-width:2; stroke-opacity:0.1; fill:none\" points=\"\n",
       "  1620.7,1132.87 1620.7,400.82 \n",
       "  \"/>\n",
       "<polyline clip-path=\"url(#clip742)\" style=\"stroke:#000000; stroke-linecap:butt; stroke-linejoin:round; stroke-width:2; stroke-opacity:0.1; fill:none\" points=\"\n",
       "  2352.76,1132.87 2352.76,400.82 \n",
       "  \"/>\n",
       "<polyline clip-path=\"url(#clip740)\" style=\"stroke:#000000; stroke-linecap:butt; stroke-linejoin:round; stroke-width:4; stroke-opacity:1; fill:none\" points=\"\n",
       "  156.598,1132.87 2352.76,1132.87 \n",
       "  \"/>\n",
       "<polyline clip-path=\"url(#clip740)\" style=\"stroke:#000000; stroke-linecap:butt; stroke-linejoin:round; stroke-width:4; stroke-opacity:1; fill:none\" points=\"\n",
       "  156.598,1132.87 156.598,1123.26 \n",
       "  \"/>\n",
       "<polyline clip-path=\"url(#clip740)\" style=\"stroke:#000000; stroke-linecap:butt; stroke-linejoin:round; stroke-width:4; stroke-opacity:1; fill:none\" points=\"\n",
       "  888.651,1132.87 888.651,1123.26 \n",
       "  \"/>\n",
       "<polyline clip-path=\"url(#clip740)\" style=\"stroke:#000000; stroke-linecap:butt; stroke-linejoin:round; stroke-width:4; stroke-opacity:1; fill:none\" points=\"\n",
       "  1620.7,1132.87 1620.7,1123.26 \n",
       "  \"/>\n",
       "<polyline clip-path=\"url(#clip740)\" style=\"stroke:#000000; stroke-linecap:butt; stroke-linejoin:round; stroke-width:4; stroke-opacity:1; fill:none\" points=\"\n",
       "  2352.76,1132.87 2352.76,1123.26 \n",
       "  \"/>\n",
       "<path clip-path=\"url(#clip740)\" d=\"M156.598 1163.79 Q152.987 1163.79 151.158 1167.36 Q149.353 1170.9 149.353 1178.03 Q149.353 1185.13 151.158 1188.7 Q152.987 1192.24 156.598 1192.24 Q160.232 1192.24 162.038 1188.7 Q163.867 1185.13 163.867 1178.03 Q163.867 1170.9 162.038 1167.36 Q160.232 1163.79 156.598 1163.79 M156.598 1160.09 Q162.408 1160.09 165.464 1164.69 Q168.543 1169.28 168.543 1178.03 Q168.543 1186.75 165.464 1191.36 Q162.408 1195.94 156.598 1195.94 Q150.788 1195.94 147.709 1191.36 Q144.654 1186.75 144.654 1178.03 Q144.654 1169.28 147.709 1164.69 Q150.788 1160.09 156.598 1160.09 Z\" fill=\"#000000\" fill-rule=\"evenodd\" fill-opacity=\"1\" /><path clip-path=\"url(#clip740)\" d=\"M879.033 1191.34 L886.672 1191.34 L886.672 1164.97 L878.361 1166.64 L878.361 1162.38 L886.625 1160.71 L891.301 1160.71 L891.301 1191.34 L898.94 1191.34 L898.94 1195.27 L879.033 1195.27 L879.033 1191.34 Z\" fill=\"#000000\" fill-rule=\"evenodd\" fill-opacity=\"1\" /><path clip-path=\"url(#clip740)\" d=\"M1615.36 1191.34 L1631.68 1191.34 L1631.68 1195.27 L1609.73 1195.27 L1609.73 1191.34 Q1612.39 1188.58 1616.98 1183.95 Q1621.58 1179.3 1622.76 1177.96 Q1625.01 1175.43 1625.89 1173.7 Q1626.79 1171.94 1626.79 1170.25 Q1626.79 1167.49 1624.85 1165.76 Q1622.93 1164.02 1619.82 1164.02 Q1617.62 1164.02 1615.17 1164.79 Q1612.74 1165.55 1609.96 1167.1 L1609.96 1162.38 Q1612.79 1161.24 1615.24 1160.67 Q1617.69 1160.09 1619.73 1160.09 Q1625.1 1160.09 1628.3 1162.77 Q1631.49 1165.46 1631.49 1169.95 Q1631.49 1172.08 1630.68 1174 Q1629.89 1175.9 1627.79 1178.49 Q1627.21 1179.16 1624.11 1182.38 Q1621 1185.57 1615.36 1191.34 Z\" fill=\"#000000\" fill-rule=\"evenodd\" fill-opacity=\"1\" /><path clip-path=\"url(#clip740)\" d=\"M2357 1176.64 Q2360.36 1177.36 2362.24 1179.62 Q2364.13 1181.89 2364.13 1185.23 Q2364.13 1190.34 2360.61 1193.14 Q2357.1 1195.94 2350.61 1195.94 Q2348.44 1195.94 2346.12 1195.5 Q2343.83 1195.09 2341.38 1194.23 L2341.38 1189.72 Q2343.32 1190.85 2345.64 1191.43 Q2347.95 1192.01 2350.48 1192.01 Q2354.87 1192.01 2357.17 1190.27 Q2359.48 1188.54 2359.48 1185.23 Q2359.48 1182.17 2357.33 1180.46 Q2355.2 1178.72 2351.38 1178.72 L2347.35 1178.72 L2347.35 1174.88 L2351.56 1174.88 Q2355.01 1174.88 2356.84 1173.51 Q2358.67 1172.12 2358.67 1169.53 Q2358.67 1166.87 2356.77 1165.46 Q2354.9 1164.02 2351.38 1164.02 Q2349.46 1164.02 2347.26 1164.44 Q2345.06 1164.86 2342.42 1165.74 L2342.42 1161.57 Q2345.08 1160.83 2347.4 1160.46 Q2349.74 1160.09 2351.8 1160.09 Q2357.12 1160.09 2360.22 1162.52 Q2363.32 1164.93 2363.32 1169.05 Q2363.32 1171.92 2361.68 1173.91 Q2360.04 1175.87 2357 1176.64 Z\" fill=\"#000000\" fill-rule=\"evenodd\" fill-opacity=\"1\" /><polyline clip-path=\"url(#clip742)\" style=\"stroke:#000000; stroke-linecap:butt; stroke-linejoin:round; stroke-width:2; stroke-opacity:0.1; fill:none\" points=\"\n",
       "  156.598,1132.87 2352.76,1132.87 \n",
       "  \"/>\n",
       "<polyline clip-path=\"url(#clip742)\" style=\"stroke:#000000; stroke-linecap:butt; stroke-linejoin:round; stroke-width:2; stroke-opacity:0.1; fill:none\" points=\"\n",
       "  156.598,986.462 2352.76,986.462 \n",
       "  \"/>\n",
       "<polyline clip-path=\"url(#clip742)\" style=\"stroke:#000000; stroke-linecap:butt; stroke-linejoin:round; stroke-width:2; stroke-opacity:0.1; fill:none\" points=\"\n",
       "  156.598,840.051 2352.76,840.051 \n",
       "  \"/>\n",
       "<polyline clip-path=\"url(#clip742)\" style=\"stroke:#000000; stroke-linecap:butt; stroke-linejoin:round; stroke-width:2; stroke-opacity:0.1; fill:none\" points=\"\n",
       "  156.598,693.641 2352.76,693.641 \n",
       "  \"/>\n",
       "<polyline clip-path=\"url(#clip742)\" style=\"stroke:#000000; stroke-linecap:butt; stroke-linejoin:round; stroke-width:2; stroke-opacity:0.1; fill:none\" points=\"\n",
       "  156.598,547.23 2352.76,547.23 \n",
       "  \"/>\n",
       "<polyline clip-path=\"url(#clip742)\" style=\"stroke:#000000; stroke-linecap:butt; stroke-linejoin:round; stroke-width:2; stroke-opacity:0.1; fill:none\" points=\"\n",
       "  156.598,400.82 2352.76,400.82 \n",
       "  \"/>\n",
       "<polyline clip-path=\"url(#clip740)\" style=\"stroke:#000000; stroke-linecap:butt; stroke-linejoin:round; stroke-width:4; stroke-opacity:1; fill:none\" points=\"\n",
       "  156.598,1132.87 156.598,400.82 \n",
       "  \"/>\n",
       "<polyline clip-path=\"url(#clip740)\" style=\"stroke:#000000; stroke-linecap:butt; stroke-linejoin:round; stroke-width:4; stroke-opacity:1; fill:none\" points=\"\n",
       "  156.598,1132.87 175.496,1132.87 \n",
       "  \"/>\n",
       "<polyline clip-path=\"url(#clip740)\" style=\"stroke:#000000; stroke-linecap:butt; stroke-linejoin:round; stroke-width:4; stroke-opacity:1; fill:none\" points=\"\n",
       "  156.598,986.462 175.496,986.462 \n",
       "  \"/>\n",
       "<polyline clip-path=\"url(#clip740)\" style=\"stroke:#000000; stroke-linecap:butt; stroke-linejoin:round; stroke-width:4; stroke-opacity:1; fill:none\" points=\"\n",
       "  156.598,840.051 175.496,840.051 \n",
       "  \"/>\n",
       "<polyline clip-path=\"url(#clip740)\" style=\"stroke:#000000; stroke-linecap:butt; stroke-linejoin:round; stroke-width:4; stroke-opacity:1; fill:none\" points=\"\n",
       "  156.598,693.641 175.496,693.641 \n",
       "  \"/>\n",
       "<polyline clip-path=\"url(#clip740)\" style=\"stroke:#000000; stroke-linecap:butt; stroke-linejoin:round; stroke-width:4; stroke-opacity:1; fill:none\" points=\"\n",
       "  156.598,547.23 175.496,547.23 \n",
       "  \"/>\n",
       "<polyline clip-path=\"url(#clip740)\" style=\"stroke:#000000; stroke-linecap:butt; stroke-linejoin:round; stroke-width:4; stroke-opacity:1; fill:none\" points=\"\n",
       "  156.598,400.82 175.496,400.82 \n",
       "  \"/>\n",
       "<path clip-path=\"url(#clip740)\" d=\"M63.4226 1118.67 Q59.8115 1118.67 57.9828 1122.24 Q56.1773 1125.78 56.1773 1132.91 Q56.1773 1140.01 57.9828 1143.58 Q59.8115 1147.12 63.4226 1147.12 Q67.0569 1147.12 68.8624 1143.58 Q70.6911 1140.01 70.6911 1132.91 Q70.6911 1125.78 68.8624 1122.24 Q67.0569 1118.67 63.4226 1118.67 M63.4226 1114.97 Q69.2328 1114.97 72.2883 1119.57 Q75.367 1124.16 75.367 1132.91 Q75.367 1141.63 72.2883 1146.24 Q69.2328 1150.82 63.4226 1150.82 Q57.6125 1150.82 54.5338 1146.24 Q51.4782 1141.63 51.4782 1132.91 Q51.4782 1124.16 54.5338 1119.57 Q57.6125 1114.97 63.4226 1114.97 Z\" fill=\"#000000\" fill-rule=\"evenodd\" fill-opacity=\"1\" /><path clip-path=\"url(#clip740)\" d=\"M83.5845 1144.27 L88.4688 1144.27 L88.4688 1150.15 L83.5845 1150.15 L83.5845 1144.27 Z\" fill=\"#000000\" fill-rule=\"evenodd\" fill-opacity=\"1\" /><path clip-path=\"url(#clip740)\" d=\"M108.654 1118.67 Q105.043 1118.67 103.214 1122.24 Q101.409 1125.78 101.409 1132.91 Q101.409 1140.01 103.214 1143.58 Q105.043 1147.12 108.654 1147.12 Q112.288 1147.12 114.094 1143.58 Q115.922 1140.01 115.922 1132.91 Q115.922 1125.78 114.094 1122.24 Q112.288 1118.67 108.654 1118.67 M108.654 1114.97 Q114.464 1114.97 117.52 1119.57 Q120.598 1124.16 120.598 1132.91 Q120.598 1141.63 117.52 1146.24 Q114.464 1150.82 108.654 1150.82 Q102.844 1150.82 99.765 1146.24 Q96.7095 1141.63 96.7095 1132.91 Q96.7095 1124.16 99.765 1119.57 Q102.844 1114.97 108.654 1114.97 Z\" fill=\"#000000\" fill-rule=\"evenodd\" fill-opacity=\"1\" /><path clip-path=\"url(#clip740)\" d=\"M65.0198 972.26 Q61.4087 972.26 59.58 975.825 Q57.7745 979.367 57.7745 986.496 Q57.7745 993.603 59.58 997.168 Q61.4087 1000.71 65.0198 1000.71 Q68.6541 1000.71 70.4596 997.168 Q72.2883 993.603 72.2883 986.496 Q72.2883 979.367 70.4596 975.825 Q68.6541 972.26 65.0198 972.26 M65.0198 968.557 Q70.83 968.557 73.8855 973.163 Q76.9642 977.747 76.9642 986.496 Q76.9642 995.223 73.8855 999.83 Q70.83 1004.41 65.0198 1004.41 Q59.2097 1004.41 56.131 999.83 Q53.0754 995.223 53.0754 986.496 Q53.0754 977.747 56.131 973.163 Q59.2097 968.557 65.0198 968.557 Z\" fill=\"#000000\" fill-rule=\"evenodd\" fill-opacity=\"1\" /><path clip-path=\"url(#clip740)\" d=\"M85.1818 997.862 L90.066 997.862 L90.066 1003.74 L85.1818 1003.74 L85.1818 997.862 Z\" fill=\"#000000\" fill-rule=\"evenodd\" fill-opacity=\"1\" /><path clip-path=\"url(#clip740)\" d=\"M104.279 999.807 L120.598 999.807 L120.598 1003.74 L98.6539 1003.74 L98.6539 999.807 Q101.316 997.052 105.899 992.422 Q110.506 987.77 111.686 986.427 Q113.932 983.904 114.811 982.168 Q115.714 980.409 115.714 978.719 Q115.714 975.964 113.77 974.228 Q111.848 972.492 108.746 972.492 Q106.547 972.492 104.094 973.256 Q101.663 974.02 98.8854 975.571 L98.8854 970.848 Q101.709 969.714 104.163 969.135 Q106.617 968.557 108.654 968.557 Q114.024 968.557 117.219 971.242 Q120.413 973.927 120.413 978.418 Q120.413 980.547 119.603 982.469 Q118.816 984.367 116.709 986.959 Q116.131 987.631 113.029 990.848 Q109.927 994.043 104.279 999.807 Z\" fill=\"#000000\" fill-rule=\"evenodd\" fill-opacity=\"1\" /><path clip-path=\"url(#clip740)\" d=\"M62.9365 825.85 Q59.3254 825.85 57.4967 829.415 Q55.6912 832.956 55.6912 840.086 Q55.6912 847.192 57.4967 850.757 Q59.3254 854.299 62.9365 854.299 Q66.5707 854.299 68.3763 850.757 Q70.205 847.192 70.205 840.086 Q70.205 832.956 68.3763 829.415 Q66.5707 825.85 62.9365 825.85 M62.9365 822.146 Q68.7467 822.146 71.8022 826.753 Q74.8809 831.336 74.8809 840.086 Q74.8809 848.813 71.8022 853.419 Q68.7467 858.003 62.9365 858.003 Q57.1264 858.003 54.0477 853.419 Q50.9921 848.813 50.9921 840.086 Q50.9921 831.336 54.0477 826.753 Q57.1264 822.146 62.9365 822.146 Z\" fill=\"#000000\" fill-rule=\"evenodd\" fill-opacity=\"1\" /><path clip-path=\"url(#clip740)\" d=\"M83.0984 851.452 L87.9827 851.452 L87.9827 857.331 L83.0984 857.331 L83.0984 851.452 Z\" fill=\"#000000\" fill-rule=\"evenodd\" fill-opacity=\"1\" /><path clip-path=\"url(#clip740)\" d=\"M111.015 826.845 L99.2095 845.294 L111.015 845.294 L111.015 826.845 M109.788 822.771 L115.668 822.771 L115.668 845.294 L120.598 845.294 L120.598 849.183 L115.668 849.183 L115.668 857.331 L111.015 857.331 L111.015 849.183 L95.4132 849.183 L95.4132 844.669 L109.788 822.771 Z\" fill=\"#000000\" fill-rule=\"evenodd\" fill-opacity=\"1\" /><path clip-path=\"url(#clip740)\" d=\"M63.2606 679.439 Q59.6495 679.439 57.8208 683.004 Q56.0152 686.546 56.0152 693.675 Q56.0152 700.782 57.8208 704.347 Q59.6495 707.888 63.2606 707.888 Q66.8948 707.888 68.7004 704.347 Q70.5291 700.782 70.5291 693.675 Q70.5291 686.546 68.7004 683.004 Q66.8948 679.439 63.2606 679.439 M63.2606 675.736 Q69.0707 675.736 72.1263 680.342 Q75.205 684.925 75.205 693.675 Q75.205 702.402 72.1263 707.009 Q69.0707 711.592 63.2606 711.592 Q57.4504 711.592 54.3717 707.009 Q51.3162 702.402 51.3162 693.675 Q51.3162 684.925 54.3717 680.342 Q57.4504 675.736 63.2606 675.736 Z\" fill=\"#000000\" fill-rule=\"evenodd\" fill-opacity=\"1\" /><path clip-path=\"url(#clip740)\" d=\"M83.4225 705.041 L88.3067 705.041 L88.3067 710.921 L83.4225 710.921 L83.4225 705.041 Z\" fill=\"#000000\" fill-rule=\"evenodd\" fill-opacity=\"1\" /><path clip-path=\"url(#clip740)\" d=\"M109.071 691.777 Q105.922 691.777 104.071 693.93 Q102.242 696.083 102.242 699.833 Q102.242 703.56 104.071 705.736 Q105.922 707.888 109.071 707.888 Q112.219 707.888 114.047 705.736 Q115.899 703.56 115.899 699.833 Q115.899 696.083 114.047 693.93 Q112.219 691.777 109.071 691.777 M118.353 677.125 L118.353 681.384 Q116.594 680.551 114.788 680.111 Q113.006 679.671 111.246 679.671 Q106.617 679.671 104.163 682.796 Q101.733 685.921 101.385 692.24 Q102.751 690.226 104.811 689.162 Q106.871 688.074 109.348 688.074 Q114.557 688.074 117.566 691.245 Q120.598 694.393 120.598 699.833 Q120.598 705.157 117.45 708.374 Q114.302 711.592 109.071 711.592 Q103.075 711.592 99.9039 707.009 Q96.7326 702.402 96.7326 693.675 Q96.7326 685.481 100.621 680.62 Q104.51 675.736 111.061 675.736 Q112.82 675.736 114.603 676.083 Q116.408 676.43 118.353 677.125 Z\" fill=\"#000000\" fill-rule=\"evenodd\" fill-opacity=\"1\" /><path clip-path=\"url(#clip740)\" d=\"M63.5152 533.029 Q59.9041 533.029 58.0754 536.594 Q56.2699 540.135 56.2699 547.265 Q56.2699 554.371 58.0754 557.936 Q59.9041 561.478 63.5152 561.478 Q67.1494 561.478 68.955 557.936 Q70.7837 554.371 70.7837 547.265 Q70.7837 540.135 68.955 536.594 Q67.1494 533.029 63.5152 533.029 M63.5152 529.325 Q69.3254 529.325 72.3809 533.932 Q75.4596 538.515 75.4596 547.265 Q75.4596 555.992 72.3809 560.598 Q69.3254 565.182 63.5152 565.182 Q57.7051 565.182 54.6264 560.598 Q51.5708 555.992 51.5708 547.265 Q51.5708 538.515 54.6264 533.932 Q57.7051 529.325 63.5152 529.325 Z\" fill=\"#000000\" fill-rule=\"evenodd\" fill-opacity=\"1\" /><path clip-path=\"url(#clip740)\" d=\"M83.6771 558.631 L88.5614 558.631 L88.5614 564.51 L83.6771 564.51 L83.6771 558.631 Z\" fill=\"#000000\" fill-rule=\"evenodd\" fill-opacity=\"1\" /><path clip-path=\"url(#clip740)\" d=\"M108.746 548.098 Q105.413 548.098 103.492 549.881 Q101.594 551.663 101.594 554.788 Q101.594 557.913 103.492 559.695 Q105.413 561.478 108.746 561.478 Q112.08 561.478 114.001 559.695 Q115.922 557.89 115.922 554.788 Q115.922 551.663 114.001 549.881 Q112.103 548.098 108.746 548.098 M104.071 546.108 Q101.061 545.367 99.3715 543.307 Q97.7048 541.246 97.7048 538.284 Q97.7048 534.14 100.645 531.733 Q103.608 529.325 108.746 529.325 Q113.908 529.325 116.848 531.733 Q119.788 534.14 119.788 538.284 Q119.788 541.246 118.098 543.307 Q116.432 545.367 113.445 546.108 Q116.825 546.895 118.7 549.186 Q120.598 551.478 120.598 554.788 Q120.598 559.811 117.52 562.496 Q114.464 565.182 108.746 565.182 Q103.029 565.182 99.9502 562.496 Q96.8947 559.811 96.8947 554.788 Q96.8947 551.478 98.7928 549.186 Q100.691 546.895 104.071 546.108 M102.358 538.723 Q102.358 541.408 104.024 542.913 Q105.714 544.418 108.746 544.418 Q111.756 544.418 113.445 542.913 Q115.158 541.408 115.158 538.723 Q115.158 536.038 113.445 534.534 Q111.756 533.029 108.746 533.029 Q105.714 533.029 104.024 534.534 Q102.358 536.038 102.358 538.723 Z\" fill=\"#000000\" fill-rule=\"evenodd\" fill-opacity=\"1\" /><path clip-path=\"url(#clip740)\" d=\"M54.2328 414.165 L61.8717 414.165 L61.8717 387.799 L53.5616 389.466 L53.5616 385.206 L61.8254 383.54 L66.5013 383.54 L66.5013 414.165 L74.1402 414.165 L74.1402 418.1 L54.2328 418.1 L54.2328 414.165 Z\" fill=\"#000000\" fill-rule=\"evenodd\" fill-opacity=\"1\" /><path clip-path=\"url(#clip740)\" d=\"M83.5845 412.22 L88.4688 412.22 L88.4688 418.1 L83.5845 418.1 L83.5845 412.22 Z\" fill=\"#000000\" fill-rule=\"evenodd\" fill-opacity=\"1\" /><path clip-path=\"url(#clip740)\" d=\"M108.654 386.618 Q105.043 386.618 103.214 390.183 Q101.409 393.725 101.409 400.854 Q101.409 407.961 103.214 411.526 Q105.043 415.067 108.654 415.067 Q112.288 415.067 114.094 411.526 Q115.922 407.961 115.922 400.854 Q115.922 393.725 114.094 390.183 Q112.288 386.618 108.654 386.618 M108.654 382.915 Q114.464 382.915 117.52 387.521 Q120.598 392.104 120.598 400.854 Q120.598 409.581 117.52 414.188 Q114.464 418.771 108.654 418.771 Q102.844 418.771 99.765 414.188 Q96.7095 409.581 96.7095 400.854 Q96.7095 392.104 99.765 387.521 Q102.844 382.915 108.654 382.915 Z\" fill=\"#000000\" fill-rule=\"evenodd\" fill-opacity=\"1\" /><circle clip-path=\"url(#clip742)\" cx=\"169.759\" cy=\"761.388\" r=\"10\" fill=\"#009af9\" fill-rule=\"evenodd\" fill-opacity=\"1\" stroke=\"#000000\" stroke-opacity=\"1\" stroke-width=\"3.2\"/>\n",
       "<circle clip-path=\"url(#clip742)\" cx=\"171.923\" cy=\"758.154\" r=\"10\" fill=\"#009af9\" fill-rule=\"evenodd\" fill-opacity=\"1\" stroke=\"#000000\" stroke-opacity=\"1\" stroke-width=\"3.2\"/>\n",
       "<circle clip-path=\"url(#clip742)\" cx=\"177.387\" cy=\"1038.6\" r=\"10\" fill=\"#009af9\" fill-rule=\"evenodd\" fill-opacity=\"1\" stroke=\"#000000\" stroke-opacity=\"1\" stroke-width=\"3.2\"/>\n",
       "<circle clip-path=\"url(#clip742)\" cx=\"179.68\" cy=\"935.273\" r=\"10\" fill=\"#009af9\" fill-rule=\"evenodd\" fill-opacity=\"1\" stroke=\"#000000\" stroke-opacity=\"1\" stroke-width=\"3.2\"/>\n",
       "<circle clip-path=\"url(#clip742)\" cx=\"180.411\" cy=\"564.828\" r=\"10\" fill=\"#009af9\" fill-rule=\"evenodd\" fill-opacity=\"1\" stroke=\"#000000\" stroke-opacity=\"1\" stroke-width=\"3.2\"/>\n",
       "<circle clip-path=\"url(#clip742)\" cx=\"199.186\" cy=\"639.777\" r=\"10\" fill=\"#009af9\" fill-rule=\"evenodd\" fill-opacity=\"1\" stroke=\"#000000\" stroke-opacity=\"1\" stroke-width=\"3.2\"/>\n",
       "<circle clip-path=\"url(#clip742)\" cx=\"212.607\" cy=\"811.58\" r=\"10\" fill=\"#009af9\" fill-rule=\"evenodd\" fill-opacity=\"1\" stroke=\"#000000\" stroke-opacity=\"1\" stroke-width=\"3.2\"/>\n",
       "<circle clip-path=\"url(#clip742)\" cx=\"213.933\" cy=\"1014.25\" r=\"10\" fill=\"#009af9\" fill-rule=\"evenodd\" fill-opacity=\"1\" stroke=\"#000000\" stroke-opacity=\"1\" stroke-width=\"3.2\"/>\n",
       "<circle clip-path=\"url(#clip742)\" cx=\"221.742\" cy=\"498.429\" r=\"10\" fill=\"#009af9\" fill-rule=\"evenodd\" fill-opacity=\"1\" stroke=\"#000000\" stroke-opacity=\"1\" stroke-width=\"3.2\"/>\n",
       "<circle clip-path=\"url(#clip742)\" cx=\"222.905\" cy=\"650.691\" r=\"10\" fill=\"#009af9\" fill-rule=\"evenodd\" fill-opacity=\"1\" stroke=\"#000000\" stroke-opacity=\"1\" stroke-width=\"3.2\"/>\n",
       "<circle clip-path=\"url(#clip742)\" cx=\"223.056\" cy=\"756.852\" r=\"10\" fill=\"#009af9\" fill-rule=\"evenodd\" fill-opacity=\"1\" stroke=\"#000000\" stroke-opacity=\"1\" stroke-width=\"3.2\"/>\n",
       "<circle clip-path=\"url(#clip742)\" cx=\"257.276\" cy=\"1027.31\" r=\"10\" fill=\"#009af9\" fill-rule=\"evenodd\" fill-opacity=\"1\" stroke=\"#000000\" stroke-opacity=\"1\" stroke-width=\"3.2\"/>\n",
       "<circle clip-path=\"url(#clip742)\" cx=\"274.536\" cy=\"1021.36\" r=\"10\" fill=\"#009af9\" fill-rule=\"evenodd\" fill-opacity=\"1\" stroke=\"#000000\" stroke-opacity=\"1\" stroke-width=\"3.2\"/>\n",
       "<circle clip-path=\"url(#clip742)\" cx=\"275.479\" cy=\"961.097\" r=\"10\" fill=\"#009af9\" fill-rule=\"evenodd\" fill-opacity=\"1\" stroke=\"#000000\" stroke-opacity=\"1\" stroke-width=\"3.2\"/>\n",
       "<circle clip-path=\"url(#clip742)\" cx=\"280.807\" cy=\"965.688\" r=\"10\" fill=\"#009af9\" fill-rule=\"evenodd\" fill-opacity=\"1\" stroke=\"#000000\" stroke-opacity=\"1\" stroke-width=\"3.2\"/>\n",
       "<circle clip-path=\"url(#clip742)\" cx=\"282.615\" cy=\"876.16\" r=\"10\" fill=\"#009af9\" fill-rule=\"evenodd\" fill-opacity=\"1\" stroke=\"#000000\" stroke-opacity=\"1\" stroke-width=\"3.2\"/>\n",
       "<circle clip-path=\"url(#clip742)\" cx=\"288.855\" cy=\"422.441\" r=\"10\" fill=\"#009af9\" fill-rule=\"evenodd\" fill-opacity=\"1\" stroke=\"#000000\" stroke-opacity=\"1\" stroke-width=\"3.2\"/>\n",
       "<circle clip-path=\"url(#clip742)\" cx=\"291.616\" cy=\"490.398\" r=\"10\" fill=\"#009af9\" fill-rule=\"evenodd\" fill-opacity=\"1\" stroke=\"#000000\" stroke-opacity=\"1\" stroke-width=\"3.2\"/>\n",
       "<circle clip-path=\"url(#clip742)\" cx=\"294.844\" cy=\"655.548\" r=\"10\" fill=\"#009af9\" fill-rule=\"evenodd\" fill-opacity=\"1\" stroke=\"#000000\" stroke-opacity=\"1\" stroke-width=\"3.2\"/>\n",
       "<circle clip-path=\"url(#clip742)\" cx=\"297.252\" cy=\"702.288\" r=\"10\" fill=\"#009af9\" fill-rule=\"evenodd\" fill-opacity=\"1\" stroke=\"#000000\" stroke-opacity=\"1\" stroke-width=\"3.2\"/>\n",
       "<circle clip-path=\"url(#clip742)\" cx=\"313.651\" cy=\"846.227\" r=\"10\" fill=\"#009af9\" fill-rule=\"evenodd\" fill-opacity=\"1\" stroke=\"#000000\" stroke-opacity=\"1\" stroke-width=\"3.2\"/>\n",
       "<circle clip-path=\"url(#clip742)\" cx=\"319.278\" cy=\"547.191\" r=\"10\" fill=\"#009af9\" fill-rule=\"evenodd\" fill-opacity=\"1\" stroke=\"#000000\" stroke-opacity=\"1\" stroke-width=\"3.2\"/>\n",
       "<circle clip-path=\"url(#clip742)\" cx=\"342.938\" cy=\"1010.93\" r=\"10\" fill=\"#009af9\" fill-rule=\"evenodd\" fill-opacity=\"1\" stroke=\"#000000\" stroke-opacity=\"1\" stroke-width=\"3.2\"/>\n",
       "<circle clip-path=\"url(#clip742)\" cx=\"343.267\" cy=\"571.156\" r=\"10\" fill=\"#009af9\" fill-rule=\"evenodd\" fill-opacity=\"1\" stroke=\"#000000\" stroke-opacity=\"1\" stroke-width=\"3.2\"/>\n",
       "<circle clip-path=\"url(#clip742)\" cx=\"343.285\" cy=\"1042.1\" r=\"10\" fill=\"#009af9\" fill-rule=\"evenodd\" fill-opacity=\"1\" stroke=\"#000000\" stroke-opacity=\"1\" stroke-width=\"3.2\"/>\n",
       "<circle clip-path=\"url(#clip742)\" cx=\"344.916\" cy=\"948.631\" r=\"10\" fill=\"#009af9\" fill-rule=\"evenodd\" fill-opacity=\"1\" stroke=\"#000000\" stroke-opacity=\"1\" stroke-width=\"3.2\"/>\n",
       "<circle clip-path=\"url(#clip742)\" cx=\"349.885\" cy=\"964.012\" r=\"10\" fill=\"#009af9\" fill-rule=\"evenodd\" fill-opacity=\"1\" stroke=\"#000000\" stroke-opacity=\"1\" stroke-width=\"3.2\"/>\n",
       "<circle clip-path=\"url(#clip742)\" cx=\"361.008\" cy=\"782.308\" r=\"10\" fill=\"#009af9\" fill-rule=\"evenodd\" fill-opacity=\"1\" stroke=\"#000000\" stroke-opacity=\"1\" stroke-width=\"3.2\"/>\n",
       "<circle clip-path=\"url(#clip742)\" cx=\"368.67\" cy=\"476.09\" r=\"10\" fill=\"#009af9\" fill-rule=\"evenodd\" fill-opacity=\"1\" stroke=\"#000000\" stroke-opacity=\"1\" stroke-width=\"3.2\"/>\n",
       "<circle clip-path=\"url(#clip742)\" cx=\"380.686\" cy=\"983.49\" r=\"10\" fill=\"#009af9\" fill-rule=\"evenodd\" fill-opacity=\"1\" stroke=\"#000000\" stroke-opacity=\"1\" stroke-width=\"3.2\"/>\n",
       "<circle clip-path=\"url(#clip742)\" cx=\"389.586\" cy=\"1061.23\" r=\"10\" fill=\"#009af9\" fill-rule=\"evenodd\" fill-opacity=\"1\" stroke=\"#000000\" stroke-opacity=\"1\" stroke-width=\"3.2\"/>\n",
       "<circle clip-path=\"url(#clip742)\" cx=\"391.917\" cy=\"503.333\" r=\"10\" fill=\"#009af9\" fill-rule=\"evenodd\" fill-opacity=\"1\" stroke=\"#000000\" stroke-opacity=\"1\" stroke-width=\"3.2\"/>\n",
       "<circle clip-path=\"url(#clip742)\" cx=\"397.442\" cy=\"914.254\" r=\"10\" fill=\"#009af9\" fill-rule=\"evenodd\" fill-opacity=\"1\" stroke=\"#000000\" stroke-opacity=\"1\" stroke-width=\"3.2\"/>\n",
       "<circle clip-path=\"url(#clip742)\" cx=\"401.632\" cy=\"637.236\" r=\"10\" fill=\"#009af9\" fill-rule=\"evenodd\" fill-opacity=\"1\" stroke=\"#000000\" stroke-opacity=\"1\" stroke-width=\"3.2\"/>\n",
       "<circle clip-path=\"url(#clip742)\" cx=\"403.498\" cy=\"500.998\" r=\"10\" fill=\"#009af9\" fill-rule=\"evenodd\" fill-opacity=\"1\" stroke=\"#000000\" stroke-opacity=\"1\" stroke-width=\"3.2\"/>\n",
       "<circle clip-path=\"url(#clip742)\" cx=\"406.785\" cy=\"1062.99\" r=\"10\" fill=\"#009af9\" fill-rule=\"evenodd\" fill-opacity=\"1\" stroke=\"#000000\" stroke-opacity=\"1\" stroke-width=\"3.2\"/>\n",
       "<circle clip-path=\"url(#clip742)\" cx=\"406.872\" cy=\"465.563\" r=\"10\" fill=\"#009af9\" fill-rule=\"evenodd\" fill-opacity=\"1\" stroke=\"#000000\" stroke-opacity=\"1\" stroke-width=\"3.2\"/>\n",
       "<circle clip-path=\"url(#clip742)\" cx=\"414.516\" cy=\"1005.88\" r=\"10\" fill=\"#009af9\" fill-rule=\"evenodd\" fill-opacity=\"1\" stroke=\"#000000\" stroke-opacity=\"1\" stroke-width=\"3.2\"/>\n",
       "<circle clip-path=\"url(#clip742)\" cx=\"427.455\" cy=\"658.721\" r=\"10\" fill=\"#009af9\" fill-rule=\"evenodd\" fill-opacity=\"1\" stroke=\"#000000\" stroke-opacity=\"1\" stroke-width=\"3.2\"/>\n",
       "<circle clip-path=\"url(#clip742)\" cx=\"430.963\" cy=\"794.21\" r=\"10\" fill=\"#009af9\" fill-rule=\"evenodd\" fill-opacity=\"1\" stroke=\"#000000\" stroke-opacity=\"1\" stroke-width=\"3.2\"/>\n",
       "<circle clip-path=\"url(#clip742)\" cx=\"439.569\" cy=\"1039.61\" r=\"10\" fill=\"#009af9\" fill-rule=\"evenodd\" fill-opacity=\"1\" stroke=\"#000000\" stroke-opacity=\"1\" stroke-width=\"3.2\"/>\n",
       "<circle clip-path=\"url(#clip742)\" cx=\"441.612\" cy=\"711.348\" r=\"10\" fill=\"#009af9\" fill-rule=\"evenodd\" fill-opacity=\"1\" stroke=\"#000000\" stroke-opacity=\"1\" stroke-width=\"3.2\"/>\n",
       "<circle clip-path=\"url(#clip742)\" cx=\"443.58\" cy=\"690.614\" r=\"10\" fill=\"#009af9\" fill-rule=\"evenodd\" fill-opacity=\"1\" stroke=\"#000000\" stroke-opacity=\"1\" stroke-width=\"3.2\"/>\n",
       "<circle clip-path=\"url(#clip742)\" cx=\"454.986\" cy=\"1095.16\" r=\"10\" fill=\"#009af9\" fill-rule=\"evenodd\" fill-opacity=\"1\" stroke=\"#000000\" stroke-opacity=\"1\" stroke-width=\"3.2\"/>\n",
       "<circle clip-path=\"url(#clip742)\" cx=\"462.956\" cy=\"516.195\" r=\"10\" fill=\"#009af9\" fill-rule=\"evenodd\" fill-opacity=\"1\" stroke=\"#000000\" stroke-opacity=\"1\" stroke-width=\"3.2\"/>\n",
       "<circle clip-path=\"url(#clip742)\" cx=\"470.059\" cy=\"421.507\" r=\"10\" fill=\"#009af9\" fill-rule=\"evenodd\" fill-opacity=\"1\" stroke=\"#000000\" stroke-opacity=\"1\" stroke-width=\"3.2\"/>\n",
       "<circle clip-path=\"url(#clip742)\" cx=\"478.659\" cy=\"451.771\" r=\"10\" fill=\"#009af9\" fill-rule=\"evenodd\" fill-opacity=\"1\" stroke=\"#000000\" stroke-opacity=\"1\" stroke-width=\"3.2\"/>\n",
       "<circle clip-path=\"url(#clip742)\" cx=\"479.182\" cy=\"1051.75\" r=\"10\" fill=\"#009af9\" fill-rule=\"evenodd\" fill-opacity=\"1\" stroke=\"#000000\" stroke-opacity=\"1\" stroke-width=\"3.2\"/>\n",
       "<circle clip-path=\"url(#clip742)\" cx=\"487.976\" cy=\"973.331\" r=\"10\" fill=\"#009af9\" fill-rule=\"evenodd\" fill-opacity=\"1\" stroke=\"#000000\" stroke-opacity=\"1\" stroke-width=\"3.2\"/>\n",
       "<circle clip-path=\"url(#clip742)\" cx=\"488\" cy=\"787.269\" r=\"10\" fill=\"#009af9\" fill-rule=\"evenodd\" fill-opacity=\"1\" stroke=\"#000000\" stroke-opacity=\"1\" stroke-width=\"3.2\"/>\n",
       "<circle clip-path=\"url(#clip742)\" cx=\"499.414\" cy=\"428.42\" r=\"10\" fill=\"#009af9\" fill-rule=\"evenodd\" fill-opacity=\"1\" stroke=\"#000000\" stroke-opacity=\"1\" stroke-width=\"3.2\"/>\n",
       "<circle clip-path=\"url(#clip742)\" cx=\"500.716\" cy=\"572.393\" r=\"10\" fill=\"#009af9\" fill-rule=\"evenodd\" fill-opacity=\"1\" stroke=\"#000000\" stroke-opacity=\"1\" stroke-width=\"3.2\"/>\n",
       "<circle clip-path=\"url(#clip742)\" cx=\"501.512\" cy=\"547.517\" r=\"10\" fill=\"#009af9\" fill-rule=\"evenodd\" fill-opacity=\"1\" stroke=\"#000000\" stroke-opacity=\"1\" stroke-width=\"3.2\"/>\n",
       "<circle clip-path=\"url(#clip742)\" cx=\"502.684\" cy=\"916.514\" r=\"10\" fill=\"#009af9\" fill-rule=\"evenodd\" fill-opacity=\"1\" stroke=\"#000000\" stroke-opacity=\"1\" stroke-width=\"3.2\"/>\n",
       "<circle clip-path=\"url(#clip742)\" cx=\"517.612\" cy=\"422.685\" r=\"10\" fill=\"#009af9\" fill-rule=\"evenodd\" fill-opacity=\"1\" stroke=\"#000000\" stroke-opacity=\"1\" stroke-width=\"3.2\"/>\n",
       "<circle clip-path=\"url(#clip742)\" cx=\"519.777\" cy=\"430.756\" r=\"10\" fill=\"#009af9\" fill-rule=\"evenodd\" fill-opacity=\"1\" stroke=\"#000000\" stroke-opacity=\"1\" stroke-width=\"3.2\"/>\n",
       "<circle clip-path=\"url(#clip742)\" cx=\"521.504\" cy=\"464.723\" r=\"10\" fill=\"#009af9\" fill-rule=\"evenodd\" fill-opacity=\"1\" stroke=\"#000000\" stroke-opacity=\"1\" stroke-width=\"3.2\"/>\n",
       "<circle clip-path=\"url(#clip742)\" cx=\"524.097\" cy=\"552.281\" r=\"10\" fill=\"#009af9\" fill-rule=\"evenodd\" fill-opacity=\"1\" stroke=\"#000000\" stroke-opacity=\"1\" stroke-width=\"3.2\"/>\n",
       "<circle clip-path=\"url(#clip742)\" cx=\"548.45\" cy=\"801.728\" r=\"10\" fill=\"#009af9\" fill-rule=\"evenodd\" fill-opacity=\"1\" stroke=\"#000000\" stroke-opacity=\"1\" stroke-width=\"3.2\"/>\n",
       "<circle clip-path=\"url(#clip742)\" cx=\"555.571\" cy=\"442.451\" r=\"10\" fill=\"#009af9\" fill-rule=\"evenodd\" fill-opacity=\"1\" stroke=\"#000000\" stroke-opacity=\"1\" stroke-width=\"3.2\"/>\n",
       "<circle clip-path=\"url(#clip742)\" cx=\"574.879\" cy=\"542.128\" r=\"10\" fill=\"#009af9\" fill-rule=\"evenodd\" fill-opacity=\"1\" stroke=\"#000000\" stroke-opacity=\"1\" stroke-width=\"3.2\"/>\n",
       "<circle clip-path=\"url(#clip742)\" cx=\"575.955\" cy=\"644.05\" r=\"10\" fill=\"#009af9\" fill-rule=\"evenodd\" fill-opacity=\"1\" stroke=\"#000000\" stroke-opacity=\"1\" stroke-width=\"3.2\"/>\n",
       "<circle clip-path=\"url(#clip742)\" cx=\"579.745\" cy=\"859.86\" r=\"10\" fill=\"#009af9\" fill-rule=\"evenodd\" fill-opacity=\"1\" stroke=\"#000000\" stroke-opacity=\"1\" stroke-width=\"3.2\"/>\n",
       "<circle clip-path=\"url(#clip742)\" cx=\"581.235\" cy=\"525.165\" r=\"10\" fill=\"#009af9\" fill-rule=\"evenodd\" fill-opacity=\"1\" stroke=\"#000000\" stroke-opacity=\"1\" stroke-width=\"3.2\"/>\n",
       "<circle clip-path=\"url(#clip742)\" cx=\"588.967\" cy=\"1094.83\" r=\"10\" fill=\"#009af9\" fill-rule=\"evenodd\" fill-opacity=\"1\" stroke=\"#000000\" stroke-opacity=\"1\" stroke-width=\"3.2\"/>\n",
       "<circle clip-path=\"url(#clip742)\" cx=\"590.536\" cy=\"873.032\" r=\"10\" fill=\"#009af9\" fill-rule=\"evenodd\" fill-opacity=\"1\" stroke=\"#000000\" stroke-opacity=\"1\" stroke-width=\"3.2\"/>\n",
       "<circle clip-path=\"url(#clip742)\" cx=\"610.165\" cy=\"690.074\" r=\"10\" fill=\"#009af9\" fill-rule=\"evenodd\" fill-opacity=\"1\" stroke=\"#000000\" stroke-opacity=\"1\" stroke-width=\"3.2\"/>\n",
       "<circle clip-path=\"url(#clip742)\" cx=\"617.49\" cy=\"869.346\" r=\"10\" fill=\"#009af9\" fill-rule=\"evenodd\" fill-opacity=\"1\" stroke=\"#000000\" stroke-opacity=\"1\" stroke-width=\"3.2\"/>\n",
       "<circle clip-path=\"url(#clip742)\" cx=\"627.253\" cy=\"777.818\" r=\"10\" fill=\"#009af9\" fill-rule=\"evenodd\" fill-opacity=\"1\" stroke=\"#000000\" stroke-opacity=\"1\" stroke-width=\"3.2\"/>\n",
       "<circle clip-path=\"url(#clip742)\" cx=\"640.026\" cy=\"866.277\" r=\"10\" fill=\"#009af9\" fill-rule=\"evenodd\" fill-opacity=\"1\" stroke=\"#000000\" stroke-opacity=\"1\" stroke-width=\"3.2\"/>\n",
       "<circle clip-path=\"url(#clip742)\" cx=\"643.042\" cy=\"895.174\" r=\"10\" fill=\"#009af9\" fill-rule=\"evenodd\" fill-opacity=\"1\" stroke=\"#000000\" stroke-opacity=\"1\" stroke-width=\"3.2\"/>\n",
       "<circle clip-path=\"url(#clip742)\" cx=\"653.037\" cy=\"533.805\" r=\"10\" fill=\"#009af9\" fill-rule=\"evenodd\" fill-opacity=\"1\" stroke=\"#000000\" stroke-opacity=\"1\" stroke-width=\"3.2\"/>\n",
       "<circle clip-path=\"url(#clip742)\" cx=\"679.278\" cy=\"975.365\" r=\"10\" fill=\"#009af9\" fill-rule=\"evenodd\" fill-opacity=\"1\" stroke=\"#000000\" stroke-opacity=\"1\" stroke-width=\"3.2\"/>\n",
       "<circle clip-path=\"url(#clip742)\" cx=\"704.938\" cy=\"420.297\" r=\"10\" fill=\"#009af9\" fill-rule=\"evenodd\" fill-opacity=\"1\" stroke=\"#000000\" stroke-opacity=\"1\" stroke-width=\"3.2\"/>\n",
       "<circle clip-path=\"url(#clip742)\" cx=\"708.96\" cy=\"478.98\" r=\"10\" fill=\"#009af9\" fill-rule=\"evenodd\" fill-opacity=\"1\" stroke=\"#000000\" stroke-opacity=\"1\" stroke-width=\"3.2\"/>\n",
       "<circle clip-path=\"url(#clip742)\" cx=\"716.855\" cy=\"666.712\" r=\"10\" fill=\"#009af9\" fill-rule=\"evenodd\" fill-opacity=\"1\" stroke=\"#000000\" stroke-opacity=\"1\" stroke-width=\"3.2\"/>\n",
       "<circle clip-path=\"url(#clip742)\" cx=\"717.734\" cy=\"562.085\" r=\"10\" fill=\"#009af9\" fill-rule=\"evenodd\" fill-opacity=\"1\" stroke=\"#000000\" stroke-opacity=\"1\" stroke-width=\"3.2\"/>\n",
       "<circle clip-path=\"url(#clip742)\" cx=\"719.259\" cy=\"788.44\" r=\"10\" fill=\"#009af9\" fill-rule=\"evenodd\" fill-opacity=\"1\" stroke=\"#000000\" stroke-opacity=\"1\" stroke-width=\"3.2\"/>\n",
       "<circle clip-path=\"url(#clip742)\" cx=\"719.598\" cy=\"848.82\" r=\"10\" fill=\"#009af9\" fill-rule=\"evenodd\" fill-opacity=\"1\" stroke=\"#000000\" stroke-opacity=\"1\" stroke-width=\"3.2\"/>\n",
       "<circle clip-path=\"url(#clip742)\" cx=\"734.367\" cy=\"999.801\" r=\"10\" fill=\"#009af9\" fill-rule=\"evenodd\" fill-opacity=\"1\" stroke=\"#000000\" stroke-opacity=\"1\" stroke-width=\"3.2\"/>\n",
       "<circle clip-path=\"url(#clip742)\" cx=\"747.371\" cy=\"482.502\" r=\"10\" fill=\"#009af9\" fill-rule=\"evenodd\" fill-opacity=\"1\" stroke=\"#000000\" stroke-opacity=\"1\" stroke-width=\"3.2\"/>\n",
       "<circle clip-path=\"url(#clip742)\" cx=\"761.736\" cy=\"858.911\" r=\"10\" fill=\"#009af9\" fill-rule=\"evenodd\" fill-opacity=\"1\" stroke=\"#000000\" stroke-opacity=\"1\" stroke-width=\"3.2\"/>\n",
       "<circle clip-path=\"url(#clip742)\" cx=\"766.967\" cy=\"608.86\" r=\"10\" fill=\"#009af9\" fill-rule=\"evenodd\" fill-opacity=\"1\" stroke=\"#000000\" stroke-opacity=\"1\" stroke-width=\"3.2\"/>\n",
       "<circle clip-path=\"url(#clip742)\" cx=\"772.019\" cy=\"758.52\" r=\"10\" fill=\"#009af9\" fill-rule=\"evenodd\" fill-opacity=\"1\" stroke=\"#000000\" stroke-opacity=\"1\" stroke-width=\"3.2\"/>\n",
       "<circle clip-path=\"url(#clip742)\" cx=\"779.682\" cy=\"684.782\" r=\"10\" fill=\"#009af9\" fill-rule=\"evenodd\" fill-opacity=\"1\" stroke=\"#000000\" stroke-opacity=\"1\" stroke-width=\"3.2\"/>\n",
       "<circle clip-path=\"url(#clip742)\" cx=\"788.422\" cy=\"1016.04\" r=\"10\" fill=\"#009af9\" fill-rule=\"evenodd\" fill-opacity=\"1\" stroke=\"#000000\" stroke-opacity=\"1\" stroke-width=\"3.2\"/>\n",
       "<circle clip-path=\"url(#clip742)\" cx=\"791.547\" cy=\"443.276\" r=\"10\" fill=\"#009af9\" fill-rule=\"evenodd\" fill-opacity=\"1\" stroke=\"#000000\" stroke-opacity=\"1\" stroke-width=\"3.2\"/>\n",
       "<circle clip-path=\"url(#clip742)\" cx=\"796.063\" cy=\"721.043\" r=\"10\" fill=\"#009af9\" fill-rule=\"evenodd\" fill-opacity=\"1\" stroke=\"#000000\" stroke-opacity=\"1\" stroke-width=\"3.2\"/>\n",
       "<circle clip-path=\"url(#clip742)\" cx=\"812.686\" cy=\"619.109\" r=\"10\" fill=\"#009af9\" fill-rule=\"evenodd\" fill-opacity=\"1\" stroke=\"#000000\" stroke-opacity=\"1\" stroke-width=\"3.2\"/>\n",
       "<circle clip-path=\"url(#clip742)\" cx=\"816.672\" cy=\"433.128\" r=\"10\" fill=\"#009af9\" fill-rule=\"evenodd\" fill-opacity=\"1\" stroke=\"#000000\" stroke-opacity=\"1\" stroke-width=\"3.2\"/>\n",
       "<circle clip-path=\"url(#clip742)\" cx=\"821.303\" cy=\"639.741\" r=\"10\" fill=\"#009af9\" fill-rule=\"evenodd\" fill-opacity=\"1\" stroke=\"#000000\" stroke-opacity=\"1\" stroke-width=\"3.2\"/>\n",
       "<circle clip-path=\"url(#clip742)\" cx=\"828.366\" cy=\"1078.71\" r=\"10\" fill=\"#009af9\" fill-rule=\"evenodd\" fill-opacity=\"1\" stroke=\"#000000\" stroke-opacity=\"1\" stroke-width=\"3.2\"/>\n",
       "<circle clip-path=\"url(#clip742)\" cx=\"829.805\" cy=\"1065.08\" r=\"10\" fill=\"#009af9\" fill-rule=\"evenodd\" fill-opacity=\"1\" stroke=\"#000000\" stroke-opacity=\"1\" stroke-width=\"3.2\"/>\n",
       "<circle clip-path=\"url(#clip742)\" cx=\"837.788\" cy=\"496.449\" r=\"10\" fill=\"#009af9\" fill-rule=\"evenodd\" fill-opacity=\"1\" stroke=\"#000000\" stroke-opacity=\"1\" stroke-width=\"3.2\"/>\n",
       "<circle clip-path=\"url(#clip742)\" cx=\"839.91\" cy=\"768.289\" r=\"10\" fill=\"#009af9\" fill-rule=\"evenodd\" fill-opacity=\"1\" stroke=\"#000000\" stroke-opacity=\"1\" stroke-width=\"3.2\"/>\n",
       "<circle clip-path=\"url(#clip742)\" cx=\"849.502\" cy=\"598.438\" r=\"10\" fill=\"#009af9\" fill-rule=\"evenodd\" fill-opacity=\"1\" stroke=\"#000000\" stroke-opacity=\"1\" stroke-width=\"3.2\"/>\n",
       "<circle clip-path=\"url(#clip742)\" cx=\"850.326\" cy=\"445.397\" r=\"10\" fill=\"#009af9\" fill-rule=\"evenodd\" fill-opacity=\"1\" stroke=\"#000000\" stroke-opacity=\"1\" stroke-width=\"3.2\"/>\n",
       "<circle clip-path=\"url(#clip742)\" cx=\"860.938\" cy=\"524.33\" r=\"10\" fill=\"#009af9\" fill-rule=\"evenodd\" fill-opacity=\"1\" stroke=\"#000000\" stroke-opacity=\"1\" stroke-width=\"3.2\"/>\n",
       "<circle clip-path=\"url(#clip742)\" cx=\"866.27\" cy=\"509.181\" r=\"10\" fill=\"#009af9\" fill-rule=\"evenodd\" fill-opacity=\"1\" stroke=\"#000000\" stroke-opacity=\"1\" stroke-width=\"3.2\"/>\n",
       "<circle clip-path=\"url(#clip742)\" cx=\"872.601\" cy=\"934.837\" r=\"10\" fill=\"#009af9\" fill-rule=\"evenodd\" fill-opacity=\"1\" stroke=\"#000000\" stroke-opacity=\"1\" stroke-width=\"3.2\"/>\n",
       "<circle clip-path=\"url(#clip742)\" cx=\"252.898\" cy=\"724.498\" r=\"21\" fill=\"#c68125\" fill-rule=\"evenodd\" fill-opacity=\"1\" stroke=\"#000000\" stroke-opacity=\"1\" stroke-width=\"3.2\"/>\n",
       "<circle clip-path=\"url(#clip742)\" cx=\"319.885\" cy=\"1008.74\" r=\"21\" fill=\"#c68125\" fill-rule=\"evenodd\" fill-opacity=\"1\" stroke=\"#000000\" stroke-opacity=\"1\" stroke-width=\"3.2\"/>\n",
       "<circle clip-path=\"url(#clip742)\" cx=\"367.604\" cy=\"484.496\" r=\"21\" fill=\"#c68125\" fill-rule=\"evenodd\" fill-opacity=\"1\" stroke=\"#000000\" stroke-opacity=\"1\" stroke-width=\"3.2\"/>\n",
       "<circle clip-path=\"url(#clip742)\" cx=\"563.571\" cy=\"931.439\" r=\"21\" fill=\"#c68125\" fill-rule=\"evenodd\" fill-opacity=\"1\" stroke=\"#000000\" stroke-opacity=\"1\" stroke-width=\"3.2\"/>\n",
       "<circle clip-path=\"url(#clip742)\" cx=\"653.023\" cy=\"830.23\" r=\"21\" fill=\"#c68125\" fill-rule=\"evenodd\" fill-opacity=\"1\" stroke=\"#000000\" stroke-opacity=\"1\" stroke-width=\"3.2\"/>\n",
       "<circle clip-path=\"url(#clip742)\" cx=\"655.201\" cy=\"558.287\" r=\"21\" fill=\"#c68125\" fill-rule=\"evenodd\" fill-opacity=\"1\" stroke=\"#000000\" stroke-opacity=\"1\" stroke-width=\"3.2\"/>\n",
       "<circle clip-path=\"url(#clip742)\" cx=\"1620.7\" cy=\"766.846\" r=\"21\" fill=\"#c68125\" fill-rule=\"evenodd\" fill-opacity=\"1\" stroke=\"#000000\" stroke-opacity=\"1\" stroke-width=\"3.2\"/>\n",
       "<polyline clip-path=\"url(#clip742)\" style=\"stroke:#000000; stroke-linecap:butt; stroke-linejoin:round; stroke-width:4; stroke-opacity:1; fill:none\" points=\"\n",
       "  156.598,531.06 156.598,897.207 400.384,839.755 460.206,749.946 475.3,692.826 470.436,681.055 156.598,531.06 \n",
       "  \"/>\n",
       "<polyline clip-path=\"url(#clip742)\" style=\"stroke:#000000; stroke-linecap:butt; stroke-linejoin:round; stroke-width:4; stroke-opacity:1; fill:none\" points=\"\n",
       "  156.598,897.207 156.598,1132.87 493.365,1132.87 400.384,839.755 156.598,897.207 \n",
       "  \"/>\n",
       "<polyline clip-path=\"url(#clip742)\" style=\"stroke:#000000; stroke-linecap:butt; stroke-linejoin:round; stroke-width:4; stroke-opacity:1; fill:none\" points=\"\n",
       "  156.598,400.82 156.598,531.06 470.436,681.055 542.339,400.82 156.598,400.82 \n",
       "  \"/>\n",
       "<polyline clip-path=\"url(#clip742)\" style=\"stroke:#000000; stroke-linecap:butt; stroke-linejoin:round; stroke-width:4; stroke-opacity:1; fill:none\" points=\"\n",
       "  460.206,749.946 400.384,839.755 493.365,1132.87 893.463,1132.87 460.206,749.946 \n",
       "  \"/>\n",
       "<polyline clip-path=\"url(#clip742)\" style=\"stroke:#000000; stroke-linecap:butt; stroke-linejoin:round; stroke-width:4; stroke-opacity:1; fill:none\" points=\"\n",
       "  475.3,692.826 460.206,749.946 893.463,1132.87 1158.76,1132.87 1130.28,698.072 475.3,692.826 \n",
       "  \"/>\n",
       "<polyline clip-path=\"url(#clip742)\" style=\"stroke:#000000; stroke-linecap:butt; stroke-linejoin:round; stroke-width:4; stroke-opacity:1; fill:none\" points=\"\n",
       "  542.339,400.82 470.436,681.055 475.3,692.826 1130.28,698.072 1194.49,400.82 542.339,400.82 \n",
       "  \"/>\n",
       "<polyline clip-path=\"url(#clip742)\" style=\"stroke:#000000; stroke-linecap:butt; stroke-linejoin:round; stroke-width:4; stroke-opacity:1; fill:none\" points=\"\n",
       "  1194.49,400.82 1130.28,698.072 1158.76,1132.87 2352.76,1132.87 2352.76,400.82 1194.49,400.82 \n",
       "  \"/>\n",
       "<path clip-path=\"url(#clip740)\" d=\"\n",
       "M1739.45 967.193 L2279.55 967.193 L2279.55 448.793 L1739.45 448.793  Z\n",
       "  \" fill=\"#ffffff\" fill-rule=\"evenodd\" fill-opacity=\"1\"/>\n",
       "<polyline clip-path=\"url(#clip740)\" style=\"stroke:#000000; stroke-linecap:butt; stroke-linejoin:round; stroke-width:4; stroke-opacity:1; fill:none\" points=\"\n",
       "  1739.45,967.193 2279.55,967.193 2279.55,448.793 1739.45,448.793 1739.45,967.193 \n",
       "  \"/>\n",
       "<circle clip-path=\"url(#clip740)\" cx=\"1837.05\" cy=\"500.633\" r=\"23\" fill=\"#009af9\" fill-rule=\"evenodd\" fill-opacity=\"1\" stroke=\"#000000\" stroke-opacity=\"1\" stroke-width=\"6.82667\"/>\n",
       "<path clip-path=\"url(#clip740)\" d=\"M1948.5 520.321 Q1946.7 524.95 1944.98 526.362 Q1943.27 527.774 1940.4 527.774 L1937 527.774 L1937 524.209 L1939.5 524.209 Q1941.26 524.209 1942.23 523.376 Q1943.2 522.543 1944.38 519.441 L1945.15 517.497 L1934.66 491.987 L1939.17 491.987 L1947.28 512.265 L1955.38 491.987 L1959.89 491.987 L1948.5 520.321 Z\" fill=\"#000000\" fill-rule=\"evenodd\" fill-opacity=\"1\" /><path clip-path=\"url(#clip740)\" d=\"M1967.18 513.978 L1974.82 513.978 L1974.82 487.612 L1966.51 489.279 L1966.51 485.02 L1974.78 483.353 L1979.45 483.353 L1979.45 513.978 L1987.09 513.978 L1987.09 517.913 L1967.18 517.913 L1967.18 513.978 Z\" fill=\"#000000\" fill-rule=\"evenodd\" fill-opacity=\"1\" /><path clip-path=\"url(#clip740)\" d=\"M1948.5 572.161 Q1946.7 576.79 1944.98 578.202 Q1943.27 579.614 1940.4 579.614 L1937 579.614 L1937 576.049 L1939.5 576.049 Q1941.26 576.049 1942.23 575.216 Q1943.2 574.383 1944.38 571.281 L1945.15 569.337 L1934.66 543.827 L1939.17 543.827 L1947.28 564.105 L1955.38 543.827 L1959.89 543.827 L1948.5 572.161 Z\" fill=\"#000000\" fill-rule=\"evenodd\" fill-opacity=\"1\" /><path clip-path=\"url(#clip740)\" d=\"M1970.4 565.818 L1986.72 565.818 L1986.72 569.753 L1964.78 569.753 L1964.78 565.818 Q1967.44 563.063 1972.02 558.434 Q1976.63 553.781 1977.81 552.438 Q1980.05 549.915 1980.93 548.179 Q1981.84 546.42 1981.84 544.73 Q1981.84 541.976 1979.89 540.239 Q1977.97 538.503 1974.87 538.503 Q1972.67 538.503 1970.22 539.267 Q1967.79 540.031 1965.01 541.582 L1965.01 536.86 Q1967.83 535.726 1970.29 535.147 Q1972.74 534.568 1974.78 534.568 Q1980.15 534.568 1983.34 537.253 Q1986.54 539.939 1986.54 544.429 Q1986.54 546.559 1985.73 548.48 Q1984.94 550.378 1982.83 552.971 Q1982.25 553.642 1979.15 556.86 Q1976.05 560.054 1970.4 565.818 Z\" fill=\"#000000\" fill-rule=\"evenodd\" fill-opacity=\"1\" /><path clip-path=\"url(#clip740)\" d=\"M1948.5 624.001 Q1946.7 628.63 1944.98 630.042 Q1943.27 631.454 1940.4 631.454 L1937 631.454 L1937 627.889 L1939.5 627.889 Q1941.26 627.889 1942.23 627.056 Q1943.2 626.223 1944.38 623.121 L1945.15 621.177 L1934.66 595.667 L1939.17 595.667 L1947.28 615.945 L1955.38 595.667 L1959.89 595.667 L1948.5 624.001 Z\" fill=\"#000000\" fill-rule=\"evenodd\" fill-opacity=\"1\" /><path clip-path=\"url(#clip740)\" d=\"M1980.54 602.959 Q1983.9 603.677 1985.77 605.945 Q1987.67 608.214 1987.67 611.547 Q1987.67 616.663 1984.15 619.464 Q1980.63 622.264 1974.15 622.264 Q1971.98 622.264 1969.66 621.825 Q1967.37 621.408 1964.92 620.552 L1964.92 616.038 Q1966.86 617.172 1969.17 617.751 Q1971.49 618.329 1974.01 618.329 Q1978.41 618.329 1980.7 616.593 Q1983.02 614.857 1983.02 611.547 Q1983.02 608.491 1980.86 606.778 Q1978.73 605.042 1974.92 605.042 L1970.89 605.042 L1970.89 601.2 L1975.1 601.2 Q1978.55 601.2 1980.38 599.834 Q1982.21 598.445 1982.21 595.853 Q1982.21 593.191 1980.31 591.779 Q1978.43 590.343 1974.92 590.343 Q1972.99 590.343 1970.79 590.76 Q1968.6 591.177 1965.96 592.056 L1965.96 587.89 Q1968.62 587.149 1970.93 586.779 Q1973.27 586.408 1975.33 586.408 Q1980.66 586.408 1983.76 588.839 Q1986.86 591.246 1986.86 595.366 Q1986.86 598.237 1985.22 600.228 Q1983.57 602.195 1980.54 602.959 Z\" fill=\"#000000\" fill-rule=\"evenodd\" fill-opacity=\"1\" /><path clip-path=\"url(#clip740)\" d=\"M1948.5 675.841 Q1946.7 680.47 1944.98 681.882 Q1943.27 683.294 1940.4 683.294 L1937 683.294 L1937 679.729 L1939.5 679.729 Q1941.26 679.729 1942.23 678.896 Q1943.2 678.063 1944.38 674.961 L1945.15 673.017 L1934.66 647.507 L1939.17 647.507 L1947.28 667.785 L1955.38 647.507 L1959.89 647.507 L1948.5 675.841 Z\" fill=\"#000000\" fill-rule=\"evenodd\" fill-opacity=\"1\" /><path clip-path=\"url(#clip740)\" d=\"M1979.22 642.947 L1967.42 661.396 L1979.22 661.396 L1979.22 642.947 M1977.99 638.873 L1983.87 638.873 L1983.87 661.396 L1988.8 661.396 L1988.8 665.285 L1983.87 665.285 L1983.87 673.433 L1979.22 673.433 L1979.22 665.285 L1963.62 665.285 L1963.62 660.771 L1977.99 638.873 Z\" fill=\"#000000\" fill-rule=\"evenodd\" fill-opacity=\"1\" /><path clip-path=\"url(#clip740)\" d=\"M1948.5 727.681 Q1946.7 732.31 1944.98 733.722 Q1943.27 735.134 1940.4 735.134 L1937 735.134 L1937 731.569 L1939.5 731.569 Q1941.26 731.569 1942.23 730.736 Q1943.2 729.903 1944.38 726.801 L1945.15 724.857 L1934.66 699.347 L1939.17 699.347 L1947.28 719.625 L1955.38 699.347 L1959.89 699.347 L1948.5 727.681 Z\" fill=\"#000000\" fill-rule=\"evenodd\" fill-opacity=\"1\" /><path clip-path=\"url(#clip740)\" d=\"M1966.42 690.713 L1984.78 690.713 L1984.78 694.648 L1970.7 694.648 L1970.7 703.121 Q1971.72 702.773 1972.74 702.611 Q1973.76 702.426 1974.78 702.426 Q1980.56 702.426 1983.94 705.597 Q1987.32 708.769 1987.32 714.185 Q1987.32 719.764 1983.85 722.866 Q1980.38 725.944 1974.06 725.944 Q1971.88 725.944 1969.61 725.574 Q1967.37 725.204 1964.96 724.463 L1964.96 719.764 Q1967.04 720.898 1969.27 721.454 Q1971.49 722.009 1973.97 722.009 Q1977.97 722.009 1980.31 719.903 Q1982.65 717.796 1982.65 714.185 Q1982.65 710.574 1980.31 708.468 Q1977.97 706.361 1973.97 706.361 Q1972.09 706.361 1970.22 706.778 Q1968.36 707.195 1966.42 708.074 L1966.42 690.713 Z\" fill=\"#000000\" fill-rule=\"evenodd\" fill-opacity=\"1\" /><path clip-path=\"url(#clip740)\" d=\"M1948.5 779.521 Q1946.7 784.15 1944.98 785.562 Q1943.27 786.974 1940.4 786.974 L1937 786.974 L1937 783.409 L1939.5 783.409 Q1941.26 783.409 1942.23 782.576 Q1943.2 781.743 1944.38 778.641 L1945.15 776.697 L1934.66 751.187 L1939.17 751.187 L1947.28 771.465 L1955.38 751.187 L1959.89 751.187 L1948.5 779.521 Z\" fill=\"#000000\" fill-rule=\"evenodd\" fill-opacity=\"1\" /><path clip-path=\"url(#clip740)\" d=\"M1976.95 757.97 Q1973.8 757.97 1971.95 760.123 Q1970.12 762.275 1970.12 766.025 Q1970.12 769.752 1971.95 771.928 Q1973.8 774.081 1976.95 774.081 Q1980.1 774.081 1981.93 771.928 Q1983.78 769.752 1983.78 766.025 Q1983.78 762.275 1981.93 760.123 Q1980.1 757.97 1976.95 757.97 M1986.23 743.317 L1986.23 747.576 Q1984.48 746.743 1982.67 746.303 Q1980.89 745.863 1979.13 745.863 Q1974.5 745.863 1972.04 748.988 Q1969.61 752.113 1969.27 758.433 Q1970.63 756.419 1972.69 755.354 Q1974.75 754.266 1977.23 754.266 Q1982.44 754.266 1985.45 757.437 Q1988.48 760.585 1988.48 766.025 Q1988.48 771.349 1985.33 774.567 Q1982.18 777.784 1976.95 777.784 Q1970.96 777.784 1967.79 773.201 Q1964.61 768.595 1964.61 759.868 Q1964.61 751.673 1968.5 746.812 Q1972.39 741.928 1978.94 741.928 Q1980.7 741.928 1982.48 742.275 Q1984.29 742.623 1986.23 743.317 Z\" fill=\"#000000\" fill-rule=\"evenodd\" fill-opacity=\"1\" /><path clip-path=\"url(#clip740)\" d=\"M1948.5 831.361 Q1946.7 835.99 1944.98 837.402 Q1943.27 838.814 1940.4 838.814 L1937 838.814 L1937 835.249 L1939.5 835.249 Q1941.26 835.249 1942.23 834.416 Q1943.2 833.583 1944.38 830.481 L1945.15 828.537 L1934.66 803.027 L1939.17 803.027 L1947.28 823.305 L1955.38 803.027 L1959.89 803.027 L1948.5 831.361 Z\" fill=\"#000000\" fill-rule=\"evenodd\" fill-opacity=\"1\" /><path clip-path=\"url(#clip740)\" d=\"M1965.19 794.393 L1987.42 794.393 L1987.42 796.384 L1974.87 828.953 L1969.98 828.953 L1981.79 798.328 L1965.19 798.328 L1965.19 794.393 Z\" fill=\"#000000\" fill-rule=\"evenodd\" fill-opacity=\"1\" /><circle clip-path=\"url(#clip740)\" cx=\"1837.05\" cy=\"863.513\" r=\"23\" fill=\"#c68125\" fill-rule=\"evenodd\" fill-opacity=\"1\" stroke=\"#000000\" stroke-opacity=\"1\" stroke-width=\"3.41333\"/>\n",
       "<path clip-path=\"url(#clip740)\" d=\"M1939.34 850.076 L1939.34 876.951 L1944.98 876.951 Q1952.14 876.951 1955.45 873.71 Q1958.78 870.469 1958.78 863.478 Q1958.78 856.534 1955.45 853.316 Q1952.14 850.076 1944.98 850.076 L1939.34 850.076 M1934.66 846.233 L1944.27 846.233 Q1954.31 846.233 1959.01 850.423 Q1963.71 854.59 1963.71 863.478 Q1963.71 872.414 1958.99 876.603 Q1954.27 880.793 1944.27 880.793 L1934.66 880.793 L1934.66 846.233 Z\" fill=\"#000000\" fill-rule=\"evenodd\" fill-opacity=\"1\" /><path clip-path=\"url(#clip740)\" d=\"M1993.16 866.765 L1993.16 868.849 L1973.57 868.849 Q1973.85 873.247 1976.21 875.562 Q1978.6 877.853 1982.83 877.853 Q1985.29 877.853 1987.58 877.252 Q1989.89 876.65 1992.16 875.446 L1992.16 879.474 Q1989.87 880.446 1987.46 880.955 Q1985.05 881.464 1982.58 881.464 Q1976.37 881.464 1972.74 877.853 Q1969.13 874.242 1969.13 868.085 Q1969.13 861.719 1972.55 857.992 Q1976 854.242 1981.84 854.242 Q1987.07 854.242 1990.1 857.622 Q1993.16 860.978 1993.16 866.765 M1988.9 865.515 Q1988.85 862.02 1986.93 859.937 Q1985.03 857.853 1981.88 857.853 Q1978.32 857.853 1976.17 859.867 Q1974.04 861.881 1973.71 865.539 L1988.9 865.515 Z\" fill=\"#000000\" fill-rule=\"evenodd\" fill-opacity=\"1\" /><path clip-path=\"url(#clip740)\" d=\"M2016.67 855.631 L2016.67 859.659 Q2014.87 858.733 2012.92 858.27 Q2010.98 857.807 2008.9 857.807 Q2005.73 857.807 2004.13 858.779 Q2002.55 859.752 2002.55 861.696 Q2002.55 863.178 2003.69 864.034 Q2004.82 864.867 2008.25 865.631 L2009.71 865.955 Q2014.24 866.927 2016.14 868.71 Q2018.06 870.469 2018.06 873.64 Q2018.06 877.252 2015.19 879.358 Q2012.35 881.464 2007.35 881.464 Q2005.26 881.464 2002.99 881.048 Q2000.75 880.654 1998.25 879.844 L1998.25 875.446 Q2000.61 876.673 2002.9 877.298 Q2005.19 877.9 2007.44 877.9 Q2010.45 877.9 2012.07 876.881 Q2013.69 875.839 2013.69 873.964 Q2013.69 872.228 2012.51 871.302 Q2011.35 870.377 2007.39 869.52 L2005.91 869.173 Q2001.95 868.34 2000.19 866.627 Q1998.43 864.89 1998.43 861.881 Q1998.43 858.224 2001.03 856.233 Q2003.62 854.242 2008.39 854.242 Q2010.75 854.242 2012.83 854.59 Q2014.91 854.937 2016.67 855.631 Z\" fill=\"#000000\" fill-rule=\"evenodd\" fill-opacity=\"1\" /><path clip-path=\"url(#clip740)\" d=\"M2029.06 847.506 L2029.06 854.867 L2037.83 854.867 L2037.83 858.178 L2029.06 858.178 L2029.06 872.252 Q2029.06 875.423 2029.91 876.326 Q2030.79 877.228 2033.46 877.228 L2037.83 877.228 L2037.83 880.793 L2033.46 880.793 Q2028.53 880.793 2026.65 878.964 Q2024.78 877.113 2024.78 872.252 L2024.78 858.178 L2021.65 858.178 L2021.65 854.867 L2024.78 854.867 L2024.78 847.506 L2029.06 847.506 Z\" fill=\"#000000\" fill-rule=\"evenodd\" fill-opacity=\"1\" /><path clip-path=\"url(#clip740)\" d=\"M2043.43 854.867 L2047.69 854.867 L2047.69 880.793 L2043.43 880.793 L2043.43 854.867 M2043.43 844.775 L2047.69 844.775 L2047.69 850.168 L2043.43 850.168 L2043.43 844.775 Z\" fill=\"#000000\" fill-rule=\"evenodd\" fill-opacity=\"1\" /><path clip-path=\"url(#clip740)\" d=\"M2078.16 865.145 L2078.16 880.793 L2073.9 880.793 L2073.9 865.284 Q2073.9 861.603 2072.46 859.775 Q2071.03 857.946 2068.16 857.946 Q2064.71 857.946 2062.72 860.145 Q2060.72 862.344 2060.72 866.14 L2060.72 880.793 L2056.44 880.793 L2056.44 854.867 L2060.72 854.867 L2060.72 858.895 Q2062.25 856.557 2064.31 855.4 Q2066.4 854.242 2069.1 854.242 Q2073.57 854.242 2075.86 857.02 Q2078.16 859.775 2078.16 865.145 Z\" fill=\"#000000\" fill-rule=\"evenodd\" fill-opacity=\"1\" /><path clip-path=\"url(#clip740)\" d=\"M2096.7 857.853 Q2093.27 857.853 2091.28 860.539 Q2089.29 863.201 2089.29 867.853 Q2089.29 872.506 2091.26 875.191 Q2093.25 877.853 2096.7 877.853 Q2100.1 877.853 2102.09 875.168 Q2104.08 872.483 2104.08 867.853 Q2104.08 863.247 2102.09 860.562 Q2100.1 857.853 2096.7 857.853 M2096.7 854.242 Q2102.25 854.242 2105.42 857.853 Q2108.6 861.465 2108.6 867.853 Q2108.6 874.219 2105.42 877.853 Q2102.25 881.464 2096.7 881.464 Q2091.12 881.464 2087.95 877.853 Q2084.8 874.219 2084.8 867.853 Q2084.8 861.465 2087.95 857.853 Q2091.12 854.242 2096.7 854.242 Z\" fill=\"#000000\" fill-rule=\"evenodd\" fill-opacity=\"1\" /><path clip-path=\"url(#clip740)\" d=\"M2132.18 855.631 L2132.18 859.659 Q2130.38 858.733 2128.43 858.27 Q2126.49 857.807 2124.41 857.807 Q2121.23 857.807 2119.64 858.779 Q2118.06 859.752 2118.06 861.696 Q2118.06 863.178 2119.2 864.034 Q2120.33 864.867 2123.76 865.631 L2125.22 865.955 Q2129.75 866.927 2131.65 868.71 Q2133.57 870.469 2133.57 873.64 Q2133.57 877.252 2130.7 879.358 Q2127.85 881.464 2122.85 881.464 Q2120.77 881.464 2118.5 881.048 Q2116.26 880.654 2113.76 879.844 L2113.76 875.446 Q2116.12 876.673 2118.41 877.298 Q2120.7 877.9 2122.95 877.9 Q2125.96 877.9 2127.58 876.881 Q2129.2 875.839 2129.2 873.964 Q2129.2 872.228 2128.02 871.302 Q2126.86 870.377 2122.9 869.52 L2121.42 869.173 Q2117.46 868.34 2115.7 866.627 Q2113.94 864.89 2113.94 861.881 Q2113.94 858.224 2116.53 856.233 Q2119.13 854.242 2123.9 854.242 Q2126.26 854.242 2128.34 854.59 Q2130.42 854.937 2132.18 855.631 Z\" fill=\"#000000\" fill-rule=\"evenodd\" fill-opacity=\"1\" /><polyline clip-path=\"url(#clip740)\" style=\"stroke:#000000; stroke-linecap:butt; stroke-linejoin:round; stroke-width:4; stroke-opacity:1; fill:none\" points=\"\n",
       "  1763.85,915.353 1910.26,915.353 \n",
       "  \"/>\n",
       "<path clip-path=\"url(#clip740)\" d=\"M1947.86 932.633 L1934.66 898.073 L1939.55 898.073 L1950.49 927.17 L1961.47 898.073 L1966.33 898.073 L1953.16 932.633 L1947.86 932.633 Z\" fill=\"#000000\" fill-rule=\"evenodd\" fill-opacity=\"1\" /><path clip-path=\"url(#clip740)\" d=\"M1977.55 909.693 Q1974.13 909.693 1972.14 912.379 Q1970.15 915.041 1970.15 919.693 Q1970.15 924.346 1972.11 927.031 Q1974.11 929.693 1977.55 929.693 Q1980.96 929.693 1982.95 927.008 Q1984.94 924.323 1984.94 919.693 Q1984.94 915.087 1982.95 912.402 Q1980.96 909.693 1977.55 909.693 M1977.55 906.082 Q1983.11 906.082 1986.28 909.693 Q1989.45 913.305 1989.45 919.693 Q1989.45 926.059 1986.28 929.693 Q1983.11 933.304 1977.55 933.304 Q1971.98 933.304 1968.8 929.693 Q1965.66 926.059 1965.66 919.693 Q1965.66 913.305 1968.8 909.693 Q1971.98 906.082 1977.55 906.082 Z\" fill=\"#000000\" fill-rule=\"evenodd\" fill-opacity=\"1\" /><path clip-path=\"url(#clip740)\" d=\"M2011.54 910.689 Q2010.82 910.272 2009.96 910.087 Q2009.13 909.879 2008.11 909.879 Q2004.5 909.879 2002.55 912.24 Q2000.63 914.578 2000.63 918.976 L2000.63 932.633 L1996.35 932.633 L1996.35 906.707 L2000.63 906.707 L2000.63 910.735 Q2001.98 908.374 2004.13 907.24 Q2006.28 906.082 2009.36 906.082 Q2009.8 906.082 2010.33 906.152 Q2010.86 906.198 2011.51 906.314 L2011.54 910.689 Z\" fill=\"#000000\" fill-rule=\"evenodd\" fill-opacity=\"1\" /><path clip-path=\"url(#clip740)\" d=\"M2025.01 909.693 Q2021.58 909.693 2019.59 912.379 Q2017.6 915.041 2017.6 919.693 Q2017.6 924.346 2019.57 927.031 Q2021.56 929.693 2025.01 929.693 Q2028.41 929.693 2030.4 927.008 Q2032.39 924.323 2032.39 919.693 Q2032.39 915.087 2030.4 912.402 Q2028.41 909.693 2025.01 909.693 M2025.01 906.082 Q2030.56 906.082 2033.73 909.693 Q2036.91 913.305 2036.91 919.693 Q2036.91 926.059 2033.73 929.693 Q2030.56 933.304 2025.01 933.304 Q2019.43 933.304 2016.26 929.693 Q2013.11 926.059 2013.11 919.693 Q2013.11 913.305 2016.26 909.693 Q2019.43 906.082 2025.01 906.082 Z\" fill=\"#000000\" fill-rule=\"evenodd\" fill-opacity=\"1\" /><path clip-path=\"url(#clip740)\" d=\"M2065.52 916.985 L2065.52 932.633 L2061.26 932.633 L2061.26 917.124 Q2061.26 913.443 2059.82 911.615 Q2058.39 909.786 2055.52 909.786 Q2052.07 909.786 2050.08 911.985 Q2048.09 914.184 2048.09 917.98 L2048.09 932.633 L2043.8 932.633 L2043.8 906.707 L2048.09 906.707 L2048.09 910.735 Q2049.61 908.397 2051.67 907.24 Q2053.76 906.082 2056.47 906.082 Q2060.93 906.082 2063.22 908.86 Q2065.52 911.615 2065.52 916.985 Z\" fill=\"#000000\" fill-rule=\"evenodd\" fill-opacity=\"1\" /><path clip-path=\"url(#clip740)\" d=\"M2084.06 909.693 Q2080.63 909.693 2078.64 912.379 Q2076.65 915.041 2076.65 919.693 Q2076.65 924.346 2078.62 927.031 Q2080.61 929.693 2084.06 929.693 Q2087.46 929.693 2089.45 927.008 Q2091.44 924.323 2091.44 919.693 Q2091.44 915.087 2089.45 912.402 Q2087.46 909.693 2084.06 909.693 M2084.06 906.082 Q2089.61 906.082 2092.78 909.693 Q2095.96 913.305 2095.96 919.693 Q2095.96 926.059 2092.78 929.693 Q2089.61 933.304 2084.06 933.304 Q2078.48 933.304 2075.31 929.693 Q2072.16 926.059 2072.16 919.693 Q2072.16 913.305 2075.31 909.693 Q2078.48 906.082 2084.06 906.082 Z\" fill=\"#000000\" fill-rule=\"evenodd\" fill-opacity=\"1\" /><path clip-path=\"url(#clip740)\" d=\"M2103.02 906.707 L2107.28 906.707 L2107.28 932.633 L2103.02 932.633 L2103.02 906.707 M2103.02 896.615 L2107.28 896.615 L2107.28 902.008 L2103.02 902.008 L2103.02 896.615 Z\" fill=\"#000000\" fill-rule=\"evenodd\" fill-opacity=\"1\" /><path clip-path=\"url(#clip740)\" d=\"M2149.91 907.703 L2149.91 911.684 Q2148.11 910.689 2146.28 910.203 Q2144.47 909.693 2142.62 909.693 Q2138.48 909.693 2136.19 912.332 Q2133.9 914.948 2133.9 919.693 Q2133.9 924.439 2136.19 927.078 Q2138.48 929.693 2142.62 929.693 Q2144.47 929.693 2146.28 929.207 Q2148.11 928.698 2149.91 927.703 L2149.91 931.638 Q2148.13 932.471 2146.21 932.888 Q2144.31 933.304 2142.16 933.304 Q2136.3 933.304 2132.85 929.624 Q2129.41 925.943 2129.41 919.693 Q2129.41 913.351 2132.88 909.717 Q2136.37 906.082 2142.44 906.082 Q2144.41 906.082 2146.28 906.499 Q2148.15 906.893 2149.91 907.703 Z\" fill=\"#000000\" fill-rule=\"evenodd\" fill-opacity=\"1\" /><path clip-path=\"url(#clip740)\" d=\"M2179.5 918.605 L2179.5 920.689 L2159.91 920.689 Q2160.19 925.087 2162.55 927.402 Q2164.94 929.693 2169.17 929.693 Q2171.63 929.693 2173.92 929.092 Q2176.23 928.49 2178.5 927.286 L2178.5 931.314 Q2176.21 932.286 2173.8 932.795 Q2171.4 933.304 2168.92 933.304 Q2162.72 933.304 2159.08 929.693 Q2155.47 926.082 2155.47 919.925 Q2155.47 913.559 2158.9 909.832 Q2162.34 906.082 2168.18 906.082 Q2173.41 906.082 2176.44 909.462 Q2179.5 912.818 2179.5 918.605 M2175.24 917.355 Q2175.19 913.86 2173.27 911.777 Q2171.37 909.693 2168.22 909.693 Q2164.66 909.693 2162.51 911.707 Q2160.38 913.721 2160.05 917.379 L2175.24 917.355 Z\" fill=\"#000000\" fill-rule=\"evenodd\" fill-opacity=\"1\" /><path clip-path=\"url(#clip740)\" d=\"M2186.49 896.615 L2190.75 896.615 L2190.75 932.633 L2186.49 932.633 L2186.49 896.615 Z\" fill=\"#000000\" fill-rule=\"evenodd\" fill-opacity=\"1\" /><path clip-path=\"url(#clip740)\" d=\"M2199.66 896.615 L2203.92 896.615 L2203.92 932.633 L2199.66 932.633 L2199.66 896.615 Z\" fill=\"#000000\" fill-rule=\"evenodd\" fill-opacity=\"1\" /><path clip-path=\"url(#clip740)\" d=\"M2229.36 907.471 L2229.36 911.499 Q2227.55 910.573 2225.61 910.11 Q2223.66 909.647 2221.58 909.647 Q2218.41 909.647 2216.81 910.619 Q2215.24 911.592 2215.24 913.536 Q2215.24 915.018 2216.37 915.874 Q2217.51 916.707 2220.93 917.471 L2222.39 917.795 Q2226.93 918.767 2228.83 920.55 Q2230.75 922.309 2230.75 925.48 Q2230.75 929.092 2227.88 931.198 Q2225.03 933.304 2220.03 933.304 Q2217.95 933.304 2215.68 932.888 Q2213.43 932.494 2210.93 931.684 L2210.93 927.286 Q2213.29 928.513 2215.59 929.138 Q2217.88 929.74 2220.12 929.74 Q2223.13 929.74 2224.75 928.721 Q2226.37 927.679 2226.37 925.804 Q2226.37 924.068 2225.19 923.142 Q2224.03 922.217 2220.08 921.36 L2218.59 921.013 Q2214.64 920.18 2212.88 918.467 Q2211.12 916.73 2211.12 913.721 Q2211.12 910.064 2213.71 908.073 Q2216.3 906.082 2221.07 906.082 Q2223.43 906.082 2225.52 906.43 Q2227.6 906.777 2229.36 907.471 Z\" fill=\"#000000\" fill-rule=\"evenodd\" fill-opacity=\"1\" /><path clip-path=\"url(#clip740)\" d=\"M250.708 725.889 L264.076 725.889 L264.076 679.75 L249.533 682.666 L249.533 675.213 L263.995 672.296 L272.178 672.296 L272.178 725.889 L285.546 725.889 L285.546 732.776 L250.708 732.776 L250.708 725.889 Z\" fill=\"#000000\" fill-rule=\"evenodd\" fill-opacity=\"1\" /><path clip-path=\"url(#clip740)\" d=\"M325.168 1010.13 L353.727 1010.13 L353.727 1017.02 L315.324 1017.02 L315.324 1010.13 Q319.983 1005.31 328.004 997.209 Q336.065 989.067 338.131 986.718 Q342.06 982.302 343.6 979.264 Q345.18 976.185 345.18 973.228 Q345.18 968.408 341.777 965.369 Q338.415 962.331 332.986 962.331 Q329.138 962.331 324.844 963.668 Q320.591 965.005 315.729 967.719 L315.729 959.455 Q320.672 957.47 324.965 956.457 Q329.259 955.445 332.824 955.445 Q342.222 955.445 347.813 960.144 Q353.403 964.843 353.403 972.701 Q353.403 976.428 351.985 979.791 Q350.608 983.112 346.921 987.649 Q345.909 988.824 340.48 994.455 Q335.052 1000.05 325.168 1010.13 Z\" fill=\"#000000\" fill-rule=\"evenodd\" fill-opacity=\"1\" /><path clip-path=\"url(#clip740)\" d=\"M389.679 460.164 Q395.552 461.42 398.834 465.39 Q402.155 469.36 402.155 475.193 Q402.155 484.146 395.998 489.047 Q389.841 493.949 378.498 493.949 Q374.69 493.949 370.639 493.179 Q366.629 492.45 362.335 490.951 L362.335 483.052 Q365.738 485.037 369.789 486.05 Q373.84 487.062 378.255 487.062 Q385.952 487.062 389.962 484.024 Q394.013 480.986 394.013 475.193 Q394.013 469.846 390.246 466.848 Q386.519 463.81 379.835 463.81 L372.786 463.81 L372.786 457.086 L380.159 457.086 Q386.195 457.086 389.395 454.696 Q392.595 452.265 392.595 447.728 Q392.595 443.069 389.273 440.598 Q385.992 438.087 379.835 438.087 Q376.473 438.087 372.624 438.816 Q368.776 439.545 364.158 441.085 L364.158 433.793 Q368.816 432.497 372.867 431.848 Q376.959 431.2 380.564 431.2 Q389.881 431.2 395.309 435.454 Q400.738 439.667 400.738 446.877 Q400.738 451.9 397.861 455.384 Q394.985 458.827 389.679 460.164 Z\" fill=\"#000000\" fill-rule=\"evenodd\" fill-opacity=\"1\" /><path clip-path=\"url(#clip740)\" d=\"M583.479 886.367 L562.819 918.653 L583.479 918.653 L583.479 886.367 M581.332 879.237 L591.621 879.237 L591.621 918.653 L600.249 918.653 L600.249 925.458 L591.621 925.458 L591.621 939.717 L583.479 939.717 L583.479 925.458 L556.176 925.458 L556.176 917.559 L581.332 879.237 Z\" fill=\"#000000\" fill-rule=\"evenodd\" fill-opacity=\"1\" /><path clip-path=\"url(#clip740)\" d=\"M650.65 778.028 L682.774 778.028 L682.774 784.915 L658.145 784.915 L658.145 799.741 Q659.927 799.133 661.709 798.85 Q663.492 798.526 665.274 798.526 Q675.401 798.526 681.316 804.076 Q687.23 809.625 687.23 819.104 Q687.23 828.867 681.154 834.295 Q675.077 839.683 664.018 839.683 Q660.211 839.683 656.241 839.035 Q652.311 838.387 648.098 837.09 L648.098 828.867 Q651.744 830.852 655.633 831.824 Q659.522 832.796 663.856 832.796 Q670.864 832.796 674.956 829.11 Q679.047 825.424 679.047 819.104 Q679.047 812.785 674.956 809.099 Q670.864 805.412 663.856 805.412 Q660.575 805.412 657.294 806.142 Q654.053 806.871 650.65 808.41 L650.65 778.028 Z\" fill=\"#000000\" fill-rule=\"evenodd\" fill-opacity=\"1\" /><path clip-path=\"url(#clip740)\" d=\"M670.551 533.065 Q665.042 533.065 661.801 536.832 Q658.601 540.599 658.601 547.162 Q658.601 553.684 661.801 557.492 Q665.042 561.259 670.551 561.259 Q676.06 561.259 679.261 557.492 Q682.501 553.684 682.501 547.162 Q682.501 540.599 679.261 536.832 Q676.06 533.065 670.551 533.065 M686.795 507.422 L686.795 514.876 Q683.717 513.418 680.557 512.648 Q677.438 511.878 674.359 511.878 Q666.257 511.878 661.963 517.347 Q657.71 522.816 657.102 533.875 Q659.492 530.351 663.097 528.487 Q666.703 526.583 671.037 526.583 Q680.152 526.583 685.418 532.133 Q690.725 537.642 690.725 547.162 Q690.725 556.479 685.215 562.11 Q679.706 567.74 670.551 567.74 Q660.059 567.74 654.51 559.72 Q648.96 551.658 648.96 536.386 Q648.96 522.046 655.765 513.539 Q662.571 504.992 674.035 504.992 Q677.114 504.992 680.233 505.6 Q683.392 506.207 686.795 507.422 Z\" fill=\"#000000\" fill-rule=\"evenodd\" fill-opacity=\"1\" /><path clip-path=\"url(#clip740)\" d=\"M1615.9 714.644 L1654.79 714.644 L1654.79 718.128 L1632.83 775.124 L1624.29 775.124 L1644.95 721.531 L1615.9 721.531 L1615.9 714.644 Z\" fill=\"#000000\" fill-rule=\"evenodd\" fill-opacity=\"1\" /></svg>\n"
      ]
     },
     "execution_count": 32,
     "metadata": {},
     "output_type": "execute_result"
    }
   ],
   "source": [
    "using VoronoiCells\n",
    "using GeometryBasics\n",
    "using Plots\n",
    "using Random\n",
    "\n",
    "gr()\n",
    "Plots.GRBackend()\n",
    "\n",
    "#crea la lista de destinos\n",
    "points = [Point2(y[i,1], y[i,2]) for i in 1:n] \n",
    "\n",
    "\n",
    "#Conjuntos de Voronoi\n",
    "rect = Rectangle(Point2(0, 0), Point2(3, 1))\n",
    "tess = voronoicells(points, rect);\n",
    "\n",
    "scatter(X, Y, aspect_ratio=:equal, markersize = 3, legend = :topright) #Grafica los origenes, con color por destino\n",
    "scatter!(y[:,1], y[:,2], markersize = 6, label = \"Destinos\") #Plotea los destinos\n",
    "annotate!([(points[i][1] + 0.02, points[i][2] + 0.03, text(i, :black)) for i in 1:n]) #Agrega lo números en los destinos\n",
    "plot!(tess, color = :black)"
   ]
  },
  {
   "cell_type": "code",
   "execution_count": null,
   "metadata": {},
   "outputs": [],
   "source": []
  }
 ],
 "metadata": {
  "@webio": {
   "lastCommId": null,
   "lastKernelId": null
  },
  "hide_input": false,
  "kernelspec": {
   "display_name": "Julia 1.7.2",
   "language": "julia",
   "name": "julia-1.7"
  },
  "language_info": {
   "file_extension": ".jl",
   "mimetype": "application/julia",
   "name": "julia",
   "version": "1.7.2"
  }
 },
 "nbformat": 4,
 "nbformat_minor": 4
}
