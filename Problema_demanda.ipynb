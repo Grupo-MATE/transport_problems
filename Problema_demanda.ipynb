{
 "cells": [
  {
   "cell_type": "markdown",
   "metadata": {},
   "source": [
    "# Abastecimiento de demanda\n",
    "\n",
    "Dadas dos funciones de ¿precio?, asociadas a dos proveedores distintos, necesitamos cubrir una demanda específica\n",
    "\n",
    "* $\\Phi_{1}(x)$ es el precio de comprarle al proveedor 1, una cantidad $x$.\n",
    "* $\\Phi_{2}(x)$ es el precio de comprarle al proveedor 2, una cantidad $x$.\n",
    "\n",
    "Debemos minimizar :\n",
    "\n",
    "$$\\min_{a_{ij}} \\sum_{i,j} a_{ij} |x_i-y_j|$$\n",
    "\n",
    "sujeto a:\n",
    "\n",
    "$$\\sum_j a_{ij} = p_i \\quad \\forall i=1,\\ldots,m,$$\n",
    "\n",
    "$$\\sum_i a_{ij} = q_j \\quad \\forall j=1,\\ldots,n.$$"
   ]
  },
  {
   "cell_type": "code",
   "execution_count": 3,
   "metadata": {},
   "outputs": [
    {
     "name": "stderr",
     "output_type": "stream",
     "text": [
      "\u001b[32m\u001b[1mPrecompiling\u001b[22m\u001b[39m project...\n",
      "\u001b[32m  ✓ \u001b[39m\u001b[90mSuiteSparse_jll\u001b[39m\n",
      "\u001b[32m  ✓ \u001b[39m\u001b[90mSundials_jll\u001b[39m\n",
      "\u001b[32m  ✓ \u001b[39m\u001b[90mSundials\u001b[39m\n",
      "\u001b[32m  ✓ \u001b[39mDifferentialEquations\n",
      "  4 dependencies successfully precompiled in 13 seconds (255 already precompiled, 2 skipped during auto due to previous errors)\n"
     ]
    }
   ],
   "source": [
    "## Para instalar los paquetes del Project.toml la primera vez\n",
    "#using Pkg; Pkg.instantiate()\n",
    "#using Pkg; Pkg.precompile()"
   ]
  },
  {
   "cell_type": "code",
   "execution_count": 1,
   "metadata": {},
   "outputs": [
    {
     "name": "stdout",
     "output_type": "stream",
     "text": [
      "    \u001b[36m\u001b[1mFetching:\u001b[22m\u001b[39m [========================================>]  100.0 %                                  ]  10.4 %>                               ]  22.1 %                         ]  37.1 % [==================>                      ]  43.9 %===================>                     ]  46.3 %>                     ]  47.0 %\u001b[36m\u001b[1mFetching:\u001b[22m\u001b[39m [====================>                    ]  49.0 %=========================>               ]  61.2 % [===========================>             ]  66.0 % [=================================>       ]  81.9 %>     ]  85.0 %====================================>    ]  89.4 %\u001b[36m\u001b[1mFetching:\u001b[22m\u001b[39m [========================================>]  98.9 %99.1 %>]  99.4 %\r"
     ]
    }
   ],
   "source": [
    "import Pkg; Pkg.add(\"GLPK\")"
   ]
  },
  {
   "cell_type": "code",
   "execution_count": 2,
   "metadata": {
    "tags": []
   },
   "outputs": [
    {
     "ename": "LoadError",
     "evalue": "ArgumentError: Package JuMP not found in current path:\n- Run `import Pkg; Pkg.add(\"JuMP\")` to install the JuMP package.\n",
     "output_type": "error",
     "traceback": [
      "ArgumentError: Package JuMP not found in current path:\n- Run `import Pkg; Pkg.add(\"JuMP\")` to install the JuMP package.\n",
      "",
      "Stacktrace:",
      " [1] require(into::Module, mod::Symbol)",
      "   @ Base .\\loading.jl:871",
      " [2] eval",
      "   @ .\\boot.jl:360 [inlined]",
      " [3] include_string(mapexpr::typeof(REPL.softscope), mod::Module, code::String, filename::String)",
      "   @ Base .\\loading.jl:1094"
     ]
    }
   ],
   "source": [
    "using JuMP, GLPK, Ipopt\n",
    "\n",
    "#m=3\n",
    "x=[1.0;2.0;3.0]\n",
    "p=[0.2;0.4;0.4]\n",
    "\n",
    "#n=2\n",
    "y=[0;4.0]\n",
    "q=[0.5;0.5]\n",
    "\n",
    "#model = JuMP.Model(GLPK.Optimizer)\n",
    "model = JuMP.Model(Ipopt.Optimizer)\n",
    "\n",
    "\n",
    "m=length(x)\n",
    "n=length(y)\n",
    "\n",
    "#Calculo los pesos |xi-yj|\n",
    "W=abs.(x*ones(1,n) - ones(m,1)*y')\n",
    "\n",
    "@variable(model,A[1:m,1:n]>=0)\n",
    "\n",
    "conp = @constraint(model, sum(A, dims=2).==p)\n",
    "conq = @constraint(model, sum(A, dims=1).==q')\n",
    "\n",
    "@objective(model,Min, sum( A.*W ))\n",
    "\n",
    "model"
   ]
  },
  {
   "cell_type": "code",
   "execution_count": 13,
   "metadata": {},
   "outputs": [
    {
     "name": "stdout",
     "output_type": "stream",
     "text": [
      "\n",
      "******************************************************************************\n",
      "This program contains Ipopt, a library for large-scale nonlinear optimization.\n",
      " Ipopt is released as open source code under the Eclipse Public License (EPL).\n",
      "         For more information visit https://github.com/coin-or/Ipopt\n",
      "******************************************************************************\n",
      "\n",
      "This is Ipopt version 3.13.4, running with linear solver mumps.\n",
      "NOTE: Other linear solvers might be more efficient (see Ipopt documentation).\n",
      "\n",
      "Number of nonzeros in equality constraint Jacobian...:       12\n",
      "Number of nonzeros in inequality constraint Jacobian.:        0\n",
      "Number of nonzeros in Lagrangian Hessian.............:        0\n",
      "\n",
      "Total number of variables............................:        6\n",
      "                     variables with only lower bounds:        6\n",
      "                variables with lower and upper bounds:        0\n",
      "                     variables with only upper bounds:        0\n",
      "Total number of equality constraints.................:        5\n",
      "Total number of inequality constraints...............:        0\n",
      "        inequality constraints with only lower bounds:        0\n",
      "   inequality constraints with lower and upper bounds:        0\n",
      "        inequality constraints with only upper bounds:        0\n",
      "\n",
      "iter    objective    inf_pr   inf_du lg(mu)  ||d||  lg(rg) alpha_du alpha_pr  ls\n",
      "   0  1.1999988e-01 4.70e-01 2.00e+00  -1.0 0.00e+00    -  0.00e+00 0.00e+00   0\n",
      "   1  1.9599999e+00 3.60e-08 1.00e+01  -1.0 2.00e-01    -  9.00e-02 1.00e+00h  1\n",
      "   2  1.7475452e+00 2.98e-08 9.39e+00  -1.0 1.02e+00    -  8.27e-01 9.25e-02f  2\n",
      "   3  1.5072369e+00 4.44e-16 1.00e-06  -1.0 6.34e-02    -  1.00e+00 1.00e+00f  1\n",
      "   4  1.4168106e+00 1.44e-09 7.28e-02  -2.5 3.63e-02    -  9.31e-01 1.00e+00f  1\n",
      "   5  1.4061532e+00 3.04e-10 2.83e-08  -2.5 3.72e-03    -  1.00e+00 1.00e+00f  1\n",
      "   6  1.4003397e+00 7.77e-16 1.50e-09  -3.8 1.75e-03    -  1.00e+00 1.00e+00f  1\n",
      "   7  1.4000038e+00 2.96e-13 1.85e-11  -5.7 9.76e-05    -  1.00e+00 1.00e+00f  1\n",
      "   8  1.4000000e+00 1.11e-16 2.64e-14  -8.6 9.93e-07    -  1.00e+00 1.00e+00f  1\n",
      "\n",
      "Number of Iterations....: 8\n",
      "\n",
      "                                   (scaled)                 (unscaled)\n",
      "Objective...............:   1.3999999650258146e+00    1.3999999650258146e+00\n",
      "Dual infeasibility......:   2.6396833124279345e-14    2.6396833124279345e-14\n",
      "Constraint violation....:   1.1102230246251565e-16    1.1102230246251565e-16\n",
      "Complementarity.........:   2.5265294988375286e-09    2.5265294988375286e-09\n",
      "Overall NLP error.......:   2.5265294988375286e-09    2.5265294988375286e-09\n",
      "\n",
      "\n",
      "Number of objective function evaluations             = 10\n",
      "Number of objective gradient evaluations             = 9\n",
      "Number of equality constraint evaluations            = 10\n",
      "Number of inequality constraint evaluations          = 0\n",
      "Number of equality constraint Jacobian evaluations   = 1\n",
      "Number of inequality constraint Jacobian evaluations = 0\n",
      "Number of Lagrangian Hessian evaluations             = 1\n",
      "Total CPU secs in IPOPT (w/o function evaluations)   =      0.406\n",
      "Total CPU secs in NLP function evaluations           =      0.134\n",
      "\n",
      "EXIT: Optimal Solution Found.\n"
     ]
    }
   ],
   "source": [
    "optimize!(model)"
   ]
  },
  {
   "cell_type": "code",
   "execution_count": 14,
   "metadata": {},
   "outputs": [
    {
     "data": {
      "text/plain": [
       "1.3999999650258146"
      ]
     },
     "execution_count": 14,
     "metadata": {},
     "output_type": "execute_result"
    }
   ],
   "source": [
    "objective_value(model)"
   ]
  },
  {
   "cell_type": "code",
   "execution_count": 15,
   "metadata": {},
   "outputs": [
    {
     "data": {
      "text/plain": [
       "3×2 Matrix{Float64}:\n",
       " 0.2  0.0\n",
       " 0.3  0.1\n",
       " 0.0  0.4"
      ]
     },
     "execution_count": 15,
     "metadata": {},
     "output_type": "execute_result"
    }
   ],
   "source": [
    "#Extraigo el valor optimo\n",
    "value.(A)"
   ]
  },
  {
   "cell_type": "code",
   "execution_count": 16,
   "metadata": {},
   "outputs": [
    {
     "data": {
      "text/plain": [
       "3×1 Matrix{Float64}:\n",
       " -10.984989336764812\n",
       "  -9.984989332634358\n",
       " -10.984989313845889"
      ]
     },
     "execution_count": 16,
     "metadata": {},
     "output_type": "execute_result"
    }
   ],
   "source": [
    "#Extraigo los multiplicadores de p\n",
    "lambda = dual.(conp)"
   ]
  },
  {
   "cell_type": "code",
   "execution_count": 17,
   "metadata": {},
   "outputs": [
    {
     "data": {
      "text/plain": [
       "1×2 Matrix{Float64}:\n",
       " 11.985  11.985"
      ]
     },
     "execution_count": 17,
     "metadata": {},
     "output_type": "execute_result"
    }
   ],
   "source": [
    "#Extraigo los multiplicadores de q\n",
    "mu = dual.(conq)"
   ]
  },
  {
   "cell_type": "code",
   "execution_count": 18,
   "metadata": {},
   "outputs": [
    {
     "data": {
      "text/plain": [
       "3×2 Matrix{Float64}:\n",
       " 1.0  3.0\n",
       " 2.0  2.0\n",
       " 3.0  1.0"
      ]
     },
     "execution_count": 18,
     "metadata": {},
     "output_type": "execute_result"
    }
   ],
   "source": [
    "W"
   ]
  },
  {
   "cell_type": "code",
   "execution_count": 19,
   "metadata": {},
   "outputs": [
    {
     "data": {
      "text/plain": [
       "3×2 Matrix{Float64}:\n",
       " 1.0  1.0\n",
       " 2.0  2.0\n",
       " 1.0  1.0"
      ]
     },
     "execution_count": 19,
     "metadata": {},
     "output_type": "execute_result"
    }
   ],
   "source": [
    "lambda * ones(1,n) + ones(m,1)*mu"
   ]
  }
 ],
 "metadata": {
  "@webio": {
   "lastCommId": null,
   "lastKernelId": null
  },
  "hide_input": false,
  "kernelspec": {
   "display_name": "Julia (4 threads) 1.6.1",
   "language": "julia",
   "name": "julia-(4-threads)-1.6"
  },
  "language_info": {
   "file_extension": ".jl",
   "mimetype": "application/julia",
   "name": "julia",
   "version": "1.6.1"
  }
 },
 "nbformat": 4,
 "nbformat_minor": 4
}
