{
 "cells": [
  {
   "cell_type": "code",
   "execution_count": null,
   "id": "fcd9811f-9aac-40b2-a46c-5983e6748737",
   "metadata": {},
   "outputs": [],
   "source": [
    "#using Pkg\n",
    "#Pkg.add(\"GR\")"
   ]
  },
  {
   "cell_type": "code",
   "execution_count": null,
   "id": "3e3469fb",
   "metadata": {},
   "outputs": [],
   "source": [
    "using Distributions, Plots, GeometryBasics, VoronoiCells\n",
    "default(size=(800,600))"
   ]
  },
  {
   "cell_type": "code",
   "execution_count": 24,
   "id": "63839bcc",
   "metadata": {},
   "outputs": [],
   "source": [
    "lambda_c=50.0\n",
    "lambda_a=5.0\n",
    "\n",
    "area_a = 4;\n",
    "\n",
    "Na = 20 #rand(Poisson(lambda_a*area_a))\n",
    "\n",
    "xa = rand(Uniform(-1,1),Na,2)\n",
    "\n",
    "Nc = 200 #rand(Poisson(lambda_c*area_a))\n",
    "xc = rand(Uniform(-1,1),Nc,2);"
   ]
  },
  {
   "cell_type": "code",
   "execution_count": 25,
   "id": "7764e75c",
   "metadata": {},
   "outputs": [],
   "source": [
    "d(x,y) = sqrt(sum((x-y).^2))\n",
    "W = [d(xa[i,:],xc[j,:]) for i=1:Na,j=1:Nc]\n",
    "\n",
    "attachs = zeros(Nc)\n",
    "\n",
    "for j=1:Nc    \n",
    "    _,idx = findmin(W[:,j])\n",
    "    attachs[j] = idx\n",
    "end\n",
    "attachs=Int64.(attachs);"
   ]
  },
  {
   "cell_type": "code",
   "execution_count": 26,
   "id": "f89845f2",
   "metadata": {},
   "outputs": [
    {
     "ename": "LoadError",
     "evalue": "UndefVarError: Point2 not defined",
     "output_type": "error",
     "traceback": [
      "UndefVarError: Point2 not defined",
      "",
      "Stacktrace:",
      " [1] top-level scope",
      "   @ In[26]:1",
      " [2] eval",
      "   @ ./boot.jl:373 [inlined]",
      " [3] include_string(mapexpr::typeof(REPL.softscope), mod::Module, code::String, filename::String)",
      "   @ Base ./loading.jl:1196"
     ]
    }
   ],
   "source": [
    "rect = Rectangle(Point2(-1.0, -1.0), Point2(1.0, 1.0))\n",
    "Xa = Point2{Float64}[]\n",
    "for i=1:size(xa,1)\n",
    "    aux = Point2(xa[i,1],xa[i,2])\n",
    "    push!(Xa,aux)\n",
    "end\n",
    "tess = voronoicells(Xa, rect);\n",
    "\n",
    "\n",
    "scatter(xa[:,1],xa[:,2], xlims=(-1,1), ylims=(-1,1), aspectratio=:equal, marker=:square)\n",
    "scatter!(xc[:,1], xc[:,2], legend=:none, colorbar=:none)\n",
    "\n",
    "for i=1:Nc\n",
    "    plot!([xc[i,1],xa[attachs[i],1]], [xc[i,2],xa[attachs[i],2]], color=:black, alpha=0.5)\n",
    "end\n",
    "\n",
    "plot!(tess, alpha=0.2, color=:green)"
   ]
  },
  {
   "cell_type": "code",
   "execution_count": null,
   "id": "3b341eb6",
   "metadata": {},
   "outputs": [],
   "source": [
    "using JuMP, Gurobi\n",
    "\n",
    "n=size(xa,1)\n",
    "m=size(xc,1)\n",
    "\n",
    "model = JuMP.Model(Gurobi.Optimizer)\n",
    "\n",
    "@variable(model,pi[1:m,1:n]>=0)\n",
    "\n",
    "@constraint(model, sum(pi,dims=2).== ones(m))\n",
    "@constraint(model, sum(pi,dims=1).<= 12*ones(1,n))\n",
    "\n",
    "@objective(model,Min,sum(pi.*W'))\n",
    "\n",
    "optimize!(model)\n",
    "\n",
    "sol = value.(pi)\n",
    "\n",
    "for i=1:Nc    \n",
    "    _,idx = findmax(sol[i,:])\n",
    "    attachs[i] = idx\n",
    "end\n",
    "\n",
    "attachs = Int64.(attachs);"
   ]
  },
  {
   "cell_type": "code",
   "execution_count": null,
   "id": "6fdac916",
   "metadata": {},
   "outputs": [],
   "source": [
    "scatter(xa[:,1],xa[:,2], xlims=(-1,1), ylims=(-1,1), aspectratio=:equal, marker=:square)\n",
    "scatter!(xc[:,1], xc[:,2], legend=:none, colorbar=:none)\n",
    "\n",
    "for i=1:Nc\n",
    "    plot!([xc[i,1],xa[attachs[i],1]], [xc[i,2],xa[attachs[i],2]], color=:black, alpha=0.5)\n",
    "end\n",
    "\n",
    "tess = voronoicells(Xa, rect);\n",
    "plot!(tess, alpha=0.2, color=:green)"
   ]
  }
 ],
 "metadata": {
  "kernelspec": {
   "display_name": "Julia 1.7.2",
   "language": "julia",
   "name": "julia-1.7"
  },
  "language_info": {
   "file_extension": ".jl",
   "mimetype": "application/julia",
   "name": "julia",
   "version": "1.7.2"
  }
 },
 "nbformat": 4,
 "nbformat_minor": 5
}
