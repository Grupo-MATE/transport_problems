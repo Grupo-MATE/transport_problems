{
 "cells": [
  {
   "cell_type": "code",
   "execution_count": 1,
   "id": "3e3469fb",
   "metadata": {},
   "outputs": [
    {
     "ename": "LoadError",
     "evalue": "ArgumentError: Package Distributions not found in current path:\n- Run `import Pkg; Pkg.add(\"Distributions\")` to install the Distributions package.\n",
     "output_type": "error",
     "traceback": [
      "ArgumentError: Package Distributions not found in current path:\n- Run `import Pkg; Pkg.add(\"Distributions\")` to install the Distributions package.\n",
      "",
      "Stacktrace:",
      " [1] require(into::Module, mod::Symbol)",
      "   @ Base .\\loading.jl:893",
      " [2] eval",
      "   @ .\\boot.jl:360 [inlined]",
      " [3] include_string(mapexpr::typeof(REPL.softscope), mod::Module, code::String, filename::String)",
      "   @ Base .\\loading.jl:1116"
     ]
    }
   ],
   "source": [
    "using Distributions, Plots, GeometryBasics, VoronoiCells\n",
    "default(size=(800,600))"
   ]
  },
  {
   "cell_type": "code",
   "execution_count": 2,
   "id": "63839bcc",
   "metadata": {},
   "outputs": [
    {
     "ename": "LoadError",
     "evalue": "UndefVarError: Uniform not defined",
     "output_type": "error",
     "traceback": [
      "UndefVarError: Uniform not defined",
      "",
      "Stacktrace:",
      " [1] top-level scope",
      "   @ In[2]:8",
      " [2] eval",
      "   @ .\\boot.jl:360 [inlined]",
      " [3] include_string(mapexpr::typeof(REPL.softscope), mod::Module, code::String, filename::String)",
      "   @ Base .\\loading.jl:1116"
     ]
    }
   ],
   "source": [
    "lambda_c=50.0\n",
    "lambda_a=5.0\n",
    "\n",
    "area_a = 4;\n",
    "\n",
    "Na = 20 #rand(Poisson(lambda_a*area_a))\n",
    "\n",
    "xa = rand(Uniform(-1,1),Na,2)\n",
    "\n",
    "Nc = 200 #rand(Poisson(lambda_c*area_a))\n",
    "xc = rand(Uniform(-1,1),Nc,2);"
   ]
  },
  {
   "cell_type": "code",
   "execution_count": 3,
   "id": "7764e75c",
   "metadata": {},
   "outputs": [
    {
     "ename": "LoadError",
     "evalue": "UndefVarError: Nc not defined",
     "output_type": "error",
     "traceback": [
      "UndefVarError: Nc not defined",
      "",
      "Stacktrace:",
      " [1] top-level scope",
      "   @ In[3]:2",
      " [2] eval",
      "   @ .\\boot.jl:360 [inlined]",
      " [3] include_string(mapexpr::typeof(REPL.softscope), mod::Module, code::String, filename::String)",
      "   @ Base .\\loading.jl:1116"
     ]
    }
   ],
   "source": [
    "d(x,y) = sqrt(sum((x-y).^2))\n",
    "W = [d(xa[i,:],xc[j,:]) for i=1:Na,j=1:Nc]\n",
    "\n",
    "attachs = zeros(Nc)\n",
    "\n",
    "for j=1:Nc    \n",
    "    _,idx = findmin(W[:,j])\n",
    "    attachs[j] = idx\n",
    "end\n",
    "attachs=Int64.(attachs);"
   ]
  },
  {
   "cell_type": "code",
   "execution_count": 4,
   "id": "f89845f2",
   "metadata": {
    "scrolled": false
   },
   "outputs": [
    {
     "ename": "LoadError",
     "evalue": "UndefVarError: Point2 not defined",
     "output_type": "error",
     "traceback": [
      "UndefVarError: Point2 not defined",
      "",
      "Stacktrace:",
      " [1] top-level scope",
      "   @ In[4]:1",
      " [2] eval",
      "   @ .\\boot.jl:360 [inlined]",
      " [3] include_string(mapexpr::typeof(REPL.softscope), mod::Module, code::String, filename::String)",
      "   @ Base .\\loading.jl:1116"
     ]
    }
   ],
   "source": [
    "rect = Rectangle(Point2(-1.0, -1.0), Point2(1.0, 1.0))\n",
    "Xa = Point2{Float64}[]\n",
    "for i=1:size(xa,1)\n",
    "    aux = Point2(xa[i,1],xa[i,2])\n",
    "    push!(Xa,aux)\n",
    "end\n",
    "tess = voronoicells(Xa, rect);\n",
    "\n",
    "\n",
    "scatter(xa[:,1],xa[:,2], xlims=(-1,1), ylims=(-1,1), aspectratio=:equal, marker=:square)\n",
    "scatter!(xc[:,1], xc[:,2], legend=:none, colorbar=:none)\n",
    "\n",
    "for i=1:Nc\n",
    "    plot!([xc[i,1],xa[attachs[i],1]], [xc[i,2],xa[attachs[i],2]], color=:black, alpha=0.5)\n",
    "end\n",
    "\n",
    "plot!(tess, alpha=0.2, color=:green)"
   ]
  },
  {
   "cell_type": "code",
   "execution_count": 5,
   "id": "3b341eb6",
   "metadata": {
    "scrolled": false
   },
   "outputs": [
    {
     "ename": "LoadError",
     "evalue": "ArgumentError: Package Gurobi not found in current path:\n- Run `import Pkg; Pkg.add(\"Gurobi\")` to install the Gurobi package.\n",
     "output_type": "error",
     "traceback": [
      "ArgumentError: Package Gurobi not found in current path:\n- Run `import Pkg; Pkg.add(\"Gurobi\")` to install the Gurobi package.\n",
      "",
      "Stacktrace:",
      " [1] require(into::Module, mod::Symbol)",
      "   @ Base .\\loading.jl:893",
      " [2] eval",
      "   @ .\\boot.jl:360 [inlined]",
      " [3] include_string(mapexpr::typeof(REPL.softscope), mod::Module, code::String, filename::String)",
      "   @ Base .\\loading.jl:1116"
     ]
    }
   ],
   "source": [
    "using JuMP, Gurobi\n",
    "\n",
    "n=size(xa,1)\n",
    "m=size(xc,1)\n",
    "\n",
    "model = JuMP.Model(Gurobi.Optimizer)\n",
    "\n",
    "@variable(model,pi[1:m,1:n]>=0)\n",
    "\n",
    "@constraint(model, sum(pi,dims=2).== ones(m))\n",
    "@constraint(model, sum(pi,dims=1).<= 12*ones(1,n))\n",
    "\n",
    "@objective(model,Min,sum(pi.*W'))\n",
    "\n",
    "optimize!(model)\n",
    "\n",
    "sol = value.(pi)\n",
    "\n",
    "for i=1:Nc    \n",
    "    _,idx = findmax(sol[i,:])\n",
    "    attachs[i] = idx\n",
    "end\n",
    "\n",
    "attachs = Int64.(attachs);"
   ]
  },
  {
   "cell_type": "code",
   "execution_count": 6,
   "id": "6fdac916",
   "metadata": {},
   "outputs": [
    {
     "ename": "LoadError",
     "evalue": "UndefVarError: xa not defined",
     "output_type": "error",
     "traceback": [
      "UndefVarError: xa not defined",
      "",
      "Stacktrace:",
      " [1] top-level scope",
      "   @ In[6]:1",
      " [2] eval",
      "   @ .\\boot.jl:360 [inlined]",
      " [3] include_string(mapexpr::typeof(REPL.softscope), mod::Module, code::String, filename::String)",
      "   @ Base .\\loading.jl:1116"
     ]
    }
   ],
   "source": [
    "scatter(xa[:,1],xa[:,2], xlims=(-1,1), ylims=(-1,1), aspectratio=:equal, marker=:square)\n",
    "scatter!(xc[:,1], xc[:,2], legend=:none, colorbar=:none)\n",
    "\n",
    "for i=1:Nc\n",
    "    plot!([xc[i,1],xa[attachs[i],1]], [xc[i,2],xa[attachs[i],2]], color=:black, alpha=0.5)\n",
    "end\n",
    "\n",
    "tess = voronoicells(Xa, rect);\n",
    "plot!(tess, alpha=0.2, color=:green)"
   ]
  }
 ],
 "metadata": {
  "kernelspec": {
   "display_name": "Julia 1.6.5",
   "language": "julia",
   "name": "julia-1.6"
  },
  "language_info": {
   "file_extension": ".jl",
   "mimetype": "application/julia",
   "name": "julia",
   "version": "1.6.5"
  }
 },
 "nbformat": 4,
 "nbformat_minor": 5
}
