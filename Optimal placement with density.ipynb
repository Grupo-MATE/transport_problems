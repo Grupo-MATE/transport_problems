{
 "cells": [
  {
   "cell_type": "code",
   "execution_count": 1,
   "id": "95f1d486",
   "metadata": {},
   "outputs": [],
   "source": [
    "using JuMP, Ipopt, Plots\n",
    "default(size=(1000,600))"
   ]
  },
  {
   "cell_type": "code",
   "execution_count": 2,
   "id": "7ffa847c",
   "metadata": {},
   "outputs": [
    {
     "data": {
      "text/plain": [
       "200×200 Matrix{Vector{Float64}}:\n",
       " [-1.0, -1.0]   [-1.0, -0.99]   …  [-1.0, 0.98]   [-1.0, 0.99]\n",
       " [-0.99, -1.0]  [-0.99, -0.99]     [-0.99, 0.98]  [-0.99, 0.99]\n",
       " [-0.98, -1.0]  [-0.98, -0.99]     [-0.98, 0.98]  [-0.98, 0.99]\n",
       " [-0.97, -1.0]  [-0.97, -0.99]     [-0.97, 0.98]  [-0.97, 0.99]\n",
       " [-0.96, -1.0]  [-0.96, -0.99]     [-0.96, 0.98]  [-0.96, 0.99]\n",
       " [-0.95, -1.0]  [-0.95, -0.99]  …  [-0.95, 0.98]  [-0.95, 0.99]\n",
       " [-0.94, -1.0]  [-0.94, -0.99]     [-0.94, 0.98]  [-0.94, 0.99]\n",
       " [-0.93, -1.0]  [-0.93, -0.99]     [-0.93, 0.98]  [-0.93, 0.99]\n",
       " [-0.92, -1.0]  [-0.92, -0.99]     [-0.92, 0.98]  [-0.92, 0.99]\n",
       " [-0.91, -1.0]  [-0.91, -0.99]     [-0.91, 0.98]  [-0.91, 0.99]\n",
       " [-0.9, -1.0]   [-0.9, -0.99]   …  [-0.9, 0.98]   [-0.9, 0.99]\n",
       " [-0.89, -1.0]  [-0.89, -0.99]     [-0.89, 0.98]  [-0.89, 0.99]\n",
       " [-0.88, -1.0]  [-0.88, -0.99]     [-0.88, 0.98]  [-0.88, 0.99]\n",
       " ⋮                              ⋱                 \n",
       " [0.88, -1.0]   [0.88, -0.99]      [0.88, 0.98]   [0.88, 0.99]\n",
       " [0.89, -1.0]   [0.89, -0.99]      [0.89, 0.98]   [0.89, 0.99]\n",
       " [0.9, -1.0]    [0.9, -0.99]    …  [0.9, 0.98]    [0.9, 0.99]\n",
       " [0.91, -1.0]   [0.91, -0.99]      [0.91, 0.98]   [0.91, 0.99]\n",
       " [0.92, -1.0]   [0.92, -0.99]      [0.92, 0.98]   [0.92, 0.99]\n",
       " [0.93, -1.0]   [0.93, -0.99]      [0.93, 0.98]   [0.93, 0.99]\n",
       " [0.94, -1.0]   [0.94, -0.99]      [0.94, 0.98]   [0.94, 0.99]\n",
       " [0.95, -1.0]   [0.95, -0.99]   …  [0.95, 0.98]   [0.95, 0.99]\n",
       " [0.96, -1.0]   [0.96, -0.99]      [0.96, 0.98]   [0.96, 0.99]\n",
       " [0.97, -1.0]   [0.97, -0.99]      [0.97, 0.98]   [0.97, 0.99]\n",
       " [0.98, -1.0]   [0.98, -0.99]      [0.98, 0.98]   [0.98, 0.99]\n",
       " [0.99, -1.0]   [0.99, -0.99]      [0.99, 0.98]   [0.99, 0.99]"
      ]
     },
     "execution_count": 2,
     "metadata": {},
     "output_type": "execute_result"
    }
   ],
   "source": [
    "dx=0.01\n",
    "dy=0.01\n",
    "\n",
    "grid = [[x;y] for x in -1:dx:1-dx, y in -1:dx:1-dy]"
   ]
  },
  {
   "cell_type": "code",
   "execution_count": 3,
   "id": "86e87351",
   "metadata": {},
   "outputs": [
    {
     "data": {
      "text/plain": [
       "integrate2 (generic function with 1 method)"
      ]
     },
     "execution_count": 3,
     "metadata": {},
     "output_type": "execute_result"
    }
   ],
   "source": [
    "function integrate2(h,grid,dx,dy)\n",
    "    return sum(h.(grid)*dx*dy)\n",
    "end"
   ]
  },
  {
   "cell_type": "code",
   "execution_count": 4,
   "id": "42937f18",
   "metadata": {},
   "outputs": [
    {
     "data": {
      "text/plain": [
       "4.0"
      ]
     },
     "execution_count": 4,
     "metadata": {},
     "output_type": "execute_result"
    }
   ],
   "source": [
    "#h raised cos\n",
    "h(x,y)=1+cos(2*pi*x)*cos(2*pi*y)\n",
    "h(v)=h(v...)\n",
    "integrate2(h,grid,dx,dy)"
   ]
  },
  {
   "cell_type": "code",
   "execution_count": 5,
   "id": "bc1f2cd9",
   "metadata": {},
   "outputs": [
    {
     "data": {
      "text/plain": [
       "1.0"
      ]
     },
     "execution_count": 5,
     "metadata": {},
     "output_type": "execute_result"
    }
   ],
   "source": [
    "#h uniforme\n",
    "h(x,y)=0.25\n",
    "h(v)=h(v...)\n",
    "integrate2(h,grid,dx,dy)"
   ]
  },
  {
   "cell_type": "code",
   "execution_count": 6,
   "id": "7246c6fd",
   "metadata": {},
   "outputs": [],
   "source": [
    "## Optimizo placement\n",
    "\n",
    "n=2\n",
    "\n",
    "model = JuMP.Model(Ipopt.Optimizer)\n",
    "\n",
    "@variable(model,-1<=y[1:n,1:2]<=1)\n",
    "\n",
    "expr=[];\n",
    "\n",
    "for j=1:n\n",
    "    for i=1:length(grid[:])\n",
    "        name=Symbol(\"d_$(i)$(j)\")\n",
    "        ####falta agregar sqrt sin que de problemas numericos!!\n",
    "        register(model, name, 2, (y1,y2)->sqrt(.001+(grid[i][1]-y1)^2+(grid[i][2]-y2)^2) ,autodiff = true)\n",
    "        expr_i = add_nonlinear_expression(model, :($name($(y[j,1]),$(y[j,2]))))\n",
    "        push!(expr,expr_i)\n",
    "    end\n",
    "end\n",
    "@NLobjective(model,Min,sum(expr_i for expr_i in expr))\n",
    "\n",
    "#print(model)\n",
    "#expr"
   ]
  },
  {
   "cell_type": "code",
   "execution_count": 7,
   "id": "fca20f05",
   "metadata": {},
   "outputs": [
    {
     "name": "stdout",
     "output_type": "stream",
     "text": [
      "\n",
      "******************************************************************************\n",
      "This program contains Ipopt, a library for large-scale nonlinear optimization.\n",
      " Ipopt is released as open source code under the Eclipse Public License (EPL).\n",
      "         For more information visit https://github.com/coin-or/Ipopt\n",
      "******************************************************************************\n",
      "\n",
      "This is Ipopt version 3.14.4, running with linear solver MUMPS 5.4.1.\n",
      "\n",
      "Number of nonzeros in equality constraint Jacobian...:        0\n",
      "Number of nonzeros in inequality constraint Jacobian.:        0\n",
      "Number of nonzeros in Lagrangian Hessian.............:        0\n",
      "\n",
      "Total number of variables............................:        4\n",
      "                     variables with only lower bounds:        0\n",
      "                variables with lower and upper bounds:        4\n",
      "                     variables with only upper bounds:        0\n",
      "Total number of equality constraints.................:        0\n",
      "Total number of inequality constraints...............:        0\n",
      "        inequality constraints with only lower bounds:        0\n",
      "   inequality constraints with lower and upper bounds:        0\n",
      "        inequality constraints with only upper bounds:        0\n",
      "\n",
      "iter    objective    inf_pr   inf_du lg(mu)  ||d||  lg(rg) alpha_du alpha_pr  ls\n",
      "   0  6.1286031e+04 0.00e+00 1.00e+02   0.0 0.00e+00    -  0.00e+00 0.00e+00   0\n",
      "   1  6.1284796e+04 0.00e+00 1.21e+02   1.5 3.33e+01    -  1.00e+00 2.32e-04f  8\n",
      "   2  6.1284269e+04 0.00e+00 1.40e-01  -0.1 2.73e-03    -  9.98e-01 1.00e+00f  1\n",
      "   3  6.1284269e+04 0.00e+00 3.57e-04  -6.2 8.81e-06    -  9.90e-01 1.00e+00f  1\n",
      "   4  6.1284269e+04 0.00e+00 2.63e-06  -8.2 5.91e-10    -  9.93e-01 1.00e+00f  1\n",
      "   5  6.1284269e+04 0.00e+00 1.15e-11  -4.4 1.98e-11    -  1.00e+00 1.00e+00f  1\n",
      "   6  6.1284269e+04 0.00e+00 1.46e-11  -6.6 1.97e-11    -  1.00e+00 1.00e+00f  1\n",
      "   7  6.1284269e+04 0.00e+00 1.25e-09 -11.0 1.25e-13    -  1.00e+00 5.00e-01f  2\n",
      "\n",
      "Number of Iterations....: 7\n",
      "\n",
      "                                   (scaled)                 (unscaled)\n",
      "Objective...............:   3.4780400261880000e+04    6.1284269384485553e+04\n",
      "Dual infeasibility......:   1.2463375776574994e-09    2.1960899609566694e-09\n",
      "Constraint violation....:   0.0000000000000000e+00    0.0000000000000000e+00\n",
      "Variable bound violation:   0.0000000000000000e+00    0.0000000000000000e+00\n",
      "Complementarity.........:   1.0000000031429145e-11    1.7620346262738537e-11\n",
      "Overall NLP error.......:   1.2463375776574994e-09    2.1960899609566694e-09\n",
      "\n",
      "\n",
      "Number of objective function evaluations             = 24\n",
      "Number of objective gradient evaluations             = 8\n",
      "Number of equality constraint evaluations            = 0\n",
      "Number of inequality constraint evaluations          = 0\n",
      "Number of equality constraint Jacobian evaluations   = 0\n",
      "Number of inequality constraint Jacobian evaluations = 0\n",
      "Number of Lagrangian Hessian evaluations             = 0\n",
      "Total seconds in IPOPT                               = 3.865\n",
      "\n",
      "EXIT: Optimal Solution Found.\n"
     ]
    }
   ],
   "source": [
    "optimize!(model)"
   ]
  },
  {
   "cell_type": "code",
   "execution_count": 8,
   "id": "e97a9374",
   "metadata": {},
   "outputs": [
    {
     "data": {
      "text/plain": [
       "* Solver : Ipopt\n",
       "\n",
       "* Status\n",
       "  Termination status : LOCALLY_SOLVED\n",
       "  Primal status      : FEASIBLE_POINT\n",
       "  Dual status        : FEASIBLE_POINT\n",
       "  Message from the solver:\n",
       "  \"Solve_Succeeded\"\n",
       "\n",
       "* Candidate solution\n",
       "  Objective value      : 6.12843e+04\n",
       "  Dual objective value : -7.04832e-13\n",
       "\n",
       "* Work counters\n",
       "  Solve time (sec)   : 3.86605e+00\n"
      ]
     },
     "execution_count": 8,
     "metadata": {},
     "output_type": "execute_result"
    }
   ],
   "source": [
    "solution_summary(model)"
   ]
  },
  {
   "cell_type": "code",
   "execution_count": 9,
   "id": "a1084868",
   "metadata": {},
   "outputs": [
    {
     "data": {
      "text/plain": [
       "2×2 Matrix{Float64}:\n",
       " -0.005  -0.005\n",
       " -0.005  -0.005"
      ]
     },
     "execution_count": 9,
     "metadata": {},
     "output_type": "execute_result"
    }
   ],
   "source": [
    "value.(y)"
   ]
  },
  {
   "cell_type": "code",
   "execution_count": null,
   "id": "0cbc081d",
   "metadata": {},
   "outputs": [],
   "source": []
  }
 ],
 "metadata": {
  "kernelspec": {
   "display_name": "Julia 1.7.3",
   "language": "julia",
   "name": "julia-1.7"
  },
  "language_info": {
   "file_extension": ".jl",
   "mimetype": "application/julia",
   "name": "julia",
   "version": "1.7.3"
  }
 },
 "nbformat": 4,
 "nbformat_minor": 5
}
