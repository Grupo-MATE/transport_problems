{
 "cells": [
  {
   "cell_type": "markdown",
   "id": "e9321ba9-a3c5-479a-a9fd-1e09fa13fd56",
   "metadata": {},
   "source": [
    "# Problema de transporte discreto - Destinos variables - Con término cuadrático\n",
    "\n",
    "Dadas dos distribuciones de probabilidad discretas:\n",
    "\n",
    "* $X$: con soporte $x_1<x_2<\\ldots<x_m$ con probabilidades $P(X=x_i) = p_i$.\n",
    "* $Y$: con soporte $y_1<y_2<\\ldots<y_n$ con probabilidades $P(Y=y_j) = q_j$.\n",
    "\n",
    "Queremos hallar una distribución conjunta $A=(a_{ij}) \\geqslant 0$ tal que:\n",
    "\n",
    "$$\\min_{a_{ij}} \\sum_{i,j} a_{ij} c_{ij} + \\epsilon \\sum_{j}\\phi (q_{j})$$\n",
    "\n",
    "sujeto a:\n",
    "\n",
    "$$\\sum_j a_{ij} = p_i \\quad \\forall i=1,\\ldots,m,$$\n",
    "\n",
    "$$\\sum_i a_{ij} = q_j \\leq m/(n-1)*\\theta \\quad \\forall j=1,\\ldots,(n-1) \\,\\,(VAR)$$ \n",
    "\n",
    "$$\\sum_i a_{in} = q_n \\quad .$$ \n",
    "\n"
   ]
  },
  {
   "cell_type": "markdown",
   "id": "a0cd83c1-cd46-4c1b-9af1-5b6d1221103b",
   "metadata": {},
   "source": [
    "## Caso 3: \n",
    "### Cargador lejano con capacidad infinita\n",
    "\n",
    "$x_{i}, y_{j} \\in R^{2}$\n",
    "\n",
    "$c_{ij} = |x_{i} - y_{j}|$\n",
    "\n",
    "$\\phi(x) = \\frac{x^{2}}{2}$"
   ]
  },
  {
   "cell_type": "code",
   "execution_count": 1,
   "id": "19771af2-8ad8-4e31-8332-d0292d9a53e8",
   "metadata": {},
   "outputs": [],
   "source": [
    "## Configuración inicial\n",
    "\n",
    "# m = cantidad de vehículos\n",
    "m = 100;\n",
    "x = sortslices(rand(m,2), dims = 1);\n",
    "p = 2*rand(m) # No son los autos, sino cantida de carga que necesitan (uniforme [0,2] -> media 1)\n",
    "\n",
    "# n = cantidad de cargadores (totales)\n",
    "n = 6;\n",
    "y = sortslices(rand(n,2), dims = 1);\n",
    "y = vcat(y, [2 0.5]) #Se agrega un cargador lejano\n",
    "n=size(y)[1];"
   ]
  },
  {
   "cell_type": "code",
   "execution_count": 2,
   "id": "87132a0a-e86c-41a0-9835-6e671a4a06ac",
   "metadata": {},
   "outputs": [],
   "source": [
    "# l = factor limitanta de capacidad de cargadores\n",
    "l = 0.5;\n",
    "\n",
    "# k = cantidad de iteraciones de K-means\n",
    "k = 5;"
   ]
  },
  {
   "cell_type": "code",
   "execution_count": 3,
   "id": "c28eae0e-0aba-4a9e-8bee-0c6c656c9391",
   "metadata": {},
   "outputs": [
    {
     "data": {
      "text/plain": [
       "A JuMP Model\n",
       "Minimization problem with:\n",
       "Variables: 707\n",
       "Objective function type: QuadExpr\n",
       "`AffExpr`-in-`MathOptInterface.EqualTo{Float64}`: 107 constraints\n",
       "`VariableRef`-in-`MathOptInterface.GreaterThan{Float64}`: 700 constraints\n",
       "`VariableRef`-in-`MathOptInterface.LessThan{Float64}`: 6 constraints\n",
       "Model mode: AUTOMATIC\n",
       "CachingOptimizer state: EMPTY_OPTIMIZER\n",
       "Solver name: Ipopt\n",
       "Names registered in the model: A, q1, q2"
      ]
     },
     "execution_count": 3,
     "metadata": {},
     "output_type": "execute_result"
    }
   ],
   "source": [
    "# Creación del modelo\n",
    "\n",
    "using JuMP, GLPK, Ipopt\n",
    "#revisar paquete distances.JL\n",
    "\n",
    "#epsilon\n",
    "eps =0.01 #200\n",
    "\n",
    "#model = JuMP.Model(GLPK.Optimizer) #Algoritmo de programación lineal\n",
    "model = JuMP.Model(Ipopt.Optimizer) #Algoritmo de punto interior\n",
    "\n",
    "#Calculo los pesos Cij = |xi-yj| (distancia euclidea en R^2)\n",
    "w1 = (x[:,1]*ones(1,n) - ones(m,1)*y[:,1]').^2\n",
    "w2 = (x[:,2]*ones(1,n) - ones(m,1)*y[:,2]').^2\n",
    "W=(w1+w2).^(1/2)\n",
    "\n",
    "@variable(model,A[1:m,1:n]>=0)\n",
    "@variable(model,q1[1:n-1]<=(m/(n-1)*l)) # carga máxima por auto con tolerancia\n",
    "@variable(model,q2) #ultimo cargador sin límite\n",
    "\n",
    "conp = @constraint(model, sum(A, dims=2).==p)\n",
    "conq = @constraint(model, sum(A, dims=1).==vcat(q1,q2)')\n",
    "#conq2 = @constraint(model, sum(A[:, n], dims=1).==q2')\n",
    "\n",
    "@objective(model,Min, sum( A.*W ) + eps/2 * (vcat(q1,q2)'*vcat(q1,q2)) )\n",
    "#@objective(model,Min, sum( A.*W ))\n",
    "\n",
    "model"
   ]
  },
  {
   "cell_type": "code",
   "execution_count": null,
   "id": "57815ba5-2216-4bc9-816b-d8aa327a43a8",
   "metadata": {},
   "outputs": [],
   "source": [
    "optimize!(model);"
   ]
  },
  {
   "cell_type": "code",
   "execution_count": null,
   "id": "e22dc1eb-7af4-4573-be9a-86da7e0a47d2",
   "metadata": {},
   "outputs": [],
   "source": [
    "objective_value(model)"
   ]
  },
  {
   "cell_type": "code",
   "execution_count": null,
   "id": "e7bd5c1f-031b-4f79-a596-b51e8751d8c8",
   "metadata": {},
   "outputs": [],
   "source": [
    "#Extraigo el valor optimo\n",
    "#value.(A)\n",
    "round.(value.(A), digits=3)"
   ]
  },
  {
   "cell_type": "code",
   "execution_count": null,
   "id": "3cc1562e-6891-4c17-9515-93b599a0663f",
   "metadata": {},
   "outputs": [],
   "source": [
    "round.(value.(q1), digits=3)"
   ]
  },
  {
   "cell_type": "code",
   "execution_count": null,
   "id": "e894144f-31a9-42d9-82ce-f44311ac6c33",
   "metadata": {},
   "outputs": [],
   "source": [
    "round.(value.(q2), digits=3)"
   ]
  },
  {
   "cell_type": "code",
   "execution_count": null,
   "id": "2a8d8331-bb58-4f10-a1a8-07260c7eaba1",
   "metadata": {},
   "outputs": [],
   "source": [
    "#Extraigo los multiplicadores de p\n",
    "lambda = dual.(conp);"
   ]
  },
  {
   "cell_type": "code",
   "execution_count": null,
   "id": "0e94a4bd-9bf3-431c-aae1-83d8569de77b",
   "metadata": {},
   "outputs": [],
   "source": [
    "#Redondea los valores de A para que sean 0 o 1 (Probar)\n",
    "Ar = round.(value.(A));\n",
    "Ao = value.(A);\n",
    "\n",
    "#Separa los puntos por destino (buscando 1s)\n",
    "#X = [x[findall(x->x==1, Ar[:,i]),1] for i in 1:n];\n",
    "#Y = [x[findall(x->x==1, Ar[:,i]),2] for i in 1:n];\n",
    "\n",
    "#Separa los puntos por destino (buscando maximos)\n",
    "maximos = [argmax(Ao[i,:]) for i in 1:m];\n",
    "X = [x[findall(x->x==i, maximos),1] for i in 1:n];\n",
    "Y = [x[findall(x->x==i, maximos),2] for i in 1:n];"
   ]
  },
  {
   "cell_type": "code",
   "execution_count": null,
   "id": "4811818f-8a5f-443e-8813-cf540ff92246",
   "metadata": {},
   "outputs": [],
   "source": [
    "using VoronoiCells\n",
    "using GeometryBasics\n",
    "using Plots\n",
    "using Random\n",
    "\n",
    "gr()\n",
    "Plots.GRBackend()\n",
    "\n",
    "#crea la lista de destinos\n",
    "points = [Point2(y[i,1], y[i,2]) for i in 1:n] \n",
    "\n",
    "\n",
    "#Conjuntos de Voronoi\n",
    "rect = Rectangle(Point2(0, 0), Point2(3, 1))\n",
    "tess = voronoicells(points, rect);\n",
    "\n",
    "scatter(X, Y, aspect_ratio=:equal, markersize = 3, legend = :topright) #Grafica los origenes, con color por destino\n",
    "scatter!(y[:,1], y[:,2], markersize = 6, label = \"Destinos\") #Plotea los destinos\n",
    "annotate!([(points[i][1] + 0.02, points[i][2] + 0.03, text(i, :black)) for i in 1:n]) #Agrega lo números en los destinos\n",
    "plot!(tess, color = :black)"
   ]
  },
  {
   "cell_type": "code",
   "execution_count": null,
   "id": "5dbcdb1e-ba84-44f4-a902-3a027d4d992a",
   "metadata": {},
   "outputs": [],
   "source": []
  }
 ],
 "metadata": {
  "kernelspec": {
   "display_name": "Julia 1.7.2",
   "language": "julia",
   "name": "julia-1.7"
  },
  "language_info": {
   "file_extension": ".jl",
   "mimetype": "application/julia",
   "name": "julia",
   "version": "1.7.2"
  }
 },
 "nbformat": 4,
 "nbformat_minor": 5
}
