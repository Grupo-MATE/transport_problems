{
 "cells": [
  {
   "cell_type": "markdown",
   "metadata": {
    "tags": []
   },
   "source": [
    "# Problema de transporte discreto\n",
    "\n",
    "Dadas dos distribuciones de probabilidad discretas:\n",
    "\n",
    "* $X$: con soporte $x_1<x_2<\\ldots<x_m$ con probabilidades $P(X=x_i) = p_i$.\n",
    "* $Y$: con soporte $y_1<y_2<\\ldots<y_n$ con probabilidades $P(Y=y_j) = q_j$.\n",
    "\n",
    "Queremos hallar una distribución conjunta $A=(a_{ij}) \\geqslant 0$ tal que:\n",
    "\n",
    "$$\\min_{a_{ij}} \\sum_{i,j} a_{ij} |x_i-y_j|$$\n",
    "\n",
    "sujeto a:\n",
    "\n",
    "$$\\sum_j a_{ij} = p_i \\quad \\forall i=1,\\ldots,m,$$\n",
    "\n",
    "$$\\sum_i a_{ij} = q_j \\quad \\forall j=1,\\ldots,n.$$"
   ]
  },
  {
   "cell_type": "code",
   "execution_count": 11,
   "metadata": {},
   "outputs": [],
   "source": [
    "## Para instalar los paquetes del Project.toml la primera vez\n",
    "#using Pkg; Pkg.instantiate()"
   ]
  },
  {
   "cell_type": "code",
   "execution_count": 1,
   "metadata": {
    "tags": []
   },
   "outputs": [
    {
     "data": {
      "text/plain": [
       "A JuMP Model\n",
       "Minimization problem with:\n",
       "Variables: 6\n",
       "Objective function type: AffExpr\n",
       "`AffExpr`-in-`MathOptInterface.EqualTo{Float64}`: 5 constraints\n",
       "`VariableRef`-in-`MathOptInterface.GreaterThan{Float64}`: 6 constraints\n",
       "Model mode: AUTOMATIC\n",
       "CachingOptimizer state: EMPTY_OPTIMIZER\n",
       "Solver name: Ipopt\n",
       "Names registered in the model: A"
      ]
     },
     "execution_count": 1,
     "metadata": {},
     "output_type": "execute_result"
    }
   ],
   "source": [
    "using JuMP, GLPK, Ipopt\n",
    "\n",
    "#m=3\n",
    "x=[1.0;2.0;3.0]\n",
    "p=[0.2;0.4;0.4]\n",
    "\n",
    "#n=2\n",
    "y=[0;4.0]\n",
    "q=[0.5;0.5]\n",
    "\n",
    "#model = JuMP.Model(GLPK.Optimizer)\n",
    "model = JuMP.Model(Ipopt.Optimizer)\n",
    "\n",
    "\n",
    "m=length(x)\n",
    "n=length(y)\n",
    "\n",
    "#Calculo los pesos |xi-yj|\n",
    "W=abs.(x*ones(1,n) - ones(m,1)*y')\n",
    "\n",
    "@variable(model,A[1:m,1:n]>=0)\n",
    "\n",
    "conp = @constraint(model, sum(A, dims=2).==p)\n",
    "conq = @constraint(model, sum(A, dims=1).==q')\n",
    "\n",
    "@objective(model,Min, sum( A.*W ))\n",
    "\n",
    "model"
   ]
  },
  {
   "cell_type": "code",
   "execution_count": 2,
   "metadata": {},
   "outputs": [
    {
     "name": "stdout",
     "output_type": "stream",
     "text": [
      "\n",
      "******************************************************************************\n",
      "This program contains Ipopt, a library for large-scale nonlinear optimization.\n",
      " Ipopt is released as open source code under the Eclipse Public License (EPL).\n",
      "         For more information visit https://github.com/coin-or/Ipopt\n",
      "******************************************************************************\n",
      "\n",
      "This is Ipopt version 3.14.4, running with linear solver MUMPS 5.4.1.\n",
      "\n",
      "Number of nonzeros in equality constraint Jacobian...:       12\n",
      "Number of nonzeros in inequality constraint Jacobian.:        0\n",
      "Number of nonzeros in Lagrangian Hessian.............:        0\n",
      "\n",
      "Total number of variables............................:        6\n",
      "                     variables with only lower bounds:        6\n",
      "                variables with lower and upper bounds:        0\n",
      "                     variables with only upper bounds:        0\n",
      "Total number of equality constraints.................:        5\n",
      "Total number of inequality constraints...............:        0\n",
      "        inequality constraints with only lower bounds:        0\n",
      "   inequality constraints with lower and upper bounds:        0\n",
      "        inequality constraints with only upper bounds:        0\n",
      "\n",
      "iter    objective    inf_pr   inf_du lg(mu)  ||d||  lg(rg) alpha_du alpha_pr  ls\n",
      "   0  1.1999988e-01 4.70e-01 2.00e+00  -1.0 0.00e+00    -  0.00e+00 0.00e+00   0\n",
      "   1  2.6750973e-01 4.54e-01 2.99e+00  -1.0 1.85e-01    -  1.04e-01 1.98e-01h  1\n",
      "   2  2.0269993e+00 3.77e-08 2.95e+00  -1.7 3.60e-01    -  9.78e-02 1.00e+00h  1\n",
      "   3  1.9901062e+00 2.61e-08 2.97e+00  -2.5 3.16e-02    -  6.00e-01 3.09e-01f  1\n",
      "   4  1.4001563e+00 1.67e-08 2.97e+00  -3.8 8.03e-01    -  6.33e-03 3.68e-01f  1\n",
      "   5  1.4003013e+00 1.62e-08 2.00e+00  -3.8 2.29e-03    -  1.00e+00 3.12e-02f  6\n",
      "   6  1.4000037e+00 4.42e-10 2.00e+00  -5.7 1.15e-04    -  1.00e+00 1.00e+00f  1\n",
      "   7  1.4000000e+00 8.49e-11 2.00e+00  -8.6 9.48e-07    -  1.00e+00 1.00e+00h  1\n",
      "   8  1.4000000e+00 6.59e-11 2.00e+00  -9.0 8.12e-10    -  1.00e+00 1.00e+00h  1\n",
      "   9  1.4000000e+00 6.59e-11 2.00e+00  -9.0 3.40e-17    -  1.00e+00 1.00e+00   0\n",
      "iter    objective    inf_pr   inf_du lg(mu)  ||d||  lg(rg) alpha_du alpha_pr  ls\n",
      "  10  1.4000000e+00 6.59e-11 2.00e+00  -9.0 4.47e-17    -  1.00e+00 1.00e+00   0\n",
      "  11  1.4000000e+00 6.59e-11 2.00e+00  -9.0 4.42e-17    -  1.00e+00 1.00e+00   0\n",
      "  12  1.4000000e+00 6.59e-11 2.00e+00  -9.0 3.86e-17    -  1.00e+00 1.00e+00   0\n",
      "  13  1.4000000e+00 6.59e-11 2.00e+00  -9.0 2.83e-17    -  1.00e+00 1.00e+00   0\n",
      "  14  1.4000000e+00 6.59e-11 2.00e+00  -9.0 4.42e-17    -  1.00e+00 1.00e+00   0\n",
      "  15  1.4000000e+00 6.59e-11 2.00e+00  -9.0 6.08e-17    -  1.00e+00 1.00e+00   0\n",
      "  16  1.4000000e+00 6.59e-11 2.00e+00  -9.0 7.27e-17    -  1.00e+00 1.00e+00   0\n",
      "  17  1.4000000e+00 6.59e-11 2.00e+00  -9.0 4.41e-17    -  1.00e+00 1.00e+00   0\n",
      "  18  1.4000000e+00 6.59e-11 2.00e+00  -9.0 4.47e-17    -  1.00e+00 1.00e+00   0\n",
      "  19  1.4000000e+00 6.59e-11 2.00e+00  -9.0 4.41e-17    -  1.00e+00 1.00e+00   0\n",
      "iter    objective    inf_pr   inf_du lg(mu)  ||d||  lg(rg) alpha_du alpha_pr  ls\n",
      "  20  1.4000000e+00 6.59e-11 2.00e+00  -9.0 4.47e-17    -  1.00e+00 1.00e+00   0\n",
      "  21  1.4000000e+00 6.59e-11 2.00e+00  -9.0 4.41e-17    -  1.00e+00 1.00e+00   0\n",
      "\n",
      "Number of Iterations....: 21\n",
      "\n",
      "                                   (scaled)                 (unscaled)\n",
      "Objective...............:   1.3999999616644336e+00    1.3999999616644336e+00\n",
      "Dual infeasibility......:   1.9999999969696971e+00    1.9999999969696971e+00\n",
      "Constraint violation....:   6.5892069578410428e-11    6.5892069578410428e-11\n",
      "Variable bound violation:   9.5454545478650143e-09    9.5454545478650143e-09\n",
      "Complementarity.........:   9.0909090909090982e-10    9.0909090909090982e-10\n",
      "Overall NLP error.......:   9.0909090909090982e-10    1.9999999969696971e+00\n",
      "\n",
      "\n",
      "Number of objective function evaluations             = 27\n",
      "Number of objective gradient evaluations             = 22\n",
      "Number of equality constraint evaluations            = 27\n",
      "Number of inequality constraint evaluations          = 0\n",
      "Number of equality constraint Jacobian evaluations   = 1\n",
      "Number of inequality constraint Jacobian evaluations = 0\n",
      "Number of Lagrangian Hessian evaluations             = 1\n",
      "Total seconds in IPOPT                               = 0.127\n",
      "\n",
      "EXIT: Solved To Acceptable Level.\n"
     ]
    }
   ],
   "source": [
    "optimize!(model)"
   ]
  },
  {
   "cell_type": "code",
   "execution_count": 3,
   "metadata": {},
   "outputs": [
    {
     "data": {
      "text/plain": [
       "1.3999999616644336"
      ]
     },
     "execution_count": 3,
     "metadata": {},
     "output_type": "execute_result"
    }
   ],
   "source": [
    "objective_value(model)"
   ]
  },
  {
   "cell_type": "code",
   "execution_count": 4,
   "metadata": {},
   "outputs": [
    {
     "data": {
      "text/plain": [
       "3×2 Matrix{Float64}:\n",
       "  0.2         -9.54545e-9\n",
       "  0.3          0.1\n",
       " -9.54545e-9   0.4"
      ]
     },
     "execution_count": 4,
     "metadata": {},
     "output_type": "execute_result"
    }
   ],
   "source": [
    "#Extraigo el valor optimo\n",
    "value.(A)"
   ]
  },
  {
   "cell_type": "code",
   "execution_count": 5,
   "metadata": {},
   "outputs": [
    {
     "data": {
      "text/plain": [
       "3×1 Matrix{Float64}:\n",
       " 1.7120871502758715e18\n",
       " 1.7120871502758715e18\n",
       " 1.7120871502758715e18"
      ]
     },
     "execution_count": 5,
     "metadata": {},
     "output_type": "execute_result"
    }
   ],
   "source": [
    "#Extraigo los multiplicadores de p\n",
    "lambda = dual.(conp)"
   ]
  },
  {
   "cell_type": "code",
   "execution_count": 6,
   "metadata": {},
   "outputs": [
    {
     "data": {
      "text/plain": [
       "1×2 Matrix{Float64}:\n",
       " -1.71209e18  -1.71209e18"
      ]
     },
     "execution_count": 6,
     "metadata": {},
     "output_type": "execute_result"
    }
   ],
   "source": [
    "#Extraigo los multiplicadores de q\n",
    "mu = dual.(conq)"
   ]
  },
  {
   "cell_type": "code",
   "execution_count": 7,
   "metadata": {},
   "outputs": [
    {
     "data": {
      "text/plain": [
       "3×2 Matrix{Float64}:\n",
       " 1.0  3.0\n",
       " 2.0  2.0\n",
       " 3.0  1.0"
      ]
     },
     "execution_count": 7,
     "metadata": {},
     "output_type": "execute_result"
    }
   ],
   "source": [
    "W"
   ]
  },
  {
   "cell_type": "code",
   "execution_count": 8,
   "metadata": {},
   "outputs": [
    {
     "data": {
      "text/plain": [
       "3×2 Matrix{Float64}:\n",
       " 0.0  0.0\n",
       " 0.0  0.0\n",
       " 0.0  0.0"
      ]
     },
     "execution_count": 8,
     "metadata": {},
     "output_type": "execute_result"
    }
   ],
   "source": [
    "lambda * ones(1,n) + ones(m,1)*mu"
   ]
  },
  {
   "cell_type": "markdown",
   "metadata": {},
   "source": [
    "# Problema de transporte discreto - Cantidad de destinos variable\n",
    "\n",
    "Dadas dos distribuciones de probabilidad discretas:\n",
    "\n",
    "* $X$: con soporte $x_1<x_2<\\ldots<x_m$ con probabilidades $P(X=x_i) = p_i$.\n",
    "* $Y$: con soporte $y_1<y_2<\\ldots<y_n$ con probabilidades $P(Y=y_j) = q_j$.\n",
    "\n",
    "Queremos hallar una distribución conjunta $A=(a_{ij}) \\geqslant 0$ tal que:\n",
    "\n",
    "$$\\min_{a_{ij}} \\sum_{i,j} a_{ij} |x_i-y_j| + \\epsilon \\sum_{j} \\phi(q_{j})$$\n",
    "\n",
    "sujeto a:\n",
    "\n",
    "$$\\sum_j a_{ij} = p_i \\quad \\forall i=1,\\ldots,m,$$\n",
    "\n",
    "$$\\sum_i a_{ij} = q_j \\quad (VAR).$$"
   ]
  },
  {
   "cell_type": "markdown",
   "metadata": {},
   "source": [
    "## Caso 1: \n",
    "\n",
    "Consideramos $\\phi(x) = \\frac{x^{2}}{2}$"
   ]
  },
  {
   "cell_type": "code",
   "execution_count": 9,
   "metadata": {},
   "outputs": [
    {
     "data": {
      "text/plain": [
       "A JuMP Model\n",
       "Minimization problem with:\n",
       "Variables: 33\n",
       "Objective function type: AffExpr\n",
       "`AffExpr`-in-`MathOptInterface.EqualTo{Float64}`: 13 constraints\n",
       "`VariableRef`-in-`MathOptInterface.GreaterThan{Float64}`: 30 constraints\n",
       "Model mode: AUTOMATIC\n",
       "CachingOptimizer state: EMPTY_OPTIMIZER\n",
       "Solver name: GLPK\n",
       "Names registered in the model: A, q"
      ]
     },
     "execution_count": 9,
     "metadata": {},
     "output_type": "execute_result"
    }
   ],
   "source": [
    "using JuMP, GLPK, Ipopt\n",
    "#revisar paquete distances.JL\n",
    "\n",
    "#m=3\n",
    "x=10*rand(10) #[1.0;2.0;3.0;4;5;6;7;8;9;10] #--> Trabajar con elementos de R^2\n",
    "p=ones(10)\n",
    "\n",
    "#n=2\n",
    "y=[0;7;15]\n",
    "\n",
    "#epsilon\n",
    "eps = 0 #¿Qué pongo?\n",
    "\n",
    "model = JuMP.Model(GLPK.Optimizer)\n",
    "#model = JuMP.Model(Ipopt.Optimizer)\n",
    "\n",
    "\n",
    "m=length(x)\n",
    "n=length(y)\n",
    "\n",
    "#Calculo los pesos |xi-yj|\n",
    "W=abs.(x*ones(1,n) - ones(m,1)*y')\n",
    "\n",
    "@variable(model,A[1:m,1:n]>=0)\n",
    "@variable(model,q[1:n])\n",
    "\n",
    "conp = @constraint(model, sum(A, dims=2).==p)\n",
    "conq = @constraint(model, sum(A, dims=1).==q')\n",
    "\n",
    "@objective(model,Min, sum( A.*W ))# + eps/2 * (q'*q) )\n",
    "\n",
    "model"
   ]
  },
  {
   "cell_type": "code",
   "execution_count": 10,
   "metadata": {},
   "outputs": [],
   "source": [
    "optimize!(model)"
   ]
  },
  {
   "cell_type": "code",
   "execution_count": 11,
   "metadata": {},
   "outputs": [
    {
     "data": {
      "text/plain": [
       "17.326311579433764"
      ]
     },
     "execution_count": 11,
     "metadata": {},
     "output_type": "execute_result"
    }
   ],
   "source": [
    "objective_value(model)"
   ]
  },
  {
   "cell_type": "code",
   "execution_count": 12,
   "metadata": {},
   "outputs": [
    {
     "data": {
      "text/plain": [
       "10×3 Matrix{Float64}:\n",
       " 1.0  0.0  0.0\n",
       " 1.0  0.0  0.0\n",
       " 1.0  0.0  0.0\n",
       " 1.0  0.0  0.0\n",
       " 1.0  0.0  0.0\n",
       " 0.0  1.0  0.0\n",
       " 0.0  1.0  0.0\n",
       " 1.0  0.0  0.0\n",
       " 1.0  0.0  0.0\n",
       " 0.0  1.0  0.0"
      ]
     },
     "execution_count": 12,
     "metadata": {},
     "output_type": "execute_result"
    }
   ],
   "source": [
    "#Extraigo el valor optimo\n",
    "value.(A)"
   ]
  },
  {
   "cell_type": "code",
   "execution_count": 13,
   "metadata": {},
   "outputs": [
    {
     "data": {
      "text/plain": [
       "3-element Vector{Float64}:\n",
       " 7.0\n",
       " 3.0\n",
       " 0.0"
      ]
     },
     "execution_count": 13,
     "metadata": {},
     "output_type": "execute_result"
    }
   ],
   "source": [
    "value.(q)"
   ]
  },
  {
   "cell_type": "code",
   "execution_count": 14,
   "metadata": {},
   "outputs": [
    {
     "data": {
      "text/plain": [
       "10×1 Matrix{Float64}:\n",
       " 1.0252439810761727\n",
       " 2.2723018681825646\n",
       " 1.931847834946323\n",
       " 2.53611361313959\n",
       " 1.0614259887028443\n",
       " 2.136825543448058\n",
       " 1.5251053758739792\n",
       " 3.4181905278818085\n",
       " 0.30246788069384634\n",
       " 1.1167889654885725"
      ]
     },
     "execution_count": 14,
     "metadata": {},
     "output_type": "execute_result"
    }
   ],
   "source": [
    "#Extraigo los multiplicadores de p\n",
    "lambda = dual.(conp)"
   ]
  },
  {
   "cell_type": "code",
   "execution_count": 15,
   "metadata": {},
   "outputs": [],
   "source": [
    "#hacerlo en R^2,dentro de un cuadrado de 0,0 a 1,1\n",
    "#plotear con el comando scatter los x, con diferentes colores los que tienen el 1 en la primer columna, los que tienen el 1 en la segunda col, etc.\n",
    "#manera más sencilla con marker.z\n",
    "#spliteo el X y corro la optimización, voy cambiando los cargadores\n",
    "#"
   ]
  },
  {
   "cell_type": "markdown",
   "metadata": {},
   "source": [
    "## Caso 2: Trabajando en $R^{2}$\n",
    "\n",
    "Consideramos $\\phi(x) = \\frac{x^{2}}{2}$"
   ]
  },
  {
   "cell_type": "code",
   "execution_count": 16,
   "metadata": {},
   "outputs": [],
   "source": [
    "#m=los que quiera\n",
    "m = 5000\n",
    "x = sortslices(rand(m,2), dims = 1);\n",
    "p = ones(m);\n",
    "\n",
    "#n=4\n",
    "#y=[[1/3 1/3]; [1/3 2/3]; [2/3 1/3]; [2/3 2/3]];\n",
    "#y=[[1/3 1/3]; [2/3 2/3]];\n",
    "y = sortslices(rand(6,2), dims = 1);\n",
    "n=size(y)[1];"
   ]
  },
  {
   "cell_type": "code",
   "execution_count": 17,
   "metadata": {},
   "outputs": [
    {
     "data": {
      "text/plain": [
       "A JuMP Model\n",
       "Minimization problem with:\n",
       "Variables: 30006\n",
       "Objective function type: QuadExpr\n",
       "`AffExpr`-in-`MathOptInterface.EqualTo{Float64}`: 5006 constraints\n",
       "`VariableRef`-in-`MathOptInterface.GreaterThan{Float64}`: 30000 constraints\n",
       "Model mode: AUTOMATIC\n",
       "CachingOptimizer state: EMPTY_OPTIMIZER\n",
       "Solver name: Ipopt\n",
       "Names registered in the model: A, q"
      ]
     },
     "execution_count": 17,
     "metadata": {},
     "output_type": "execute_result"
    }
   ],
   "source": [
    "using JuMP, GLPK, Ipopt\n",
    "#revisar paquete distances.JL\n",
    "\n",
    "#epsilon\n",
    "eps = 0#0.001 #200\n",
    "\n",
    "#model = JuMP.Model(GLPK.Optimizer)\n",
    "model = JuMP.Model(Ipopt.Optimizer)\n",
    "\n",
    "#Calculo los pesos |xi-yj|\n",
    "w1 = (x[:,1]*ones(1,n) - ones(m,1)*y[:,1]').^2\n",
    "w2 = (x[:,2]*ones(1,n) - ones(m,1)*y[:,2]').^2\n",
    "W=(w1+w2).^(1/2)\n",
    "\n",
    "@variable(model,A[1:m,1:n]>=0)\n",
    "@variable(model,q[1:n])#<=833)\n",
    "\n",
    "conp = @constraint(model, sum(A, dims=2).==p)\n",
    "conq = @constraint(model, sum(A, dims=1).==q')\n",
    "\n",
    "@objective(model,Min, sum( A.*W ) + eps/2 * (q'*q) )\n",
    "\n",
    "model"
   ]
  },
  {
   "cell_type": "code",
   "execution_count": 18,
   "metadata": {},
   "outputs": [
    {
     "name": "stdout",
     "output_type": "stream",
     "text": [
      "This is Ipopt version 3.14.4, running with linear solver MUMPS 5.4.1.\n",
      "\n",
      "Number of nonzeros in equality constraint Jacobian...:    60006\n",
      "Number of nonzeros in inequality constraint Jacobian.:        0\n",
      "Number of nonzeros in Lagrangian Hessian.............:        0\n",
      "\n",
      "Total number of variables............................:    30006\n",
      "                     variables with only lower bounds:    30000\n",
      "                variables with lower and upper bounds:        0\n",
      "                     variables with only upper bounds:        0\n",
      "Total number of equality constraints.................:     5006\n",
      "Total number of inequality constraints...............:        0\n",
      "        inequality constraints with only lower bounds:        0\n",
      "   inequality constraints with lower and upper bounds:        0\n",
      "        inequality constraints with only upper bounds:        0\n",
      "\n",
      "iter    objective    inf_pr   inf_du lg(mu)  ||d||  lg(rg) alpha_du alpha_pr  ls\n",
      "   0  1.5899309e+02 5.00e+01 6.66e-01  -1.0 0.00e+00    -  0.00e+00 0.00e+00   0\n",
      "   1  2.6346939e+03 4.77e-12 6.29e+00  -1.0 8.39e+02    -  1.36e-01 1.00e+00f  1\n",
      "   2  2.0043938e+03 5.80e-12 5.35e+00  -1.0 9.41e+02    -  1.00e+00 1.95e-01f  1\n",
      "   3  2.2187269e+03 3.41e-12 1.00e-06  -1.0 7.45e+01    -  1.00e+00 1.00e+00f  1\n",
      "   4  1.8330850e+03 3.18e-12 2.23e-01  -2.5 1.53e+02    -  6.06e-01 1.00e+00f  1\n",
      "   5  1.2939004e+03 3.75e-12 9.14e-02  -2.5 3.34e+02    -  5.32e-01 1.00e+00f  1\n",
      "   6  1.1558188e+03 4.55e-12 2.51e-02  -2.5 8.14e+01    -  6.54e-01 1.00e+00f  1\n",
      "   7  1.0738427e+03 4.55e-12 1.23e-02  -3.8 5.23e+01    -  5.47e-01 1.00e+00f  1\n",
      "   8  1.0697943e+03 4.32e-12 3.32e-03  -3.8 8.27e+00    -  6.50e-01 1.00e+00f  1\n",
      "   9  1.0693970e+03 4.77e-12 6.04e-04  -3.8 3.42e+00    -  7.60e-01 1.00e+00f  1\n",
      "iter    objective    inf_pr   inf_du lg(mu)  ||d||  lg(rg) alpha_du alpha_pr  ls\n",
      "  10  1.0656598e+03 3.30e-12 2.36e-04  -5.7 4.41e+00    -  6.78e-01 1.00e+00f  1\n",
      "  11  1.0656476e+03 5.12e-12 5.68e-05  -5.7 2.03e+00    -  7.45e-01 1.00e+00f  1\n",
      "  12  1.0656469e+03 2.56e-12 9.69e-06  -5.7 5.65e-01    -  8.23e-01 1.00e+00f  1\n",
      "  13  1.0656008e+03 2.73e-12 2.95e-06  -8.6 2.88e-01    -  6.90e-01 1.00e+00f  1\n",
      "  14  1.0656008e+03 2.05e-12 3.39e-07  -8.6 2.52e-01    -  8.42e-01 1.00e+00f  1\n",
      "  15  1.0656008e+03 1.59e-12 2.52e-14  -8.6 4.36e-03    -  1.00e+00 1.00e+00h  1\n",
      "\n",
      "Number of Iterations....: 15\n",
      "\n",
      "                                   (scaled)                 (unscaled)\n",
      "Objective...............:   1.0656008339554271e+03    1.0656008339554271e+03\n",
      "Dual infeasibility......:   2.5202062658991053e-14    2.5202062658991053e-14\n",
      "Constraint violation....:   1.5916157281026244e-12    1.5916157281026244e-12\n",
      "Variable bound violation:   7.4052935909397957e-09    7.4052935909397957e-09\n",
      "Complementarity.........:   2.5126433219790168e-09    2.5126433219790168e-09\n",
      "Overall NLP error.......:   2.5126433219790168e-09    2.5126433219790168e-09\n",
      "\n",
      "\n",
      "Number of objective function evaluations             = 16\n",
      "Number of objective gradient evaluations             = 16\n",
      "Number of equality constraint evaluations            = 16\n",
      "Number of inequality constraint evaluations          = 0\n",
      "Number of equality constraint Jacobian evaluations   = 1\n",
      "Number of inequality constraint Jacobian evaluations = 0\n",
      "Number of Lagrangian Hessian evaluations             = 1\n",
      "Total seconds in IPOPT                               = 1.336\n",
      "\n",
      "EXIT: Optimal Solution Found.\n"
     ]
    }
   ],
   "source": [
    "optimize!(model);"
   ]
  },
  {
   "cell_type": "code",
   "execution_count": 19,
   "metadata": {},
   "outputs": [
    {
     "data": {
      "text/plain": [
       "1065.600833955427"
      ]
     },
     "execution_count": 19,
     "metadata": {},
     "output_type": "execute_result"
    }
   ],
   "source": [
    "objective_value(model)"
   ]
  },
  {
   "cell_type": "code",
   "execution_count": 20,
   "metadata": {},
   "outputs": [
    {
     "data": {
      "text/plain": [
       "5000×6 Matrix{Float64}:\n",
       " -2.89666e-9   1.0           1.18562e-8   …  -5.41865e-9   -6.54212e-9\n",
       "  1.0          4.67098e-9    1.05503e-8      -2.44728e-10  -6.02224e-9\n",
       "  1.0         -6.27476e-9   -5.57568e-9      -3.46556e-9   -7.31892e-9\n",
       "  1.0          1.10872e-8    2.14903e-8       9.0495e-11   -5.83483e-9\n",
       "  1.84817e-9   1.0           3.63691e-8      -4.01712e-9   -6.13629e-9\n",
       "  1.64984e-8   0.999996      1.74302e-7   …  -2.02544e-9   -5.73138e-9\n",
       " -5.86686e-9   1.0           6.78668e-10     -6.76123e-9   -6.97576e-9\n",
       "  1.0         -1.10522e-9    1.68017e-9      -9.23372e-10  -6.37398e-9\n",
       " -4.04168e-9   1.0           7.08125e-9      -5.8785e-9    -6.70084e-9\n",
       "  3.83489e-9   1.0           4.96428e-8      -3.59032e-9   -6.0325e-9\n",
       "  1.0         -7.42939e-10   2.23015e-9   …  -8.41594e-10  -6.33864e-9\n",
       "  1.0         -5.47311e-9   -4.50497e-9      -2.68969e-9   -7.07187e-9\n",
       " -5.32009e-9   1.0           2.25384e-9      -6.47995e-9   -6.91809e-9\n",
       "  ⋮                                       ⋱                 ⋮\n",
       " -6.76876e-9  -6.80435e-9   -5.46256e-9      -3.96346e-9    1.0\n",
       " -6.90517e-9  -6.84987e-9   -5.57179e-9      -4.50468e-9    1.0\n",
       " -7.0107e-9   -6.88613e-9   -5.65944e-9   …  -4.89081e-9    1.0\n",
       " -7.19276e-9  -5.73106e-9   -4.02899e-9      -6.0669e-9     1.0\n",
       " -7.01813e-9  -4.50784e-9   -2.16906e-9      -5.91094e-9    1.0\n",
       " -7.12427e-9  -5.29973e-9   -3.36841e-9      -6.00513e-9    1.0\n",
       " -6.29661e-9  -6.66713e-9   -5.13285e-9      -1.60858e-9    1.0\n",
       " -7.06504e-9  -4.87794e-9   -2.72767e-9   …  -5.95237e-9    1.0\n",
       " -6.32898e-9  -6.67615e-9   -5.15444e-9      -1.79715e-9    1.0\n",
       " -6.92213e-9  -6.85713e-9   -5.5887e-9       -4.56502e-9    1.0\n",
       " -5.66315e-9  -6.5198e-9    -4.77686e-9       3.41223e-9    1.0\n",
       " -7.4046e-9   -6.90119e-9   -5.82913e-9      -6.19171e-9    1.0"
      ]
     },
     "execution_count": 20,
     "metadata": {},
     "output_type": "execute_result"
    }
   ],
   "source": [
    "#Extraigo el valor optimo\n",
    "value.(A)"
   ]
  },
  {
   "cell_type": "code",
   "execution_count": 21,
   "metadata": {},
   "outputs": [
    {
     "data": {
      "text/plain": [
       "6-element Vector{Float64}:\n",
       "  492.0000395414625\n",
       "  480.99996223676965\n",
       "  684.9999311034252\n",
       "  772.0002385435363\n",
       " 1001.9999972229407\n",
       " 1567.999831351871"
      ]
     },
     "execution_count": 21,
     "metadata": {},
     "output_type": "execute_result"
    }
   ],
   "source": [
    "value.(q)"
   ]
  },
  {
   "cell_type": "code",
   "execution_count": 22,
   "metadata": {},
   "outputs": [],
   "source": [
    "#Extraigo los multiplicadores de p\n",
    "lambda = dual.(conp);"
   ]
  },
  {
   "cell_type": "code",
   "execution_count": 23,
   "metadata": {},
   "outputs": [
    {
     "ename": "LoadError",
     "evalue": "MethodError: no method matching getx(::Vector{Float64})\n\u001b[0mClosest candidates are:\n\u001b[0m  getx(\u001b[91m::Point2\u001b[39m) at ~/.julia/packages/VoronoiCells/RtEBt/src/Points.jl:37\n\u001b[0m  getx(\u001b[91m::GeometricalPredicates.Point2D\u001b[39m) at ~/.julia/packages/GeometricalPredicates/1dBKW/src/GeometricalPredicates.jl:88\n\u001b[0m  getx(\u001b[91m::GeometricalPredicates.Point3D\u001b[39m) at ~/.julia/packages/GeometricalPredicates/1dBKW/src/GeometricalPredicates.jl:99\n\u001b[0m  ...",
     "output_type": "error",
     "traceback": [
      "MethodError: no method matching getx(::Vector{Float64})\n\u001b[0mClosest candidates are:\n\u001b[0m  getx(\u001b[91m::Point2\u001b[39m) at ~/.julia/packages/VoronoiCells/RtEBt/src/Points.jl:37\n\u001b[0m  getx(\u001b[91m::GeometricalPredicates.Point2D\u001b[39m) at ~/.julia/packages/GeometricalPredicates/1dBKW/src/GeometricalPredicates.jl:88\n\u001b[0m  getx(\u001b[91m::GeometricalPredicates.Point3D\u001b[39m) at ~/.julia/packages/GeometricalPredicates/1dBKW/src/GeometricalPredicates.jl:99\n\u001b[0m  ...",
      "",
      "Stacktrace:",
      " [1] abs2(A::Vector{Float64}, B::Point2{Float64})",
      "   @ VoronoiCells ~/.julia/packages/VoronoiCells/RtEBt/src/Points.jl:29",
      " [2] corner_nearest_neighbor(points::Vector{Vector{Float64}}, rect::Rectangle{Point2{Float64}})",
      "   @ VoronoiCells ~/.julia/packages/VoronoiCells/RtEBt/src/Rectangle.jl:61",
      " [3] VoronoiCells.PointCollection(points::Vector{Vector{Float64}}, rect::Rectangle{Point2{Float64}})",
      "   @ VoronoiCells ~/.julia/packages/VoronoiCells/RtEBt/src/Cells.jl:11",
      " [4] voronoicells(points::Vector{Vector{Float64}}, rect::Rectangle{Point2{Float64}})",
      "   @ VoronoiCells ~/.julia/packages/VoronoiCells/RtEBt/src/Cells.jl:107",
      " [5] top-level scope",
      "   @ In[23]:19",
      " [6] eval",
      "   @ ./boot.jl:373 [inlined]",
      " [7] include_string(mapexpr::typeof(REPL.softscope), mod::Module, code::String, filename::String)",
      "   @ Base ./loading.jl:1196"
     ]
    }
   ],
   "source": [
    "using VoronoiCells\n",
    "using GeometryBasics\n",
    "using Plots\n",
    "using Random\n",
    "\n",
    "#Redondea los valores de A para que sean 0 o 1 (Probar)\n",
    "Ar = round.(value.(A));\n",
    "\n",
    "gr()\n",
    "Plots.GRBackend()\n",
    "\n",
    "#Separa los puntos por destino\n",
    "X = [x[findall(x->x==1, Ar[:,i]),1] for i in 1:n]\n",
    "Y = [x[findall(x->x==1, Ar[:,i]),2] for i in 1:n]\n",
    "points = [y[:,1], y[:,2]]\n",
    "\n",
    "#Conjuntos de Voronoi\n",
    "rect = Rectangle(Point2(0, 0), Point2(1, 1))\n",
    "tess = voronoicells(points, rect);\n",
    "\n",
    "scatter(X, Y, aspect_ratio=:equal) #Grafica los origenes, con color por destino\n",
    "scatter!(points, markersize = 10, label = \"Destinos\") #Plotea los destinos\n",
    "annotate!([(points[n][1] + 0.02, points[n][2] + 0.03, Plots.text(n)) for n in 1:10])\n",
    "plot!(tess, legend = :topleft)"
   ]
  },
  {
   "cell_type": "code",
   "execution_count": null,
   "metadata": {},
   "outputs": [],
   "source": []
  }
 ],
 "metadata": {
  "@webio": {
   "lastCommId": null,
   "lastKernelId": null
  },
  "hide_input": false,
  "kernelspec": {
   "display_name": "Julia 1.7.2",
   "language": "julia",
   "name": "julia-1.7"
  },
  "language_info": {
   "file_extension": ".jl",
   "mimetype": "application/julia",
   "name": "julia",
   "version": "1.7.2"
  }
 },
 "nbformat": 4,
 "nbformat_minor": 4
}
