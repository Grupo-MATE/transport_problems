{
 "cells": [
  {
   "cell_type": "markdown",
   "metadata": {
    "tags": []
   },
   "source": [
    "# Problema de transporte discreto\n",
    "\n",
    "Dadas dos distribuciones de probabilidad discretas:\n",
    "\n",
    "* $X$: con soporte $x_1<x_2<\\ldots<x_m$ con probabilidades $P(X=x_i) = p_i$.\n",
    "* $Y$: con soporte $y_1<y_2<\\ldots<y_n$ con probabilidades $P(Y=y_j) = q_j$.\n",
    "\n",
    "Queremos hallar una distribución conjunta $A=(a_{ij}) \\geqslant 0$ tal que:\n",
    "\n",
    "$$\\min_{a_{ij}} \\sum_{i,j} a_{ij} |x_i-y_j|$$\n",
    "\n",
    "sujeto a:\n",
    "\n",
    "$$\\sum_j a_{ij} = p_i \\quad \\forall i=1,\\ldots,m,$$\n",
    "\n",
    "$$\\sum_i a_{ij} = q_j \\quad \\forall j=1,\\ldots,n.$$"
   ]
  },
  {
   "cell_type": "code",
   "execution_count": 1,
   "metadata": {},
   "outputs": [],
   "source": [
    "## Para instalar los paquetes del Project.toml la primera vez\n",
    "#using Pkg; Pkg.instantiate()"
   ]
  },
  {
   "cell_type": "code",
   "execution_count": 2,
   "metadata": {
    "tags": []
   },
   "outputs": [
    {
     "data": {
      "text/plain": [
       "A JuMP Model\n",
       "Minimization problem with:\n",
       "Variables: 6\n",
       "Objective function type: AffExpr\n",
       "`AffExpr`-in-`MathOptInterface.EqualTo{Float64}`: 5 constraints\n",
       "`VariableRef`-in-`MathOptInterface.GreaterThan{Float64}`: 6 constraints\n",
       "Model mode: AUTOMATIC\n",
       "CachingOptimizer state: EMPTY_OPTIMIZER\n",
       "Solver name: Ipopt\n",
       "Names registered in the model: A"
      ]
     },
     "execution_count": 2,
     "metadata": {},
     "output_type": "execute_result"
    }
   ],
   "source": [
    "using JuMP, GLPK, Ipopt\n",
    "\n",
    "#m=3\n",
    "x=[1.0;2.0;3.0]\n",
    "p=[0.2;0.4;0.4]\n",
    "\n",
    "#n=2\n",
    "y=[0;4.0]\n",
    "q=[0.5;0.5]\n",
    "\n",
    "#model = JuMP.Model(GLPK.Optimizer)\n",
    "model = JuMP.Model(Ipopt.Optimizer)\n",
    "\n",
    "\n",
    "m=length(x)\n",
    "n=length(y)\n",
    "\n",
    "#Calculo los pesos |xi-yj|\n",
    "W=abs.(x*ones(1,n) - ones(m,1)*y')\n",
    "\n",
    "@variable(model,A[1:m,1:n]>=0)\n",
    "\n",
    "conp = @constraint(model, sum(A, dims=2).==p)\n",
    "conq = @constraint(model, sum(A, dims=1).==q')\n",
    "\n",
    "@objective(model,Min, sum( A.*W ))\n",
    "\n",
    "model"
   ]
  },
  {
   "cell_type": "code",
   "execution_count": 3,
   "metadata": {},
   "outputs": [
    {
     "ename": "LoadError",
     "evalue": "UndefVarError: libipopt not defined",
     "output_type": "error",
     "traceback": [
      "UndefVarError: libipopt not defined",
      "",
      "Stacktrace:",
      "  [1] CreateIpoptProblem(n::Int64, x_L::Vector{Float64}, x_U::Vector{Float64}, m::Int64, g_L::Vector{Float64}, g_U::Vector{Float64}, nele_jac::Int64, nele_hess::Int64, eval_f::Ipopt.var\"#eval_f_cb#6\"{Ipopt.Optimizer}, eval_g::Ipopt.var\"#eval_g_cb#8\"{Ipopt.Optimizer}, eval_grad_f::Ipopt.var\"#eval_grad_f_cb#7\"{Ipopt.Optimizer}, eval_jac_g::Ipopt.var\"#eval_jac_g_cb#9\"{Ipopt.Optimizer, Vector{Tuple{Int64, Int64}}}, eval_h::Ipopt.var\"#eval_h_cb#10\"{Ipopt.Optimizer, Vector{Tuple{Int64, Int64}}})",
      "    @ Ipopt ~/.julia/packages/Ipopt/YAl3U/src/C_wrapper.jl:222",
      "  [2] optimize!(model::Ipopt.Optimizer)",
      "    @ Ipopt ~/.julia/packages/Ipopt/YAl3U/src/MOI_wrapper.jl:1112",
      "  [3] optimize!",
      "    @ ~/.julia/packages/MathOptInterface/eoIu0/src/Bridges/bridge_optimizer.jl:348 [inlined]",
      "  [4] optimize!",
      "    @ ~/.julia/packages/MathOptInterface/eoIu0/src/MathOptInterface.jl:81 [inlined]",
      "  [5] optimize!(m::MathOptInterface.Utilities.CachingOptimizer{MathOptInterface.Bridges.LazyBridgeOptimizer{Ipopt.Optimizer}, MathOptInterface.Utilities.UniversalFallback{MathOptInterface.Utilities.Model{Float64}}})",
      "    @ MathOptInterface.Utilities ~/.julia/packages/MathOptInterface/eoIu0/src/Utilities/cachingoptimizer.jl:285",
      "  [6] optimize!(model::Model, optimizer_factory::Nothing; bridge_constraints::Bool, ignore_optimize_hook::Bool, kwargs::Base.Pairs{Symbol, Union{}, Tuple{}, NamedTuple{(), Tuple{}}})",
      "    @ JuMP ~/.julia/packages/JuMP/2IF9U/src/optimizer_interface.jl:195",
      "  [7] optimize! (repeats 2 times)",
      "    @ ~/.julia/packages/JuMP/2IF9U/src/optimizer_interface.jl:167 [inlined]",
      "  [8] top-level scope",
      "    @ In[3]:1",
      "  [9] eval",
      "    @ ./boot.jl:373 [inlined]",
      " [10] include_string(mapexpr::typeof(REPL.softscope), mod::Module, code::String, filename::String)",
      "    @ Base ./loading.jl:1196"
     ]
    }
   ],
   "source": [
    "optimize!(model)"
   ]
  },
  {
   "cell_type": "code",
   "execution_count": 4,
   "metadata": {},
   "outputs": [
    {
     "ename": "LoadError",
     "evalue": "OptimizeNotCalled()",
     "output_type": "error",
     "traceback": [
      "OptimizeNotCalled()",
      "",
      "Stacktrace:",
      " [1] get(model::Model, attr::MathOptInterface.ObjectiveValue)",
      "   @ JuMP ~/.julia/packages/JuMP/2IF9U/src/JuMP.jl:1249",
      " [2] objective_value(model::Model; result::Int64)",
      "   @ JuMP ~/.julia/packages/JuMP/2IF9U/src/objective.jl:42",
      " [3] objective_value(model::Model)",
      "   @ JuMP ~/.julia/packages/JuMP/2IF9U/src/objective.jl:42",
      " [4] top-level scope",
      "   @ In[4]:1",
      " [5] eval",
      "   @ ./boot.jl:373 [inlined]",
      " [6] include_string(mapexpr::typeof(REPL.softscope), mod::Module, code::String, filename::String)",
      "   @ Base ./loading.jl:1196"
     ]
    }
   ],
   "source": [
    "objective_value(model)"
   ]
  },
  {
   "cell_type": "code",
   "execution_count": 5,
   "metadata": {},
   "outputs": [
    {
     "ename": "LoadError",
     "evalue": "OptimizeNotCalled()",
     "output_type": "error",
     "traceback": [
      "OptimizeNotCalled()",
      "",
      "Stacktrace:",
      "  [1] get(model::Model, attr::MathOptInterface.VariablePrimal, v::VariableRef)",
      "    @ JuMP ~/.julia/packages/JuMP/2IF9U/src/JuMP.jl:1273",
      "  [2] value(v::VariableRef; result::Int64)",
      "    @ JuMP ~/.julia/packages/JuMP/2IF9U/src/variables.jl:1001",
      "  [3] value",
      "    @ ~/.julia/packages/JuMP/2IF9U/src/variables.jl:1001 [inlined]",
      "  [4] _broadcast_getindex_evalf",
      "    @ ./broadcast.jl:670 [inlined]",
      "  [5] _broadcast_getindex",
      "    @ ./broadcast.jl:643 [inlined]",
      "  [6] getindex",
      "    @ ./broadcast.jl:597 [inlined]",
      "  [7] macro expansion",
      "    @ ./broadcast.jl:961 [inlined]",
      "  [8] macro expansion",
      "    @ ./simdloop.jl:77 [inlined]",
      "  [9] copyto!",
      "    @ ./broadcast.jl:960 [inlined]",
      " [10] copyto!",
      "    @ ./broadcast.jl:913 [inlined]",
      " [11] copy",
      "    @ ./broadcast.jl:885 [inlined]",
      " [12] materialize(bc::Base.Broadcast.Broadcasted{Base.Broadcast.DefaultArrayStyle{2}, Nothing, typeof(value), Tuple{Matrix{VariableRef}}})",
      "    @ Base.Broadcast ./broadcast.jl:860",
      " [13] top-level scope",
      "    @ In[5]:2",
      " [14] eval",
      "    @ ./boot.jl:373 [inlined]",
      " [15] include_string(mapexpr::typeof(REPL.softscope), mod::Module, code::String, filename::String)",
      "    @ Base ./loading.jl:1196"
     ]
    }
   ],
   "source": [
    "#Extraigo el valor optimo\n",
    "value.(A)"
   ]
  },
  {
   "cell_type": "code",
   "execution_count": 6,
   "metadata": {},
   "outputs": [
    {
     "ename": "LoadError",
     "evalue": "OptimizeNotCalled()",
     "output_type": "error",
     "traceback": [
      "OptimizeNotCalled()",
      "",
      "Stacktrace:",
      "  [1] get(model::Model, attr::MathOptInterface.ConstraintDual, cr::ConstraintRef{Model, MathOptInterface.ConstraintIndex{MathOptInterface.ScalarAffineFunction{Float64}, MathOptInterface.EqualTo{Float64}}, ScalarShape})",
      "    @ JuMP ~/.julia/packages/JuMP/2IF9U/src/JuMP.jl:1287",
      "  [2] _constraint_dual(con_ref::ConstraintRef{Model, MathOptInterface.ConstraintIndex{MathOptInterface.ScalarAffineFunction{Float64}, MathOptInterface.EqualTo{Float64}}, ScalarShape}, result::Int64)",
      "    @ JuMP ~/.julia/packages/JuMP/2IF9U/src/constraints.jl:876",
      "  [3] #dual#23",
      "    @ ~/.julia/packages/JuMP/2IF9U/src/constraints.jl:862 [inlined]",
      "  [4] dual",
      "    @ ~/.julia/packages/JuMP/2IF9U/src/constraints.jl:862 [inlined]",
      "  [5] _broadcast_getindex_evalf",
      "    @ ./broadcast.jl:670 [inlined]",
      "  [6] _broadcast_getindex",
      "    @ ./broadcast.jl:643 [inlined]",
      "  [7] getindex",
      "    @ ./broadcast.jl:597 [inlined]",
      "  [8] macro expansion",
      "    @ ./broadcast.jl:961 [inlined]",
      "  [9] macro expansion",
      "    @ ./simdloop.jl:77 [inlined]",
      " [10] copyto!",
      "    @ ./broadcast.jl:960 [inlined]",
      " [11] copyto!",
      "    @ ./broadcast.jl:913 [inlined]",
      " [12] copy",
      "    @ ./broadcast.jl:885 [inlined]",
      " [13] materialize(bc::Base.Broadcast.Broadcasted{Base.Broadcast.DefaultArrayStyle{2}, Nothing, typeof(dual), Tuple{Matrix{ConstraintRef{Model, MathOptInterface.ConstraintIndex{MathOptInterface.ScalarAffineFunction{Float64}, MathOptInterface.EqualTo{Float64}}, ScalarShape}}}})",
      "    @ Base.Broadcast ./broadcast.jl:860",
      " [14] top-level scope",
      "    @ In[6]:2",
      " [15] eval",
      "    @ ./boot.jl:373 [inlined]",
      " [16] include_string(mapexpr::typeof(REPL.softscope), mod::Module, code::String, filename::String)",
      "    @ Base ./loading.jl:1196"
     ]
    }
   ],
   "source": [
    "#Extraigo los multiplicadores de p\n",
    "lambda = dual.(conp)"
   ]
  },
  {
   "cell_type": "code",
   "execution_count": 7,
   "metadata": {},
   "outputs": [
    {
     "ename": "LoadError",
     "evalue": "OptimizeNotCalled()",
     "output_type": "error",
     "traceback": [
      "OptimizeNotCalled()",
      "",
      "Stacktrace:",
      "  [1] get(model::Model, attr::MathOptInterface.ConstraintDual, cr::ConstraintRef{Model, MathOptInterface.ConstraintIndex{MathOptInterface.ScalarAffineFunction{Float64}, MathOptInterface.EqualTo{Float64}}, ScalarShape})",
      "    @ JuMP ~/.julia/packages/JuMP/2IF9U/src/JuMP.jl:1287",
      "  [2] _constraint_dual(con_ref::ConstraintRef{Model, MathOptInterface.ConstraintIndex{MathOptInterface.ScalarAffineFunction{Float64}, MathOptInterface.EqualTo{Float64}}, ScalarShape}, result::Int64)",
      "    @ JuMP ~/.julia/packages/JuMP/2IF9U/src/constraints.jl:876",
      "  [3] #dual#23",
      "    @ ~/.julia/packages/JuMP/2IF9U/src/constraints.jl:862 [inlined]",
      "  [4] dual",
      "    @ ~/.julia/packages/JuMP/2IF9U/src/constraints.jl:862 [inlined]",
      "  [5] _broadcast_getindex_evalf",
      "    @ ./broadcast.jl:670 [inlined]",
      "  [6] _broadcast_getindex",
      "    @ ./broadcast.jl:643 [inlined]",
      "  [7] getindex",
      "    @ ./broadcast.jl:597 [inlined]",
      "  [8] macro expansion",
      "    @ ./broadcast.jl:961 [inlined]",
      "  [9] macro expansion",
      "    @ ./simdloop.jl:77 [inlined]",
      " [10] copyto!",
      "    @ ./broadcast.jl:960 [inlined]",
      " [11] copyto!",
      "    @ ./broadcast.jl:913 [inlined]",
      " [12] copy",
      "    @ ./broadcast.jl:885 [inlined]",
      " [13] materialize(bc::Base.Broadcast.Broadcasted{Base.Broadcast.DefaultArrayStyle{2}, Nothing, typeof(dual), Tuple{Matrix{ConstraintRef{Model, MathOptInterface.ConstraintIndex{MathOptInterface.ScalarAffineFunction{Float64}, MathOptInterface.EqualTo{Float64}}, ScalarShape}}}})",
      "    @ Base.Broadcast ./broadcast.jl:860",
      " [14] top-level scope",
      "    @ In[7]:2",
      " [15] eval",
      "    @ ./boot.jl:373 [inlined]",
      " [16] include_string(mapexpr::typeof(REPL.softscope), mod::Module, code::String, filename::String)",
      "    @ Base ./loading.jl:1196"
     ]
    }
   ],
   "source": [
    "#Extraigo los multiplicadores de q\n",
    "mu = dual.(conq)"
   ]
  },
  {
   "cell_type": "code",
   "execution_count": 8,
   "metadata": {},
   "outputs": [
    {
     "data": {
      "text/plain": [
       "3×2 Matrix{Float64}:\n",
       " 1.0  3.0\n",
       " 2.0  2.0\n",
       " 3.0  1.0"
      ]
     },
     "execution_count": 8,
     "metadata": {},
     "output_type": "execute_result"
    }
   ],
   "source": [
    "W"
   ]
  },
  {
   "cell_type": "code",
   "execution_count": 9,
   "metadata": {},
   "outputs": [
    {
     "ename": "LoadError",
     "evalue": "UndefVarError: lambda not defined",
     "output_type": "error",
     "traceback": [
      "UndefVarError: lambda not defined",
      "",
      "Stacktrace:",
      " [1] top-level scope",
      "   @ In[9]:1",
      " [2] eval",
      "   @ ./boot.jl:373 [inlined]",
      " [3] include_string(mapexpr::typeof(REPL.softscope), mod::Module, code::String, filename::String)",
      "   @ Base ./loading.jl:1196"
     ]
    }
   ],
   "source": [
    "lambda * ones(1,n) + ones(m,1)*mu"
   ]
  },
  {
   "cell_type": "markdown",
   "metadata": {},
   "source": [
    "# Problema de transporte discreto - Cantidad de destinos variable\n",
    "\n",
    "Dadas dos distribuciones de probabilidad discretas:\n",
    "\n",
    "* $X$: con soporte $x_1<x_2<\\ldots<x_m$ con probabilidades $P(X=x_i) = p_i$.\n",
    "* $Y$: con soporte $y_1<y_2<\\ldots<y_n$ con probabilidades $P(Y=y_j) = q_j$.\n",
    "\n",
    "Queremos hallar una distribución conjunta $A=(a_{ij}) \\geqslant 0$ tal que:\n",
    "\n",
    "$$\\min_{a_{ij}} \\sum_{i,j} a_{ij} |x_i-y_j| + \\epsilon \\sum_{j} \\phi(q_{j})$$\n",
    "\n",
    "sujeto a:\n",
    "\n",
    "$$\\sum_j a_{ij} = p_i \\quad \\forall i=1,\\ldots,m,$$\n",
    "\n",
    "$$\\sum_i a_{ij} = q_j \\quad (VAR).$$"
   ]
  },
  {
   "cell_type": "markdown",
   "metadata": {},
   "source": [
    "## Caso 1: \n",
    "\n",
    "Consideramos $\\phi(x) = \\frac{x^{2}}{2}$"
   ]
  },
  {
   "cell_type": "code",
   "execution_count": 10,
   "metadata": {},
   "outputs": [
    {
     "data": {
      "text/plain": [
       "A JuMP Model\n",
       "Minimization problem with:\n",
       "Variables: 33\n",
       "Objective function type: AffExpr\n",
       "`AffExpr`-in-`MathOptInterface.EqualTo{Float64}`: 13 constraints\n",
       "`VariableRef`-in-`MathOptInterface.GreaterThan{Float64}`: 30 constraints\n",
       "Model mode: AUTOMATIC\n",
       "CachingOptimizer state: EMPTY_OPTIMIZER\n",
       "Solver name: GLPK\n",
       "Names registered in the model: A, q"
      ]
     },
     "execution_count": 10,
     "metadata": {},
     "output_type": "execute_result"
    }
   ],
   "source": [
    "using JuMP, GLPK, Ipopt\n",
    "#revisar paquete distances.JL\n",
    "\n",
    "#m=3\n",
    "x=10*rand(10) #[1.0;2.0;3.0;4;5;6;7;8;9;10] #--> Trabajar con elementos de R^2\n",
    "p=ones(10)\n",
    "\n",
    "#n=2\n",
    "y=[0;7;15]\n",
    "\n",
    "#epsilon\n",
    "eps = 0 #¿Qué pongo?\n",
    "\n",
    "model = JuMP.Model(GLPK.Optimizer)\n",
    "#model = JuMP.Model(Ipopt.Optimizer)\n",
    "\n",
    "\n",
    "m=length(x)\n",
    "n=length(y)\n",
    "\n",
    "#Calculo los pesos |xi-yj|\n",
    "W=abs.(x*ones(1,n) - ones(m,1)*y')\n",
    "\n",
    "@variable(model,A[1:m,1:n]>=0)\n",
    "@variable(model,q[1:n])\n",
    "\n",
    "conp = @constraint(model, sum(A, dims=2).==p)\n",
    "conq = @constraint(model, sum(A, dims=1).==q')\n",
    "\n",
    "@objective(model,Min, sum( A.*W ))# + eps/2 * (q'*q) )\n",
    "\n",
    "model"
   ]
  },
  {
   "cell_type": "code",
   "execution_count": 11,
   "metadata": {},
   "outputs": [],
   "source": [
    "optimize!(model)"
   ]
  },
  {
   "cell_type": "code",
   "execution_count": 12,
   "metadata": {},
   "outputs": [
    {
     "data": {
      "text/plain": [
       "21.16096183911447"
      ]
     },
     "execution_count": 12,
     "metadata": {},
     "output_type": "execute_result"
    }
   ],
   "source": [
    "objective_value(model)"
   ]
  },
  {
   "cell_type": "code",
   "execution_count": 13,
   "metadata": {},
   "outputs": [
    {
     "data": {
      "text/plain": [
       "10×3 Matrix{Float64}:\n",
       " 0.0  1.0  0.0\n",
       " 0.0  1.0  0.0\n",
       " 1.0  0.0  0.0\n",
       " 1.0  0.0  0.0\n",
       " 0.0  1.0  0.0\n",
       " 0.0  1.0  0.0\n",
       " 1.0  0.0  0.0\n",
       " 0.0  1.0  0.0\n",
       " 1.0  0.0  0.0\n",
       " 0.0  1.0  0.0"
      ]
     },
     "execution_count": 13,
     "metadata": {},
     "output_type": "execute_result"
    }
   ],
   "source": [
    "#Extraigo el valor optimo\n",
    "value.(A)"
   ]
  },
  {
   "cell_type": "code",
   "execution_count": 14,
   "metadata": {},
   "outputs": [
    {
     "data": {
      "text/plain": [
       "3-element Vector{Float64}:\n",
       " 4.0\n",
       " 6.0\n",
       " 0.0"
      ]
     },
     "execution_count": 14,
     "metadata": {},
     "output_type": "execute_result"
    }
   ],
   "source": [
    "value.(q)"
   ]
  },
  {
   "cell_type": "code",
   "execution_count": 15,
   "metadata": {},
   "outputs": [
    {
     "data": {
      "text/plain": [
       "10×1 Matrix{Float64}:\n",
       " 0.6245198880530829\n",
       " 3.3197663803474127\n",
       " 1.7169916387741158\n",
       " 2.686493183107783\n",
       " 2.1421984048827527\n",
       " 2.282045503497301\n",
       " 2.9218142484726806\n",
       " 0.39198635762129364\n",
       " 2.8241159907870217\n",
       " 2.251030243571032"
      ]
     },
     "execution_count": 15,
     "metadata": {},
     "output_type": "execute_result"
    }
   ],
   "source": [
    "#Extraigo los multiplicadores de p\n",
    "lambda = dual.(conp)"
   ]
  },
  {
   "cell_type": "code",
   "execution_count": 16,
   "metadata": {},
   "outputs": [],
   "source": [
    "#hacerlo en R^2,dentro de un cuadrado de 0,0 a 1,1\n",
    "#plotear con el comando scatter los x, con diferentes colores los que tienen el 1 en la primer columna, los que tienen el 1 en la segunda col, etc.\n",
    "#manera más sencilla con marker.z\n",
    "#spliteo el X y corro la optimización, voy cambiando los cargadores\n",
    "#"
   ]
  },
  {
   "cell_type": "markdown",
   "metadata": {},
   "source": [
    "## Caso 2: Trabajando en $R^{2}$\n",
    "\n",
    "Consideramos $\\phi(x) = \\frac{x^{2}}{2}$"
   ]
  },
  {
   "cell_type": "code",
   "execution_count": 17,
   "metadata": {},
   "outputs": [],
   "source": [
    "#m=los que quiera\n",
    "m = 5000\n",
    "x = sortslices(rand(m,2), dims = 1);\n",
    "p = ones(m);\n",
    "\n",
    "#n=4\n",
    "#y=[[1/3 1/3]; [1/3 2/3]; [2/3 1/3]; [2/3 2/3]];\n",
    "#y=[[1/3 1/3]; [2/3 2/3]];\n",
    "y = sortslices(rand(6,2), dims = 1);\n",
    "n=size(y)[1];"
   ]
  },
  {
   "cell_type": "code",
   "execution_count": 18,
   "metadata": {},
   "outputs": [
    {
     "data": {
      "text/plain": [
       "A JuMP Model\n",
       "Minimization problem with:\n",
       "Variables: 30006\n",
       "Objective function type: QuadExpr\n",
       "`AffExpr`-in-`MathOptInterface.EqualTo{Float64}`: 5006 constraints\n",
       "`VariableRef`-in-`MathOptInterface.GreaterThan{Float64}`: 30000 constraints\n",
       "Model mode: AUTOMATIC\n",
       "CachingOptimizer state: EMPTY_OPTIMIZER\n",
       "Solver name: Ipopt\n",
       "Names registered in the model: A, q"
      ]
     },
     "execution_count": 18,
     "metadata": {},
     "output_type": "execute_result"
    }
   ],
   "source": [
    "using JuMP, GLPK, Ipopt\n",
    "#revisar paquete distances.JL\n",
    "\n",
    "#epsilon\n",
    "eps = 0#0.001 #200\n",
    "\n",
    "#model = JuMP.Model(GLPK.Optimizer)\n",
    "model = JuMP.Model(Ipopt.Optimizer)\n",
    "\n",
    "#Calculo los pesos |xi-yj|\n",
    "w1 = (x[:,1]*ones(1,n) - ones(m,1)*y[:,1]').^2\n",
    "w2 = (x[:,2]*ones(1,n) - ones(m,1)*y[:,2]').^2\n",
    "W=(w1+w2).^(1/2)\n",
    "\n",
    "@variable(model,A[1:m,1:n]>=0)\n",
    "@variable(model,q[1:n])#<=833)\n",
    "\n",
    "conp = @constraint(model, sum(A, dims=2).==p)\n",
    "conq = @constraint(model, sum(A, dims=1).==q')\n",
    "\n",
    "@objective(model,Min, sum( A.*W ) + eps/2 * (q'*q) )\n",
    "\n",
    "model"
   ]
  },
  {
   "cell_type": "code",
   "execution_count": 19,
   "metadata": {},
   "outputs": [
    {
     "ename": "LoadError",
     "evalue": "UndefVarError: libipopt not defined",
     "output_type": "error",
     "traceback": [
      "UndefVarError: libipopt not defined",
      "",
      "Stacktrace:",
      "  [1] CreateIpoptProblem(n::Int64, x_L::Vector{Float64}, x_U::Vector{Float64}, m::Int64, g_L::Vector{Float64}, g_U::Vector{Float64}, nele_jac::Int64, nele_hess::Int64, eval_f::Ipopt.var\"#eval_f_cb#6\"{Ipopt.Optimizer}, eval_g::Ipopt.var\"#eval_g_cb#8\"{Ipopt.Optimizer}, eval_grad_f::Ipopt.var\"#eval_grad_f_cb#7\"{Ipopt.Optimizer}, eval_jac_g::Ipopt.var\"#eval_jac_g_cb#9\"{Ipopt.Optimizer, Vector{Tuple{Int64, Int64}}}, eval_h::Ipopt.var\"#eval_h_cb#10\"{Ipopt.Optimizer, Vector{Tuple{Int64, Int64}}})",
      "    @ Ipopt ~/.julia/packages/Ipopt/YAl3U/src/C_wrapper.jl:222",
      "  [2] optimize!(model::Ipopt.Optimizer)",
      "    @ Ipopt ~/.julia/packages/Ipopt/YAl3U/src/MOI_wrapper.jl:1112",
      "  [3] optimize!",
      "    @ ~/.julia/packages/MathOptInterface/eoIu0/src/Bridges/bridge_optimizer.jl:348 [inlined]",
      "  [4] optimize!",
      "    @ ~/.julia/packages/MathOptInterface/eoIu0/src/MathOptInterface.jl:81 [inlined]",
      "  [5] optimize!(m::MathOptInterface.Utilities.CachingOptimizer{MathOptInterface.Bridges.LazyBridgeOptimizer{Ipopt.Optimizer}, MathOptInterface.Utilities.UniversalFallback{MathOptInterface.Utilities.Model{Float64}}})",
      "    @ MathOptInterface.Utilities ~/.julia/packages/MathOptInterface/eoIu0/src/Utilities/cachingoptimizer.jl:285",
      "  [6] optimize!(model::Model, optimizer_factory::Nothing; bridge_constraints::Bool, ignore_optimize_hook::Bool, kwargs::Base.Pairs{Symbol, Union{}, Tuple{}, NamedTuple{(), Tuple{}}})",
      "    @ JuMP ~/.julia/packages/JuMP/2IF9U/src/optimizer_interface.jl:195",
      "  [7] optimize! (repeats 2 times)",
      "    @ ~/.julia/packages/JuMP/2IF9U/src/optimizer_interface.jl:167 [inlined]",
      "  [8] top-level scope",
      "    @ In[19]:1",
      "  [9] eval",
      "    @ ./boot.jl:373 [inlined]",
      " [10] include_string(mapexpr::typeof(REPL.softscope), mod::Module, code::String, filename::String)",
      "    @ Base ./loading.jl:1196"
     ]
    }
   ],
   "source": [
    "optimize!(model);"
   ]
  },
  {
   "cell_type": "code",
   "execution_count": 20,
   "metadata": {},
   "outputs": [
    {
     "ename": "LoadError",
     "evalue": "OptimizeNotCalled()",
     "output_type": "error",
     "traceback": [
      "OptimizeNotCalled()",
      "",
      "Stacktrace:",
      " [1] get(model::Model, attr::MathOptInterface.ObjectiveValue)",
      "   @ JuMP ~/.julia/packages/JuMP/2IF9U/src/JuMP.jl:1249",
      " [2] objective_value(model::Model; result::Int64)",
      "   @ JuMP ~/.julia/packages/JuMP/2IF9U/src/objective.jl:42",
      " [3] objective_value(model::Model)",
      "   @ JuMP ~/.julia/packages/JuMP/2IF9U/src/objective.jl:42",
      " [4] top-level scope",
      "   @ In[20]:1",
      " [5] eval",
      "   @ ./boot.jl:373 [inlined]",
      " [6] include_string(mapexpr::typeof(REPL.softscope), mod::Module, code::String, filename::String)",
      "   @ Base ./loading.jl:1196"
     ]
    }
   ],
   "source": [
    "objective_value(model)"
   ]
  },
  {
   "cell_type": "code",
   "execution_count": 21,
   "metadata": {},
   "outputs": [
    {
     "ename": "LoadError",
     "evalue": "OptimizeNotCalled()",
     "output_type": "error",
     "traceback": [
      "OptimizeNotCalled()",
      "",
      "Stacktrace:",
      "  [1] get(model::Model, attr::MathOptInterface.VariablePrimal, v::VariableRef)",
      "    @ JuMP ~/.julia/packages/JuMP/2IF9U/src/JuMP.jl:1273",
      "  [2] value(v::VariableRef; result::Int64)",
      "    @ JuMP ~/.julia/packages/JuMP/2IF9U/src/variables.jl:1001",
      "  [3] value",
      "    @ ~/.julia/packages/JuMP/2IF9U/src/variables.jl:1001 [inlined]",
      "  [4] _broadcast_getindex_evalf",
      "    @ ./broadcast.jl:670 [inlined]",
      "  [5] _broadcast_getindex",
      "    @ ./broadcast.jl:643 [inlined]",
      "  [6] getindex",
      "    @ ./broadcast.jl:597 [inlined]",
      "  [7] macro expansion",
      "    @ ./broadcast.jl:961 [inlined]",
      "  [8] macro expansion",
      "    @ ./simdloop.jl:77 [inlined]",
      "  [9] copyto!",
      "    @ ./broadcast.jl:960 [inlined]",
      " [10] copyto!",
      "    @ ./broadcast.jl:913 [inlined]",
      " [11] copy",
      "    @ ./broadcast.jl:885 [inlined]",
      " [12] materialize(bc::Base.Broadcast.Broadcasted{Base.Broadcast.DefaultArrayStyle{2}, Nothing, typeof(value), Tuple{Matrix{VariableRef}}})",
      "    @ Base.Broadcast ./broadcast.jl:860",
      " [13] top-level scope",
      "    @ In[21]:2",
      " [14] eval",
      "    @ ./boot.jl:373 [inlined]",
      " [15] include_string(mapexpr::typeof(REPL.softscope), mod::Module, code::String, filename::String)",
      "    @ Base ./loading.jl:1196"
     ]
    }
   ],
   "source": [
    "#Extraigo el valor optimo\n",
    "value.(A)"
   ]
  },
  {
   "cell_type": "code",
   "execution_count": 22,
   "metadata": {},
   "outputs": [
    {
     "ename": "LoadError",
     "evalue": "OptimizeNotCalled()",
     "output_type": "error",
     "traceback": [
      "OptimizeNotCalled()",
      "",
      "Stacktrace:",
      "  [1] get(model::Model, attr::MathOptInterface.VariablePrimal, v::VariableRef)",
      "    @ JuMP ~/.julia/packages/JuMP/2IF9U/src/JuMP.jl:1273",
      "  [2] value(v::VariableRef; result::Int64)",
      "    @ JuMP ~/.julia/packages/JuMP/2IF9U/src/variables.jl:1001",
      "  [3] value",
      "    @ ~/.julia/packages/JuMP/2IF9U/src/variables.jl:1001 [inlined]",
      "  [4] _broadcast_getindex_evalf",
      "    @ ./broadcast.jl:670 [inlined]",
      "  [5] _broadcast_getindex",
      "    @ ./broadcast.jl:643 [inlined]",
      "  [6] getindex",
      "    @ ./broadcast.jl:597 [inlined]",
      "  [7] macro expansion",
      "    @ ./broadcast.jl:961 [inlined]",
      "  [8] macro expansion",
      "    @ ./simdloop.jl:77 [inlined]",
      "  [9] copyto!",
      "    @ ./broadcast.jl:960 [inlined]",
      " [10] copyto!",
      "    @ ./broadcast.jl:913 [inlined]",
      " [11] copy",
      "    @ ./broadcast.jl:885 [inlined]",
      " [12] materialize(bc::Base.Broadcast.Broadcasted{Base.Broadcast.DefaultArrayStyle{1}, Nothing, typeof(value), Tuple{Vector{VariableRef}}})",
      "    @ Base.Broadcast ./broadcast.jl:860",
      " [13] top-level scope",
      "    @ In[22]:1",
      " [14] eval",
      "    @ ./boot.jl:373 [inlined]",
      " [15] include_string(mapexpr::typeof(REPL.softscope), mod::Module, code::String, filename::String)",
      "    @ Base ./loading.jl:1196"
     ]
    }
   ],
   "source": [
    "value.(q)"
   ]
  },
  {
   "cell_type": "code",
   "execution_count": 23,
   "metadata": {},
   "outputs": [
    {
     "ename": "LoadError",
     "evalue": "OptimizeNotCalled()",
     "output_type": "error",
     "traceback": [
      "OptimizeNotCalled()",
      "",
      "Stacktrace:",
      "  [1] get(model::Model, attr::MathOptInterface.ConstraintDual, cr::ConstraintRef{Model, MathOptInterface.ConstraintIndex{MathOptInterface.ScalarAffineFunction{Float64}, MathOptInterface.EqualTo{Float64}}, ScalarShape})",
      "    @ JuMP ~/.julia/packages/JuMP/2IF9U/src/JuMP.jl:1287",
      "  [2] _constraint_dual(con_ref::ConstraintRef{Model, MathOptInterface.ConstraintIndex{MathOptInterface.ScalarAffineFunction{Float64}, MathOptInterface.EqualTo{Float64}}, ScalarShape}, result::Int64)",
      "    @ JuMP ~/.julia/packages/JuMP/2IF9U/src/constraints.jl:876",
      "  [3] #dual#23",
      "    @ ~/.julia/packages/JuMP/2IF9U/src/constraints.jl:862 [inlined]",
      "  [4] dual",
      "    @ ~/.julia/packages/JuMP/2IF9U/src/constraints.jl:862 [inlined]",
      "  [5] _broadcast_getindex_evalf",
      "    @ ./broadcast.jl:670 [inlined]",
      "  [6] _broadcast_getindex",
      "    @ ./broadcast.jl:643 [inlined]",
      "  [7] getindex",
      "    @ ./broadcast.jl:597 [inlined]",
      "  [8] macro expansion",
      "    @ ./broadcast.jl:961 [inlined]",
      "  [9] macro expansion",
      "    @ ./simdloop.jl:77 [inlined]",
      " [10] copyto!",
      "    @ ./broadcast.jl:960 [inlined]",
      " [11] copyto!",
      "    @ ./broadcast.jl:913 [inlined]",
      " [12] copy",
      "    @ ./broadcast.jl:885 [inlined]",
      " [13] materialize(bc::Base.Broadcast.Broadcasted{Base.Broadcast.DefaultArrayStyle{2}, Nothing, typeof(dual), Tuple{Matrix{ConstraintRef{Model, MathOptInterface.ConstraintIndex{MathOptInterface.ScalarAffineFunction{Float64}, MathOptInterface.EqualTo{Float64}}, ScalarShape}}}})",
      "    @ Base.Broadcast ./broadcast.jl:860",
      " [14] top-level scope",
      "    @ In[23]:2",
      " [15] eval",
      "    @ ./boot.jl:373 [inlined]",
      " [16] include_string(mapexpr::typeof(REPL.softscope), mod::Module, code::String, filename::String)",
      "    @ Base ./loading.jl:1196"
     ]
    }
   ],
   "source": [
    "#Extraigo los multiplicadores de p\n",
    "lambda = dual.(conp);"
   ]
  },
  {
   "cell_type": "code",
   "execution_count": 24,
   "metadata": {},
   "outputs": [
    {
     "ename": "LoadError",
     "evalue": "ArgumentError: Package VoronoiCells not found in current path:\n- Run `import Pkg; Pkg.add(\"VoronoiCells\")` to install the VoronoiCells package.\n",
     "output_type": "error",
     "traceback": [
      "ArgumentError: Package VoronoiCells not found in current path:\n- Run `import Pkg; Pkg.add(\"VoronoiCells\")` to install the VoronoiCells package.\n",
      "",
      "Stacktrace:",
      " [1] require(into::Module, mod::Symbol)",
      "   @ Base ./loading.jl:967",
      " [2] eval",
      "   @ ./boot.jl:373 [inlined]",
      " [3] include_string(mapexpr::typeof(REPL.softscope), mod::Module, code::String, filename::String)",
      "   @ Base ./loading.jl:1196"
     ]
    }
   ],
   "source": [
    "using VoronoiCells\n",
    "using GeometryBasics\n",
    "using Plots\n",
    "using Random\n",
    "\n",
    "#Redondea los valores de A para que sean 0 o 1 (Probar)\n",
    "Ar = round.(value.(A));\n",
    "\n",
    "gr()\n",
    "Plots.GRBackend()\n",
    "\n",
    "#Separa los puntos por destino\n",
    "X = [x[findall(x->x==1, Ar[:,i]),1] for i in 1:n]\n",
    "Y = [x[findall(x->x==1, Ar[:,i]),2] for i in 1:n]\n",
    "points = [y[:,1], y[:,2]]\n",
    "\n",
    "#Conjuntos de Voronoi\n",
    "rect = Rectangle(Point2(0, 0), Point2(1, 1))\n",
    "tess = voronoicells(points, rect);\n",
    "\n",
    "scatter(X, Y, aspect_ratio=:equal) #Grafica los origenes, con color por destino\n",
    "scatter!(points, markersize = 10, label = \"Destinos\") #Plotea los destinos\n",
    "annotate!([(points[n][1] + 0.02, points[n][2] + 0.03, Plots.text(n)) for n in 1:10])\n",
    "plot!(tess, legend = :topleft)"
   ]
  },
  {
   "cell_type": "code",
   "execution_count": null,
   "metadata": {},
   "outputs": [],
   "source": []
  }
 ],
 "metadata": {
  "@webio": {
   "lastCommId": null,
   "lastKernelId": null
  },
  "hide_input": false,
  "kernelspec": {
   "display_name": "Julia 1.7.2",
   "language": "julia",
   "name": "julia-1.7"
  },
  "language_info": {
   "file_extension": ".jl",
   "mimetype": "application/julia",
   "name": "julia",
   "version": "1.7.2"
  }
 },
 "nbformat": 4,
 "nbformat_minor": 4
}
