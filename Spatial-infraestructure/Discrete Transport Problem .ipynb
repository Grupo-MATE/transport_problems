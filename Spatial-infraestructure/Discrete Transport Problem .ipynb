{
 "cells": [
  {
   "cell_type": "markdown",
   "metadata": {
    "tags": []
   },
   "source": [
    "# Problema de transporte discreto\n",
    "\n",
    "Dadas dos distribuciones de probabilidad discretas:\n",
    "\n",
    "* $X$: con soporte $x_1<x_2<\\ldots<x_m$ con probabilidades $P(X=x_i) = p_i$.\n",
    "* $Y$: con soporte $y_1<y_2<\\ldots<y_n$ con probabilidades $P(Y=y_j) = q_j$.\n",
    "\n",
    "Queremos hallar una distribución conjunta $A=(a_{ij}) \\geqslant 0$ tal que:\n",
    "\n",
    "$$\\min_{a_{ij}} \\sum_{i,j} a_{ij} |x_i-y_j|$$\n",
    "\n",
    "sujeto a:\n",
    "\n",
    "$$\\sum_j a_{ij} = p_i \\quad \\forall i=1,\\ldots,m,$$\n",
    "\n",
    "$$\\sum_i a_{ij} = q_j \\quad \\forall j=1,\\ldots,n.$$"
   ]
  },
  {
   "cell_type": "code",
   "execution_count": 1,
   "metadata": {},
   "outputs": [],
   "source": [
    "## Para instalar los paquetes del Project.toml la primera vez\n",
    "#using Pkg; Pkg.instantiate()\n",
    "#Pkg.add(\"VoronoiCells\")\n",
    "#import Pkg; Pkg.add(\"GeometryBasics\")"
   ]
  },
  {
   "cell_type": "code",
   "execution_count": 2,
   "metadata": {},
   "outputs": [
    {
     "name": "stderr",
     "output_type": "stream",
     "text": [
      "\u001b[32m\u001b[1m    Updating\u001b[22m\u001b[39m `~/Documents/GitHub/transport_problems/Project.toml`\n",
      " \u001b[90m [e3e34ffb] \u001b[39m\u001b[91m- VoronoiCells v0.3.0\u001b[39m\n",
      "\u001b[32m\u001b[1m    Updating\u001b[22m\u001b[39m `~/Documents/GitHub/transport_problems/Manifest.toml`\n",
      " \u001b[90m [fd0ad045] \u001b[39m\u001b[91m- GeometricalPredicates v0.4.1\u001b[39m\n",
      " \u001b[90m [e3e34ffb] \u001b[39m\u001b[91m- VoronoiCells v0.3.0\u001b[39m\n",
      " \u001b[90m [72f80fcb] \u001b[39m\u001b[91m- VoronoiDelaunay v0.4.2\u001b[39m\n",
      "┌ Info: We haven't cleaned this depot up for a bit, running Pkg.gc()...\n",
      "└ @ Pkg /Users/sabae/src/julia/usr/share/julia/stdlib/v1.7/Pkg/src/Pkg.jl:639\n",
      "\u001b[32m\u001b[1m      Active\u001b[22m\u001b[39m manifest files: 4 found\n",
      "\u001b[32m\u001b[1m      Active\u001b[22m\u001b[39m artifact files: 108 found\n",
      "\u001b[32m\u001b[1m      Active\u001b[22m\u001b[39m scratchspaces: 15 found\n",
      "\u001b[32m\u001b[1m     Deleted\u001b[22m\u001b[39m 6 package installations (401.386 KiB)\n",
      "\u001b[32m\u001b[1m     Deleted\u001b[22m\u001b[39m 1 scratchspace (0.000 byte)\n",
      "\u001b[32m\u001b[1m    Updating\u001b[22m\u001b[39m registry at `~/.julia/registries/General.toml`\n",
      "\u001b[32m\u001b[1m   Resolving\u001b[22m\u001b[39m package versions...\n",
      "\u001b[32m\u001b[1m   Installed\u001b[22m\u001b[39m GR_jll ────────────────── v0.66.2+0\n",
      "\u001b[32m\u001b[1m   Installed\u001b[22m\u001b[39m LoggingExtras ─────────── v0.4.9\n",
      "\u001b[32m\u001b[1m   Installed\u001b[22m\u001b[39m HypergeometricFunctions ─ v0.3.11\n",
      "\u001b[32m\u001b[1m   Installed\u001b[22m\u001b[39m StatsFuns ─────────────── v1.0.1\n",
      "\u001b[32m\u001b[1m   Installed\u001b[22m\u001b[39m FFTW ──────────────────── v1.5.0\n",
      "\u001b[32m\u001b[1m   Installed\u001b[22m\u001b[39m Preferences ───────────── v1.3.0\n",
      "\u001b[32m\u001b[1m   Installed\u001b[22m\u001b[39m OffsetArrays ──────────── v1.12.7\n",
      "\u001b[32m\u001b[1m   Installed\u001b[22m\u001b[39m MutableArithmetics ────── v1.0.4\n",
      "\u001b[32m\u001b[1m   Installed\u001b[22m\u001b[39m RelocatableFolders ────── v0.3.0\n",
      "\u001b[32m\u001b[1m   Installed\u001b[22m\u001b[39m PDMats ────────────────── v0.11.16\n",
      "\u001b[32m\u001b[1m   Installed\u001b[22m\u001b[39m PlotUtils ─────────────── v1.3.0\n",
      "\u001b[32m\u001b[1m   Installed\u001b[22m\u001b[39m RecipesPipeline ───────── v0.6.3\n",
      "\u001b[32m\u001b[1m   Installed\u001b[22m\u001b[39m xkbcommon_jll ─────────── v1.4.1+0\n",
      "\u001b[32m\u001b[1m   Installed\u001b[22m\u001b[39m NearestNeighbors ──────── v0.4.11\n",
      "\u001b[32m\u001b[1m   Installed\u001b[22m\u001b[39m Contour ───────────────── v0.6.2\n",
      "\u001b[32m\u001b[1m   Installed\u001b[22m\u001b[39m SpecialFunctions ──────── v2.1.7\n",
      "\u001b[32m\u001b[1m   Installed\u001b[22m\u001b[39m StaticArrays ──────────── v1.5.6\n",
      "\u001b[32m\u001b[1m   Installed\u001b[22m\u001b[39m HTTP ──────────────────── v1.3.3\n",
      "\u001b[32m\u001b[1m   Installed\u001b[22m\u001b[39m SimpleBufferStream ────── v1.1.0\n",
      "\u001b[32m\u001b[1m   Installed\u001b[22m\u001b[39m MathOptInterface ──────── v1.8.0\n",
      "\u001b[32m\u001b[1m   Installed\u001b[22m\u001b[39m PlotThemes ────────────── v3.0.0\n",
      "\u001b[32m\u001b[1m   Installed\u001b[22m\u001b[39m GeometricalPredicates ─── v0.4.2\n",
      "\u001b[32m\u001b[1m   Installed\u001b[22m\u001b[39m NaNMath ───────────────── v1.0.1\n",
      "\u001b[32m\u001b[1m   Installed\u001b[22m\u001b[39m StaticArraysCore ──────── v1.3.0\n",
      "\u001b[32m\u001b[1m   Installed\u001b[22m\u001b[39m PyPlot ────────────────── v2.11.0\n",
      "\u001b[32m\u001b[1m   Installed\u001b[22m\u001b[39m TranscodingStreams ────── v0.9.9\n",
      "\u001b[32m\u001b[1m   Installed\u001b[22m\u001b[39m JuMP ──────────────────── v1.3.0\n",
      "\u001b[32m\u001b[1m   Installed\u001b[22m\u001b[39m GLFW_jll ──────────────── v3.3.8+0\n",
      "\u001b[32m\u001b[1m   Installed\u001b[22m\u001b[39m Compat ────────────────── v4.2.0\n",
      "\u001b[32m\u001b[1m   Installed\u001b[22m\u001b[39m libaom_jll ────────────── v3.4.0+0\n",
      "\u001b[32m\u001b[1m   Installed\u001b[22m\u001b[39m MbedTLS ───────────────── v1.1.5\n",
      "\u001b[32m\u001b[1m   Installed\u001b[22m\u001b[39m StatsAPI ──────────────── v1.5.0\n",
      "\u001b[32m\u001b[1m   Installed\u001b[22m\u001b[39m DataStructures ────────── v0.18.13\n",
      "\u001b[32m\u001b[1m   Installed\u001b[22m\u001b[39m StatsBase ─────────────── v0.33.21\n",
      "\u001b[32m\u001b[1m   Installed\u001b[22m\u001b[39m GR ────────────────────── v0.66.2\n",
      "\u001b[32m\u001b[1m   Installed\u001b[22m\u001b[39m Scratch ───────────────── v1.1.1\n",
      "\u001b[32m\u001b[1m   Installed\u001b[22m\u001b[39m StatsPlots ────────────── v0.15.2\n",
      "\u001b[32m\u001b[1m   Installed\u001b[22m\u001b[39m Expat_jll ─────────────── v2.4.8+0\n",
      "\u001b[32m\u001b[1m   Installed\u001b[22m\u001b[39m ColorTypes ────────────── v0.11.4\n",
      "\u001b[32m\u001b[1m   Installed\u001b[22m\u001b[39m DiffRules ─────────────── v1.11.1\n",
      "\u001b[32m\u001b[1m   Installed\u001b[22m\u001b[39m Parsers ───────────────── v2.4.0\n",
      "\u001b[32m\u001b[1m   Installed\u001b[22m\u001b[39m PyCall ────────────────── v1.94.1\n",
      "\u001b[32m\u001b[1m   Installed\u001b[22m\u001b[39m Mosek ─────────────────── v1.2.3\n",
      "\u001b[32m\u001b[1m   Installed\u001b[22m\u001b[39m Plots ─────────────────── v1.31.7\n",
      "\u001b[32m\u001b[1m   Installed\u001b[22m\u001b[39m MKL_jll ───────────────── v2022.1.0+0\n",
      "\u001b[32m\u001b[1m   Installed\u001b[22m\u001b[39m AbstractFFTs ──────────── v1.2.1\n",
      "\u001b[32m\u001b[1m   Installed\u001b[22m\u001b[39m Libtiff_jll ───────────── v4.4.0+0\n",
      "\u001b[32m\u001b[1m   Installed\u001b[22m\u001b[39m KernelDensity ─────────── v0.6.5\n",
      "\u001b[32m\u001b[1m   Installed\u001b[22m\u001b[39m InverseFunctions ──────── v0.1.7\n",
      "\u001b[32m\u001b[1m   Installed\u001b[22m\u001b[39m LogExpFunctions ───────── v0.3.18\n",
      "\u001b[32m\u001b[1m   Installed\u001b[22m\u001b[39m DocStringExtensions ───── v0.9.1\n",
      "\u001b[32m\u001b[1m   Installed\u001b[22m\u001b[39m MultivariateStats ─────── v0.10.0\n",
      "\u001b[32m\u001b[1m   Installed\u001b[22m\u001b[39m ChainRulesCore ────────── v1.15.3\n",
      "\u001b[32m\u001b[1m   Installed\u001b[22m\u001b[39m GLPK ──────────────────── v1.1.0\n",
      "\u001b[32m\u001b[1m   Installed\u001b[22m\u001b[39m XML2_jll ──────────────── v2.9.14+0\n",
      "\u001b[32m\u001b[1m   Installed\u001b[22m\u001b[39m Adapt ─────────────────── v3.4.0\n",
      "\u001b[32m\u001b[1m   Installed\u001b[22m\u001b[39m OpenSSL_jll ───────────── v1.1.17+0\n",
      "\u001b[32m\u001b[1m   Installed\u001b[22m\u001b[39m FFMPEG_jll ────────────── v4.4.2+0\n",
      "\u001b[32m\u001b[1m   Installed\u001b[22m\u001b[39m Ipopt ─────────────────── v1.0.4\n",
      "\u001b[32m\u001b[1m   Installed\u001b[22m\u001b[39m Gurobi ────────────────── v0.11.3\n",
      "\u001b[32m\u001b[1m   Installed\u001b[22m\u001b[39m Latexify ──────────────── v0.15.16\n",
      "\u001b[32m\u001b[1m   Installed\u001b[22m\u001b[39m DataAPI ───────────────── v1.10.0\n",
      "\u001b[32m\u001b[1m   Installed\u001b[22m\u001b[39m FillArrays ────────────── v0.13.3\n",
      "\u001b[32m\u001b[1m   Installed\u001b[22m\u001b[39m VoronoiDelaunay ───────── v0.4.3\n",
      "\u001b[32m\u001b[1m   Installed\u001b[22m\u001b[39m StructArrays ──────────── v0.6.12\n",
      "\u001b[32m\u001b[1m   Installed\u001b[22m\u001b[39m QuadGK ────────────────── v2.5.0\n",
      "\u001b[32m\u001b[1m   Installed\u001b[22m\u001b[39m URIs ──────────────────── v1.4.0\n",
      "\u001b[32m\u001b[1m   Installed\u001b[22m\u001b[39m ForwardDiff ───────────── v0.10.32\n",
      "\u001b[32m\u001b[1m   Installed\u001b[22m\u001b[39m Interpolations ────────── v0.14.4\n",
      "\u001b[32m\u001b[1m   Installed\u001b[22m\u001b[39m Observables ───────────── v0.5.1\n",
      "\u001b[32m\u001b[1m   Installed\u001b[22m\u001b[39m ChangesOfVariables ────── v0.1.4\n",
      "\u001b[32m\u001b[1m   Installed\u001b[22m\u001b[39m Distributions ─────────── v0.25.70\n",
      "\u001b[32m\u001b[1m    Updating\u001b[22m\u001b[39m `~/Documents/GitHub/transport_problems/Project.toml`\n",
      " \u001b[90m [31c24e10] \u001b[39m\u001b[93m↑ Distributions v0.25.34 ⇒ v0.25.70\u001b[39m\n",
      " \u001b[90m [60bf3e95] \u001b[39m\u001b[93m↑ GLPK v0.15.2 ⇒ v1.1.0\u001b[39m\n",
      " \u001b[90m [28b8d3ca] \u001b[39m\u001b[93m↑ GR v0.62.1 ⇒ v0.66.2\u001b[39m\n",
      " \u001b[90m [5c1252a2] \u001b[39m\u001b[95m↓ GeometryBasics v0.4.1 ⇒ v0.3.13\u001b[39m\n",
      " \u001b[90m [2e9cd046] \u001b[39m\u001b[93m↑ Gurobi v0.10.3 ⇒ v0.11.3\u001b[39m\n",
      " \u001b[90m [b6b21f68] \u001b[39m\u001b[93m↑ Ipopt v0.9.0 ⇒ v1.0.4\u001b[39m\n",
      " \u001b[90m [4076af6c] \u001b[39m\u001b[93m↑ JuMP v0.22.1 ⇒ v1.3.0\u001b[39m\n",
      " \u001b[90m [5ab0869b] \u001b[39m\u001b[93m↑ KernelDensity v0.6.3 ⇒ v0.6.5\u001b[39m\n",
      " \u001b[90m [6405355b] \u001b[39m\u001b[93m↑ Mosek v1.2.2 ⇒ v1.2.3\u001b[39m\n",
      " \u001b[90m [1ec41992] \u001b[39m\u001b[93m↑ MosekTools v0.11.0 ⇒ v0.12.1\u001b[39m\n",
      " \u001b[90m [91a5bcdd] \u001b[39m\u001b[93m↑ Plots v1.25.1 ⇒ v1.31.7\u001b[39m\n",
      " \u001b[90m [d330b81b] \u001b[39m\u001b[93m↑ PyPlot v2.10.0 ⇒ v2.11.0\u001b[39m\n",
      " \u001b[90m [2913bbd2] \u001b[39m\u001b[93m↑ StatsBase v0.33.13 ⇒ v0.33.21\u001b[39m\n",
      " \u001b[90m [f3b207a7] \u001b[39m\u001b[93m↑ StatsPlots v0.14.33 ⇒ v0.15.2\u001b[39m\n",
      " \u001b[90m [e3e34ffb] \u001b[39m\u001b[92m+ VoronoiCells v0.2.2\u001b[39m\n",
      "\u001b[32m\u001b[1m    Updating\u001b[22m\u001b[39m `~/Documents/GitHub/transport_problems/Manifest.toml`\n",
      " \u001b[90m [621f4979] \u001b[39m\u001b[93m↑ AbstractFFTs v1.1.0 ⇒ v1.2.1\u001b[39m\n",
      " \u001b[90m [79e6a3ab] \u001b[39m\u001b[93m↑ Adapt v3.3.1 ⇒ v3.4.0\u001b[39m\n",
      " \u001b[90m [6e4b80f9] \u001b[39m\u001b[93m↑ BenchmarkTools v1.2.2 ⇒ v1.3.1\u001b[39m\n",
      " \u001b[90m [b99e7846] \u001b[39m\u001b[91m- BinaryProvider v0.5.10\u001b[39m\n",
      " \u001b[90m [fa961155] \u001b[39m\u001b[91m- CEnum v0.4.1\u001b[39m\n",
      " \u001b[90m [d360d2e6] \u001b[39m\u001b[93m↑ ChainRulesCore v1.11.2 ⇒ v1.15.3\u001b[39m\n",
      " \u001b[90m [9e997f8a] \u001b[39m\u001b[93m↑ ChangesOfVariables v0.1.1 ⇒ v0.1.4\u001b[39m\n",
      " \u001b[90m [3da002f7] \u001b[39m\u001b[93m↑ ColorTypes v0.11.0 ⇒ v0.11.4\u001b[39m\n",
      " \u001b[90m [34da2185] \u001b[39m\u001b[93m↑ Compat v3.40.0 ⇒ v4.2.0\u001b[39m\n",
      " \u001b[90m [d38c429a] \u001b[39m\u001b[93m↑ Contour v0.5.7 ⇒ v0.6.2\u001b[39m\n",
      " \u001b[90m [9a962f9c] \u001b[39m\u001b[93m↑ DataAPI v1.9.0 ⇒ v1.10.0\u001b[39m\n",
      " \u001b[90m [864edb3b] \u001b[39m\u001b[93m↑ DataStructures v0.18.11 ⇒ v0.18.13\u001b[39m\n",
      " \u001b[90m [b552c78f] \u001b[39m\u001b[93m↑ DiffRules v1.5.0 ⇒ v1.11.1\u001b[39m\n",
      " \u001b[90m [31c24e10] \u001b[39m\u001b[93m↑ Distributions v0.25.34 ⇒ v0.25.70\u001b[39m\n",
      " \u001b[90m [ffbed154] \u001b[39m\u001b[93m↑ DocStringExtensions v0.8.6 ⇒ v0.9.1\u001b[39m\n",
      " \u001b[90m [fa6b7ba4] \u001b[39m\u001b[92m+ DualNumbers v0.6.8\u001b[39m\n",
      " \u001b[90m [7a1cc6ca] \u001b[39m\u001b[93m↑ FFTW v1.4.6 ⇒ v1.5.0\u001b[39m\n",
      " \u001b[90m [1a297f60] \u001b[39m\u001b[93m↑ FillArrays v0.12.7 ⇒ v0.13.3\u001b[39m\n",
      " \u001b[90m [f6369f11] \u001b[39m\u001b[93m↑ ForwardDiff v0.10.23 ⇒ v0.10.32\u001b[39m\n",
      " \u001b[90m [60bf3e95] \u001b[39m\u001b[93m↑ GLPK v0.15.2 ⇒ v1.1.0\u001b[39m\n",
      " \u001b[90m [28b8d3ca] \u001b[39m\u001b[93m↑ GR v0.62.1 ⇒ v0.66.2\u001b[39m\n",
      " \u001b[90m [fd0ad045] \u001b[39m\u001b[92m+ GeometricalPredicates v0.4.2\u001b[39m\n",
      " \u001b[90m [5c1252a2] \u001b[39m\u001b[95m↓ GeometryBasics v0.4.1 ⇒ v0.3.13\u001b[39m\n",
      " \u001b[90m [2e9cd046] \u001b[39m\u001b[93m↑ Gurobi v0.10.3 ⇒ v0.11.3\u001b[39m\n",
      " \u001b[90m [cd3eb016] \u001b[39m\u001b[93m↑ HTTP v0.9.17 ⇒ v1.3.3\u001b[39m\n",
      " \u001b[90m [34004b35] \u001b[39m\u001b[92m+ HypergeometricFunctions v0.3.11\u001b[39m\n",
      " \u001b[90m [83e8ac13] \u001b[39m\u001b[93m↑ IniFile v0.5.0 ⇒ v0.5.1\u001b[39m\n",
      " \u001b[90m [a98d9a8b] \u001b[39m\u001b[93m↑ Interpolations v0.13.6 ⇒ v0.14.4\u001b[39m\n",
      " \u001b[90m [3587e190] \u001b[39m\u001b[93m↑ InverseFunctions v0.1.2 ⇒ v0.1.7\u001b[39m\n",
      " \u001b[90m [b6b21f68] \u001b[39m\u001b[93m↑ Ipopt v0.9.0 ⇒ v1.0.4\u001b[39m\n",
      " \u001b[90m [692b3bcd] \u001b[39m\u001b[93m↑ JLLWrappers v1.3.0 ⇒ v1.4.1\u001b[39m\n",
      " \u001b[90m [682c06a0] \u001b[39m\u001b[93m↑ JSON v0.21.2 ⇒ v0.21.3\u001b[39m\n",
      " \u001b[90m [4076af6c] \u001b[39m\u001b[93m↑ JuMP v0.22.1 ⇒ v1.3.0\u001b[39m\n",
      " \u001b[90m [5ab0869b] \u001b[39m\u001b[93m↑ KernelDensity v0.6.3 ⇒ v0.6.5\u001b[39m\n",
      " \u001b[90m [23fbe1c1] \u001b[39m\u001b[93m↑ Latexify v0.15.9 ⇒ v0.15.16\u001b[39m\n",
      " \u001b[90m [2ab3a3ac] \u001b[39m\u001b[93m↑ LogExpFunctions v0.3.5 ⇒ v0.3.18\u001b[39m\n",
      " \u001b[90m [e6f89c97] \u001b[39m\u001b[92m+ LoggingExtras v0.4.9\u001b[39m\n",
      " \u001b[90m [b8f27783] \u001b[39m\u001b[93m↑ MathOptInterface v0.10.6 ⇒ v1.8.0\u001b[39m\n",
      " \u001b[90m [739be429] \u001b[39m\u001b[93m↑ MbedTLS v1.0.3 ⇒ v1.1.5\u001b[39m\n",
      " \u001b[90m [6405355b] \u001b[39m\u001b[93m↑ Mosek v1.2.2 ⇒ v1.2.3\u001b[39m\n",
      " \u001b[90m [1ec41992] \u001b[39m\u001b[93m↑ MosekTools v0.11.0 ⇒ v0.12.1\u001b[39m\n",
      " \u001b[90m [6f286f6a] \u001b[39m\u001b[93m↑ MultivariateStats v0.9.0 ⇒ v0.10.0\u001b[39m\n",
      " \u001b[90m [d8a4904e] \u001b[39m\u001b[93m↑ MutableArithmetics v0.3.1 ⇒ v1.0.4\u001b[39m\n",
      " \u001b[90m [77ba4419] \u001b[39m\u001b[93m↑ NaNMath v0.3.5 ⇒ v1.0.1\u001b[39m\n",
      " \u001b[90m [b8a86587] \u001b[39m\u001b[93m↑ NearestNeighbors v0.4.10 ⇒ v0.4.11\u001b[39m\n",
      " \u001b[90m [510215fc] \u001b[39m\u001b[93m↑ Observables v0.4.0 ⇒ v0.5.1\u001b[39m\n",
      " \u001b[90m [6fe1bfb0] \u001b[39m\u001b[93m↑ OffsetArrays v1.12.5 ⇒ v1.12.7\u001b[39m\n",
      " \u001b[90m [90014a1f] \u001b[39m\u001b[93m↑ PDMats v0.11.5 ⇒ v0.11.16\u001b[39m\n",
      " \u001b[90m [69de0a69] \u001b[39m\u001b[93m↑ Parsers v2.1.2 ⇒ v2.4.0\u001b[39m\n",
      " \u001b[90m [ccf2f8ad] \u001b[39m\u001b[93m↑ PlotThemes v2.0.1 ⇒ v3.0.0\u001b[39m\n",
      " \u001b[90m [995b91a9] \u001b[39m\u001b[93m↑ PlotUtils v1.0.15 ⇒ v1.3.0\u001b[39m\n",
      " \u001b[90m [91a5bcdd] \u001b[39m\u001b[93m↑ Plots v1.25.1 ⇒ v1.31.7\u001b[39m\n",
      " \u001b[90m [21216c6a] \u001b[39m\u001b[93m↑ Preferences v1.2.2 ⇒ v1.3.0\u001b[39m\n",
      " \u001b[90m [438e738f] \u001b[39m\u001b[93m↑ PyCall v1.93.1 ⇒ v1.94.1\u001b[39m\n",
      " \u001b[90m [d330b81b] \u001b[39m\u001b[93m↑ PyPlot v2.10.0 ⇒ v2.11.0\u001b[39m\n",
      " \u001b[90m [1fd47b50] \u001b[39m\u001b[93m↑ QuadGK v2.4.2 ⇒ v2.5.0\u001b[39m\n",
      " \u001b[90m [01d81517] \u001b[39m\u001b[93m↑ RecipesPipeline v0.4.1 ⇒ v0.6.3\u001b[39m\n",
      " \u001b[90m [05181044] \u001b[39m\u001b[92m+ RelocatableFolders v0.3.0\u001b[39m\n",
      " \u001b[90m [ae029012] \u001b[39m\u001b[93m↑ Requires v1.1.3 ⇒ v1.3.0\u001b[39m\n",
      " \u001b[90m [6c6a2e73] \u001b[39m\u001b[93m↑ Scratch v1.1.0 ⇒ v1.1.1\u001b[39m\n",
      " \u001b[90m [777ac1f9] \u001b[39m\u001b[92m+ SimpleBufferStream v1.1.0\u001b[39m\n",
      " \u001b[90m [276daf66] \u001b[39m\u001b[93m↑ SpecialFunctions v1.8.1 ⇒ v2.1.7\u001b[39m\n",
      " \u001b[90m [90137ffa] \u001b[39m\u001b[93m↑ StaticArrays v1.2.13 ⇒ v1.5.6\u001b[39m\n",
      " \u001b[90m [1e83bf80] \u001b[39m\u001b[92m+ StaticArraysCore v1.3.0\u001b[39m\n",
      " \u001b[90m [82ae8749] \u001b[39m\u001b[93m↑ StatsAPI v1.1.0 ⇒ v1.5.0\u001b[39m\n",
      " \u001b[90m [2913bbd2] \u001b[39m\u001b[93m↑ StatsBase v0.33.13 ⇒ v0.33.21\u001b[39m\n",
      " \u001b[90m [4c63d2b9] \u001b[39m\u001b[93m↑ StatsFuns v0.9.14 ⇒ v1.0.1\u001b[39m\n",
      " \u001b[90m [f3b207a7] \u001b[39m\u001b[93m↑ StatsPlots v0.14.33 ⇒ v0.15.2\u001b[39m\n",
      " \u001b[90m [09ab397b] \u001b[39m\u001b[93m↑ StructArrays v0.6.3 ⇒ v0.6.12\u001b[39m\n",
      " \u001b[90m [bd369af6] \u001b[39m\u001b[93m↑ Tables v1.6.0 ⇒ v1.7.0\u001b[39m\n",
      " \u001b[90m [3bb67fe8] \u001b[39m\u001b[93m↑ TranscodingStreams v0.9.6 ⇒ v0.9.9\u001b[39m\n",
      " \u001b[90m [5c2747f8] \u001b[39m\u001b[93m↑ URIs v1.3.0 ⇒ v1.4.0\u001b[39m\n",
      " \u001b[90m [41fe7b60] \u001b[39m\u001b[92m+ Unzip v0.1.2\u001b[39m\n",
      " \u001b[90m [e3e34ffb] \u001b[39m\u001b[92m+ VoronoiCells v0.2.2\u001b[39m\n",
      " \u001b[90m [72f80fcb] \u001b[39m\u001b[92m+ VoronoiDelaunay v0.4.3\u001b[39m\n",
      " \u001b[90m [2e619515] \u001b[39m\u001b[93m↑ Expat_jll v2.2.10+0 ⇒ v2.4.8+0\u001b[39m\n",
      " \u001b[90m [b22a6f82] \u001b[39m\u001b[93m↑ FFMPEG_jll v4.4.0+0 ⇒ v4.4.2+0\u001b[39m\n",
      " \u001b[90m [0656b61e] \u001b[39m\u001b[93m↑ GLFW_jll v3.3.5+1 ⇒ v3.3.8+0\u001b[39m\n",
      " \u001b[90m [d2c73de3] \u001b[39m\u001b[93m↑ GR_jll v0.62.0+0 ⇒ v0.66.2+0\u001b[39m\n",
      " \u001b[90m [9cc047cb] \u001b[39m\u001b[93m↑ Ipopt_jll v3.13.4+2 ⇒ v300.1400.400+0\u001b[39m\n",
      " \u001b[90m [aacddb02] \u001b[39m\u001b[93m↑ JpegTurbo_jll v2.1.0+0 ⇒ v2.1.2+0\u001b[39m\n",
      " \u001b[90m [89763e89] \u001b[39m\u001b[93m↑ Libtiff_jll v4.3.0+1 ⇒ v4.4.0+0\u001b[39m\n",
      " \u001b[90m [856f044c] \u001b[39m\u001b[93m↑ MKL_jll v2022.0.0+0 ⇒ v2022.1.0+0\u001b[39m\n",
      " \u001b[90m [d7ed1dd3] \u001b[39m\u001b[93m↑ MUMPS_seq_jll v5.2.1+4 ⇒ v5.4.1+0\u001b[39m\n",
      " \u001b[90m [458c3c95] \u001b[39m\u001b[93m↑ OpenSSL_jll v1.1.10+0 ⇒ v1.1.17+0\u001b[39m\n",
      " \u001b[90m [2381bf8a] \u001b[39m\u001b[93m↑ Wayland_protocols_jll v1.23.0+0 ⇒ v1.25.0+0\u001b[39m\n",
      " \u001b[90m [02c8fc9c] \u001b[39m\u001b[93m↑ XML2_jll v2.9.12+0 ⇒ v2.9.14+0\u001b[39m\n",
      " \u001b[90m [3161d3a3] \u001b[39m\u001b[93m↑ Zstd_jll v1.5.0+0 ⇒ v1.5.2+0\u001b[39m\n",
      " \u001b[90m [a4ae2306] \u001b[39m\u001b[92m+ libaom_jll v3.4.0+0\u001b[39m\n",
      " \u001b[90m [d8fb68d0] \u001b[39m\u001b[93m↑ xkbcommon_jll v0.9.1+5 ⇒ v1.4.1+0\u001b[39m\n",
      "\u001b[32m\u001b[1m    Building\u001b[22m\u001b[39m Gurobi → `~/.julia/scratchspaces/44cfe95a-1eb2-52ea-b672-e2afdf69b78f/87c018cbd2fd33e6d2462d486abee53a27c91c91/build.log`\n"
     ]
    },
    {
     "ename": "LoadError",
     "evalue": "Error building `Gurobi`: \nERROR: LoadError: Unable to locate Gurobi installation. If the advice above did not help,\nopen an issue at https://github.com/jump-dev/Gurobi.jl and post the full\nprint-out of this diagnostic attempt.\n\nStacktrace:\n [1] error(s::String)\n   @ Base ./error.jl:33\n [2] top-level scope\n   @ ~/.julia/packages/Gurobi/VPomg/deps/build.jl:178\n [3] include(fname::String)\n   @ Base.MainInclude ./client.jl:451\n [4] top-level scope\n   @ none:5\nin expression starting at /Users/emiliano/.julia/packages/Gurobi/VPomg/deps/build.jl:166\n\n**Unable to locate Gurobi installation. Running some common diagnostics.**\n\nGurobi.jl only supports the following versions:\n\n - gurobi95\n - gurobi91\n - gurobi90\n\nDid you download and install one of these versions from gurobi.com?\nInstalling Gurobi.jl via the Julia package manager is _not_ sufficient!\n\n\nWe could not find a version of Gurobi in your `PATH`, and we could\nnot find the environment variable `GUROBI_HOME`.\n\n\nYou should set the `GUROBI_HOME` environment variable to point to the\ninstall location then try again. For example (updating the path to the\ncorrect location if needed):\n```\n# On Windows, this might be\nENV[\"GUROBI_HOME\"] = \"C:\\\\Program Files\\\\gurobi950\\\\win64\\\\\"\nimport Pkg\nPkg.add(\"Gurobi\")\nPkg.build(\"Gurobi\")\n\n# On OSX, this might be\nENV[\"GUROBI_HOME\"] = \"/Library/gurobi950/mac64/\"\nimport Pkg\nPkg.add(\"Gurobi\")\nPkg.build(\"Gurobi\")\n\n# On Unix, this might be\nENV[\"GUROBI_HOME\"] = \"/opt/gurobi950/linux64/\"\nimport Pkg\nPkg.add(\"Gurobi\")\nPkg.build(\"Gurobi\")\n```\n**Note: your path may differ. Check which folder you installed the Gurobi\nbinary in, and update the path accordingly.**\n",
     "output_type": "error",
     "traceback": [
      "Error building `Gurobi`: \nERROR: LoadError: Unable to locate Gurobi installation. If the advice above did not help,\nopen an issue at https://github.com/jump-dev/Gurobi.jl and post the full\nprint-out of this diagnostic attempt.\n\nStacktrace:\n [1] error(s::String)\n   @ Base ./error.jl:33\n [2] top-level scope\n   @ ~/.julia/packages/Gurobi/VPomg/deps/build.jl:178\n [3] include(fname::String)\n   @ Base.MainInclude ./client.jl:451\n [4] top-level scope\n   @ none:5\nin expression starting at /Users/emiliano/.julia/packages/Gurobi/VPomg/deps/build.jl:166\n\n**Unable to locate Gurobi installation. Running some common diagnostics.**\n\nGurobi.jl only supports the following versions:\n\n - gurobi95\n - gurobi91\n - gurobi90\n\nDid you download and install one of these versions from gurobi.com?\nInstalling Gurobi.jl via the Julia package manager is _not_ sufficient!\n\n\nWe could not find a version of Gurobi in your `PATH`, and we could\nnot find the environment variable `GUROBI_HOME`.\n\n\nYou should set the `GUROBI_HOME` environment variable to point to the\ninstall location then try again. For example (updating the path to the\ncorrect location if needed):\n```\n# On Windows, this might be\nENV[\"GUROBI_HOME\"] = \"C:\\\\Program Files\\\\gurobi950\\\\win64\\\\\"\nimport Pkg\nPkg.add(\"Gurobi\")\nPkg.build(\"Gurobi\")\n\n# On OSX, this might be\nENV[\"GUROBI_HOME\"] = \"/Library/gurobi950/mac64/\"\nimport Pkg\nPkg.add(\"Gurobi\")\nPkg.build(\"Gurobi\")\n\n# On Unix, this might be\nENV[\"GUROBI_HOME\"] = \"/opt/gurobi950/linux64/\"\nimport Pkg\nPkg.add(\"Gurobi\")\nPkg.build(\"Gurobi\")\n```\n**Note: your path may differ. Check which folder you installed the Gurobi\nbinary in, and update the path accordingly.**\n",
      "",
      "Stacktrace:",
      "  [1] pkgerror(msg::String)",
      "    @ Pkg.Types /Applications/Julia-1.7.app/Contents/Resources/julia/share/julia/stdlib/v1.7/Pkg/src/Types.jl:68",
      "  [2] (::Pkg.Operations.var\"#62#67\"{Bool, Pkg.Types.Context, String, Pkg.Types.PackageSpec})()",
      "    @ Pkg.Operations /Applications/Julia-1.7.app/Contents/Resources/julia/share/julia/stdlib/v1.7/Pkg/src/Operations.jl:962",
      "  [3] withenv(::Pkg.Operations.var\"#62#67\"{Bool, Pkg.Types.Context, String, Pkg.Types.PackageSpec}, ::Pair{String, String}, ::Vararg{Pair{String}})",
      "    @ Base ./env.jl:172",
      "  [4] (::Pkg.Operations.var\"#99#103\"{String, Bool, Bool, Bool, Pkg.Operations.var\"#62#67\"{Bool, Pkg.Types.Context, String, Pkg.Types.PackageSpec}, Pkg.Types.PackageSpec})()",
      "    @ Pkg.Operations /Applications/Julia-1.7.app/Contents/Resources/julia/share/julia/stdlib/v1.7/Pkg/src/Operations.jl:1506",
      "  [5] with_temp_env(fn::Pkg.Operations.var\"#99#103\"{String, Bool, Bool, Bool, Pkg.Operations.var\"#62#67\"{Bool, Pkg.Types.Context, String, Pkg.Types.PackageSpec}, Pkg.Types.PackageSpec}, temp_env::String)",
      "    @ Pkg.Operations /Applications/Julia-1.7.app/Contents/Resources/julia/share/julia/stdlib/v1.7/Pkg/src/Operations.jl:1390",
      "  [6] (::Pkg.Operations.var\"#98#102\"{Bool, Bool, Bool, Pkg.Operations.var\"#62#67\"{Bool, Pkg.Types.Context, String, Pkg.Types.PackageSpec}, Pkg.Types.Context, Pkg.Types.PackageSpec, String, Pkg.Types.Project, String})(tmp::String)",
      "    @ Pkg.Operations /Applications/Julia-1.7.app/Contents/Resources/julia/share/julia/stdlib/v1.7/Pkg/src/Operations.jl:1469",
      "  [7] mktempdir(fn::Pkg.Operations.var\"#98#102\"{Bool, Bool, Bool, Pkg.Operations.var\"#62#67\"{Bool, Pkg.Types.Context, String, Pkg.Types.PackageSpec}, Pkg.Types.Context, Pkg.Types.PackageSpec, String, Pkg.Types.Project, String}, parent::String; prefix::String)",
      "    @ Base.Filesystem ./file.jl:750",
      "  [8] mktempdir(fn::Function, parent::String) (repeats 2 times)",
      "    @ Base.Filesystem ./file.jl:748",
      "  [9] sandbox(fn::Function, ctx::Pkg.Types.Context, target::Pkg.Types.PackageSpec, target_path::String, sandbox_path::String, sandbox_project_override::Pkg.Types.Project; force_latest_compatible_version::Bool, allow_earlier_backwards_compatible_versions::Bool, allow_reresolve::Bool)",
      "    @ Pkg.Operations /Applications/Julia-1.7.app/Contents/Resources/julia/share/julia/stdlib/v1.7/Pkg/src/Operations.jl:1435",
      " [10] sandbox(fn::Function, ctx::Pkg.Types.Context, target::Pkg.Types.PackageSpec, target_path::String, sandbox_path::String, sandbox_project_override::Pkg.Types.Project)",
      "    @ Pkg.Operations /Applications/Julia-1.7.app/Contents/Resources/julia/share/julia/stdlib/v1.7/Pkg/src/Operations.jl:1432",
      " [11] build_versions(ctx::Pkg.Types.Context, uuids::Set{Base.UUID}; verbose::Bool)",
      "    @ Pkg.Operations /Applications/Julia-1.7.app/Contents/Resources/julia/share/julia/stdlib/v1.7/Pkg/src/Operations.jl:943",
      " [12] build_versions",
      "    @ /Applications/Julia-1.7.app/Contents/Resources/julia/share/julia/stdlib/v1.7/Pkg/src/Operations.jl:870 [inlined]",
      " [13] add(ctx::Pkg.Types.Context, pkgs::Vector{Pkg.Types.PackageSpec}, new_git::Set{Base.UUID}; preserve::Pkg.Types.PreserveLevel, platform::Base.BinaryPlatforms.Platform)",
      "    @ Pkg.Operations /Applications/Julia-1.7.app/Contents/Resources/julia/share/julia/stdlib/v1.7/Pkg/src/Operations.jl:1186",
      " [14] add(ctx::Pkg.Types.Context, pkgs::Vector{Pkg.Types.PackageSpec}; preserve::Pkg.Types.PreserveLevel, platform::Base.BinaryPlatforms.Platform, kwargs::Base.Pairs{Symbol, IJulia.IJuliaStdio{Base.PipeEndpoint}, Tuple{Symbol}, NamedTuple{(:io,), Tuple{IJulia.IJuliaStdio{Base.PipeEndpoint}}}})",
      "    @ Pkg.API /Applications/Julia-1.7.app/Contents/Resources/julia/share/julia/stdlib/v1.7/Pkg/src/API.jl:268",
      " [15] add(pkgs::Vector{Pkg.Types.PackageSpec}; io::IJulia.IJuliaStdio{Base.PipeEndpoint}, kwargs::Base.Pairs{Symbol, Union{}, Tuple{}, NamedTuple{(), Tuple{}}})",
      "    @ Pkg.API /Applications/Julia-1.7.app/Contents/Resources/julia/share/julia/stdlib/v1.7/Pkg/src/API.jl:149",
      " [16] add(pkgs::Vector{Pkg.Types.PackageSpec})",
      "    @ Pkg.API /Applications/Julia-1.7.app/Contents/Resources/julia/share/julia/stdlib/v1.7/Pkg/src/API.jl:144",
      " [17] #add#26",
      "    @ /Applications/Julia-1.7.app/Contents/Resources/julia/share/julia/stdlib/v1.7/Pkg/src/API.jl:141 [inlined]",
      " [18] add(pkg::Pkg.Types.PackageSpec)",
      "    @ Pkg.API /Applications/Julia-1.7.app/Contents/Resources/julia/share/julia/stdlib/v1.7/Pkg/src/API.jl:141",
      " [19] top-level scope",
      "    @ In[2]:3",
      " [20] eval",
      "    @ ./boot.jl:373 [inlined]",
      " [21] include_string(mapexpr::typeof(REPL.softscope), mod::Module, code::String, filename::String)",
      "    @ Base ./loading.jl:1196"
     ]
    }
   ],
   "source": [
    "using Pkg\n",
    "Pkg.rm(\"VoronoiCells\")\n",
    "Pkg.add(Pkg.PackageSpec(;name=\"VoronoiCells\", version=\"0.2.2\"))"
   ]
  },
  {
   "cell_type": "code",
   "execution_count": 3,
   "metadata": {
    "jupyter": {
     "source_hidden": true
    },
    "tags": []
   },
   "outputs": [
    {
     "name": "stderr",
     "output_type": "stream",
     "text": [
      "┌ Info: Precompiling JuMP [4076af6c-e467-56ae-b986-b466b2749572]\n",
      "└ @ Base loading.jl:1423\n",
      "┌ Info: Precompiling GLPK [60bf3e95-4087-53dc-ae20-288a0d20c6a6]\n",
      "└ @ Base loading.jl:1423\n",
      "┌ Info: Precompiling Ipopt [b6b21f68-93f8-5de0-b562-5493be1d77c9]\n",
      "└ @ Base loading.jl:1423\n"
     ]
    },
    {
     "data": {
      "text/plain": [
       "A JuMP Model\n",
       "Minimization problem with:\n",
       "Variables: 6\n",
       "Objective function type: AffExpr\n",
       "`AffExpr`-in-`MathOptInterface.EqualTo{Float64}`: 5 constraints\n",
       "`VariableRef`-in-`MathOptInterface.GreaterThan{Float64}`: 6 constraints\n",
       "Model mode: AUTOMATIC\n",
       "CachingOptimizer state: EMPTY_OPTIMIZER\n",
       "Solver name: Ipopt\n",
       "Names registered in the model: A"
      ]
     },
     "execution_count": 3,
     "metadata": {},
     "output_type": "execute_result"
    }
   ],
   "source": [
    "using JuMP, GLPK, Ipopt\n",
    "\n",
    "#m=3\n",
    "x=[1.0;2.0;3.0]\n",
    "p=[0.2;0.4;0.4]\n",
    "\n",
    "#n=2\n",
    "y=[0;4.0]\n",
    "q=[0.5;0.5]\n",
    "\n",
    "#model = JuMP.Model(GLPK.Optimizer)\n",
    "model = JuMP.Model(Ipopt.Optimizer)\n",
    "\n",
    "\n",
    "m=length(x)\n",
    "n=length(y)\n",
    "\n",
    "#Calculo los pesos |xi-yj|\n",
    "W=abs.(x*ones(1,n) - ones(m,1)*y')\n",
    "\n",
    "@variable(model,A[1:m,1:n]>=0)\n",
    "\n",
    "conp = @constraint(model, sum(A, dims=2).==p)\n",
    "conq = @constraint(model, sum(A, dims=1).==q')\n",
    "\n",
    "@objective(model,Min, sum( A.*W ))\n",
    "\n",
    "model"
   ]
  },
  {
   "cell_type": "code",
   "execution_count": 4,
   "metadata": {},
   "outputs": [
    {
     "name": "stdout",
     "output_type": "stream",
     "text": [
      "\n",
      "******************************************************************************\n",
      "This program contains Ipopt, a library for large-scale nonlinear optimization.\n",
      " Ipopt is released as open source code under the Eclipse Public License (EPL).\n",
      "         For more information visit https://github.com/coin-or/Ipopt\n",
      "******************************************************************************\n",
      "\n",
      "This is Ipopt version 3.14.4, running with linear solver MUMPS 5.4.1.\n",
      "\n",
      "Number of nonzeros in equality constraint Jacobian...:       12\n",
      "Number of nonzeros in inequality constraint Jacobian.:        0\n",
      "Number of nonzeros in Lagrangian Hessian.............:        0\n",
      "\n",
      "Total number of variables............................:        6\n",
      "                     variables with only lower bounds:        6\n",
      "                variables with lower and upper bounds:        0\n",
      "                     variables with only upper bounds:        0\n",
      "Total number of equality constraints.................:        5\n",
      "Total number of inequality constraints...............:        0\n",
      "        inequality constraints with only lower bounds:        0\n",
      "   inequality constraints with lower and upper bounds:        0\n",
      "        inequality constraints with only upper bounds:        0\n",
      "\n",
      "iter    objective    inf_pr   inf_du lg(mu)  ||d||  lg(rg) alpha_du alpha_pr  ls\n",
      "   0  1.1999988e-01 4.70e-01 2.00e+00  -1.0 0.00e+00    -  0.00e+00 0.00e+00   0\n",
      "   1  2.6750973e-01 4.54e-01 2.99e+00  -1.0 1.85e-01    -  1.04e-01 1.98e-01h  1\n",
      "   2  2.0269993e+00 3.77e-08 2.95e+00  -1.7 3.60e-01    -  9.78e-02 1.00e+00h  1\n",
      "   3  1.9901062e+00 2.61e-08 2.97e+00  -2.5 3.16e-02    -  6.00e-01 3.09e-01f  1\n",
      "   4  1.4001563e+00 1.67e-08 2.97e+00  -3.8 8.03e-01    -  6.33e-03 3.68e-01f  1\n",
      "   5  1.4003013e+00 1.62e-08 2.00e+00  -3.8 2.29e-03    -  1.00e+00 3.12e-02f  6\n",
      "   6  1.4000037e+00 4.42e-10 2.00e+00  -5.7 1.15e-04    -  1.00e+00 1.00e+00f  1\n",
      "   7  1.4000000e+00 8.49e-11 2.00e+00  -8.6 9.48e-07    -  1.00e+00 1.00e+00h  1\n",
      "   8  1.4000000e+00 6.59e-11 2.00e+00  -9.0 8.12e-10    -  1.00e+00 1.00e+00h  1\n",
      "   9  1.4000000e+00 6.59e-11 2.00e+00  -9.0 3.40e-17    -  1.00e+00 1.00e+00   0\n",
      "iter    objective    inf_pr   inf_du lg(mu)  ||d||  lg(rg) alpha_du alpha_pr  ls\n",
      "  10  1.4000000e+00 6.59e-11 2.00e+00  -9.0 4.47e-17    -  1.00e+00 1.00e+00   0\n",
      "  11  1.4000000e+00 6.59e-11 2.00e+00  -9.0 4.42e-17    -  1.00e+00 1.00e+00   0\n",
      "  12  1.4000000e+00 6.59e-11 2.00e+00  -9.0 3.86e-17    -  1.00e+00 1.00e+00   0\n",
      "  13  1.4000000e+00 6.59e-11 2.00e+00  -9.0 2.83e-17    -  1.00e+00 1.00e+00   0\n",
      "  14  1.4000000e+00 6.59e-11 2.00e+00  -9.0 4.42e-17    -  1.00e+00 1.00e+00   0\n",
      "  15  1.4000000e+00 6.59e-11 2.00e+00  -9.0 6.08e-17    -  1.00e+00 1.00e+00   0\n",
      "  16  1.4000000e+00 6.59e-11 2.00e+00  -9.0 7.27e-17    -  1.00e+00 1.00e+00   0\n",
      "  17  1.4000000e+00 6.59e-11 2.00e+00  -9.0 4.41e-17    -  1.00e+00 1.00e+00   0\n",
      "  18  1.4000000e+00 6.59e-11 2.00e+00  -9.0 4.47e-17    -  1.00e+00 1.00e+00   0\n",
      "  19  1.4000000e+00 6.59e-11 2.00e+00  -9.0 4.41e-17    -  1.00e+00 1.00e+00   0\n",
      "iter    objective    inf_pr   inf_du lg(mu)  ||d||  lg(rg) alpha_du alpha_pr  ls\n",
      "  20  1.4000000e+00 6.59e-11 2.00e+00  -9.0 4.47e-17    -  1.00e+00 1.00e+00   0\n",
      "  21  1.4000000e+00 6.59e-11 2.00e+00  -9.0 4.41e-17    -  1.00e+00 1.00e+00   0\n",
      "\n",
      "Number of Iterations....: 21\n",
      "\n",
      "                                   (scaled)                 (unscaled)\n",
      "Objective...............:   1.3999999616644336e+00    1.3999999616644336e+00\n",
      "Dual infeasibility......:   1.9999999969696971e+00    1.9999999969696971e+00\n",
      "Constraint violation....:   6.5892069578410428e-11    6.5892069578410428e-11\n",
      "Variable bound violation:   9.5454545478650143e-09    9.5454545478650143e-09\n",
      "Complementarity.........:   9.0909090909090982e-10    9.0909090909090982e-10\n",
      "Overall NLP error.......:   9.0909090909090982e-10    1.9999999969696971e+00\n",
      "\n",
      "\n",
      "Number of objective function evaluations             = 27\n",
      "Number of objective gradient evaluations             = 22\n",
      "Number of equality constraint evaluations            = 27\n",
      "Number of inequality constraint evaluations          = 0\n",
      "Number of equality constraint Jacobian evaluations   = 1\n",
      "Number of inequality constraint Jacobian evaluations = 0\n",
      "Number of Lagrangian Hessian evaluations             = 1\n",
      "Total seconds in IPOPT                               = 0.128\n",
      "\n",
      "EXIT: Solved To Acceptable Level.\n"
     ]
    }
   ],
   "source": [
    "optimize!(model)"
   ]
  },
  {
   "cell_type": "code",
   "execution_count": 5,
   "metadata": {},
   "outputs": [
    {
     "data": {
      "text/plain": [
       "1.3999999616644336"
      ]
     },
     "execution_count": 5,
     "metadata": {},
     "output_type": "execute_result"
    }
   ],
   "source": [
    "objective_value(model)"
   ]
  },
  {
   "cell_type": "code",
   "execution_count": 6,
   "metadata": {},
   "outputs": [
    {
     "data": {
      "text/plain": [
       "3×2 Matrix{Float64}:\n",
       "  0.2         -9.54545e-9\n",
       "  0.3          0.1\n",
       " -9.54545e-9   0.4"
      ]
     },
     "execution_count": 6,
     "metadata": {},
     "output_type": "execute_result"
    }
   ],
   "source": [
    "#Extraigo el valor optimo\n",
    "value.(A)"
   ]
  },
  {
   "cell_type": "code",
   "execution_count": 7,
   "metadata": {},
   "outputs": [
    {
     "data": {
      "text/plain": [
       "3×1 Matrix{Float64}:\n",
       " 1.7120871502758715e18\n",
       " 1.7120871502758715e18\n",
       " 1.7120871502758715e18"
      ]
     },
     "execution_count": 7,
     "metadata": {},
     "output_type": "execute_result"
    }
   ],
   "source": [
    "#Extraigo los multiplicadores de p\n",
    "lambda = dual.(conp)"
   ]
  },
  {
   "cell_type": "code",
   "execution_count": 8,
   "metadata": {},
   "outputs": [
    {
     "data": {
      "text/plain": [
       "1×2 Matrix{Float64}:\n",
       " -1.71209e18  -1.71209e18"
      ]
     },
     "execution_count": 8,
     "metadata": {},
     "output_type": "execute_result"
    }
   ],
   "source": [
    "#Extraigo los multiplicadores de q\n",
    "mu = dual.(conq)"
   ]
  },
  {
   "cell_type": "code",
   "execution_count": 9,
   "metadata": {},
   "outputs": [
    {
     "data": {
      "text/plain": [
       "3×2 Matrix{Float64}:\n",
       " 1.0  3.0\n",
       " 2.0  2.0\n",
       " 3.0  1.0"
      ]
     },
     "execution_count": 9,
     "metadata": {},
     "output_type": "execute_result"
    }
   ],
   "source": [
    "W"
   ]
  },
  {
   "cell_type": "code",
   "execution_count": 10,
   "metadata": {},
   "outputs": [
    {
     "data": {
      "text/plain": [
       "3×2 Matrix{Float64}:\n",
       " 0.0  0.0\n",
       " 0.0  0.0\n",
       " 0.0  0.0"
      ]
     },
     "execution_count": 10,
     "metadata": {},
     "output_type": "execute_result"
    }
   ],
   "source": [
    "lambda * ones(1,n) + ones(m,1)*mu"
   ]
  },
  {
   "cell_type": "markdown",
   "metadata": {},
   "source": [
    "# Problema de transporte discreto - Cantidad de destinos variable\n",
    "\n",
    "Dadas dos distribuciones de probabilidad discretas:\n",
    "\n",
    "* $X$: con soporte $x_1<x_2<\\ldots<x_m$ con probabilidades $P(X=x_i) = p_i$.\n",
    "* $Y$: con soporte $y_1<y_2<\\ldots<y_n$ con probabilidades $P(Y=y_j) = q_j$.\n",
    "\n",
    "Queremos hallar una distribución conjunta $A=(a_{ij}) \\geqslant 0$ tal que:\n",
    "\n",
    "$$\\min_{a_{ij}} \\sum_{i,j} a_{ij} |x_i-y_j| + \\epsilon \\sum_{j} \\phi(q_{j})$$\n",
    "\n",
    "sujeto a:\n",
    "\n",
    "$$\\sum_j a_{ij} = p_i \\quad \\forall i=1,\\ldots,m,$$\n",
    "\n",
    "$$\\sum_i a_{ij} = q_j \\quad (VAR).$$"
   ]
  },
  {
   "cell_type": "markdown",
   "metadata": {},
   "source": [
    "## Caso 1: \n",
    "\n",
    "Consideramos $\\phi(x) = \\frac{x^{2}}{2}$"
   ]
  },
  {
   "cell_type": "code",
   "execution_count": 11,
   "metadata": {},
   "outputs": [
    {
     "data": {
      "text/plain": [
       "A JuMP Model\n",
       "Minimization problem with:\n",
       "Variables: 33\n",
       "Objective function type: AffExpr\n",
       "`AffExpr`-in-`MathOptInterface.EqualTo{Float64}`: 13 constraints\n",
       "`VariableRef`-in-`MathOptInterface.GreaterThan{Float64}`: 30 constraints\n",
       "Model mode: AUTOMATIC\n",
       "CachingOptimizer state: EMPTY_OPTIMIZER\n",
       "Solver name: GLPK\n",
       "Names registered in the model: A, q"
      ]
     },
     "execution_count": 11,
     "metadata": {},
     "output_type": "execute_result"
    }
   ],
   "source": [
    "using JuMP, GLPK, Ipopt\n",
    "#revisar paquete distances.JL\n",
    "\n",
    "#m=3\n",
    "x=10*rand(10) #[1.0;2.0;3.0;4;5;6;7;8;9;10] #--> Trabajar con elementos de R^2\n",
    "p=ones(10)\n",
    "\n",
    "#n=2\n",
    "y=[0;7;15]\n",
    "\n",
    "#epsilon\n",
    "eps = 0 #¿Qué pongo?\n",
    "\n",
    "model = JuMP.Model(GLPK.Optimizer)\n",
    "#model = JuMP.Model(Ipopt.Optimizer)\n",
    "\n",
    "\n",
    "m=length(x)\n",
    "n=length(y)\n",
    "\n",
    "#Calculo los pesos |xi-yj|\n",
    "W=abs.(x*ones(1,n) - ones(m,1)*y')\n",
    "\n",
    "@variable(model,A[1:m,1:n]>=0)\n",
    "@variable(model,q[1:n])\n",
    "\n",
    "conp = @constraint(model, sum(A, dims=2).==p)\n",
    "conq = @constraint(model, sum(A, dims=1).==q')\n",
    "\n",
    "@objective(model,Min, sum( A.*W ))# + eps/2 * (q'*q) )\n",
    "\n",
    "model"
   ]
  },
  {
   "cell_type": "code",
   "execution_count": 12,
   "metadata": {},
   "outputs": [],
   "source": [
    "optimize!(model)"
   ]
  },
  {
   "cell_type": "code",
   "execution_count": 13,
   "metadata": {},
   "outputs": [
    {
     "data": {
      "text/plain": [
       "19.21026186457368"
      ]
     },
     "execution_count": 13,
     "metadata": {},
     "output_type": "execute_result"
    }
   ],
   "source": [
    "objective_value(model)"
   ]
  },
  {
   "cell_type": "code",
   "execution_count": 14,
   "metadata": {},
   "outputs": [
    {
     "data": {
      "text/plain": [
       "10×3 Matrix{Float64}:\n",
       " 1.0  0.0  0.0\n",
       " 0.0  1.0  0.0\n",
       " 0.0  1.0  0.0\n",
       " 0.0  1.0  0.0\n",
       " 1.0  0.0  0.0\n",
       " 0.0  1.0  0.0\n",
       " 0.0  1.0  0.0\n",
       " 0.0  1.0  0.0\n",
       " 0.0  1.0  0.0\n",
       " 1.0  0.0  0.0"
      ]
     },
     "execution_count": 14,
     "metadata": {},
     "output_type": "execute_result"
    }
   ],
   "source": [
    "#Extraigo el valor optimo\n",
    "value.(A)"
   ]
  },
  {
   "cell_type": "code",
   "execution_count": 15,
   "metadata": {},
   "outputs": [
    {
     "data": {
      "text/plain": [
       "3-element Vector{Float64}:\n",
       " 3.0\n",
       " 7.0\n",
       " 0.0"
      ]
     },
     "execution_count": 15,
     "metadata": {},
     "output_type": "execute_result"
    }
   ],
   "source": [
    "value.(q)"
   ]
  },
  {
   "cell_type": "code",
   "execution_count": 16,
   "metadata": {},
   "outputs": [
    {
     "data": {
      "text/plain": [
       "10×1 Matrix{Float64}:\n",
       " 3.3291724426162626\n",
       " 2.3373868609277046\n",
       " 0.3428506539105589\n",
       " 2.854796699170155\n",
       " 2.391052497360391\n",
       " 0.13459203800609743\n",
       " 2.6123825105672935\n",
       " 0.4358519945095134\n",
       " 3.1106732344628067\n",
       " 1.6615029330428988"
      ]
     },
     "execution_count": 16,
     "metadata": {},
     "output_type": "execute_result"
    }
   ],
   "source": [
    "#Extraigo los multiplicadores de p\n",
    "lambda = dual.(conp)"
   ]
  },
  {
   "cell_type": "code",
   "execution_count": 17,
   "metadata": {},
   "outputs": [],
   "source": [
    "#hacerlo en R^2,dentro de un cuadrado de 0,0 a 1,1\n",
    "#plotear con el comando scatter los x, con diferentes colores los que tienen el 1 en la primer columna, los que tienen el 1 en la segunda col, etc.\n",
    "#manera más sencilla con marker.z\n",
    "#spliteo el X y corro la optimización, voy cambiando los cargadores\n",
    "#"
   ]
  },
  {
   "cell_type": "markdown",
   "metadata": {},
   "source": [
    "## Caso 2: Trabajando en $R^{2}$\n",
    "\n",
    "Consideramos $\\phi(x) = \\frac{x^{2}}{2}$"
   ]
  },
  {
   "cell_type": "code",
   "execution_count": 18,
   "metadata": {},
   "outputs": [],
   "source": [
    "#m=los que quiera\n",
    "m = 100\n",
    "x = sortslices(rand(m,2), dims = 1);\n",
    "p = 2*rand(m)#ones(m);\n",
    "\n",
    "#n=4\n",
    "#y=[[1/3 1/3]; [1/3 2/3]; [2/3 1/3]; [2/3 2/3]];\n",
    "#y=[[1/3 1/3]; [2/3 2/3]];\n",
    "y = sortslices(rand(6,2), dims = 1);\n",
    "y = vcat(y, [2 0.5])\n",
    "n=size(y)[1];"
   ]
  },
  {
   "cell_type": "code",
   "execution_count": 19,
   "metadata": {},
   "outputs": [
    {
     "ename": "LoadError",
     "evalue": "An object of name q is already attached to this model. If this\n    is intended, consider using the anonymous construction syntax, e.g.,\n    `x = @variable(model, [1:N], ...)` where the name of the object does\n    not appear inside the macro.\n\n    Alternatively, use `unregister(model, :q)` to first unregister\n    the existing name from the model. Note that this will not delete the\n    object; it will just remove the reference at `model[:q]`.\n",
     "output_type": "error",
     "traceback": [
      "An object of name q is already attached to this model. If this\n    is intended, consider using the anonymous construction syntax, e.g.,\n    `x = @variable(model, [1:N], ...)` where the name of the object does\n    not appear inside the macro.\n\n    Alternatively, use `unregister(model, :q)` to first unregister\n    the existing name from the model. Note that this will not delete the\n    object; it will just remove the reference at `model[:q]`.\n",
      "",
      "Stacktrace:",
      " [1] error(s::String)",
      "   @ Base ./error.jl:33",
      " [2] _error_if_cannot_register(model::Model, name::Symbol)",
      "   @ JuMP ~/.julia/packages/JuMP/UqjgA/src/macros.jl:100",
      " [3] macro expansion",
      "   @ ~/.julia/packages/JuMP/UqjgA/src/macros.jl:130 [inlined]",
      " [4] top-level scope",
      "   @ In[19]:18",
      " [5] eval",
      "   @ ./boot.jl:373 [inlined]",
      " [6] include_string(mapexpr::typeof(REPL.softscope), mod::Module, code::String, filename::String)",
      "   @ Base ./loading.jl:1196"
     ]
    }
   ],
   "source": [
    "using JuMP, GLPK, Ipopt\n",
    "#revisar paquete distances.JL\n",
    "\n",
    "#epsilon\n",
    "eps = 0.01 #200\n",
    "\n",
    "#model = JuMP.Model(GLPK.Optimizer)\n",
    "model = JuMP.Model(Ipopt.Optimizer)\n",
    "\n",
    "#Calculo los pesos |xi-yj|\n",
    "w1 = (x[:,1]*ones(1,n) - ones(m,1)*y[:,1]').^2\n",
    "w2 = (x[:,2]*ones(1,n) - ones(m,1)*y[:,2]').^2\n",
    "W=(w1+w2).^(1/2)\n",
    "\n",
    "@variable(model,A[1:m,1:n]>=0)\n",
    "#@variable(model,q[1:n])\n",
    "@variable(model,q[1:n-1]<=(m/(n-1)*1.4)) # carga máxima por auto con tolerancia, ojo con n\n",
    "@variable(model,q[n]) #ultimo cargador sin límite\n",
    "\n",
    "conp = @constraint(model, sum(A, dims=2).==p)\n",
    "conq = @constraint(model, sum(A, dims=1).==q')\n",
    "\n",
    "@objective(model,Min, sum( A.*W ) + eps/2 * (q'*q) )\n",
    "#@objective(model,Min, sum( A.*W ))\n",
    "\n",
    "model"
   ]
  },
  {
   "cell_type": "code",
   "execution_count": 20,
   "metadata": {},
   "outputs": [
    {
     "name": "stdout",
     "output_type": "stream",
     "text": [
      "This is Ipopt version 3.14.4, running with linear solver MUMPS 5.4.1.\n",
      "\n",
      "Number of nonzeros in equality constraint Jacobian...:        0\n",
      "Number of nonzeros in inequality constraint Jacobian.:        0\n",
      "Number of nonzeros in Lagrangian Hessian.............:        0\n",
      "\n",
      "Total number of variables............................:      706\n",
      "                     variables with only lower bounds:      700\n",
      "                variables with lower and upper bounds:        0\n",
      "                     variables with only upper bounds:        6\n",
      "Total number of equality constraints.................:        0\n",
      "Total number of inequality constraints...............:        0\n",
      "        inequality constraints with only lower bounds:        0\n",
      "   inequality constraints with lower and upper bounds:        0\n",
      "        inequality constraints with only upper bounds:        0\n",
      "\n",
      "iter    objective    inf_pr   inf_du lg(mu)  ||d||  lg(rg) alpha_du alpha_pr  ls\n",
      "   0  0.0000000e+00 0.00e+00 1.00e+00  -1.0 0.00e+00    -  0.00e+00 0.00e+00   0\n",
      "   1  0.0000000e+00 0.00e+00 1.00e-02  -1.0 1.00e-01    -  9.90e-01 1.00e+00f  1\n",
      "   2  0.0000000e+00 0.00e+00 1.00e-04  -1.7 2.00e+00    -  9.90e-01 1.00e+00f  1\n",
      "   3  0.0000000e+00 0.00e+00 1.50e-08  -3.8 1.50e+00    -  1.00e+00 1.00e+00f  1\n",
      "   4  0.0000000e+00 0.00e+00 2.51e-14  -8.6 1.67e-01    -  1.00e+00 1.00e+00f  1\n",
      "\n",
      "Number of Iterations....: 4\n",
      "\n",
      "                                   (scaled)                 (unscaled)\n",
      "Objective...............:   0.0000000000000000e+00    0.0000000000000000e+00\n",
      "Dual infeasibility......:   2.5059035597119616e-14    2.5059035597119616e-14\n",
      "Constraint violation....:   0.0000000000000000e+00    0.0000000000000000e+00\n",
      "Variable bound violation:   0.0000000000000000e+00    0.0000000000000000e+00\n",
      "Complementarity.........:   6.7918117040644585e-13    6.7918117040644585e-13\n",
      "Overall NLP error.......:   6.7918117040644585e-13    6.7918117040644585e-13\n",
      "\n",
      "\n",
      "Number of objective function evaluations             = 5\n",
      "Number of objective gradient evaluations             = 5\n",
      "Number of equality constraint evaluations            = 0\n",
      "Number of inequality constraint evaluations          = 0\n",
      "Number of equality constraint Jacobian evaluations   = 0\n",
      "Number of inequality constraint Jacobian evaluations = 0\n",
      "Number of Lagrangian Hessian evaluations             = 1\n",
      "Total seconds in IPOPT                               = 0.003\n",
      "\n",
      "EXIT: Optimal Solution Found.\n"
     ]
    }
   ],
   "source": [
    "optimize!(model);"
   ]
  },
  {
   "cell_type": "code",
   "execution_count": 21,
   "metadata": {},
   "outputs": [
    {
     "data": {
      "text/plain": [
       "0.0"
      ]
     },
     "execution_count": 21,
     "metadata": {},
     "output_type": "execute_result"
    }
   ],
   "source": [
    "objective_value(model)"
   ]
  },
  {
   "cell_type": "code",
   "execution_count": 22,
   "metadata": {},
   "outputs": [
    {
     "data": {
      "text/plain": [
       "100×7 Matrix{Float64}:\n",
       " 3.78079  3.78079  3.78079  3.78079  3.78079  3.78079  3.78079\n",
       " 3.78079  3.78079  3.78079  3.78079  3.78079  3.78079  3.78079\n",
       " 3.78079  3.78079  3.78079  3.78079  3.78079  3.78079  3.78079\n",
       " 3.78079  3.78079  3.78079  3.78079  3.78079  3.78079  3.78079\n",
       " 3.78079  3.78079  3.78079  3.78079  3.78079  3.78079  3.78079\n",
       " 3.78079  3.78079  3.78079  3.78079  3.78079  3.78079  3.78079\n",
       " 3.78079  3.78079  3.78079  3.78079  3.78079  3.78079  3.78079\n",
       " 3.78079  3.78079  3.78079  3.78079  3.78079  3.78079  3.78079\n",
       " 3.78079  3.78079  3.78079  3.78079  3.78079  3.78079  3.78079\n",
       " 3.78079  3.78079  3.78079  3.78079  3.78079  3.78079  3.78079\n",
       " 3.78079  3.78079  3.78079  3.78079  3.78079  3.78079  3.78079\n",
       " 3.78079  3.78079  3.78079  3.78079  3.78079  3.78079  3.78079\n",
       " 3.78079  3.78079  3.78079  3.78079  3.78079  3.78079  3.78079\n",
       " ⋮                                            ⋮        \n",
       " 3.78079  3.78079  3.78079  3.78079  3.78079  3.78079  3.78079\n",
       " 3.78079  3.78079  3.78079  3.78079  3.78079  3.78079  3.78079\n",
       " 3.78079  3.78079  3.78079  3.78079  3.78079  3.78079  3.78079\n",
       " 3.78079  3.78079  3.78079  3.78079  3.78079  3.78079  3.78079\n",
       " 3.78079  3.78079  3.78079  3.78079  3.78079  3.78079  3.78079\n",
       " 3.78079  3.78079  3.78079  3.78079  3.78079  3.78079  3.78079\n",
       " 3.78079  3.78079  3.78079  3.78079  3.78079  3.78079  3.78079\n",
       " 3.78079  3.78079  3.78079  3.78079  3.78079  3.78079  3.78079\n",
       " 3.78079  3.78079  3.78079  3.78079  3.78079  3.78079  3.78079\n",
       " 3.78079  3.78079  3.78079  3.78079  3.78079  3.78079  3.78079\n",
       " 3.78079  3.78079  3.78079  3.78079  3.78079  3.78079  3.78079\n",
       " 3.78079  3.78079  3.78079  3.78079  3.78079  3.78079  3.78079"
      ]
     },
     "execution_count": 22,
     "metadata": {},
     "output_type": "execute_result"
    }
   ],
   "source": [
    "#Extraigo el valor optimo\n",
    "value.(A)"
   ]
  },
  {
   "cell_type": "code",
   "execution_count": 23,
   "metadata": {},
   "outputs": [
    {
     "data": {
      "text/plain": [
       "100×7 Matrix{Float64}:\n",
       " 3.781  3.781  3.781  3.781  3.781  3.781  3.781\n",
       " 3.781  3.781  3.781  3.781  3.781  3.781  3.781\n",
       " 3.781  3.781  3.781  3.781  3.781  3.781  3.781\n",
       " 3.781  3.781  3.781  3.781  3.781  3.781  3.781\n",
       " 3.781  3.781  3.781  3.781  3.781  3.781  3.781\n",
       " 3.781  3.781  3.781  3.781  3.781  3.781  3.781\n",
       " 3.781  3.781  3.781  3.781  3.781  3.781  3.781\n",
       " 3.781  3.781  3.781  3.781  3.781  3.781  3.781\n",
       " 3.781  3.781  3.781  3.781  3.781  3.781  3.781\n",
       " 3.781  3.781  3.781  3.781  3.781  3.781  3.781\n",
       " 3.781  3.781  3.781  3.781  3.781  3.781  3.781\n",
       " 3.781  3.781  3.781  3.781  3.781  3.781  3.781\n",
       " 3.781  3.781  3.781  3.781  3.781  3.781  3.781\n",
       " ⋮                                  ⋮      \n",
       " 3.781  3.781  3.781  3.781  3.781  3.781  3.781\n",
       " 3.781  3.781  3.781  3.781  3.781  3.781  3.781\n",
       " 3.781  3.781  3.781  3.781  3.781  3.781  3.781\n",
       " 3.781  3.781  3.781  3.781  3.781  3.781  3.781\n",
       " 3.781  3.781  3.781  3.781  3.781  3.781  3.781\n",
       " 3.781  3.781  3.781  3.781  3.781  3.781  3.781\n",
       " 3.781  3.781  3.781  3.781  3.781  3.781  3.781\n",
       " 3.781  3.781  3.781  3.781  3.781  3.781  3.781\n",
       " 3.781  3.781  3.781  3.781  3.781  3.781  3.781\n",
       " 3.781  3.781  3.781  3.781  3.781  3.781  3.781\n",
       " 3.781  3.781  3.781  3.781  3.781  3.781  3.781\n",
       " 3.781  3.781  3.781  3.781  3.781  3.781  3.781"
      ]
     },
     "execution_count": 23,
     "metadata": {},
     "output_type": "execute_result"
    }
   ],
   "source": [
    "round.(value.(A), digits=3)"
   ]
  },
  {
   "cell_type": "code",
   "execution_count": 24,
   "metadata": {},
   "outputs": [
    {
     "data": {
      "text/plain": [
       "6-element Vector{Float64}:\n",
       " -3.769911000515064\n",
       " -3.769911000515064\n",
       " -3.769911000515064\n",
       " -3.769911000515064\n",
       " -3.769911000515064\n",
       " -3.769911000515064"
      ]
     },
     "execution_count": 24,
     "metadata": {},
     "output_type": "execute_result"
    }
   ],
   "source": [
    "value.(q)"
   ]
  },
  {
   "cell_type": "code",
   "execution_count": 25,
   "metadata": {},
   "outputs": [],
   "source": [
    "#Extraigo los multiplicadores de p\n",
    "lambda = dual.(conp);"
   ]
  },
  {
   "cell_type": "code",
   "execution_count": 26,
   "metadata": {},
   "outputs": [],
   "source": [
    "#Redondea los valores de A para que sean 0 o 1 (Probar)\n",
    "Ar = round.(value.(A));\n",
    "Ao = value.(A);\n",
    "\n",
    "#Separa los puntos por destino (buscando 1s)\n",
    "#X = [x[findall(x->x==1, Ar[:,i]),1] for i in 1:n];\n",
    "#Y = [x[findall(x->x==1, Ar[:,i]),2] for i in 1:n];\n",
    "\n",
    "#Separa los puntos por destino (buscando maximos)\n",
    "maximos = [argmax(Ao[i,:]) for i in 1:m];\n",
    "X = [x[findall(x->x==i, maximos),1] for i in 1:n];\n",
    "Y = [x[findall(x->x==i, maximos),2] for i in 1:n];"
   ]
  },
  {
   "cell_type": "code",
   "execution_count": 27,
   "metadata": {},
   "outputs": [
    {
     "name": "stderr",
     "output_type": "stream",
     "text": [
      "┌ Info: Precompiling VoronoiCells [e3e34ffb-84e9-5012-9490-92c94d0c60a4]\n",
      "└ @ Base loading.jl:1423\n",
      "┌ Info: Precompiling Plots [91a5bcdd-55d7-5caf-9e0b-520d859cae80]\n",
      "└ @ Base loading.jl:1423\n",
      "\u001b[91m\u001b[1mERROR: \u001b[22m\u001b[39mLoadError: ArgumentError: not a path: `/Users/emiliano/.julia/packages/GR/uG7UO/deps/deps.jl`\n",
      "Stacktrace:\n",
      " [1] \u001b[0m\u001b[1mRelocatableFolders.Path\u001b[22m\u001b[0m\u001b[1m(\u001b[22m\u001b[90mmod\u001b[39m::\u001b[0mModule, \u001b[90mdir\u001b[39m::\u001b[0mString, \u001b[90mpath\u001b[39m::\u001b[0mString, \u001b[90mignore\u001b[39m::\u001b[0mNothing\u001b[0m\u001b[1m)\u001b[22m\n",
      "\u001b[90m   @ \u001b[39m\u001b[35mRelocatableFolders\u001b[39m \u001b[90m~/.julia/packages/RelocatableFolders/64bhJ/src/\u001b[39m\u001b[90m\u001b[4mRelocatableFolders.jl:55\u001b[24m\u001b[39m\n",
      " [2] top-level scope\n",
      "\u001b[90m   @ \u001b[39m\u001b[90m~/.julia/packages/GR/uG7UO/src/\u001b[39m\u001b[90m\u001b[4mGR.jl:36\u001b[24m\u001b[39m\n",
      " [3] \u001b[0m\u001b[1minclude\u001b[22m\n",
      "\u001b[90m   @ \u001b[39m\u001b[90m./\u001b[39m\u001b[90m\u001b[4mBase.jl:418\u001b[24m\u001b[39m\u001b[90m [inlined]\u001b[39m\n",
      " [4] \u001b[0m\u001b[1minclude_package_for_output\u001b[22m\u001b[0m\u001b[1m(\u001b[22m\u001b[90mpkg\u001b[39m::\u001b[0mBase.PkgId, \u001b[90minput\u001b[39m::\u001b[0mString, \u001b[90mdepot_path\u001b[39m::\u001b[0mVector\u001b[90m{String}\u001b[39m, \u001b[90mdl_load_path\u001b[39m::\u001b[0mVector\u001b[90m{String}\u001b[39m, \u001b[90mload_path\u001b[39m::\u001b[0mVector\u001b[90m{String}\u001b[39m, \u001b[90mconcrete_deps\u001b[39m::\u001b[0mVector\u001b[90m{Pair{Base.PkgId, UInt64}}\u001b[39m, \u001b[90msource\u001b[39m::\u001b[0mString\u001b[0m\u001b[1m)\u001b[22m\n",
      "\u001b[90m   @ \u001b[39m\u001b[90mBase\u001b[39m \u001b[90m./\u001b[39m\u001b[90m\u001b[4mloading.jl:1318\u001b[24m\u001b[39m\n",
      " [5] top-level scope\n",
      "\u001b[90m   @ \u001b[39m\u001b[90m\u001b[4mnone:1\u001b[24m\u001b[39m\n",
      " [6] \u001b[0m\u001b[1meval\u001b[22m\n",
      "\u001b[90m   @ \u001b[39m\u001b[90m./\u001b[39m\u001b[90m\u001b[4mboot.jl:373\u001b[24m\u001b[39m\u001b[90m [inlined]\u001b[39m\n",
      " [7] \u001b[0m\u001b[1meval\u001b[22m\u001b[0m\u001b[1m(\u001b[22m\u001b[90mx\u001b[39m::\u001b[0mExpr\u001b[0m\u001b[1m)\u001b[22m\n",
      "\u001b[90m   @ \u001b[39m\u001b[90mBase.MainInclude\u001b[39m \u001b[90m./\u001b[39m\u001b[90m\u001b[4mclient.jl:453\u001b[24m\u001b[39m\n",
      " [8] top-level scope\n",
      "\u001b[90m   @ \u001b[39m\u001b[90m\u001b[4mnone:1\u001b[24m\u001b[39m\n",
      "in expression starting at /Users/emiliano/.julia/packages/GR/uG7UO/src/GR.jl:2\n",
      "\u001b[91m\u001b[1mERROR: \u001b[22m\u001b[39mLoadError: Failed to precompile GR [28b8d3ca-fb5f-59d9-8090-bfdbd6d07a71] to /Users/emiliano/.julia/compiled/v1.7/GR/jl_cCf5hM.\n",
      "Stacktrace:\n",
      "  [1] \u001b[0m\u001b[1merror\u001b[22m\u001b[0m\u001b[1m(\u001b[22m\u001b[90ms\u001b[39m::\u001b[0mString\u001b[0m\u001b[1m)\u001b[22m\n",
      "\u001b[90m    @ \u001b[39m\u001b[90mBase\u001b[39m \u001b[90m./\u001b[39m\u001b[90m\u001b[4merror.jl:33\u001b[24m\u001b[39m\n",
      "  [2] \u001b[0m\u001b[1mcompilecache\u001b[22m\u001b[0m\u001b[1m(\u001b[22m\u001b[90mpkg\u001b[39m::\u001b[0mBase.PkgId, \u001b[90mpath\u001b[39m::\u001b[0mString, \u001b[90minternal_stderr\u001b[39m::\u001b[0mIO, \u001b[90minternal_stdout\u001b[39m::\u001b[0mIO, \u001b[90mignore_loaded_modules\u001b[39m::\u001b[0mBool\u001b[0m\u001b[1m)\u001b[22m\n",
      "\u001b[90m    @ \u001b[39m\u001b[90mBase\u001b[39m \u001b[90m./\u001b[39m\u001b[90m\u001b[4mloading.jl:1466\u001b[24m\u001b[39m\n",
      "  [3] \u001b[0m\u001b[1mcompilecache\u001b[22m\u001b[0m\u001b[1m(\u001b[22m\u001b[90mpkg\u001b[39m::\u001b[0mBase.PkgId, \u001b[90mpath\u001b[39m::\u001b[0mString\u001b[0m\u001b[1m)\u001b[22m\n",
      "\u001b[90m    @ \u001b[39m\u001b[90mBase\u001b[39m \u001b[90m./\u001b[39m\u001b[90m\u001b[4mloading.jl:1410\u001b[24m\u001b[39m\n",
      "  [4] \u001b[0m\u001b[1m_require\u001b[22m\u001b[0m\u001b[1m(\u001b[22m\u001b[90mpkg\u001b[39m::\u001b[0mBase.PkgId\u001b[0m\u001b[1m)\u001b[22m\n",
      "\u001b[90m    @ \u001b[39m\u001b[90mBase\u001b[39m \u001b[90m./\u001b[39m\u001b[90m\u001b[4mloading.jl:1120\u001b[24m\u001b[39m\n",
      "  [5] \u001b[0m\u001b[1mrequire\u001b[22m\u001b[0m\u001b[1m(\u001b[22m\u001b[90muuidkey\u001b[39m::\u001b[0mBase.PkgId\u001b[0m\u001b[1m)\u001b[22m\n",
      "\u001b[90m    @ \u001b[39m\u001b[90mBase\u001b[39m \u001b[90m./\u001b[39m\u001b[90m\u001b[4mloading.jl:1013\u001b[24m\u001b[39m\n",
      "  [6] \u001b[0m\u001b[1mrequire\u001b[22m\u001b[0m\u001b[1m(\u001b[22m\u001b[90minto\u001b[39m::\u001b[0mModule, \u001b[90mmod\u001b[39m::\u001b[0mSymbol\u001b[0m\u001b[1m)\u001b[22m\n",
      "\u001b[90m    @ \u001b[39m\u001b[90mBase\u001b[39m \u001b[90m./\u001b[39m\u001b[90m\u001b[4mloading.jl:997\u001b[24m\u001b[39m\n",
      "  [7] \u001b[0m\u001b[1minclude\u001b[22m\u001b[0m\u001b[1m(\u001b[22m\u001b[90mmod\u001b[39m::\u001b[0mModule, \u001b[90m_path\u001b[39m::\u001b[0mString\u001b[0m\u001b[1m)\u001b[22m\n",
      "\u001b[90m    @ \u001b[39m\u001b[90mBase\u001b[39m \u001b[90m./\u001b[39m\u001b[90m\u001b[4mBase.jl:418\u001b[24m\u001b[39m\n",
      "  [8] \u001b[0m\u001b[1minclude\u001b[22m\u001b[0m\u001b[1m(\u001b[22m\u001b[90mx\u001b[39m::\u001b[0mString\u001b[0m\u001b[1m)\u001b[22m\n",
      "\u001b[90m    @ \u001b[39m\u001b[35mPlots\u001b[39m \u001b[90m~/.julia/packages/Plots/lW9ll/src/\u001b[39m\u001b[90m\u001b[4mPlots.jl:1\u001b[24m\u001b[39m\n",
      "  [9] top-level scope\n",
      "\u001b[90m    @ \u001b[39m\u001b[90m~/.julia/packages/Plots/lW9ll/src/\u001b[39m\u001b[90m\u001b[4mPlots.jl:227\u001b[24m\u001b[39m\n",
      " [10] \u001b[0m\u001b[1minclude\u001b[22m\n",
      "\u001b[90m    @ \u001b[39m\u001b[90m./\u001b[39m\u001b[90m\u001b[4mBase.jl:418\u001b[24m\u001b[39m\u001b[90m [inlined]\u001b[39m\n",
      " [11] \u001b[0m\u001b[1minclude_package_for_output\u001b[22m\u001b[0m\u001b[1m(\u001b[22m\u001b[90mpkg\u001b[39m::\u001b[0mBase.PkgId, \u001b[90minput\u001b[39m::\u001b[0mString, \u001b[90mdepot_path\u001b[39m::\u001b[0mVector\u001b[90m{String}\u001b[39m, \u001b[90mdl_load_path\u001b[39m::\u001b[0mVector\u001b[90m{String}\u001b[39m, \u001b[90mload_path\u001b[39m::\u001b[0mVector\u001b[90m{String}\u001b[39m, \u001b[90mconcrete_deps\u001b[39m::\u001b[0mVector\u001b[90m{Pair{Base.PkgId, UInt64}}\u001b[39m, \u001b[90msource\u001b[39m::\u001b[0mNothing\u001b[0m\u001b[1m)\u001b[22m\n",
      "\u001b[90m    @ \u001b[39m\u001b[90mBase\u001b[39m \u001b[90m./\u001b[39m\u001b[90m\u001b[4mloading.jl:1318\u001b[24m\u001b[39m\n",
      " [12] top-level scope\n",
      "\u001b[90m    @ \u001b[39m\u001b[90m\u001b[4mnone:1\u001b[24m\u001b[39m\n",
      " [13] \u001b[0m\u001b[1meval\u001b[22m\n",
      "\u001b[90m    @ \u001b[39m\u001b[90m./\u001b[39m\u001b[90m\u001b[4mboot.jl:373\u001b[24m\u001b[39m\u001b[90m [inlined]\u001b[39m\n",
      " [14] \u001b[0m\u001b[1meval\u001b[22m\u001b[0m\u001b[1m(\u001b[22m\u001b[90mx\u001b[39m::\u001b[0mExpr\u001b[0m\u001b[1m)\u001b[22m\n",
      "\u001b[90m    @ \u001b[39m\u001b[90mBase.MainInclude\u001b[39m \u001b[90m./\u001b[39m\u001b[90m\u001b[4mclient.jl:453\u001b[24m\u001b[39m\n",
      " [15] top-level scope\n",
      "\u001b[90m    @ \u001b[39m\u001b[90m\u001b[4mnone:1\u001b[24m\u001b[39m\n",
      "in expression starting at /Users/emiliano/.julia/packages/Plots/lW9ll/src/backends/gr.jl:6\n",
      "in expression starting at /Users/emiliano/.julia/packages/Plots/lW9ll/src/Plots.jl:1\n"
     ]
    },
    {
     "ename": "LoadError",
     "evalue": "Failed to precompile Plots [91a5bcdd-55d7-5caf-9e0b-520d859cae80] to /Users/emiliano/.julia/compiled/v1.7/Plots/jl_3HaRG5.",
     "output_type": "error",
     "traceback": [
      "Failed to precompile Plots [91a5bcdd-55d7-5caf-9e0b-520d859cae80] to /Users/emiliano/.julia/compiled/v1.7/Plots/jl_3HaRG5.",
      "",
      "Stacktrace:",
      " [1] error(s::String)",
      "   @ Base ./error.jl:33",
      " [2] compilecache(pkg::Base.PkgId, path::String, internal_stderr::IO, internal_stdout::IO, ignore_loaded_modules::Bool)",
      "   @ Base ./loading.jl:1466",
      " [3] compilecache(pkg::Base.PkgId, path::String)",
      "   @ Base ./loading.jl:1410",
      " [4] _require(pkg::Base.PkgId)",
      "   @ Base ./loading.jl:1120",
      " [5] require(uuidkey::Base.PkgId)",
      "   @ Base ./loading.jl:1013",
      " [6] require(into::Module, mod::Symbol)",
      "   @ Base ./loading.jl:997",
      " [7] eval",
      "   @ ./boot.jl:373 [inlined]",
      " [8] include_string(mapexpr::typeof(REPL.softscope), mod::Module, code::String, filename::String)",
      "   @ Base ./loading.jl:1196"
     ]
    }
   ],
   "source": [
    "using VoronoiCells\n",
    "using GeometryBasics\n",
    "using Plots\n",
    "using Random\n",
    "\n",
    "gr()\n",
    "Plots.GRBackend()\n",
    "\n",
    "#crea la lista de destinos\n",
    "points = [Point2(y[i,1], y[i,2]) for i in 1:n] \n",
    "\n",
    "\n",
    "#Conjuntos de Voronoi\n",
    "rect = Rectangle(Point2(0, 0), Point2(3, 1))\n",
    "tess = voronoicells(points, rect);\n",
    "\n",
    "scatter(X, Y, aspect_ratio=:equal, markersize = 3, legend = :topright) #Grafica los origenes, con color por destino\n",
    "scatter!(y[:,1], y[:,2], markersize = 6, label = \"Destinos\") #Plotea los destinos\n",
    "annotate!([(points[i][1] + 0.02, points[i][2] + 0.03, text(i, :black)) for i in 1:n]) #Agrega lo números en los destinos\n",
    "plot!(tess, color = :black)"
   ]
  },
  {
   "cell_type": "code",
   "execution_count": null,
   "metadata": {},
   "outputs": [],
   "source": []
  }
 ],
 "metadata": {
  "@webio": {
   "lastCommId": null,
   "lastKernelId": null
  },
  "hide_input": false,
  "kernelspec": {
   "display_name": "Julia 1.7.2",
   "language": "julia",
   "name": "julia-1.7"
  },
  "language_info": {
   "file_extension": ".jl",
   "mimetype": "application/julia",
   "name": "julia",
   "version": "1.7.2"
  }
 },
 "nbformat": 4,
 "nbformat_minor": 4
}
