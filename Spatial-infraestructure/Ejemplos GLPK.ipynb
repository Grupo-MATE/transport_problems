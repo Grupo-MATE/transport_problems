{
 "cells": [
  {
   "cell_type": "markdown",
   "id": "c5b844e8-4c7f-454d-9dc0-b41c7cee159d",
   "metadata": {},
   "source": [
    "# Simple GLPK problems"
   ]
  },
  {
   "cell_type": "code",
   "execution_count": 1,
   "id": "bba9625f-f4aa-4c15-a2c3-903ac805a4ce",
   "metadata": {},
   "outputs": [],
   "source": [
    "using JuMP, GLPK#, Ipopt\n",
    "\n",
    "A=[1.0 1.0 0.0;1.0 0.0 1.0]\n",
    "b=[2.0;2.0]\n",
    "c=[1.0;2.0;3.0];"
   ]
  },
  {
   "cell_type": "markdown",
   "id": "1d8c270b-0ec8-498a-bd4c-c7f459f762e3",
   "metadata": {},
   "source": [
    "## Problema lineal"
   ]
  },
  {
   "cell_type": "code",
   "execution_count": 2,
   "id": "cb521cc6-2305-490d-a988-09472fe82454",
   "metadata": {},
   "outputs": [
    {
     "data": {
      "text/latex": [
       "$$ \\begin{aligned}\n",
       "\\max\\quad & x_{1} + 2 x_{2} + 3 x_{3}\\\\\n",
       "\\text{Subject to} \\quad & x_{1} + x_{2} \\leq 2.0\\\\\n",
       " & x_{1} + x_{3} \\leq 2.0\\\\\n",
       " & x_{1} \\geq 0.0\\\\\n",
       " & x_{2} \\geq 0.0\\\\\n",
       " & x_{3} \\geq 0.0\\\\\n",
       "\\end{aligned} $$"
      ]
     },
     "metadata": {},
     "output_type": "display_data"
    },
    {
     "data": {
      "text/plain": [
       "([0.0, 2.0, 2.0], 10.0)"
      ]
     },
     "execution_count": 2,
     "metadata": {},
     "output_type": "execute_result"
    }
   ],
   "source": [
    "model = JuMP.Model(GLPK.Optimizer)\n",
    "@variable(model, x[1:3]>=0)\n",
    "@constraint(model, A*x.<=b)\n",
    "@objective(model, Max, c'*x)\n",
    "\n",
    "print(model)\n",
    "\n",
    "optimize!(model)\n",
    "value.(x), objective_value(model)"
   ]
  },
  {
   "cell_type": "markdown",
   "id": "2125e1d7-30af-418c-9747-a2122a2b87e0",
   "metadata": {},
   "source": [
    "## Problema lineal con variables binarias (0 o 1)"
   ]
  },
  {
   "cell_type": "code",
   "execution_count": 3,
   "id": "e05e0109-9245-45c9-b2cf-ec9d0d820624",
   "metadata": {},
   "outputs": [
    {
     "data": {
      "text/latex": [
       "$$ \\begin{aligned}\n",
       "\\max\\quad & x_{1} + 2 x_{2} + 3 x_{3}\\\\\n",
       "\\text{Subject to} \\quad & x_{1} + x_{2} \\leq 2.0\\\\\n",
       " & x_{1} + x_{3} \\leq 2.0\\\\\n",
       " & x_{1} \\geq 0.0\\\\\n",
       " & x_{2} \\geq 0.0\\\\\n",
       " & x_{3} \\geq 0.0\\\\\n",
       " & x_{1} \\in \\{0, 1\\}\\\\\n",
       " & x_{2} \\in \\{0, 1\\}\\\\\n",
       " & x_{3} \\in \\{0, 1\\}\\\\\n",
       "\\end{aligned} $$"
      ]
     },
     "metadata": {},
     "output_type": "display_data"
    },
    {
     "data": {
      "text/plain": [
       "([1.0, 1.0, 1.0], 6.0)"
      ]
     },
     "execution_count": 3,
     "metadata": {},
     "output_type": "execute_result"
    }
   ],
   "source": [
    "## AHora la versión binaria. Debería dar menos por ser solo 0 o 1\n",
    "\n",
    "model = JuMP.Model(GLPK.Optimizer)\n",
    "\n",
    "@variable(model, x[1:3]>=0, Bin)\n",
    "@constraint(model, A*x.<=b)\n",
    "@objective(model, Max, c'*x)\n",
    "\n",
    "print(model)\n",
    "\n",
    "optimize!(model)\n",
    "value.(x), objective_value(model)"
   ]
  },
  {
   "cell_type": "markdown",
   "id": "141966a0-f4ad-47ec-a351-15a1894dcee9",
   "metadata": {},
   "source": [
    "## Problema lineal con variables enteras"
   ]
  },
  {
   "cell_type": "code",
   "execution_count": 4,
   "id": "445961fe-de7d-45ca-9064-e963823f0052",
   "metadata": {},
   "outputs": [
    {
     "data": {
      "text/latex": [
       "$$ \\begin{aligned}\n",
       "\\max\\quad & x_{1} + 2 x_{2} + 3 x_{3}\\\\\n",
       "\\text{Subject to} \\quad & x_{1} + x_{2} \\leq 2.0\\\\\n",
       " & x_{1} + x_{3} \\leq 2.0\\\\\n",
       " & x_{1} \\geq 0.0\\\\\n",
       " & x_{2} \\geq 0.0\\\\\n",
       " & x_{3} \\geq 0.0\\\\\n",
       " & x_{1} \\in \\mathbb{Z}\\\\\n",
       " & x_{2} \\in \\mathbb{Z}\\\\\n",
       " & x_{3} \\in \\mathbb{Z}\\\\\n",
       "\\end{aligned} $$"
      ]
     },
     "metadata": {},
     "output_type": "display_data"
    },
    {
     "data": {
      "text/plain": [
       "([0.0, 2.0, 2.0], 10.0)"
      ]
     },
     "execution_count": 4,
     "metadata": {},
     "output_type": "execute_result"
    }
   ],
   "source": [
    "## AHora la versión entera. Debería dar lo mismo que el primero que dio entero.\n",
    "\n",
    "model = JuMP.Model(GLPK.Optimizer)\n",
    "\n",
    "@variable(model, x[1:3]>=0, Int)\n",
    "@constraint(model, A*x.<=b)\n",
    "@objective(model, Max, c'*x)\n",
    "\n",
    "print(model)\n",
    "\n",
    "optimize!(model)\n",
    "value.(x), objective_value(model)"
   ]
  }
 ],
 "metadata": {
  "kernelspec": {
   "display_name": "Julia 1.6.5",
   "language": "julia",
   "name": "julia-1.6"
  },
  "language_info": {
   "file_extension": ".jl",
   "mimetype": "application/julia",
   "name": "julia",
   "version": "1.6.5"
  }
 },
 "nbformat": 4,
 "nbformat_minor": 5
}
