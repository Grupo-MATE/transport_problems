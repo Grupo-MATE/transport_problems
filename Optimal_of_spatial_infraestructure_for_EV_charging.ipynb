{
 "cells": [
  {
   "cell_type": "markdown",
   "id": "8e0acc31-b946-447e-becd-d7c3a9342d73",
   "metadata": {},
   "source": [
    "# Optimization of spatial infraestructure for EV charging"
   ]
  },
  {
   "cell_type": "markdown",
   "id": "294fbe6e-aa01-4c9b-ac4a-e097434850f8",
   "metadata": {},
   "source": [
    "## II. Problem formulation\n",
    "$$ min \\sum_{i,j} c_{ij} \\pi_{ij} $$\n",
    "\n",
    "Subject to:\n",
    "\n",
    "$$ \\sum_{j} \\pi_{ij} = q_{i} $$\n",
    "$$ \\sum_{i} \\pi_{ij} = s_{i}$$\n",
    "\n",
    "Typical cost function:\n",
    "$$C = (c_{ij})$$\n",
    "Where c is a convex function, i.e.: the distance between station location and demand location in some norm:\n",
    "$$c_{ij} = c(x_{i}, y_{j}) = |x_{i} - y_{j}|$$"
   ]
  },
  {
   "cell_type": "markdown",
   "id": "771da39d-cf1b-48f1-a072-f14221a2d978",
   "metadata": {},
   "source": [
    "General declarations and functions:"
   ]
  },
  {
   "cell_type": "code",
   "execution_count": 46,
   "id": "432df55e-395d-4d50-94dd-f0301c22970c",
   "metadata": {},
   "outputs": [
    {
     "data": {
      "text/plain": [
       "get_cost_matrix (generic function with 2 methods)"
      ]
     },
     "execution_count": 46,
     "metadata": {},
     "output_type": "execute_result"
    }
   ],
   "source": [
    "function get_cost_matrix(x, y, norm=2)    \n",
    "    m = size(x)[1]\n",
    "    n = size(y)[1]\n",
    "    #Calculo los costos Cij = |xi-yj| (distancia euclidea en R^2)\n",
    "    c1 = (x[:,1]*ones(1,n) - ones(m,1)*y[:,1]').^norm\n",
    "    c2 = (x[:,2]*ones(1,n) - ones(m,1)*y[:,2]').^norm\n",
    "    return (c1+c2).^(1/norm)\n",
    "end"
   ]
  },
  {
   "cell_type": "code",
   "execution_count": 145,
   "id": "7dbe9861-54a9-43f7-8a72-ebd1800e03f6",
   "metadata": {},
   "outputs": [],
   "source": [
    "m = 100; # Demand locations count\n",
    "n = 10; # Station locations count\n",
    "norm = 2; # Manhattan Metric"
   ]
  },
  {
   "cell_type": "code",
   "execution_count": null,
   "id": "08800588-7484-494b-a01d-1b63293e81d0",
   "metadata": {},
   "outputs": [],
   "source": [
    "x = sortslices(rand(m,2), dims = 1);\n",
    "y = sortslices(rand(n,2), dims = 1);\n",
    "C = get_cost_matrix(x, y, norm); #Matriz de costos\n",
    "q = ones(m,1);"
   ]
  },
  {
   "cell_type": "markdown",
   "id": "98d28784-f350-4f8b-b65c-0ba0662c8899",
   "metadata": {},
   "source": [
    "## III. Fixed Locations\n",
    "We assume that the station locations $\\{ y_j \\}$ have already been selected\n",
    "\n",
    "### A. Fixed Capacities\n",
    "\n",
    "#### Simple discrete counterexample\n",
    "$$C = \\begin{bmatrix}\n",
    "1 & 3\\\\\n",
    "3 & 1\n",
    "\\end{bmatrix}$$\n",
    "\n",
    "$$q = \\begin{bmatrix}\n",
    "1\\\\\n",
    "2\n",
    "\\end{bmatrix}$$\n",
    "\n",
    "$$s = \\begin{bmatrix}\n",
    "2 & 1\n",
    "\\end{bmatrix}$$\n",
    "\n",
    "Then:\n",
    "\n",
    "$$\\Pi^{*} = \\begin{bmatrix}\n",
    "1 & 0\\\\\n",
    "1 & 1\n",
    "\\end{bmatrix}$$"
   ]
  },
  {
   "cell_type": "code",
   "execution_count": 25,
   "id": "db0f1b7a-a20e-4246-9ab1-c489e1781500",
   "metadata": {},
   "outputs": [
    {
     "data": {
      "text/plain": [
       "2×2 Matrix{Float64}:\n",
       " 1.0  0.0\n",
       " 1.0  1.0"
      ]
     },
     "execution_count": 25,
     "metadata": {},
     "output_type": "execute_result"
    }
   ],
   "source": [
    "using JuMP, GLPK\n",
    "\n",
    "C = [1 3; 3 1]\n",
    "q = [1; 2]\n",
    "s = [2 1]\n",
    "\n",
    "\n",
    "model = JuMP.Model(GLPK.Optimizer)\n",
    "\n",
    "@variable(model,pi[1:2, 1:2] >=0 )\n",
    "@constraint(model, sum(pi, dims=2) .== q)\n",
    "@constraint(model, sum(pi, dims=1) .== s )\n",
    "\n",
    "@objective(model,Min, sum( C.*pi ))\n",
    "\n",
    "#print(model)\n",
    "model\n",
    "\n",
    "optimize!(model)\n",
    "value.(pi)"
   ]
  },
  {
   "cell_type": "markdown",
   "id": "2e5b281d-bf99-4e8f-855e-bc7da013533a",
   "metadata": {},
   "source": [
    "#### Proposition 1\n",
    "\n",
    "Suppose:\n",
    "\n",
    "* Más ubicaciones de demanda, que estaciones: $m \\ge n$\n",
    "* Demandas unitarias: $q_{i} = 1$, $i = 1, ..., m$\n",
    "* Capacidad justa: $s_{j} \\in Z, s_{j} > 0, \\sum_{j} s_{j} = m$\n",
    "\n",
    "Then: \n",
    "\n",
    "La solución óptima $\\Pi^{*}$ debe ser de ceros y unos ($\\pi_{ij} \\in \\{ 0, 1\\}$)\n"
   ]
  },
  {
   "cell_type": "code",
   "execution_count": 146,
   "id": "5c79fabe-6752-45cf-8c91-9db537de81fb",
   "metadata": {},
   "outputs": [],
   "source": [
    "#Vector de capacidades\n",
    "aux = rand(n,1); #random proportion for s\n",
    "s = round.(aux/sum(aux)*m); #normalization\n",
    "s[argmax(s)] += (m - sum(s)); #error correction\n",
    "#s"
   ]
  },
  {
   "cell_type": "code",
   "execution_count": 147,
   "id": "199fbd54-2978-4018-b6c0-2878bffa891d",
   "metadata": {},
   "outputs": [],
   "source": [
    "model = JuMP.Model(GLPK.Optimizer)\n",
    "\n",
    "@variable(model,pi[1:m,1:n]>=0)\n",
    "\n",
    "@constraint(model, sum(pi, dims=2) .== q)\n",
    "@constraint(model, sum(pi, dims=1) .== s' )\n",
    "\n",
    "@objective(model,Min, sum( C.*pi ))\n",
    "\n",
    "#print(model)\n",
    "model;"
   ]
  },
  {
   "cell_type": "code",
   "execution_count": 150,
   "id": "f550071b-b994-4a1b-bebb-931e0bb1eb7d",
   "metadata": {},
   "outputs": [],
   "source": [
    "optimize!(model)\n",
    "value.(pi);"
   ]
  },
  {
   "cell_type": "code",
   "execution_count": 174,
   "id": "13ddaf31-f510-4f3f-961d-bc4e2baa631b",
   "metadata": {},
   "outputs": [
    {
     "ename": "LoadError",
     "evalue": "UndefVarError: find not defined",
     "output_type": "error",
     "traceback": [
      "UndefVarError: find not defined",
      "",
      "Stacktrace:",
      " [1] top-level scope",
      "   @ In[174]:2",
      " [2] eval",
      "   @ .\\boot.jl:360 [inlined]",
      " [3] include_string(mapexpr::typeof(REPL.softscope), mod::Module, code::String, filename::String)",
      "   @ Base .\\loading.jl:1116"
     ]
    }
   ],
   "source": [
    "#[TODO] Find values not in 0 or 1 to verify\n",
    "find(value.(pi) != 0 || value.(pi) != 1);"
   ]
  },
  {
   "cell_type": "markdown",
   "id": "990700cb-a509-4c11-8af9-eea0b573031f",
   "metadata": {},
   "source": [
    "#### Case m = n"
   ]
  },
  {
   "cell_type": "code",
   "execution_count": 142,
   "id": "4d894133-9ee5-44db-886c-dcb6035c36ec",
   "metadata": {},
   "outputs": [],
   "source": [
    "#Vector de capacidades\n",
    "s = ones(n,1); "
   ]
  },
  {
   "cell_type": "code",
   "execution_count": 143,
   "id": "985665cd-ee73-4bea-964d-b06a82e190b2",
   "metadata": {},
   "outputs": [],
   "source": [
    "model = JuMP.Model(GLPK.Optimizer)\n",
    "\n",
    "@variable(model,pi[1:m,1:n]>=0)\n",
    "\n",
    "@constraint(model, sum(pi, dims=2) .== q)\n",
    "@constraint(model, sum(pi, dims=1) .== s' )\n",
    "\n",
    "@objective(model,Min, sum( C.*pi ))\n",
    "\n",
    "#print(model)\n",
    "model;"
   ]
  },
  {
   "cell_type": "code",
   "execution_count": 151,
   "id": "bebe098a-94d0-4799-96fd-6616c0eb7a7f",
   "metadata": {},
   "outputs": [],
   "source": [
    "optimize!(model)\n",
    "value.(pi);"
   ]
  },
  {
   "cell_type": "markdown",
   "id": "a605ec0d-4fdb-485e-b1ac-f2b11629cd34",
   "metadata": {},
   "source": [
    "[TODO] ¿Verificar lo de extender una $m \\times n$ a $m \\times m$, ponderar la capacidad y que de como el $m = n$, para luego sumar las columnas de $\\Pi^{*}$ y recuperar la original ?"
   ]
  },
  {
   "cell_type": "markdown",
   "id": "e9d6b8b3-7de5-4497-84d1-af35fa5aa2be",
   "metadata": {},
   "source": [
    "### B. Free Capacities\n",
    "\n",
    "We assume that the station locations $\\{ y_j \\}$ have already been selected, and their supply capacities can be arbitrarly chosen."
   ]
  },
  {
   "cell_type": "code",
   "execution_count": 171,
   "id": "4b692b63-a03c-482d-96c4-08470f8b75ac",
   "metadata": {},
   "outputs": [],
   "source": [
    "model = JuMP.Model(GLPK.Optimizer)\n",
    "\n",
    "@variable(model,pi[1:m,1:n]>=0)\n",
    "\n",
    "@constraint(model, sum(pi, dims=2) .== q)\n",
    "\n",
    "@objective(model,Min, sum( C.*pi ))\n",
    "\n",
    "#print(model)\n",
    "model;"
   ]
  },
  {
   "cell_type": "code",
   "execution_count": 172,
   "id": "a8fad057-ea9e-430b-98be-e04d9625fdf8",
   "metadata": {},
   "outputs": [
    {
     "data": {
      "text/plain": [
       "10×1 adjoint(::Matrix{Float64}) with eltype Float64:\n",
       " 15.0\n",
       " 13.0\n",
       "  7.0\n",
       " 12.0\n",
       "  3.0\n",
       " 10.0\n",
       "  6.0\n",
       " 15.0\n",
       " 14.0\n",
       "  5.0"
      ]
     },
     "execution_count": 172,
     "metadata": {},
     "output_type": "execute_result"
    }
   ],
   "source": [
    "optimize!(model)"
   ]
  },
  {
   "cell_type": "code",
   "execution_count": 177,
   "id": "9378b54b-7fb0-4b0e-9886-f710654b8207",
   "metadata": {},
   "outputs": [
    {
     "data": {
      "text/plain": [
       "10×1 adjoint(::Matrix{Float64}) with eltype Float64:\n",
       " 15.0\n",
       " 13.0\n",
       "  7.0\n",
       " 12.0\n",
       "  3.0\n",
       " 10.0\n",
       "  6.0\n",
       " 15.0\n",
       " 14.0\n",
       "  5.0"
      ]
     },
     "execution_count": 177,
     "metadata": {},
     "output_type": "execute_result"
    }
   ],
   "source": [
    "#Vector de capacidades\n",
    "s = sum(value.(pi), dims=1)'"
   ]
  },
  {
   "cell_type": "markdown",
   "id": "f4471a73-c613-4c31-96c9-07568f19cbbe",
   "metadata": {},
   "source": [
    "### C. Constrained or penalized capacities\n",
    "\n",
    "We assume that the station locations $\\{ y_j \\}$ have already been selected, and their supply capacities can be arbitrarly chosen.\n",
    "\n",
    "[TODO] ¿Network graph?"
   ]
  },
  {
   "cell_type": "markdown",
   "id": "7f09e448-3f9d-46a8-a134-b6966cdf25ae",
   "metadata": {},
   "source": [
    "#### Proposition 2\n",
    "\n",
    "Suppose:\n",
    "\n",
    "* Más ubicaciones de demanda, que estaciones: $m \\ge n$\n",
    "* Demandas unitarias: $q_{i} = 1$, $i = 1, ..., m$\n",
    "* Capacidades topeadas (aseguran demanda): $\\overline{s}_{j} \\in Z, s_{j} > 0, \\sum_{j} \\overline{s}_{j} \\ge m$\n",
    "\n",
    "Then: \n",
    "\n",
    "La solución óptima $\\Pi^{*}$ debe ser de ceros y unos ($\\pi_{ij} \\in \\{ 0, 1\\}$)\n"
   ]
  },
  {
   "cell_type": "code",
   "execution_count": null,
   "id": "72f30133-ec45-4cfb-86cc-aeec26568ef8",
   "metadata": {},
   "outputs": [],
   "source": [
    "#Vector de cotas de capacidad\n",
    "s_max = "
   ]
  },
  {
   "cell_type": "code",
   "execution_count": null,
   "id": "9af5da00-b2e8-423d-be04-dd53488b6d03",
   "metadata": {},
   "outputs": [],
   "source": [
    "model = JuMP.Model(GLPK.Optimizer)\n",
    "\n",
    "@variable(model,pi[1:m,1:n]>=0)\n",
    "\n",
    "@constraint(model, sum(pi, dims=2) .== q)\n",
    "@constraint(model, sum(pi, dims=1) .<= s_max' )\n",
    "\n",
    "@objective(model,Min, sum( C.*pi ))\n",
    "\n",
    "#print(model)\n",
    "model;"
   ]
  },
  {
   "cell_type": "code",
   "execution_count": null,
   "id": "1fda3a17-43a6-430a-b4d8-4436ead7bda0",
   "metadata": {},
   "outputs": [],
   "source": [
    "optimize!(model)"
   ]
  },
  {
   "cell_type": "code",
   "execution_count": null,
   "id": "69bf2010-5bbb-432d-9f40-c4e1e2b0089e",
   "metadata": {},
   "outputs": [],
   "source": [
    "value.(pi);"
   ]
  },
  {
   "cell_type": "code",
   "execution_count": null,
   "id": "2571d6e7-92b9-4a58-8df7-23298d1a151d",
   "metadata": {},
   "outputs": [],
   "source": []
  },
  {
   "cell_type": "code",
   "execution_count": null,
   "id": "ed02de9d-a182-463e-853d-96b65e22630a",
   "metadata": {},
   "outputs": [],
   "source": []
  },
  {
   "cell_type": "code",
   "execution_count": null,
   "id": "e4c644dd-0c28-4065-95c5-246227c7aaf2",
   "metadata": {},
   "outputs": [],
   "source": []
  },
  {
   "cell_type": "code",
   "execution_count": 8,
   "id": "0f1df625-981f-4ba8-b47e-2db900785f68",
   "metadata": {},
   "outputs": [],
   "source": [
    "smax = 100*ones(n,1) # Capacidad máxima de cargadores\n",
    "k = 3 # Cantidad de estaciones prendidas\n",
    "q = 1*ones(m,1); # Demandas"
   ]
  },
  {
   "cell_type": "code",
   "execution_count": 9,
   "id": "d184bcbe-5530-4a69-840b-71fd50c1a345",
   "metadata": {},
   "outputs": [
    {
     "data": {
      "text/plain": [
       "A JuMP Model\n",
       "Minimization problem with:\n",
       "Variables: 1010\n",
       "Objective function type: AffExpr\n",
       "`AffExpr`-in-`MathOptInterface.EqualTo{Float64}`: 100 constraints\n",
       "`AffExpr`-in-`MathOptInterface.LessThan{Float64}`: 11 constraints\n",
       "`VariableRef`-in-`MathOptInterface.GreaterThan{Float64}`: 1000 constraints\n",
       "`VariableRef`-in-`MathOptInterface.ZeroOne`: 10 constraints\n",
       "Model mode: AUTOMATIC\n",
       "CachingOptimizer state: EMPTY_OPTIMIZER\n",
       "Solver name: GLPK\n",
       "Names registered in the model: b, pi"
      ]
     },
     "execution_count": 9,
     "metadata": {},
     "output_type": "execute_result"
    }
   ],
   "source": [
    "model = JuMP.Model(GLPK.Optimizer)\n",
    "\n",
    "@variable(model,pi[1:m,1:n]>=0)\n",
    "@variable(model, b[1:n], Bin)\n",
    "\n",
    "@constraint(model, sum(pi, dims=2).== q)\n",
    "@constraint(model, sum(pi, dims=1)' .<= (b.*smax) )\n",
    "@constraint(model, sum(b) <= k)\n",
    "\n",
    "@objective(model,Min, sum( c.*pi ))\n",
    "\n",
    "#print(model)\n",
    "model"
   ]
  },
  {
   "cell_type": "code",
   "execution_count": 10,
   "id": "1f6a4e42-e73a-4d54-b958-803ff0d04e2e",
   "metadata": {},
   "outputs": [
    {
     "data": {
      "text/plain": [
       "([0.0 0.0 … 0.0 0.0; 0.0 0.0 … 0.0 0.0; … ; 0.0 0.0 … 1.0 0.0; 0.0 0.0 … 1.0 0.0], 27.278353011912728)"
      ]
     },
     "execution_count": 10,
     "metadata": {},
     "output_type": "execute_result"
    }
   ],
   "source": [
    "optimize!(model)\n",
    "value.(pi), objective_value(model)"
   ]
  },
  {
   "cell_type": "code",
   "execution_count": 11,
   "id": "4f3c3b35-441b-4576-aee4-b9d8cd26fd13",
   "metadata": {},
   "outputs": [
    {
     "data": {
      "text/plain": [
       "100×10 Matrix{Float64}:\n",
       " 0.0  0.0  0.0  1.0  0.0  0.0  0.0  0.0  0.0  0.0\n",
       " 0.0  0.0  0.0  1.0  0.0  0.0  0.0  0.0  0.0  0.0\n",
       " 0.0  0.0  0.0  1.0  0.0  0.0  0.0  0.0  0.0  0.0\n",
       " 0.0  0.0  0.0  0.0  1.0  0.0  0.0  0.0  0.0  0.0\n",
       " 0.0  0.0  0.0  1.0  0.0  0.0  0.0  0.0  0.0  0.0\n",
       " 0.0  0.0  0.0  1.0  0.0  0.0  0.0  0.0  0.0  0.0\n",
       " 0.0  0.0  0.0  1.0  0.0  0.0  0.0  0.0  0.0  0.0\n",
       " 0.0  0.0  0.0  1.0  0.0  0.0  0.0  0.0  0.0  0.0\n",
       " 0.0  0.0  0.0  1.0  0.0  0.0  0.0  0.0  0.0  0.0\n",
       " 0.0  0.0  0.0  1.0  0.0  0.0  0.0  0.0  0.0  0.0\n",
       " 0.0  0.0  0.0  1.0  0.0  0.0  0.0  0.0  0.0  0.0\n",
       " 0.0  0.0  0.0  1.0  0.0  0.0  0.0  0.0  0.0  0.0\n",
       " 0.0  0.0  0.0  1.0  0.0  0.0  0.0  0.0  0.0  0.0\n",
       " ⋮                        ⋮                   \n",
       " 0.0  0.0  0.0  0.0  0.0  0.0  0.0  0.0  1.0  0.0\n",
       " 0.0  0.0  0.0  0.0  1.0  0.0  0.0  0.0  0.0  0.0\n",
       " 0.0  0.0  0.0  0.0  0.0  0.0  0.0  0.0  1.0  0.0\n",
       " 0.0  0.0  0.0  0.0  0.0  0.0  0.0  0.0  1.0  0.0\n",
       " 0.0  0.0  0.0  0.0  0.0  0.0  0.0  0.0  1.0  0.0\n",
       " 0.0  0.0  0.0  0.0  1.0  0.0  0.0  0.0  0.0  0.0\n",
       " 0.0  0.0  0.0  0.0  0.0  0.0  0.0  0.0  1.0  0.0\n",
       " 0.0  0.0  0.0  0.0  0.0  0.0  0.0  0.0  1.0  0.0\n",
       " 0.0  0.0  0.0  0.0  0.0  0.0  0.0  0.0  1.0  0.0\n",
       " 0.0  0.0  0.0  0.0  0.0  0.0  0.0  0.0  1.0  0.0\n",
       " 0.0  0.0  0.0  0.0  0.0  0.0  0.0  0.0  1.0  0.0\n",
       " 0.0  0.0  0.0  0.0  0.0  0.0  0.0  0.0  1.0  0.0"
      ]
     },
     "execution_count": 11,
     "metadata": {},
     "output_type": "execute_result"
    }
   ],
   "source": [
    "value.(pi)"
   ]
  },
  {
   "cell_type": "code",
   "execution_count": 12,
   "id": "8f0f6307-1a5a-4ee4-8a8d-7a8c3e0c8e6a",
   "metadata": {},
   "outputs": [
    {
     "data": {
      "text/plain": [
       "10-element Vector{Float64}:\n",
       " 0.0\n",
       " 0.0\n",
       " 0.0\n",
       " 1.0\n",
       " 1.0\n",
       " 0.0\n",
       " 0.0\n",
       " 0.0\n",
       " 1.0\n",
       " 0.0"
      ]
     },
     "execution_count": 12,
     "metadata": {},
     "output_type": "execute_result"
    }
   ],
   "source": [
    "value.(b)"
   ]
  },
  {
   "cell_type": "markdown",
   "id": "6f977d06-8c31-4526-9530-822593e4f2cc",
   "metadata": {},
   "source": [
    "### Fixed capacities"
   ]
  },
  {
   "cell_type": "code",
   "execution_count": 11,
   "id": "b60dbf14-26d3-4ecc-9d3a-b5a13dbf2213",
   "metadata": {},
   "outputs": [],
   "source": [
    "c = [1 3; 3 1] # Costo\n",
    "s = [0 2] # Capacidad de cargadores (en autos)\n",
    "q = [1; 1]; # Demandas (cargo o no cargo)"
   ]
  },
  {
   "cell_type": "code",
   "execution_count": 12,
   "id": "43e930b4-39c0-44c9-9616-9255dfdf1371",
   "metadata": {},
   "outputs": [
    {
     "data": {
      "text/latex": [
       "$$ \\begin{aligned}\n",
       "\\min\\quad & pi_{1,1} + 3 pi_{2,1} + 3 pi_{1,2} + pi_{2,2}\\\\\n",
       "\\text{Subject to} \\quad & pi_{1,1} + pi_{1,2} = 1.0\\\\\n",
       " & pi_{2,1} + pi_{2,2} = 1.0\\\\\n",
       " & pi_{1,1} + pi_{2,1} = 0.0\\\\\n",
       " & pi_{1,2} + pi_{2,2} = 0.0\\\\\n",
       " & pi_{1,1} + pi_{2,1} = 2.0\\\\\n",
       " & pi_{1,2} + pi_{2,2} = 2.0\\\\\n",
       " & pi_{1,1} \\geq 0.0\\\\\n",
       " & pi_{2,1} \\geq 0.0\\\\\n",
       " & pi_{1,2} \\geq 0.0\\\\\n",
       " & pi_{2,2} \\geq 0.0\\\\\n",
       "\\end{aligned} $$"
      ]
     },
     "metadata": {},
     "output_type": "display_data"
    },
    {
     "data": {
      "text/plain": [
       "([0.0 1.0; 0.0 -1.0], 2.0)"
      ]
     },
     "execution_count": 12,
     "metadata": {},
     "output_type": "execute_result"
    }
   ],
   "source": [
    "model = JuMP.Model(GLPK.Optimizer)\n",
    "\n",
    "@variable(model,pi[1:2,1:2]>=0)\n",
    "\n",
    "@constraint(model, sum(pi,dims=2).== q)\n",
    "@constraint(model, sum(pi, dims=1)' .== s )\n",
    "\n",
    "@objective(model,Min, sum( c.*pi ))\n",
    "\n",
    "print(model)\n",
    "\n",
    "optimize!(model)\n",
    "value.(pi), objective_value(model)"
   ]
  },
  {
   "cell_type": "code",
   "execution_count": 13,
   "id": "86535811-e61d-42bb-bfe7-01ec91dc92a4",
   "metadata": {},
   "outputs": [
    {
     "data": {
      "text/plain": [
       "2×2 Matrix{Float64}:\n",
       " 0.0   1.0\n",
       " 0.0  -1.0"
      ]
     },
     "execution_count": 13,
     "metadata": {},
     "output_type": "execute_result"
    }
   ],
   "source": [
    "value.(pi)"
   ]
  },
  {
   "cell_type": "markdown",
   "id": "e592a47e-173f-464b-b895-83c7aa135a8e",
   "metadata": {},
   "source": [
    "## Constrained or penalized capacities"
   ]
  },
  {
   "cell_type": "code",
   "execution_count": 14,
   "id": "4eeebd58-4056-4128-b91f-d605706ee243",
   "metadata": {},
   "outputs": [],
   "source": [
    "c = [1 3; 3 1] # Costo\n",
    "smax = [2 2] # Capacidad de cargadores (en autos)\n",
    "q = [1; 1]; # Demandas (cargo o no cargo)"
   ]
  },
  {
   "cell_type": "code",
   "execution_count": 15,
   "id": "430b6459-9100-489b-b233-389662a9b1e7",
   "metadata": {},
   "outputs": [
    {
     "data": {
      "text/latex": [
       "$$ \\begin{aligned}\n",
       "\\min\\quad & pi_{1,1} + 3 pi_{2,1} + 3 pi_{1,2} + pi_{2,2}\\\\\n",
       "\\text{Subject to} \\quad & pi_{1,1} + pi_{1,2} = 1.0\\\\\n",
       " & pi_{2,1} + pi_{2,2} = 1.0\\\\\n",
       " & pi_{1,1} + pi_{2,1} \\leq 2.0\\\\\n",
       " & pi_{1,2} + pi_{2,2} \\leq 2.0\\\\\n",
       " & pi_{1,1} + pi_{2,1} \\leq 2.0\\\\\n",
       " & pi_{1,2} + pi_{2,2} \\leq 2.0\\\\\n",
       " & pi_{1,1} \\geq 0.0\\\\\n",
       " & pi_{2,1} \\geq 0.0\\\\\n",
       " & pi_{1,2} \\geq 0.0\\\\\n",
       " & pi_{2,2} \\geq 0.0\\\\\n",
       "\\end{aligned} $$"
      ]
     },
     "metadata": {},
     "output_type": "display_data"
    },
    {
     "data": {
      "text/plain": [
       "([1.0 0.0; 0.0 1.0], 2.0)"
      ]
     },
     "execution_count": 15,
     "metadata": {},
     "output_type": "execute_result"
    }
   ],
   "source": [
    "model = JuMP.Model(GLPK.Optimizer)\n",
    "\n",
    "@variable(model,pi[1:2,1:2]>=0)\n",
    "\n",
    "@constraint(model, sum(pi,dims=2).== q)\n",
    "@constraint(model, sum(pi, dims=1)' .<= smax )\n",
    "\n",
    "@objective(model,Min, sum( c.*pi ))\n",
    "\n",
    "print(model)\n",
    "\n",
    "optimize!(model)\n",
    "value.(pi), objective_value(model)"
   ]
  },
  {
   "cell_type": "code",
   "execution_count": 16,
   "id": "0ff21aa5-6c91-4753-a36d-2ba7b7ab087a",
   "metadata": {},
   "outputs": [
    {
     "data": {
      "text/plain": [
       "2×2 Matrix{Float64}:\n",
       " 1.0  0.0\n",
       " 0.0  1.0"
      ]
     },
     "execution_count": 16,
     "metadata": {},
     "output_type": "execute_result"
    }
   ],
   "source": [
    "value.(pi)"
   ]
  },
  {
   "cell_type": "markdown",
   "id": "caeeffe6-5731-44d6-8e2a-1b0f9f40efc5",
   "metadata": {},
   "source": [
    "### Penalized"
   ]
  },
  {
   "cell_type": "code",
   "execution_count": 17,
   "id": "c4335303-33db-4de6-a656-3a7c3345ce43",
   "metadata": {},
   "outputs": [
    {
     "data": {
      "text/plain": [
       "phi (generic function with 1 method)"
      ]
     },
     "execution_count": 17,
     "metadata": {},
     "output_type": "execute_result"
    }
   ],
   "source": [
    "function phi(s)\n",
    "    return 0.5*(s.^2)\n",
    "end"
   ]
  },
  {
   "cell_type": "code",
   "execution_count": 18,
   "id": "bb59b77e-c76d-4264-b13d-a01ab532db65",
   "metadata": {},
   "outputs": [],
   "source": [
    "c = [1 3; 3 1] # Costo\n",
    "smax = [2 2] # Capacidad de cargadores (en autos)\n",
    "q = [1; 1]; # Demandas (cargo o no cargo)\n",
    "eps = 0.1;"
   ]
  },
  {
   "cell_type": "code",
   "execution_count": 19,
   "id": "b4184816-1af3-4832-9873-2a1eb6ef28f0",
   "metadata": {},
   "outputs": [
    {
     "data": {
      "text/latex": [
       "$$ \\begin{aligned}\n",
       "\\min\\quad & 0.05 s_{1}^2 + 0.05 s_{2}^2 + pi_{1,1} + 3 pi_{2,1} + 3 pi_{1,2} + pi_{2,2}\\\\\n",
       "\\text{Subject to} \\quad & pi_{1,1} + pi_{1,2} = 1.0\\\\\n",
       " & pi_{2,1} + pi_{2,2} = 1.0\\\\\n",
       " & pi_{1,1} + pi_{2,1} - s_{1} = 0.0\\\\\n",
       " & pi_{1,2} + pi_{2,2} - s_{2} = 0.0\\\\\n",
       " & pi_{1,1} \\geq 0.0\\\\\n",
       " & pi_{2,1} \\geq 0.0\\\\\n",
       " & pi_{1,2} \\geq 0.0\\\\\n",
       " & pi_{2,2} \\geq 0.0\\\\\n",
       " & s_{1} \\geq 0.0\\\\\n",
       " & s_{2} \\geq 0.0\\\\\n",
       "\\end{aligned} $$"
      ]
     },
     "metadata": {},
     "output_type": "display_data"
    },
    {
     "name": "stdout",
     "output_type": "stream",
     "text": [
      "\n",
      "******************************************************************************\n",
      "This program contains Ipopt, a library for large-scale nonlinear optimization.\n",
      " Ipopt is released as open source code under the Eclipse Public License (EPL).\n",
      "         For more information visit https://github.com/coin-or/Ipopt\n",
      "******************************************************************************\n",
      "\n",
      "This is Ipopt version 3.14.4, running with linear solver MUMPS 5.4.1.\n",
      "\n",
      "Number of nonzeros in equality constraint Jacobian...:       10\n",
      "Number of nonzeros in inequality constraint Jacobian.:        0\n",
      "Number of nonzeros in Lagrangian Hessian.............:        2\n",
      "\n",
      "Total number of variables............................:        6\n",
      "                     variables with only lower bounds:        6\n",
      "                variables with lower and upper bounds:        0\n",
      "                     variables with only upper bounds:        0\n",
      "Total number of equality constraints.................:        4\n",
      "Total number of inequality constraints...............:        0\n",
      "        inequality constraints with only lower bounds:        0\n",
      "   inequality constraints with lower and upper bounds:        0\n",
      "        inequality constraints with only upper bounds:        0\n",
      "\n",
      "iter    objective    inf_pr   inf_du lg(mu)  ||d||  lg(rg) alpha_du alpha_pr  ls\n",
      "   0  8.0009920e-02 9.80e-01 1.00e+00  -1.0 0.00e+00    -  0.00e+00 0.00e+00   0\n",
      "   1  4.0600000e+00 1.11e-16 9.70e+01  -1.7 9.90e-01    -  1.01e-02 1.00e+00h  1\n",
      "   2  2.1196000e+00 0.00e+00 4.85e+01  -1.7 9.69e-01    -  3.51e-01 5.01e-01f  1\n",
      "   3  2.1476726e+00 0.00e+00 2.42e+01  -1.7 1.40e-02    -  1.00e+00 5.00e-01f  2\n",
      "   4  2.1395999e+00 1.11e-16 2.00e-07  -1.7 2.02e-03    -  1.00e+00 1.00e+00f  1\n",
      "   5  2.1006947e+00 0.00e+00 4.95e-05  -3.8 9.73e-03    -  9.98e-01 1.00e+00f  1\n",
      "   6  2.1000037e+00 0.00e+00 1.84e-11  -5.7 1.73e-04    -  1.00e+00 1.00e+00f  1\n",
      "   7  2.1000000e+00 1.11e-16 2.53e-14  -8.6 9.21e-07    -  1.00e+00 1.00e+00f  1\n",
      "\n",
      "Number of Iterations....: 7\n",
      "\n",
      "                                   (scaled)                 (unscaled)\n",
      "Objective...............:   2.0999999650152010e+00    2.0999999650152010e+00\n",
      "Dual infeasibility......:   2.5313084961453569e-14    2.5313084961453569e-14\n",
      "Constraint violation....:   1.1102230246251565e-16    1.1102230246251565e-16\n",
      "Variable bound violation:   8.7461996044325451e-09    8.7461996044325451e-09\n",
      "Complementarity.........:   2.5076007942746849e-09    2.5076007942746849e-09\n",
      "Overall NLP error.......:   2.5076007942746849e-09    2.5076007942746849e-09\n",
      "\n",
      "\n",
      "Number of objective function evaluations             = 10\n",
      "Number of objective gradient evaluations             = 8\n",
      "Number of equality constraint evaluations            = 10\n",
      "Number of inequality constraint evaluations          = 0\n",
      "Number of equality constraint Jacobian evaluations   = 1\n",
      "Number of inequality constraint Jacobian evaluations = 0\n",
      "Number of Lagrangian Hessian evaluations             = 1\n",
      "Total seconds in IPOPT                               = 0.127\n",
      "\n",
      "EXIT: Optimal Solution Found.\n"
     ]
    },
    {
     "data": {
      "text/plain": [
       "([1.0000000087461995 -8.746199604432545e-9; -8.746199604432545e-9 1.0000000087461995], 2.099999965015201)"
      ]
     },
     "execution_count": 19,
     "metadata": {},
     "output_type": "execute_result"
    }
   ],
   "source": [
    "#model = JuMP.Model(GLPK.Optimizer)\n",
    "model = JuMP.Model(Ipopt.Optimizer)\n",
    "\n",
    "@variable(model, pi[1:2,1:2]>=0)\n",
    "@variable(model, s[1:2]>=0)\n",
    "\n",
    "@constraint(model, sum(pi,dims=2).== q)\n",
    "@constraint(model, sum(pi, dims=1)' .== s )\n",
    "\n",
    "@objective(model,Min, sum( c.*pi ) + eps*sum(phi(s)))\n",
    "\n",
    "print(model)\n",
    "\n",
    "optimize!(model)\n",
    "value.(pi), objective_value(model)"
   ]
  },
  {
   "cell_type": "code",
   "execution_count": 20,
   "id": "6dd6151d-c428-497b-b875-4a9c87a5f69c",
   "metadata": {},
   "outputs": [
    {
     "data": {
      "text/plain": [
       "2×2 Matrix{Float64}:\n",
       "  1.0        -8.7462e-9\n",
       " -8.7462e-9   1.0"
      ]
     },
     "execution_count": 20,
     "metadata": {},
     "output_type": "execute_result"
    }
   ],
   "source": [
    "value.(pi)"
   ]
  },
  {
   "cell_type": "code",
   "execution_count": null,
   "id": "250a93e7-43e4-42d7-8642-c715a5af66ae",
   "metadata": {},
   "outputs": [],
   "source": []
  }
 ],
 "metadata": {
  "kernelspec": {
   "display_name": "Julia 1.6.5",
   "language": "julia",
   "name": "julia-1.6"
  },
  "language_info": {
   "file_extension": ".jl",
   "mimetype": "application/julia",
   "name": "julia",
   "version": "1.6.5"
  }
 },
 "nbformat": 4,
 "nbformat_minor": 5
}
