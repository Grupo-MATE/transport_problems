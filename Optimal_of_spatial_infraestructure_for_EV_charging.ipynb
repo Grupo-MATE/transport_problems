{
 "cells": [
  {
   "cell_type": "markdown",
   "id": "c5b844e8-4c7f-454d-9dc0-b41c7cee159d",
   "metadata": {},
   "source": [
    "# Simple GLPK problems"
   ]
  },
  {
   "cell_type": "code",
   "execution_count": 1,
   "id": "bba9625f-f4aa-4c15-a2c3-903ac805a4ce",
   "metadata": {},
   "outputs": [],
   "source": [
    "using JuMP, GLPK#, Ipopt\n",
    "\n",
    "A=[1.0 1.0 0.0;1.0 0.0 1.0]\n",
    "b=[2.0;2.0]\n",
    "c=[1.0;2.0;3.0];"
   ]
  },
  {
   "cell_type": "markdown",
   "id": "1d8c270b-0ec8-498a-bd4c-c7f459f762e3",
   "metadata": {},
   "source": [
    "## Problema lineal"
   ]
  },
  {
   "cell_type": "code",
   "execution_count": 2,
   "id": "cb521cc6-2305-490d-a988-09472fe82454",
   "metadata": {},
   "outputs": [
    {
     "data": {
      "text/latex": [
       "$$ \\begin{aligned}\n",
       "\\max\\quad & x_{1} + 2 x_{2} + 3 x_{3}\\\\\n",
       "\\text{Subject to} \\quad & x_{1} + x_{2} \\leq 2.0\\\\\n",
       " & x_{1} + x_{3} \\leq 2.0\\\\\n",
       " & x_{1} \\geq 0.0\\\\\n",
       " & x_{2} \\geq 0.0\\\\\n",
       " & x_{3} \\geq 0.0\\\\\n",
       "\\end{aligned} $$"
      ]
     },
     "metadata": {},
     "output_type": "display_data"
    },
    {
     "data": {
      "text/plain": [
       "([0.0, 2.0, 2.0], 10.0)"
      ]
     },
     "execution_count": 2,
     "metadata": {},
     "output_type": "execute_result"
    }
   ],
   "source": [
    "model = JuMP.Model(GLPK.Optimizer)\n",
    "@variable(model, x[1:3]>=0)\n",
    "@constraint(model, A*x.<=b)\n",
    "@objective(model, Max, c'*x)\n",
    "\n",
    "print(model)\n",
    "\n",
    "optimize!(model)\n",
    "value.(x), objective_value(model)"
   ]
  },
  {
   "cell_type": "markdown",
   "id": "2125e1d7-30af-418c-9747-a2122a2b87e0",
   "metadata": {},
   "source": [
    "## Problema lineal con variables binarias (0 o 1)"
   ]
  },
  {
   "cell_type": "code",
   "execution_count": 3,
   "id": "e05e0109-9245-45c9-b2cf-ec9d0d820624",
   "metadata": {},
   "outputs": [
    {
     "data": {
      "text/latex": [
       "$$ \\begin{aligned}\n",
       "\\max\\quad & x_{1} + 2 x_{2} + 3 x_{3}\\\\\n",
       "\\text{Subject to} \\quad & x_{1} + x_{2} \\leq 2.0\\\\\n",
       " & x_{1} + x_{3} \\leq 2.0\\\\\n",
       " & x_{1} \\geq 0.0\\\\\n",
       " & x_{2} \\geq 0.0\\\\\n",
       " & x_{3} \\geq 0.0\\\\\n",
       " & x_{1} \\in \\{0, 1\\}\\\\\n",
       " & x_{2} \\in \\{0, 1\\}\\\\\n",
       " & x_{3} \\in \\{0, 1\\}\\\\\n",
       "\\end{aligned} $$"
      ]
     },
     "metadata": {},
     "output_type": "display_data"
    },
    {
     "data": {
      "text/plain": [
       "([1.0, 1.0, 1.0], 6.0)"
      ]
     },
     "execution_count": 3,
     "metadata": {},
     "output_type": "execute_result"
    }
   ],
   "source": [
    "## AHora la versión binaria. Debería dar menos por ser solo 0 o 1\n",
    "\n",
    "model = JuMP.Model(GLPK.Optimizer)\n",
    "\n",
    "@variable(model, x[1:3]>=0, Bin)\n",
    "@constraint(model, A*x.<=b)\n",
    "@objective(model, Max, c'*x)\n",
    "\n",
    "print(model)\n",
    "\n",
    "optimize!(model)\n",
    "value.(x), objective_value(model)"
   ]
  },
  {
   "cell_type": "markdown",
   "id": "141966a0-f4ad-47ec-a351-15a1894dcee9",
   "metadata": {},
   "source": [
    "## Problema lineal con variables enteras"
   ]
  },
  {
   "cell_type": "code",
   "execution_count": 4,
   "id": "445961fe-de7d-45ca-9064-e963823f0052",
   "metadata": {},
   "outputs": [
    {
     "data": {
      "text/latex": [
       "$$ \\begin{aligned}\n",
       "\\max\\quad & x_{1} + 2 x_{2} + 3 x_{3}\\\\\n",
       "\\text{Subject to} \\quad & x_{1} + x_{2} \\leq 2.0\\\\\n",
       " & x_{1} + x_{3} \\leq 2.0\\\\\n",
       " & x_{1} \\geq 0.0\\\\\n",
       " & x_{2} \\geq 0.0\\\\\n",
       " & x_{3} \\geq 0.0\\\\\n",
       " & x_{1} \\in \\mathbb{Z}\\\\\n",
       " & x_{2} \\in \\mathbb{Z}\\\\\n",
       " & x_{3} \\in \\mathbb{Z}\\\\\n",
       "\\end{aligned} $$"
      ]
     },
     "metadata": {},
     "output_type": "display_data"
    },
    {
     "data": {
      "text/plain": [
       "([0.0, 2.0, 2.0], 10.0)"
      ]
     },
     "execution_count": 4,
     "metadata": {},
     "output_type": "execute_result"
    }
   ],
   "source": [
    "## AHora la versión entera. Debería dar lo mismo que el primero que dio entero.\n",
    "\n",
    "model = JuMP.Model(GLPK.Optimizer)\n",
    "\n",
    "@variable(model, x[1:3]>=0, Int)\n",
    "@constraint(model, A*x.<=b)\n",
    "@objective(model, Max, c'*x)\n",
    "\n",
    "print(model)\n",
    "\n",
    "optimize!(model)\n",
    "value.(x), objective_value(model)"
   ]
  },
  {
   "cell_type": "markdown",
   "id": "98d28784-f350-4f8b-b65c-0ba0662c8899",
   "metadata": {},
   "source": [
    "## Location selection\n",
    "\n",
    "### Ejemplo 1"
   ]
  },
  {
   "cell_type": "code",
   "execution_count": 5,
   "id": "432df55e-395d-4d50-94dd-f0301c22970c",
   "metadata": {},
   "outputs": [
    {
     "data": {
      "text/plain": [
       "get_cost_matrix (generic function with 1 method)"
      ]
     },
     "execution_count": 5,
     "metadata": {},
     "output_type": "execute_result"
    }
   ],
   "source": [
    "function get_cost_matrix(m, n, x, y)\n",
    "    #m=length(x)\n",
    "    #n=length(y)\n",
    "    #return abs.(x*ones(1,n) - ones(m,1)*y') \n",
    "    \n",
    "    #Calculo los costos Cij = |xi-yj| (distancia euclidea en R^2)\n",
    "    w1 = (x[:,1]*ones(1,n) - ones(m,1)*y[:,1]').^2\n",
    "    w2 = (x[:,2]*ones(1,n) - ones(m,1)*y[:,2]').^2\n",
    "    return (w1+w2).^(1/2)\n",
    "end"
   ]
  },
  {
   "cell_type": "code",
   "execution_count": 6,
   "id": "7dbe9861-54a9-43f7-8a72-ebd1800e03f6",
   "metadata": {},
   "outputs": [],
   "source": [
    "m = 100 # Cantidad de EVs\n",
    "n = 10; # Cantidad de cargadores"
   ]
  },
  {
   "cell_type": "code",
   "execution_count": 7,
   "id": "5c79fabe-6752-45cf-8c91-9db537de81fb",
   "metadata": {},
   "outputs": [],
   "source": [
    "#x = [1; 2; 5]\n",
    "x = sortslices(rand(m,2), dims = 1);\n",
    "#y = [1; 2; 5]\n",
    "y = sortslices(rand(n,2), dims = 1);\n",
    "c = get_cost_matrix(m, n, x, y); #Matriz de costos"
   ]
  },
  {
   "cell_type": "code",
   "execution_count": 8,
   "id": "0f1df625-981f-4ba8-b47e-2db900785f68",
   "metadata": {},
   "outputs": [],
   "source": [
    "smax = 100*ones(n,1) # Capacidad máxima de cargadores\n",
    "k = 3 # Cantidad de estaciones prendidas\n",
    "q = 1*ones(m,1); # Demandas"
   ]
  },
  {
   "cell_type": "code",
   "execution_count": 9,
   "id": "d184bcbe-5530-4a69-840b-71fd50c1a345",
   "metadata": {},
   "outputs": [
    {
     "data": {
      "text/plain": [
       "A JuMP Model\n",
       "Minimization problem with:\n",
       "Variables: 1010\n",
       "Objective function type: AffExpr\n",
       "`AffExpr`-in-`MathOptInterface.EqualTo{Float64}`: 100 constraints\n",
       "`AffExpr`-in-`MathOptInterface.LessThan{Float64}`: 11 constraints\n",
       "`VariableRef`-in-`MathOptInterface.GreaterThan{Float64}`: 1000 constraints\n",
       "`VariableRef`-in-`MathOptInterface.ZeroOne`: 10 constraints\n",
       "Model mode: AUTOMATIC\n",
       "CachingOptimizer state: EMPTY_OPTIMIZER\n",
       "Solver name: GLPK\n",
       "Names registered in the model: b, pi"
      ]
     },
     "execution_count": 9,
     "metadata": {},
     "output_type": "execute_result"
    }
   ],
   "source": [
    "model = JuMP.Model(GLPK.Optimizer)\n",
    "\n",
    "@variable(model,pi[1:m,1:n]>=0)\n",
    "@variable(model, b[1:n], Bin)\n",
    "\n",
    "@constraint(model, sum(pi, dims=2).== q)\n",
    "@constraint(model, sum(pi, dims=1)' .<= (b.*smax) )\n",
    "@constraint(model, sum(b) <= k)\n",
    "\n",
    "@objective(model,Min, sum( c.*pi ))\n",
    "\n",
    "#print(model)\n",
    "model"
   ]
  },
  {
   "cell_type": "code",
   "execution_count": 10,
   "id": "1f6a4e42-e73a-4d54-b958-803ff0d04e2e",
   "metadata": {},
   "outputs": [
    {
     "data": {
      "text/plain": [
       "([0.0 0.0 … 0.0 0.0; 0.0 0.0 … 0.0 0.0; … ; 0.0 0.0 … 1.0 0.0; 0.0 0.0 … 1.0 0.0], 27.278353011912728)"
      ]
     },
     "execution_count": 10,
     "metadata": {},
     "output_type": "execute_result"
    }
   ],
   "source": [
    "optimize!(model)\n",
    "value.(pi), objective_value(model)"
   ]
  },
  {
   "cell_type": "code",
   "execution_count": 11,
   "id": "4f3c3b35-441b-4576-aee4-b9d8cd26fd13",
   "metadata": {},
   "outputs": [
    {
     "data": {
      "text/plain": [
       "100×10 Matrix{Float64}:\n",
       " 0.0  0.0  0.0  1.0  0.0  0.0  0.0  0.0  0.0  0.0\n",
       " 0.0  0.0  0.0  1.0  0.0  0.0  0.0  0.0  0.0  0.0\n",
       " 0.0  0.0  0.0  1.0  0.0  0.0  0.0  0.0  0.0  0.0\n",
       " 0.0  0.0  0.0  0.0  1.0  0.0  0.0  0.0  0.0  0.0\n",
       " 0.0  0.0  0.0  1.0  0.0  0.0  0.0  0.0  0.0  0.0\n",
       " 0.0  0.0  0.0  1.0  0.0  0.0  0.0  0.0  0.0  0.0\n",
       " 0.0  0.0  0.0  1.0  0.0  0.0  0.0  0.0  0.0  0.0\n",
       " 0.0  0.0  0.0  1.0  0.0  0.0  0.0  0.0  0.0  0.0\n",
       " 0.0  0.0  0.0  1.0  0.0  0.0  0.0  0.0  0.0  0.0\n",
       " 0.0  0.0  0.0  1.0  0.0  0.0  0.0  0.0  0.0  0.0\n",
       " 0.0  0.0  0.0  1.0  0.0  0.0  0.0  0.0  0.0  0.0\n",
       " 0.0  0.0  0.0  1.0  0.0  0.0  0.0  0.0  0.0  0.0\n",
       " 0.0  0.0  0.0  1.0  0.0  0.0  0.0  0.0  0.0  0.0\n",
       " ⋮                        ⋮                   \n",
       " 0.0  0.0  0.0  0.0  0.0  0.0  0.0  0.0  1.0  0.0\n",
       " 0.0  0.0  0.0  0.0  1.0  0.0  0.0  0.0  0.0  0.0\n",
       " 0.0  0.0  0.0  0.0  0.0  0.0  0.0  0.0  1.0  0.0\n",
       " 0.0  0.0  0.0  0.0  0.0  0.0  0.0  0.0  1.0  0.0\n",
       " 0.0  0.0  0.0  0.0  0.0  0.0  0.0  0.0  1.0  0.0\n",
       " 0.0  0.0  0.0  0.0  1.0  0.0  0.0  0.0  0.0  0.0\n",
       " 0.0  0.0  0.0  0.0  0.0  0.0  0.0  0.0  1.0  0.0\n",
       " 0.0  0.0  0.0  0.0  0.0  0.0  0.0  0.0  1.0  0.0\n",
       " 0.0  0.0  0.0  0.0  0.0  0.0  0.0  0.0  1.0  0.0\n",
       " 0.0  0.0  0.0  0.0  0.0  0.0  0.0  0.0  1.0  0.0\n",
       " 0.0  0.0  0.0  0.0  0.0  0.0  0.0  0.0  1.0  0.0\n",
       " 0.0  0.0  0.0  0.0  0.0  0.0  0.0  0.0  1.0  0.0"
      ]
     },
     "execution_count": 11,
     "metadata": {},
     "output_type": "execute_result"
    }
   ],
   "source": [
    "value.(pi)"
   ]
  },
  {
   "cell_type": "code",
   "execution_count": 12,
   "id": "8f0f6307-1a5a-4ee4-8a8d-7a8c3e0c8e6a",
   "metadata": {},
   "outputs": [
    {
     "data": {
      "text/plain": [
       "10-element Vector{Float64}:\n",
       " 0.0\n",
       " 0.0\n",
       " 0.0\n",
       " 1.0\n",
       " 1.0\n",
       " 0.0\n",
       " 0.0\n",
       " 0.0\n",
       " 1.0\n",
       " 0.0"
      ]
     },
     "execution_count": 12,
     "metadata": {},
     "output_type": "execute_result"
    }
   ],
   "source": [
    "value.(b)"
   ]
  },
  {
   "cell_type": "markdown",
   "id": "6f977d06-8c31-4526-9530-822593e4f2cc",
   "metadata": {},
   "source": [
    "### Fixed capacities"
   ]
  },
  {
   "cell_type": "code",
   "execution_count": 11,
   "id": "b60dbf14-26d3-4ecc-9d3a-b5a13dbf2213",
   "metadata": {},
   "outputs": [],
   "source": [
    "c = [1 3; 3 1] # Costo\n",
    "s = [0 2] # Capacidad de cargadores (en autos)\n",
    "q = [1; 1]; # Demandas (cargo o no cargo)"
   ]
  },
  {
   "cell_type": "code",
   "execution_count": 12,
   "id": "43e930b4-39c0-44c9-9616-9255dfdf1371",
   "metadata": {},
   "outputs": [
    {
     "data": {
      "text/latex": [
       "$$ \\begin{aligned}\n",
       "\\min\\quad & pi_{1,1} + 3 pi_{2,1} + 3 pi_{1,2} + pi_{2,2}\\\\\n",
       "\\text{Subject to} \\quad & pi_{1,1} + pi_{1,2} = 1.0\\\\\n",
       " & pi_{2,1} + pi_{2,2} = 1.0\\\\\n",
       " & pi_{1,1} + pi_{2,1} = 0.0\\\\\n",
       " & pi_{1,2} + pi_{2,2} = 0.0\\\\\n",
       " & pi_{1,1} + pi_{2,1} = 2.0\\\\\n",
       " & pi_{1,2} + pi_{2,2} = 2.0\\\\\n",
       " & pi_{1,1} \\geq 0.0\\\\\n",
       " & pi_{2,1} \\geq 0.0\\\\\n",
       " & pi_{1,2} \\geq 0.0\\\\\n",
       " & pi_{2,2} \\geq 0.0\\\\\n",
       "\\end{aligned} $$"
      ]
     },
     "metadata": {},
     "output_type": "display_data"
    },
    {
     "data": {
      "text/plain": [
       "([0.0 1.0; 0.0 -1.0], 2.0)"
      ]
     },
     "execution_count": 12,
     "metadata": {},
     "output_type": "execute_result"
    }
   ],
   "source": [
    "model = JuMP.Model(GLPK.Optimizer)\n",
    "\n",
    "@variable(model,pi[1:2,1:2]>=0)\n",
    "\n",
    "@constraint(model, sum(pi,dims=2).== q)\n",
    "@constraint(model, sum(pi, dims=1)' .== s )\n",
    "\n",
    "@objective(model,Min, sum( c.*pi ))\n",
    "\n",
    "print(model)\n",
    "\n",
    "optimize!(model)\n",
    "value.(pi), objective_value(model)"
   ]
  },
  {
   "cell_type": "code",
   "execution_count": 13,
   "id": "86535811-e61d-42bb-bfe7-01ec91dc92a4",
   "metadata": {},
   "outputs": [
    {
     "data": {
      "text/plain": [
       "2×2 Matrix{Float64}:\n",
       " 0.0   1.0\n",
       " 0.0  -1.0"
      ]
     },
     "execution_count": 13,
     "metadata": {},
     "output_type": "execute_result"
    }
   ],
   "source": [
    "value.(pi)"
   ]
  },
  {
   "cell_type": "markdown",
   "id": "e592a47e-173f-464b-b895-83c7aa135a8e",
   "metadata": {},
   "source": [
    "## Constrained or penalized capacities"
   ]
  },
  {
   "cell_type": "code",
   "execution_count": 14,
   "id": "4eeebd58-4056-4128-b91f-d605706ee243",
   "metadata": {},
   "outputs": [],
   "source": [
    "c = [1 3; 3 1] # Costo\n",
    "smax = [2 2] # Capacidad de cargadores (en autos)\n",
    "q = [1; 1]; # Demandas (cargo o no cargo)"
   ]
  },
  {
   "cell_type": "code",
   "execution_count": 15,
   "id": "430b6459-9100-489b-b233-389662a9b1e7",
   "metadata": {},
   "outputs": [
    {
     "data": {
      "text/latex": [
       "$$ \\begin{aligned}\n",
       "\\min\\quad & pi_{1,1} + 3 pi_{2,1} + 3 pi_{1,2} + pi_{2,2}\\\\\n",
       "\\text{Subject to} \\quad & pi_{1,1} + pi_{1,2} = 1.0\\\\\n",
       " & pi_{2,1} + pi_{2,2} = 1.0\\\\\n",
       " & pi_{1,1} + pi_{2,1} \\leq 2.0\\\\\n",
       " & pi_{1,2} + pi_{2,2} \\leq 2.0\\\\\n",
       " & pi_{1,1} + pi_{2,1} \\leq 2.0\\\\\n",
       " & pi_{1,2} + pi_{2,2} \\leq 2.0\\\\\n",
       " & pi_{1,1} \\geq 0.0\\\\\n",
       " & pi_{2,1} \\geq 0.0\\\\\n",
       " & pi_{1,2} \\geq 0.0\\\\\n",
       " & pi_{2,2} \\geq 0.0\\\\\n",
       "\\end{aligned} $$"
      ]
     },
     "metadata": {},
     "output_type": "display_data"
    },
    {
     "data": {
      "text/plain": [
       "([1.0 0.0; 0.0 1.0], 2.0)"
      ]
     },
     "execution_count": 15,
     "metadata": {},
     "output_type": "execute_result"
    }
   ],
   "source": [
    "model = JuMP.Model(GLPK.Optimizer)\n",
    "\n",
    "@variable(model,pi[1:2,1:2]>=0)\n",
    "\n",
    "@constraint(model, sum(pi,dims=2).== q)\n",
    "@constraint(model, sum(pi, dims=1)' .<= smax )\n",
    "\n",
    "@objective(model,Min, sum( c.*pi ))\n",
    "\n",
    "print(model)\n",
    "\n",
    "optimize!(model)\n",
    "value.(pi), objective_value(model)"
   ]
  },
  {
   "cell_type": "code",
   "execution_count": 16,
   "id": "0ff21aa5-6c91-4753-a36d-2ba7b7ab087a",
   "metadata": {},
   "outputs": [
    {
     "data": {
      "text/plain": [
       "2×2 Matrix{Float64}:\n",
       " 1.0  0.0\n",
       " 0.0  1.0"
      ]
     },
     "execution_count": 16,
     "metadata": {},
     "output_type": "execute_result"
    }
   ],
   "source": [
    "value.(pi)"
   ]
  },
  {
   "cell_type": "markdown",
   "id": "caeeffe6-5731-44d6-8e2a-1b0f9f40efc5",
   "metadata": {},
   "source": [
    "### Penalized"
   ]
  },
  {
   "cell_type": "code",
   "execution_count": 17,
   "id": "c4335303-33db-4de6-a656-3a7c3345ce43",
   "metadata": {},
   "outputs": [
    {
     "data": {
      "text/plain": [
       "phi (generic function with 1 method)"
      ]
     },
     "execution_count": 17,
     "metadata": {},
     "output_type": "execute_result"
    }
   ],
   "source": [
    "function phi(s)\n",
    "    return 0.5*(s.^2)\n",
    "end"
   ]
  },
  {
   "cell_type": "code",
   "execution_count": 18,
   "id": "bb59b77e-c76d-4264-b13d-a01ab532db65",
   "metadata": {},
   "outputs": [],
   "source": [
    "c = [1 3; 3 1] # Costo\n",
    "smax = [2 2] # Capacidad de cargadores (en autos)\n",
    "q = [1; 1]; # Demandas (cargo o no cargo)\n",
    "eps = 0.1;"
   ]
  },
  {
   "cell_type": "code",
   "execution_count": 19,
   "id": "b4184816-1af3-4832-9873-2a1eb6ef28f0",
   "metadata": {},
   "outputs": [
    {
     "data": {
      "text/latex": [
       "$$ \\begin{aligned}\n",
       "\\min\\quad & 0.05 s_{1}^2 + 0.05 s_{2}^2 + pi_{1,1} + 3 pi_{2,1} + 3 pi_{1,2} + pi_{2,2}\\\\\n",
       "\\text{Subject to} \\quad & pi_{1,1} + pi_{1,2} = 1.0\\\\\n",
       " & pi_{2,1} + pi_{2,2} = 1.0\\\\\n",
       " & pi_{1,1} + pi_{2,1} - s_{1} = 0.0\\\\\n",
       " & pi_{1,2} + pi_{2,2} - s_{2} = 0.0\\\\\n",
       " & pi_{1,1} \\geq 0.0\\\\\n",
       " & pi_{2,1} \\geq 0.0\\\\\n",
       " & pi_{1,2} \\geq 0.0\\\\\n",
       " & pi_{2,2} \\geq 0.0\\\\\n",
       " & s_{1} \\geq 0.0\\\\\n",
       " & s_{2} \\geq 0.0\\\\\n",
       "\\end{aligned} $$"
      ]
     },
     "metadata": {},
     "output_type": "display_data"
    },
    {
     "name": "stdout",
     "output_type": "stream",
     "text": [
      "\n",
      "******************************************************************************\n",
      "This program contains Ipopt, a library for large-scale nonlinear optimization.\n",
      " Ipopt is released as open source code under the Eclipse Public License (EPL).\n",
      "         For more information visit https://github.com/coin-or/Ipopt\n",
      "******************************************************************************\n",
      "\n",
      "This is Ipopt version 3.14.4, running with linear solver MUMPS 5.4.1.\n",
      "\n",
      "Number of nonzeros in equality constraint Jacobian...:       10\n",
      "Number of nonzeros in inequality constraint Jacobian.:        0\n",
      "Number of nonzeros in Lagrangian Hessian.............:        2\n",
      "\n",
      "Total number of variables............................:        6\n",
      "                     variables with only lower bounds:        6\n",
      "                variables with lower and upper bounds:        0\n",
      "                     variables with only upper bounds:        0\n",
      "Total number of equality constraints.................:        4\n",
      "Total number of inequality constraints...............:        0\n",
      "        inequality constraints with only lower bounds:        0\n",
      "   inequality constraints with lower and upper bounds:        0\n",
      "        inequality constraints with only upper bounds:        0\n",
      "\n",
      "iter    objective    inf_pr   inf_du lg(mu)  ||d||  lg(rg) alpha_du alpha_pr  ls\n",
      "   0  8.0009920e-02 9.80e-01 1.00e+00  -1.0 0.00e+00    -  0.00e+00 0.00e+00   0\n",
      "   1  4.0600000e+00 1.11e-16 9.70e+01  -1.7 9.90e-01    -  1.01e-02 1.00e+00h  1\n",
      "   2  2.1196000e+00 0.00e+00 4.85e+01  -1.7 9.69e-01    -  3.51e-01 5.01e-01f  1\n",
      "   3  2.1476726e+00 0.00e+00 2.42e+01  -1.7 1.40e-02    -  1.00e+00 5.00e-01f  2\n",
      "   4  2.1395999e+00 1.11e-16 2.00e-07  -1.7 2.02e-03    -  1.00e+00 1.00e+00f  1\n",
      "   5  2.1006947e+00 0.00e+00 4.95e-05  -3.8 9.73e-03    -  9.98e-01 1.00e+00f  1\n",
      "   6  2.1000037e+00 0.00e+00 1.84e-11  -5.7 1.73e-04    -  1.00e+00 1.00e+00f  1\n",
      "   7  2.1000000e+00 1.11e-16 2.53e-14  -8.6 9.21e-07    -  1.00e+00 1.00e+00f  1\n",
      "\n",
      "Number of Iterations....: 7\n",
      "\n",
      "                                   (scaled)                 (unscaled)\n",
      "Objective...............:   2.0999999650152010e+00    2.0999999650152010e+00\n",
      "Dual infeasibility......:   2.5313084961453569e-14    2.5313084961453569e-14\n",
      "Constraint violation....:   1.1102230246251565e-16    1.1102230246251565e-16\n",
      "Variable bound violation:   8.7461996044325451e-09    8.7461996044325451e-09\n",
      "Complementarity.........:   2.5076007942746849e-09    2.5076007942746849e-09\n",
      "Overall NLP error.......:   2.5076007942746849e-09    2.5076007942746849e-09\n",
      "\n",
      "\n",
      "Number of objective function evaluations             = 10\n",
      "Number of objective gradient evaluations             = 8\n",
      "Number of equality constraint evaluations            = 10\n",
      "Number of inequality constraint evaluations          = 0\n",
      "Number of equality constraint Jacobian evaluations   = 1\n",
      "Number of inequality constraint Jacobian evaluations = 0\n",
      "Number of Lagrangian Hessian evaluations             = 1\n",
      "Total seconds in IPOPT                               = 0.127\n",
      "\n",
      "EXIT: Optimal Solution Found.\n"
     ]
    },
    {
     "data": {
      "text/plain": [
       "([1.0000000087461995 -8.746199604432545e-9; -8.746199604432545e-9 1.0000000087461995], 2.099999965015201)"
      ]
     },
     "execution_count": 19,
     "metadata": {},
     "output_type": "execute_result"
    }
   ],
   "source": [
    "#model = JuMP.Model(GLPK.Optimizer)\n",
    "model = JuMP.Model(Ipopt.Optimizer)\n",
    "\n",
    "@variable(model, pi[1:2,1:2]>=0)\n",
    "@variable(model, s[1:2]>=0)\n",
    "\n",
    "@constraint(model, sum(pi,dims=2).== q)\n",
    "@constraint(model, sum(pi, dims=1)' .== s )\n",
    "\n",
    "@objective(model,Min, sum( c.*pi ) + eps*sum(phi(s)))\n",
    "\n",
    "print(model)\n",
    "\n",
    "optimize!(model)\n",
    "value.(pi), objective_value(model)"
   ]
  },
  {
   "cell_type": "code",
   "execution_count": 20,
   "id": "6dd6151d-c428-497b-b875-4a9c87a5f69c",
   "metadata": {},
   "outputs": [
    {
     "data": {
      "text/plain": [
       "2×2 Matrix{Float64}:\n",
       "  1.0        -8.7462e-9\n",
       " -8.7462e-9   1.0"
      ]
     },
     "execution_count": 20,
     "metadata": {},
     "output_type": "execute_result"
    }
   ],
   "source": [
    "value.(pi)"
   ]
  },
  {
   "cell_type": "code",
   "execution_count": null,
   "id": "250a93e7-43e4-42d7-8642-c715a5af66ae",
   "metadata": {},
   "outputs": [],
   "source": []
  }
 ],
 "metadata": {
  "kernelspec": {
   "display_name": "Julia 1.7.2",
   "language": "julia",
   "name": "julia-1.7"
  },
  "language_info": {
   "file_extension": ".jl",
   "mimetype": "application/julia",
   "name": "julia",
   "version": "1.7.2"
  }
 },
 "nbformat": 4,
 "nbformat_minor": 5
}
