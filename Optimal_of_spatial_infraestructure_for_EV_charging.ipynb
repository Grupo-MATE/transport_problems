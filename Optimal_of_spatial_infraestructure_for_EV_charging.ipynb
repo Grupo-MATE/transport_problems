{
 "cells": [
  {
   "cell_type": "markdown",
   "id": "8e0acc31-b946-447e-becd-d7c3a9342d73",
   "metadata": {},
   "source": [
    "# Optimization of spatial infraestructure for EV charging"
   ]
  },
  {
   "cell_type": "markdown",
   "id": "294fbe6e-aa01-4c9b-ac4a-e097434850f8",
   "metadata": {},
   "source": [
    "## II. Problem formulation\n",
    "$$ min \\sum_{i,j} c_{ij} \\pi_{ij} $$\n",
    "\n",
    "Subject to:\n",
    "\n",
    "$$ \\sum_{j} \\pi_{ij} = q_{i} $$\n",
    "$$ \\sum_{i} \\pi_{ij} = s_{i}$$\n",
    "\n",
    "Typical cost function:\n",
    "$$C = (c_{ij})$$\n",
    "Where c is a convex function, i.e.: the distance between station location and demand location in some norm:\n",
    "$$c_{ij} = c(x_{i}, y_{j}) = |x_{i} - y_{j}|$$"
   ]
  },
  {
   "cell_type": "markdown",
   "id": "771da39d-cf1b-48f1-a072-f14221a2d978",
   "metadata": {},
   "source": [
    "General declarations and functions:"
   ]
  },
  {
   "cell_type": "code",
   "execution_count": 1,
   "id": "fcab0183-06cc-46b8-b02d-d5040f8c84f3",
   "metadata": {},
   "outputs": [
    {
     "name": "stderr",
     "output_type": "stream",
     "text": [
      "\u001b[32m\u001b[1m    Updating\u001b[22m\u001b[39m registry at `~/.julia/registries/General.toml`\n",
      "\u001b[32m\u001b[1m   Resolving\u001b[22m\u001b[39m package versions...\n",
      "\u001b[32m\u001b[1m  No Changes\u001b[22m\u001b[39m to `~/Documents/transport_problems/Project.toml`\n",
      "\u001b[32m\u001b[1m  No Changes\u001b[22m\u001b[39m to `~/Documents/transport_problems/Manifest.toml`\n",
      "\u001b[32m\u001b[1m   Resolving\u001b[22m\u001b[39m package versions...\n",
      "\u001b[32m\u001b[1m  No Changes\u001b[22m\u001b[39m to `~/Documents/transport_problems/Project.toml`\n",
      "\u001b[32m\u001b[1m  No Changes\u001b[22m\u001b[39m to `~/Documents/transport_problems/Manifest.toml`\n"
     ]
    }
   ],
   "source": [
    "# Install Mosek solver \n",
    "import Pkg;\n",
    "Pkg.add(\"Mosek\")\n",
    "Pkg.add(\"MosekTools\")"
   ]
  },
  {
   "cell_type": "code",
   "execution_count": 7,
   "id": "8fb9ab89-bc42-4a21-8b54-90df65dcebb2",
   "metadata": {},
   "outputs": [],
   "source": [
    "using JuMP, GLPK#, Mosek"
   ]
  },
  {
   "cell_type": "code",
   "execution_count": 8,
   "id": "432df55e-395d-4d50-94dd-f0301c22970c",
   "metadata": {},
   "outputs": [
    {
     "data": {
      "text/plain": [
       "get_cost_matrix (generic function with 2 methods)"
      ]
     },
     "execution_count": 8,
     "metadata": {},
     "output_type": "execute_result"
    }
   ],
   "source": [
    "function get_cost_matrix(x, y, norm=2)    \n",
    "    m = size(x)[1]\n",
    "    n = size(y)[1]\n",
    "    #Calculo los costos Cij = |xi-yj| (distancia euclidea en R^2)\n",
    "    c1 = (x[:,1]*ones(1,n) - ones(m,1)*y[:,1]').^norm\n",
    "    c2 = (x[:,2]*ones(1,n) - ones(m,1)*y[:,2]').^norm\n",
    "    return (c1+c2).^(1/norm)\n",
    "end"
   ]
  },
  {
   "cell_type": "code",
   "execution_count": 9,
   "id": "7dbe9861-54a9-43f7-8a72-ebd1800e03f6",
   "metadata": {},
   "outputs": [],
   "source": [
    "m = 100; # Demand locations count\n",
    "n = 10; # Station locations count\n",
    "norm = 2; # Manhattan Metric"
   ]
  },
  {
   "cell_type": "code",
   "execution_count": 16,
   "id": "08800588-7484-494b-a01d-1b63293e81d0",
   "metadata": {},
   "outputs": [],
   "source": [
    "x = sortslices(rand(m,2), dims = 1);\n",
    "y = sortslices(rand(n,2), dims = 1);\n",
    "C = get_cost_matrix(x, y, norm); #Matriz de costos\n",
    "q = ones(m,1);"
   ]
  },
  {
   "cell_type": "markdown",
   "id": "98d28784-f350-4f8b-b65c-0ba0662c8899",
   "metadata": {},
   "source": [
    "## III. Fixed Locations\n",
    "We assume that the station locations $\\{ y_j \\}$ have already been selected\n",
    "\n",
    "### A. Fixed Capacities\n",
    "\n",
    "#### Simple discrete counterexample\n",
    "$$C = \\begin{bmatrix}\n",
    "1 & 3\\\\\n",
    "3 & 1\n",
    "\\end{bmatrix}$$\n",
    "\n",
    "$$q = \\begin{bmatrix}\n",
    "1\\\\\n",
    "2\n",
    "\\end{bmatrix}$$\n",
    "\n",
    "$$s = \\begin{bmatrix}\n",
    "2 & 1\n",
    "\\end{bmatrix}$$\n",
    "\n",
    "Then:\n",
    "\n",
    "$$\\Pi^{*} = \\begin{bmatrix}\n",
    "1 & 0\\\\\n",
    "1 & 1\n",
    "\\end{bmatrix}$$"
   ]
  },
  {
   "cell_type": "code",
   "execution_count": 11,
   "id": "db0f1b7a-a20e-4246-9ab1-c489e1781500",
   "metadata": {},
   "outputs": [
    {
     "data": {
      "text/plain": [
       "2×2 Matrix{Float64}:\n",
       " 1.0  0.0\n",
       " 1.0  1.0"
      ]
     },
     "execution_count": 11,
     "metadata": {},
     "output_type": "execute_result"
    }
   ],
   "source": [
    "C = [1 3; 3 1]\n",
    "q = [1; 2]\n",
    "s = [2 1]\n",
    "\n",
    "\n",
    "model = JuMP.Model(GLPK.Optimizer)\n",
    "\n",
    "@variable(model,pi[1:2, 1:2] >=0 )\n",
    "@constraint(model, sum(pi, dims=2) .== q)\n",
    "@constraint(model, sum(pi, dims=1) .== s )\n",
    "\n",
    "@objective(model,Min, sum( C.*pi ))\n",
    "\n",
    "#print(model)\n",
    "model\n",
    "\n",
    "optimize!(model)\n",
    "value.(pi)"
   ]
  },
  {
   "cell_type": "markdown",
   "id": "2e5b281d-bf99-4e8f-855e-bc7da013533a",
   "metadata": {},
   "source": [
    "#### Proposition 1\n",
    "\n",
    "Suppose:\n",
    "\n",
    "* Más ubicaciones de demanda, que estaciones: $m \\ge n$\n",
    "* Demandas unitarias: $q_{i} = 1$, $i = 1, ..., m$\n",
    "* Capacidad justa: $s_{j} \\in Z, s_{j} > 0, \\sum_{j} s_{j} = m$\n",
    "\n",
    "Then: \n",
    "\n",
    "La solución óptima $\\Pi^{*}$ debe ser de ceros y unos ($\\pi_{ij} \\in \\{ 0, 1\\}$)\n"
   ]
  },
  {
   "cell_type": "code",
   "execution_count": 17,
   "id": "5c79fabe-6752-45cf-8c91-9db537de81fb",
   "metadata": {},
   "outputs": [],
   "source": [
    "#Vector de capacidades\n",
    "aux = rand(n,1); #random proportion for s\n",
    "s = round.(aux/sum(aux)*m); #normalization\n",
    "s[argmax(s)] += (m - sum(s)); #error correction\n",
    "#s"
   ]
  },
  {
   "cell_type": "code",
   "execution_count": 18,
   "id": "199fbd54-2978-4018-b6c0-2878bffa891d",
   "metadata": {},
   "outputs": [],
   "source": [
    "model = JuMP.Model(GLPK.Optimizer)\n",
    "\n",
    "@variable(model,pi[1:m,1:n]>=0)\n",
    "\n",
    "@constraint(model, sum(pi, dims=2) .== q)\n",
    "@constraint(model, sum(pi, dims=1) .== s' )\n",
    "\n",
    "@objective(model,Min, sum( C.*pi ))\n",
    "\n",
    "#print(model)\n",
    "model;"
   ]
  },
  {
   "cell_type": "code",
   "execution_count": 19,
   "id": "f550071b-b994-4a1b-bebb-931e0bb1eb7d",
   "metadata": {},
   "outputs": [],
   "source": [
    "optimize!(model)\n",
    "value.(pi);"
   ]
  },
  {
   "cell_type": "code",
   "execution_count": 20,
   "id": "13ddaf31-f510-4f3f-961d-bc4e2baa631b",
   "metadata": {},
   "outputs": [
    {
     "ename": "LoadError",
     "evalue": "UndefVarError: find not defined",
     "output_type": "error",
     "traceback": [
      "UndefVarError: find not defined",
      "",
      "Stacktrace:",
      " [1] top-level scope",
      "   @ In[20]:2",
      " [2] eval",
      "   @ ./boot.jl:373 [inlined]",
      " [3] include_string(mapexpr::typeof(REPL.softscope), mod::Module, code::String, filename::String)",
      "   @ Base ./loading.jl:1196"
     ]
    }
   ],
   "source": [
    "#[TODO] Find values not in 0 or 1 to verify\n",
    "find(value.(pi) != 0 || value.(pi) != 1);"
   ]
  },
  {
   "cell_type": "markdown",
   "id": "990700cb-a509-4c11-8af9-eea0b573031f",
   "metadata": {},
   "source": [
    "#### Case m = n"
   ]
  },
  {
   "cell_type": "code",
   "execution_count": 21,
   "id": "4d894133-9ee5-44db-886c-dcb6035c36ec",
   "metadata": {},
   "outputs": [],
   "source": [
    "#Vector de capacidades\n",
    "s = ones(n,1); "
   ]
  },
  {
   "cell_type": "code",
   "execution_count": 22,
   "id": "985665cd-ee73-4bea-964d-b06a82e190b2",
   "metadata": {},
   "outputs": [],
   "source": [
    "model = JuMP.Model(GLPK.Optimizer)\n",
    "\n",
    "@variable(model,pi[1:m,1:n]>=0)\n",
    "\n",
    "@constraint(model, sum(pi, dims=2) .== q)\n",
    "@constraint(model, sum(pi, dims=1) .== s' )\n",
    "\n",
    "@objective(model,Min, sum( C.*pi ))\n",
    "\n",
    "#print(model)\n",
    "model;"
   ]
  },
  {
   "cell_type": "code",
   "execution_count": 23,
   "id": "bebe098a-94d0-4799-96fd-6616c0eb7a7f",
   "metadata": {},
   "outputs": [],
   "source": [
    "optimize!(model)\n",
    "value.(pi);"
   ]
  },
  {
   "cell_type": "markdown",
   "id": "a605ec0d-4fdb-485e-b1ac-f2b11629cd34",
   "metadata": {},
   "source": [
    "[TODO] ¿Verificar lo de extender una $m \\times n$ a $m \\times m$, ponderar la capacidad y que de como el $m = n$, para luego sumar las columnas de $\\Pi^{*}$ y recuperar la original ?"
   ]
  },
  {
   "cell_type": "markdown",
   "id": "e9d6b8b3-7de5-4497-84d1-af35fa5aa2be",
   "metadata": {},
   "source": [
    "### B. Free Capacities\n",
    "\n",
    "We assume that the station locations $\\{ y_j \\}$ have already been selected, and their supply capacities can be arbitrarly chosen."
   ]
  },
  {
   "cell_type": "code",
   "execution_count": 24,
   "id": "4b692b63-a03c-482d-96c4-08470f8b75ac",
   "metadata": {},
   "outputs": [],
   "source": [
    "model = JuMP.Model(GLPK.Optimizer)\n",
    "\n",
    "@variable(model,pi[1:m,1:n]>=0)\n",
    "\n",
    "@constraint(model, sum(pi, dims=2) .== q)\n",
    "\n",
    "@objective(model,Min, sum( C.*pi ))\n",
    "\n",
    "#print(model)\n",
    "model;"
   ]
  },
  {
   "cell_type": "code",
   "execution_count": 25,
   "id": "a8fad057-ea9e-430b-98be-e04d9625fdf8",
   "metadata": {},
   "outputs": [],
   "source": [
    "optimize!(model)"
   ]
  },
  {
   "cell_type": "code",
   "execution_count": 26,
   "id": "9378b54b-7fb0-4b0e-9886-f710654b8207",
   "metadata": {},
   "outputs": [
    {
     "data": {
      "text/plain": [
       "10×1 adjoint(::Matrix{Float64}) with eltype Float64:\n",
       " 20.0\n",
       " 17.0\n",
       " 13.0\n",
       "  6.0\n",
       " 15.0\n",
       " 19.0\n",
       "  7.0\n",
       "  2.0\n",
       "  1.0\n",
       "  0.0"
      ]
     },
     "execution_count": 26,
     "metadata": {},
     "output_type": "execute_result"
    }
   ],
   "source": [
    "#Vector de capacidades\n",
    "s = sum(value.(pi), dims=1)'"
   ]
  },
  {
   "cell_type": "markdown",
   "id": "f4471a73-c613-4c31-96c9-07568f19cbbe",
   "metadata": {},
   "source": [
    "### C. Constrained or penalized capacities\n",
    "\n",
    "We assume that the station locations $\\{ y_j \\}$ have already been selected, and their supply capacities can be arbitrarly chosen.\n",
    "\n",
    "[TODO] ¿Network graph?"
   ]
  },
  {
   "cell_type": "markdown",
   "id": "7f09e448-3f9d-46a8-a134-b6966cdf25ae",
   "metadata": {},
   "source": [
    "#### Proposition 2\n",
    "\n",
    "Suppose:\n",
    "\n",
    "* Más ubicaciones de demanda, que estaciones: $m \\ge n$\n",
    "* Demandas unitarias: $q_{i} = 1$, $i = 1, ..., m$\n",
    "* Capacidades topeadas (aseguran demanda): $\\overline{s}_{j} \\in Z, s_{j} > 0, \\sum_{j} \\overline{s}_{j} \\ge m$\n",
    "\n",
    "Then: \n",
    "\n",
    "La solución óptima $\\Pi^{*}$ debe ser de ceros y unos ($\\pi_{ij} \\in \\{ 0, 1\\}$)\n"
   ]
  },
  {
   "cell_type": "code",
   "execution_count": 27,
   "id": "72f30133-ec45-4cfb-86cc-aeec26568ef8",
   "metadata": {},
   "outputs": [
    {
     "data": {
      "text/plain": [
       "10×1 Matrix{Float64}:\n",
       " 26.0\n",
       " 11.0\n",
       " 28.0\n",
       " 14.0\n",
       "  4.0\n",
       "  3.0\n",
       "  7.0\n",
       "  5.0\n",
       "  2.0\n",
       " 19.0"
      ]
     },
     "execution_count": 27,
     "metadata": {},
     "output_type": "execute_result"
    }
   ],
   "source": [
    "#Vector de cotas de capacidad\n",
    "aux = rand(n,1); #random proportion for s\n",
    "tolerance = 0.2; \n",
    "s_max = round.(aux/sum(aux)*m*(1+tolerance)) #normalization"
   ]
  },
  {
   "cell_type": "code",
   "execution_count": 28,
   "id": "9af5da00-b2e8-423d-be04-dd53488b6d03",
   "metadata": {},
   "outputs": [],
   "source": [
    "model = JuMP.Model(GLPK.Optimizer)\n",
    "\n",
    "@variable(model,pi[1:m,1:n]>=0)\n",
    "\n",
    "@constraint(model, sum(pi, dims=2) .== q)\n",
    "@constraint(model, sum(pi, dims=1) .<= s_max' )\n",
    "\n",
    "@objective(model,Min, sum( C.*pi ))\n",
    "\n",
    "#print(model)\n",
    "model;"
   ]
  },
  {
   "cell_type": "code",
   "execution_count": 29,
   "id": "1fda3a17-43a6-430a-b4d8-4436ead7bda0",
   "metadata": {},
   "outputs": [],
   "source": [
    "optimize!(model)"
   ]
  },
  {
   "cell_type": "code",
   "execution_count": 30,
   "id": "69bf2010-5bbb-432d-9f40-c4e1e2b0089e",
   "metadata": {},
   "outputs": [
    {
     "data": {
      "text/plain": [
       "100×10 Matrix{Float64}:\n",
       " 1.0  0.0  0.0  0.0  0.0  0.0  0.0  0.0  0.0  0.0\n",
       " 1.0  0.0  0.0  0.0  0.0  0.0  0.0  0.0  0.0  0.0\n",
       " 1.0  0.0  0.0  0.0  0.0  0.0  0.0  0.0  0.0  0.0\n",
       " 0.0  1.0  0.0  0.0  0.0  0.0  0.0  0.0  0.0  0.0\n",
       " 0.0  0.0  1.0  0.0  0.0  0.0  0.0  0.0  0.0  0.0\n",
       " 1.0  0.0  0.0  0.0  0.0  0.0  0.0  0.0  0.0  0.0\n",
       " 0.0  0.0  1.0  0.0  0.0  0.0  0.0  0.0  0.0  0.0\n",
       " 1.0  0.0  0.0  0.0  0.0  0.0  0.0  0.0  0.0  0.0\n",
       " 0.0  1.0  0.0  0.0  0.0  0.0  0.0  0.0  0.0  0.0\n",
       " 0.0  1.0  0.0  0.0  0.0  0.0  0.0  0.0  0.0  0.0\n",
       " 0.0  1.0  0.0  0.0  0.0  0.0  0.0  0.0  0.0  0.0\n",
       " 0.0  1.0  0.0  0.0  0.0  0.0  0.0  0.0  0.0  0.0\n",
       " 1.0  0.0  0.0  0.0  0.0  0.0  0.0  0.0  0.0  0.0\n",
       " ⋮                        ⋮                   \n",
       " 0.0  0.0  0.0  0.0  0.0  0.0  1.0  0.0  0.0  0.0\n",
       " 0.0  0.0  0.0  1.0  0.0  0.0  0.0  0.0  0.0  0.0\n",
       " 0.0  0.0  0.0  0.0  0.0  0.0  0.0  1.0  0.0  0.0\n",
       " 0.0  0.0  0.0  0.0  0.0  0.0  0.0  0.0  1.0  0.0\n",
       " 0.0  0.0  0.0  0.0  0.0  0.0  0.0  1.0  0.0  0.0\n",
       " 0.0  0.0  0.0  0.0  0.0  0.0  0.0  1.0  0.0  0.0\n",
       " 0.0  0.0  0.0  0.0  0.0  0.0  0.0  0.0  0.0  1.0\n",
       " 0.0  0.0  0.0  0.0  0.0  0.0  0.0  1.0  0.0  0.0\n",
       " 0.0  0.0  0.0  0.0  0.0  0.0  0.0  0.0  0.0  1.0\n",
       " 0.0  0.0  0.0  0.0  0.0  0.0  0.0  0.0  0.0  1.0\n",
       " 0.0  0.0  0.0  0.0  0.0  0.0  0.0  0.0  0.0  1.0\n",
       " 0.0  0.0  0.0  0.0  0.0  0.0  0.0  1.0  0.0  0.0"
      ]
     },
     "execution_count": 30,
     "metadata": {},
     "output_type": "execute_result"
    }
   ],
   "source": [
    "value.(pi)"
   ]
  },
  {
   "cell_type": "markdown",
   "id": "d75fefb2-68f5-4482-85ff-b7d773b10b6f",
   "metadata": {},
   "source": [
    "#### Penalized capacities\n",
    "\n",
    "Suppose, instead, that one is designing an installation with known locations but still has not defined the relevant capacities. Leaving them complete free may be undesirable, but one could seek to even out the allocation somewhat between locations.\n",
    "\n",
    "With this aim, we consider a problem where a soft penalty term to the transport cost:\n",
    "\n",
    "$$ min \\sum_{ij} c_{ij} \\pi_{ij} + \\epsilon \\sum_{j} \\phi_{j}(s_{j})$$\n",
    "\n",
    "Subject to:\n",
    "\n",
    "$$\\sum_{j} \\pi_{ij} = q_{i}$$\n",
    "$$\\sum_{i} \\pi_{ij} = s_{j}$$\n",
    "\n",
    "In this case, we use $\\phi_{j}(s) = \\frac{1}{2}s^{2}$"
   ]
  },
  {
   "cell_type": "code",
   "execution_count": null,
   "id": "bfd90474-aeb4-41b8-8f39-c9a1c80737bf",
   "metadata": {},
   "outputs": [],
   "source": [
    "function phi(s)\n",
    "    return 0.5*(s.^2)\n",
    "end"
   ]
  },
  {
   "cell_type": "code",
   "execution_count": 43,
   "id": "ed02de9d-a182-463e-853d-96b65e22630a",
   "metadata": {},
   "outputs": [
    {
     "ename": "LoadError",
     "evalue": "DimensionMismatch(\"arrays could not be broadcast to a common size; got a dimension with lengths 2 and 100\")",
     "output_type": "error",
     "traceback": [
      "DimensionMismatch(\"arrays could not be broadcast to a common size; got a dimension with lengths 2 and 100\")",
      "",
      "Stacktrace:",
      "  [1] _bcs1",
      "    @ ./broadcast.jl:516 [inlined]",
      "  [2] _bcs(shape::Tuple{Base.OneTo{Int64}, Base.OneTo{Int64}}, newshape::Tuple{Base.OneTo{Int64}, Base.OneTo{Int64}})",
      "    @ Base.Broadcast ./broadcast.jl:510",
      "  [3] broadcast_shape",
      "    @ ./broadcast.jl:504 [inlined]",
      "  [4] combine_axes",
      "    @ ./broadcast.jl:499 [inlined]",
      "  [5] instantiate",
      "    @ ./broadcast.jl:281 [inlined]",
      "  [6] broadcast!(op::typeof(MutableArithmetics.sub_mul), A::Matrix{AffExpr}, args::Matrix{Float64})",
      "    @ MutableArithmetics ~/.julia/packages/MutableArithmetics/BOohi/src/broadcast.jl:110",
      "  [7] broadcast_fallback!",
      "    @ ~/.julia/packages/MutableArithmetics/BOohi/src/broadcast.jl:167 [inlined]",
      "  [8] broadcast!!(::typeof(MutableArithmetics.sub_mul), ::Matrix{AffExpr}, ::Matrix{Float64})",
      "    @ MutableArithmetics ~/.julia/packages/MutableArithmetics/BOohi/src/broadcast.jl:139",
      "  [9] macro expansion",
      "    @ ~/.julia/packages/MutableArithmetics/BOohi/src/rewrite.jl:288 [inlined]",
      " [10] macro expansion",
      "    @ ~/.julia/packages/JuMP/0STkJ/src/macros.jl:815 [inlined]",
      " [11] top-level scope",
      "    @ In[43]:7",
      " [12] eval",
      "    @ ./boot.jl:373 [inlined]",
      " [13] include_string(mapexpr::typeof(REPL.softscope), mod::Module, code::String, filename::String)",
      "    @ Base ./loading.jl:1196"
     ]
    }
   ],
   "source": [
    "using Ipopt\n",
    "model = JuMP.Model(Ipopt.Optimizer)\n",
    "\n",
    "@variable(model, pi[1:2,1:2]>=0)\n",
    "@variable(model, s[1:2]>=0)\n",
    "\n",
    "@constraint(model, sum(pi, dims=2) .== q)\n",
    "@constraint(model, sum(pi, dims=1) .== s')\n",
    "\n",
    "@objective(model,Min, sum( C.*pi ) + eps*sum(phi(s)))\n",
    "\n",
    "#print(model)"
   ]
  },
  {
   "cell_type": "code",
   "execution_count": null,
   "id": "2a29359c-ab8c-46a7-8043-a544bd04fae2",
   "metadata": {},
   "outputs": [],
   "source": [
    "optimize!(model)\n",
    "value.(pi), objective_value(model)"
   ]
  },
  {
   "cell_type": "markdown",
   "id": "7bd7a8fa-b65b-4748-a9d4-bd478bc8c909",
   "metadata": {},
   "source": [
    "## IV. Location Selection\n",
    "In this section we consider the situation where the location poitns are also part of the design.\n",
    "\n",
    "### A. Free locations\n",
    "\n",
    "[TODO] K - Means\n",
    "\n",
    "### B. Sparse selection over a set of candidate locations"
   ]
  },
  {
   "cell_type": "markdown",
   "id": "4a19c4d6-2e86-4f24-87f3-8e8abb8c3817",
   "metadata": {},
   "source": [
    "Example 1 - Verification\n",
    "\n",
    "$$x = y = \\begin{bmatrix}\n",
    "1\\\\\n",
    "2\\\\\n",
    "5\n",
    "\\end{bmatrix}$$\n",
    "\n",
    "Then:\n",
    "\n",
    "$$C = \\begin{bmatrix}\n",
    "0 & 1 & 4\\\\\n",
    "1 & 0 & 3\\\\\n",
    "4 & 3 & 0\n",
    "\\end{bmatrix}$$\n",
    "\n",
    "$$q = \\begin{bmatrix}\n",
    "2\\\\\n",
    "3\\\\\n",
    "1\n",
    "\\end{bmatrix}$$\n",
    "\n",
    "$$\\overline{s} = \\begin{bmatrix}\n",
    "s & s & s\n",
    "\\end{bmatrix}$$"
   ]
  },
  {
   "cell_type": "markdown",
   "id": "0c1d184b-fa2f-4bcf-b8cc-8c045d816273",
   "metadata": {},
   "source": [
    "Case 1: s = 5"
   ]
  },
  {
   "cell_type": "code",
   "execution_count": null,
   "id": "674c7d0b-851d-434f-94a2-be45605ace7a",
   "metadata": {},
   "outputs": [],
   "source": [
    "model = JuMP.Model(GLPK.Optimizer)\n",
    "\n",
    "@variable(model,pi[1:2,1:2]>=0)\n",
    "\n",
    "@constraint(model, sum(pi,dims=2).== q)\n",
    "@constraint(model, sum(pi, dims=1)' .<= s_max )\n",
    "\n",
    "@objective(model,Min, sum( c.*pi ))\n",
    "\n",
    "print(model)\n",
    "\n",
    "optimize!(model)\n",
    "value.(pi), objective_value(model)"
   ]
  },
  {
   "cell_type": "markdown",
   "id": "efc9455a-6764-40ff-b7cc-36dd1d8bd15a",
   "metadata": {},
   "source": [
    "Case 2: s = 4"
   ]
  },
  {
   "cell_type": "code",
   "execution_count": null,
   "id": "b639cace-a6f7-4e35-8135-517f526c862d",
   "metadata": {},
   "outputs": [],
   "source": []
  },
  {
   "cell_type": "markdown",
   "id": "d065b40c-ea59-48d5-9f66-834307b49f95",
   "metadata": {},
   "source": [
    "### MILP (Mixed-integer linear programming)\n",
    "\n",
    "$$min \\sum_{ij} c_{ij} \\pi_{ij}$$\n",
    "\n",
    "Subject to:\n",
    "\n",
    "$$\\sum_{j} \\pi_{ij} = q_i$$\n",
    "$$\\sum_{i} \\pi_{ij} \\le b_{j}\\overline{s}_{j}$$\n",
    "$$\\sum_{j} b_{j} \\le k$$\n",
    "$$b_{j} \\in \\{ 0, 1\\}$$\n",
    "\n",
    "Where: \n",
    "\n",
    "$b_{j}$ indicates whether station $y_{j}$ is active or not\n",
    "\n",
    "$k$ is the count of active actions"
   ]
  },
  {
   "cell_type": "code",
   "execution_count": 33,
   "id": "f987dd46-69d6-475c-ad1e-54e06e45d6c3",
   "metadata": {},
   "outputs": [
    {
     "data": {
      "text/plain": [
       "10×1 Matrix{Float64}:\n",
       " 100.0\n",
       " 100.0\n",
       " 100.0\n",
       " 100.0\n",
       " 100.0\n",
       " 100.0\n",
       " 100.0\n",
       " 100.0\n",
       " 100.0\n",
       " 100.0"
      ]
     },
     "execution_count": 33,
     "metadata": {},
     "output_type": "execute_result"
    }
   ],
   "source": [
    "k = 3\n",
    "q = 1*ones(m,1)\n",
    "s_max = 100*ones(n,1)"
   ]
  },
  {
   "cell_type": "code",
   "execution_count": 35,
   "id": "d184bcbe-5530-4a69-840b-71fd50c1a345",
   "metadata": {},
   "outputs": [
    {
     "data": {
      "text/plain": [
       "A JuMP Model\n",
       "Minimization problem with:\n",
       "Variables: 1010\n",
       "Objective function type: AffExpr\n",
       "`AffExpr`-in-`MathOptInterface.EqualTo{Float64}`: 100 constraints\n",
       "`AffExpr`-in-`MathOptInterface.LessThan{Float64}`: 11 constraints\n",
       "`VariableRef`-in-`MathOptInterface.GreaterThan{Float64}`: 1000 constraints\n",
       "`VariableRef`-in-`MathOptInterface.ZeroOne`: 10 constraints\n",
       "Model mode: AUTOMATIC\n",
       "CachingOptimizer state: EMPTY_OPTIMIZER\n",
       "Solver name: GLPK\n",
       "Names registered in the model: b, pi"
      ]
     },
     "execution_count": 35,
     "metadata": {},
     "output_type": "execute_result"
    }
   ],
   "source": [
    "model = JuMP.Model(GLPK.Optimizer)\n",
    "\n",
    "@variable(model,pi[1:m,1:n]>=0)\n",
    "@variable(model, b[1:n], Bin)\n",
    "\n",
    "@constraint(model, sum(pi, dims=2).== q)\n",
    "@constraint(model, sum(pi, dims=1)' .<= (b.*s_max) )\n",
    "@constraint(model, sum(b) <= k)\n",
    "\n",
    "@objective(model,Min, sum( C.*pi ))\n",
    "\n",
    "#print(model)\n",
    "model"
   ]
  },
  {
   "cell_type": "code",
   "execution_count": 37,
   "id": "1f6a4e42-e73a-4d54-b958-803ff0d04e2e",
   "metadata": {},
   "outputs": [
    {
     "data": {
      "text/plain": [
       "26.12402888124253"
      ]
     },
     "execution_count": 37,
     "metadata": {},
     "output_type": "execute_result"
    }
   ],
   "source": [
    "optimize!(model)\n",
    "objective_value(model)"
   ]
  },
  {
   "cell_type": "code",
   "execution_count": 38,
   "id": "4f3c3b35-441b-4576-aee4-b9d8cd26fd13",
   "metadata": {},
   "outputs": [
    {
     "data": {
      "text/plain": [
       "100×10 Matrix{Float64}:\n",
       " 1.0  0.0  0.0  0.0  0.0  0.0  0.0  0.0  0.0  0.0\n",
       " 1.0  0.0  0.0  0.0  0.0  0.0  0.0  0.0  0.0  0.0\n",
       " 1.0  0.0  0.0  0.0  0.0  0.0  0.0  0.0  0.0  0.0\n",
       " 0.0  0.0  1.0  0.0  0.0  0.0  0.0  0.0  0.0  0.0\n",
       " 0.0  0.0  1.0  0.0  0.0  0.0  0.0  0.0  0.0  0.0\n",
       " 1.0  0.0  0.0  0.0  0.0  0.0  0.0  0.0  0.0  0.0\n",
       " 0.0  0.0  1.0  0.0  0.0  0.0  0.0  0.0  0.0  0.0\n",
       " 1.0  0.0  0.0  0.0  0.0  0.0  0.0  0.0  0.0  0.0\n",
       " 1.0  0.0  0.0  0.0  0.0  0.0  0.0  0.0  0.0  0.0\n",
       " 0.0  0.0  1.0  0.0  0.0  0.0  0.0  0.0  0.0  0.0\n",
       " 1.0  0.0  0.0  0.0  0.0  0.0  0.0  0.0  0.0  0.0\n",
       " 0.0  0.0  1.0  0.0  0.0  0.0  0.0  0.0  0.0  0.0\n",
       " 1.0  0.0  0.0  0.0  0.0  0.0  0.0  0.0  0.0  0.0\n",
       " ⋮                        ⋮                   \n",
       " 0.0  0.0  1.0  0.0  0.0  0.0  0.0  0.0  0.0  0.0\n",
       " 0.0  0.0  0.0  0.0  0.0  1.0  0.0  0.0  0.0  0.0\n",
       " 0.0  0.0  0.0  0.0  0.0  1.0  0.0  0.0  0.0  0.0\n",
       " 0.0  0.0  0.0  0.0  0.0  1.0  0.0  0.0  0.0  0.0\n",
       " 0.0  0.0  1.0  0.0  0.0  0.0  0.0  0.0  0.0  0.0\n",
       " 0.0  0.0  0.0  0.0  0.0  1.0  0.0  0.0  0.0  0.0\n",
       " 0.0  0.0  0.0  0.0  0.0  1.0  0.0  0.0  0.0  0.0\n",
       " 0.0  0.0  1.0  0.0  0.0  0.0  0.0  0.0  0.0  0.0\n",
       " 0.0  0.0  0.0  0.0  0.0  1.0  0.0  0.0  0.0  0.0\n",
       " 0.0  0.0  0.0  0.0  0.0  1.0  0.0  0.0  0.0  0.0\n",
       " 0.0  0.0  0.0  0.0  0.0  1.0  0.0  0.0  0.0  0.0\n",
       " 0.0  0.0  1.0  0.0  0.0  0.0  0.0  0.0  0.0  0.0"
      ]
     },
     "execution_count": 38,
     "metadata": {},
     "output_type": "execute_result"
    }
   ],
   "source": [
    "value.(pi)"
   ]
  },
  {
   "cell_type": "code",
   "execution_count": 39,
   "id": "8f0f6307-1a5a-4ee4-8a8d-7a8c3e0c8e6a",
   "metadata": {},
   "outputs": [
    {
     "data": {
      "text/plain": [
       "10-element Vector{Float64}:\n",
       " 1.0\n",
       " 0.0\n",
       " 1.0\n",
       " 0.0\n",
       " 0.0\n",
       " 1.0\n",
       " 0.0\n",
       " 0.0\n",
       " 0.0\n",
       " 0.0"
      ]
     },
     "execution_count": 39,
     "metadata": {},
     "output_type": "execute_result"
    }
   ],
   "source": [
    "value.(b)"
   ]
  },
  {
   "cell_type": "code",
   "execution_count": null,
   "id": "c9e6e56d-d0aa-4d46-8748-8db30c0c52c3",
   "metadata": {},
   "outputs": [],
   "source": []
  },
  {
   "cell_type": "code",
   "execution_count": null,
   "id": "ab0c42b0-fb18-4c03-8c10-143a2301e080",
   "metadata": {},
   "outputs": [],
   "source": []
  },
  {
   "cell_type": "code",
   "execution_count": null,
   "id": "90ce3124-657e-4bf4-9ee5-741d7b607e10",
   "metadata": {},
   "outputs": [],
   "source": []
  },
  {
   "cell_type": "code",
   "execution_count": null,
   "id": "d6c790b3-e4e0-4ba5-84db-fe0e6d79a24a",
   "metadata": {},
   "outputs": [],
   "source": []
  },
  {
   "cell_type": "code",
   "execution_count": null,
   "id": "a1aaedf1-f15d-4694-ad7c-3d5bd74555b9",
   "metadata": {},
   "outputs": [],
   "source": []
  },
  {
   "cell_type": "code",
   "execution_count": null,
   "id": "b78e876a-26e7-4ee0-ac8c-476b1c0013d3",
   "metadata": {},
   "outputs": [],
   "source": []
  }
 ],
 "metadata": {
  "kernelspec": {
   "display_name": "Julia 1.7.2",
   "language": "julia",
   "name": "julia-1.7"
  },
  "language_info": {
   "file_extension": ".jl",
   "mimetype": "application/julia",
   "name": "julia",
   "version": "1.7.2"
  }
 },
 "nbformat": 4,
 "nbformat_minor": 5
}
